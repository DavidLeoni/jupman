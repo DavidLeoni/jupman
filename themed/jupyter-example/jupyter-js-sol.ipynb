{
 "cells": [
  {
   "cell_type": "code",
   "execution_count": 4,
   "metadata": {
    "nbsphinx": "hidden"
   },
   "outputs": [
    {
     "data": {
      "text/html": [
       "\n",
       "            <script type=\"application/javascript\"> \n",
       "                var JUPMAN_IN_JUPYTER = true;\n",
       "            </script>\n",
       "            \n",
       "                <style>\n",
       "                @import \"../_static/css/jupman.css\";\n",
       "                </style>\n",
       "            \n",
       "                    <style>\n",
       "                        #jupman-toc{\n",
       "                            display : none !important;\n",
       "                        }\n",
       "                    \n",
       "                    </style>                    \n",
       "                        \n",
       "                <script src=\"../_static/js/jupman.js\" type=\"application/javascript\"></script>\n",
       "            "
      ],
      "text/plain": [
       "<IPython.core.display.HTML object>"
      ]
     },
     "execution_count": 4,
     "metadata": {},
     "output_type": "execute_result"
    }
   ],
   "source": [
    "#Please execute this cell\n",
    "import jupman;\n",
    "jupman.init()  # not mandatory"
   ]
  },
  {
   "cell_type": "markdown",
   "metadata": {},
   "source": [
    "#  Jupyter example with custom js and css\n",
    "\n",
    "## [Download exercises zip](../_static/generated/jupyter-js-example.zip)\n",
    "\n",
    "[Browse files online](https://github.com/DavidLeoni/jupman/tree/master/jupyter-js-example)\n",
    "\n",
    "Example of notebook for exercises in Jupyter files which calls `jupman.init()` for injecting `jupman.js` and `jupman.css` while editing in Jupyter.\n",
    "\n",
    "Note calling `init()` is **not** mandatory. See also [Common files](https://jupman.softpython.org/en/latest/manual/editing.html#Common-files) and [Custom-js-and-css](https://jupman.softpython.org/en/latest/manual/editing.html#Custom-js-and-css)."
   ]
  },
  {
   "cell_type": "markdown",
   "metadata": {},
   "source": [
    "## Exercise 1\n",
    "\n",
    "Implement `inc` function: "
   ]
  },
  {
   "cell_type": "raw",
   "id": "a3af2096",
   "metadata": {
    "format": "text/html"
   },
   "source": [
    "<a  class=\"jupman-sol jupman-sol-toggler\" \n",
    " onclick=\"jupman.toggleSolution(this);\" \n",
    " data-jupman-show=\"Show solution\" data-jupman-hide=\"Hide\">Show solution</a><div class=\"jupman-sol jupman-sol-code\" style=\"display:none\">  "
   ]
  },
  {
   "cell_type": "code",
   "execution_count": 2,
   "metadata": {},
   "outputs": [],
   "source": [
    "\n",
    "\n",
    "def helper(x):\n",
    "    return x + 1\n",
    "    \n",
    "\n",
    "def inc(x):\n",
    "    \n",
    "    return helper(x)\n",
    "    \n",
    "    "
   ]
  },
  {
   "cell_type": "raw",
   "id": "da648ca1",
   "metadata": {
    "format": "text/html"
   },
   "source": [
    "</div>"
   ]
  },
  {
   "cell_type": "code",
   "execution_count": 2,
   "metadata": {},
   "outputs": [],
   "source": [
    "\n",
    "    \n",
    "\n",
    "def inc(x):\n",
    "    raise Exception('TODO IMPLEMENT ME !')\n",
    "    "
   ]
  },
  {
   "cell_type": "markdown",
   "metadata": {},
   "source": [
    "## Exercise 2\n",
    "\n",
    "Implement `upper` function"
   ]
  },
  {
   "cell_type": "raw",
   "id": "4507e116",
   "metadata": {
    "format": "text/html"
   },
   "source": [
    "<a  class=\"jupman-sol jupman-sol-toggler\" \n",
    " onclick=\"jupman.toggleSolution(this);\" \n",
    " data-jupman-show=\"Show solution\" data-jupman-hide=\"Hide\">Show solution</a><div class=\"jupman-sol jupman-sol-code\" style=\"display:none\">  "
   ]
  },
  {
   "cell_type": "code",
   "execution_count": 3,
   "metadata": {},
   "outputs": [],
   "source": [
    "\n",
    "def helper2(x):\n",
    "    return x.upper()\n",
    "    \n",
    "\n",
    "def upper(x):\n",
    "    \n",
    "    return helper2(x)\n",
    "    \n",
    "    \n"
   ]
  },
  {
   "cell_type": "raw",
   "id": "0fcff2a3",
   "metadata": {
    "format": "text/html"
   },
   "source": [
    "</div>"
   ]
  },
  {
   "cell_type": "code",
   "execution_count": 3,
   "metadata": {},
   "outputs": [],
   "source": [
    "    \n",
    "\n",
    "def upper(x):\n",
    "    raise Exception('TODO IMPLEMENT ME !')\n",
    "    \n"
   ]
  }
 ],
 "metadata": {
  "celltoolbar": "Edit Metadata",
  "kernelspec": {
   "display_name": "Python 3 (ipykernel)",
   "language": "python",
   "name": "python3"
  },
  "language_info": {
   "codemirror_mode": {
    "name": "ipython",
    "version": 3
   },
   "file_extension": ".py",
   "mimetype": "text/x-python",
   "name": "python",
   "nbconvert_exporter": "python",
   "pygments_lexer": "ipython3",
   "version": "3.7.13"
  },
  "toc": {
   "base_numbering": 1,
   "nav_menu": {},
   "number_sections": false,
   "sideBar": true,
   "skip_h1_title": false,
   "title_cell": "Table of Contents",
   "title_sidebar": "Contents",
   "toc_cell": false,
   "toc_position": {},
   "toc_section_display": true,
   "toc_window_display": false
  }
 },
 "nbformat": 4,
 "nbformat_minor": 2
}
