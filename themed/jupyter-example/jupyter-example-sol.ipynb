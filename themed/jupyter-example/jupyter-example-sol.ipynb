{
 "cells": [
  {
   "cell_type": "code",
   "execution_count": 1,
   "metadata": {
    "nbsphinx": "hidden"
   },
   "outputs": [],
   "source": [
    "#Please execute this cell\n",
    "import jupman;"
   ]
  },
  {
   "cell_type": "markdown",
   "metadata": {},
   "source": [
    "#  Jupyter example\n",
    "\n",
    "## [Download exercises zip](../_static/generated/jupyter-example.zip)\n",
    "\n",
    "[Browse files online](https://github.com/DavidLeoni/jupman/tree/master/jupyter-example)\n",
    "\n",
    "\n",
    "Example of notebook for exercises in Jupyter files. \n",
    "\n",
    "**For python files based example and more, see** [Python example](../python-example/python-example.ipynb)"
   ]
  },
  {
   "cell_type": "markdown",
   "metadata": {},
   "source": [
    "\n",
    "## What to do\n",
    "\n",
    "- unzip exercises in a folder, you should get something like this: \n",
    "\n",
    "```\n",
    "\n",
    "jupyter-example\n",
    "     jupyter-example.ipynb     \n",
    "     jupyter-example-sol.ipynb\n",
    "     jupman.py\n",
    "     my_lib.py\n",
    "```\n",
    "\n",
    "<div class=\"alert alert-warning\">\n",
    "\n",
    "**WARNING**: to correctly visualize the notebook, it MUST be in an unzipped folder !\n",
    "</div>\n",
    "\n",
    "\n",
    "- open Jupyter Notebook from that folder. Two things should open, first a console and then browser. The browser should show a file list: navigate the list and open the notebook `jupyter-example/jupyter-example.ipynb`\n",
    "- Go on reading that notebook, and follow instuctions inside.\n",
    "\n",
    "\n",
    "Shortcut keys:\n",
    "\n",
    "- to execute Python code inside a Jupyter cell, press `Control + Enter`\n",
    "- to execute Python code inside a Jupyter cell AND select next cell, press `Shift + Enter`\n",
    "- to execute Python code inside a Jupyter cell AND a create a new cell aftwerwards, press `Alt + Enter`\n",
    "- If the notebooks look stuck, try to select `Kernel -> Restart`\n",
    "\n",
    "\n",
    "\n"
   ]
  },
  {
   "cell_type": "code",
   "execution_count": 2,
   "metadata": {},
   "outputs": [],
   "source": [
    "# REMEMBER TO  IMPORT jupman !\n",
    "# This cell needs to be executed only once, you can usually find it at the beginning of the worksheets\n",
    "\n",
    "import jupman"
   ]
  },
  {
   "cell_type": "code",
   "execution_count": 3,
   "metadata": {},
   "outputs": [
    {
     "data": {
      "text/html": [
       "        \n",
       "        <script src=\"../_static/js/pytutor-embed.bundle.min.js\" type=\"application/javascript\"></script>\n",
       "    \n",
       "        <style>\n",
       "        @import \"../_static/css/jupman.css\";\n",
       "        </style>\n",
       "     \n",
       "        <script id=\"json-jm-dde7e6fa128d45cb08b061187ffa60fd\" type=\"application/json\" >\n",
       "            {\"code\": \" \\nx = [1,2,3]\\ny = x\", \"trace\": [{\"line\": 2, \"event\": \"step_line\", \"func_name\": \"<module>\", \"globals\": {}, \"ordered_globals\": [], \"stack_to_render\": [], \"heap\": {}, \"stdout\": \"\"}, {\"line\": 3, \"event\": \"step_line\", \"func_name\": \"<module>\", \"globals\": {\"x\": [\"REF\", 1]}, \"ordered_globals\": [\"x\"], \"stack_to_render\": [], \"heap\": {\"1\": [\"LIST\", 1, 2, 3]}, \"stdout\": \"\"}, {\"line\": 3, \"event\": \"return\", \"func_name\": \"<module>\", \"globals\": {\"x\": [\"REF\", 1], \"y\": [\"REF\", 1]}, \"ordered_globals\": [\"x\", \"y\"], \"stack_to_render\": [], \"heap\": {\"1\": [\"LIST\", 1, 2, 3]}, \"stdout\": \"\"}]}\n",
       "        </script>\n",
       "        <div id=\"jm-dde7e6fa128d45cb08b061187ffa60fd\" class=\"pytutorVisualizer\"> </div>\n",
       "                        \n",
       "        <script>\n",
       "        (function(){\n",
       "\n",
       "            var trace = JSON.parse(document.getElementById('json-jm-dde7e6fa128d45cb08b061187ffa60fd').innerHTML);                                        \n",
       "            // NOTE 1: id without #\n",
       "            \n",
       "            addVisualizerToPage(trace, 'jm-dde7e6fa128d45cb08b061187ffa60fd',{'embeddedMode' : false,                       \n",
       "                                             'visualizerIdOverride':'viz-jm-dde7e6fa128d45cb08b061187ffa60fd'})  \n",
       "            \n",
       "            \n",
       "            // set overflow for pytuts - need to do in python as css \n",
       "            // does not allow parent selection\n",
       "            var pytuts = $('.pytutorVisualizer')\n",
       "            pytuts.closest('div.output_html.rendered_html.output_result')\n",
       "                    .css('overflow-x', 'visible')\n",
       "        \n",
       "            //pytuts.closest('div.output_html.rendered_html.output_result')\n",
       "            //      .css('background-color','red')                \n",
       "            \n",
       "        })()\n",
       "        </script>\n",
       "                \n",
       "    \n",
       "    <div style=\"text-align:center; font-size:0.9em\"> Visualization provided by <a href=\"https://pythontutor.com/visualize.html#mode=edit\" target=\"_blank\">Python Tutor</a> </div> \n",
       "    "
      ],
      "text/plain": [
       "<IPython.core.display.HTML object>"
      ]
     },
     "execution_count": 3,
     "metadata": {},
     "output_type": "execute_result"
    }
   ],
   "source": [
    "x = [1,2,3]\n",
    "y = x\n",
    "jupman.pytut()"
   ]
  },
  {
   "cell_type": "code",
   "execution_count": 4,
   "metadata": {},
   "outputs": [
    {
     "data": {
      "text/html": [
       "        \n",
       "        <script src=\"../_static/js/pytutor-embed.bundle.min.js\" type=\"application/javascript\"></script>\n",
       "    \n",
       "        <style>\n",
       "        @import \"../_static/css/jupman.css\";\n",
       "        </style>\n",
       "     \n",
       "        <script id=\"json-jm-ab5ed56f3b57e0cfd7474ee34e8a9a36\" type=\"application/json\" >\n",
       "            {\"code\": \" \\ny = [1,2,3]\\nw  = y[0]\", \"trace\": [{\"line\": 2, \"event\": \"step_line\", \"func_name\": \"<module>\", \"globals\": {}, \"ordered_globals\": [], \"stack_to_render\": [], \"heap\": {}, \"stdout\": \"\"}, {\"line\": 3, \"event\": \"step_line\", \"func_name\": \"<module>\", \"globals\": {\"y\": [\"REF\", 1]}, \"ordered_globals\": [\"y\"], \"stack_to_render\": [], \"heap\": {\"1\": [\"LIST\", 1, 2, 3]}, \"stdout\": \"\"}, {\"line\": 3, \"event\": \"return\", \"func_name\": \"<module>\", \"globals\": {\"y\": [\"REF\", 1], \"w\": 1}, \"ordered_globals\": [\"y\", \"w\"], \"stack_to_render\": [], \"heap\": {\"1\": [\"LIST\", 1, 2, 3]}, \"stdout\": \"\"}]}\n",
       "        </script>\n",
       "        <div id=\"jm-ab5ed56f3b57e0cfd7474ee34e8a9a36\" class=\"pytutorVisualizer\"> </div>\n",
       "                        \n",
       "        <script>\n",
       "        (function(){\n",
       "\n",
       "            var trace = JSON.parse(document.getElementById('json-jm-ab5ed56f3b57e0cfd7474ee34e8a9a36').innerHTML);                                        \n",
       "            // NOTE 1: id without #\n",
       "            \n",
       "            addVisualizerToPage(trace, 'jm-ab5ed56f3b57e0cfd7474ee34e8a9a36',{'embeddedMode' : false,                       \n",
       "                                             'visualizerIdOverride':'viz-jm-ab5ed56f3b57e0cfd7474ee34e8a9a36'})  \n",
       "            \n",
       "            \n",
       "            // set overflow for pytuts - need to do in python as css \n",
       "            // does not allow parent selection\n",
       "            var pytuts = $('.pytutorVisualizer')\n",
       "            pytuts.closest('div.output_html.rendered_html.output_result')\n",
       "                    .css('overflow-x', 'visible')\n",
       "        \n",
       "            //pytuts.closest('div.output_html.rendered_html.output_result')\n",
       "            //      .css('background-color','red')                \n",
       "            \n",
       "        })()\n",
       "        </script>\n",
       "                \n",
       "    \n",
       "    <div style=\"text-align:center; font-size:0.9em\"> Visualization provided by <a href=\"https://pythontutor.com/visualize.html#mode=edit\" target=\"_blank\">Python Tutor</a> </div> \n",
       "    "
      ],
      "text/plain": [
       "<IPython.core.display.HTML object>"
      ]
     },
     "execution_count": 4,
     "metadata": {},
     "output_type": "execute_result"
    }
   ],
   "source": [
    "y = [1,2,3]\n",
    "w  = y[0]\n",
    "jupman.pytut()"
   ]
  },
  {
   "cell_type": "markdown",
   "metadata": {},
   "source": [
    "## Exercise 1\n",
    "\n",
    "Implement `inc` function: "
   ]
  },
  {
   "cell_type": "raw",
   "id": "cf7825af",
   "metadata": {
    "format": "text/html"
   },
   "source": [
    "<a  class=\"jupman-sol jupman-sol-toggler\" \n",
    " onclick=\"jupman.toggleSolution(this);\" \n",
    " data-jupman-show=\"Show solution\" data-jupman-hide=\"Hide\">Show solution</a><div class=\"jupman-sol jupman-sol-code\" style=\"display:none\">  "
   ]
  },
  {
   "cell_type": "code",
   "execution_count": 5,
   "metadata": {},
   "outputs": [],
   "source": [
    "\n",
    "\n",
    "def helper(x):\n",
    "    return x + 1\n",
    "    \n",
    "\n",
    "def inc(x):\n",
    "    \n",
    "    return helper(x)\n",
    "    \n",
    "    "
   ]
  },
  {
   "cell_type": "raw",
   "id": "76313a0c",
   "metadata": {
    "format": "text/html"
   },
   "source": [
    "</div>"
   ]
  },
  {
   "cell_type": "code",
   "execution_count": 5,
   "metadata": {},
   "outputs": [],
   "source": [
    "\n",
    "    \n",
    "\n",
    "def inc(x):\n",
    "    raise Exception('TODO IMPLEMENT ME !')\n",
    "    "
   ]
  },
  {
   "cell_type": "markdown",
   "metadata": {},
   "source": [
    "## Exercise 2\n",
    "\n",
    "Implement `upper` function"
   ]
  },
  {
   "cell_type": "raw",
   "id": "7f1fb1a7",
   "metadata": {
    "format": "text/html"
   },
   "source": [
    "<a  class=\"jupman-sol jupman-sol-toggler\" \n",
    " onclick=\"jupman.toggleSolution(this);\" \n",
    " data-jupman-show=\"Show solution\" data-jupman-hide=\"Hide\">Show solution</a><div class=\"jupman-sol jupman-sol-code\" style=\"display:none\">  "
   ]
  },
  {
   "cell_type": "code",
   "execution_count": 6,
   "metadata": {},
   "outputs": [],
   "source": [
    "\n",
    "def helper2(x):\n",
    "    return x.upper()\n",
    "    \n",
    "\n",
    "def upper(x):\n",
    "    \n",
    "    return helper2(x)\n",
    "    \n",
    "    \n"
   ]
  },
  {
   "cell_type": "raw",
   "id": "86ff6877",
   "metadata": {
    "format": "text/html"
   },
   "source": [
    "</div>"
   ]
  },
  {
   "cell_type": "code",
   "execution_count": 6,
   "metadata": {},
   "outputs": [],
   "source": [
    "    \n",
    "\n",
    "def upper(x):\n",
    "    raise Exception('TODO IMPLEMENT ME !')\n",
    "    \n"
   ]
  },
  {
   "cell_type": "markdown",
   "metadata": {},
   "source": [
    "### Exercise 3\n",
    "\n",
    "Note everything *after* the 'write here' comment will be discarded. Note you can put how many spaces you want in the comment\n"
   ]
  },
  {
   "cell_type": "raw",
   "id": "fdb03bf7",
   "metadata": {
    "format": "text/html"
   },
   "source": [
    "<a  class=\"jupman-sol jupman-sol-toggler\" \n",
    " onclick=\"jupman.toggleSolution(this);\" \n",
    " data-jupman-show=\"Show solution\" data-jupman-hide=\"Hide\">Show solution</a><div class=\"jupman-sol jupman-sol-code\" style=\"display:none\">  "
   ]
  },
  {
   "cell_type": "code",
   "execution_count": 7,
   "metadata": {},
   "outputs": [],
   "source": [
    "\n",
    "\n",
    "w = 5\n",
    "\n",
    "#  write here\n",
    "\n",
    "x = 5 + 6\n",
    "y = 6.4\n",
    "z = x / y"
   ]
  },
  {
   "cell_type": "raw",
   "id": "9392096b",
   "metadata": {
    "format": "text/html"
   },
   "source": [
    "</div>"
   ]
  },
  {
   "cell_type": "code",
   "execution_count": 7,
   "metadata": {},
   "outputs": [],
   "source": [
    "\n",
    "\n",
    "w = 5\n",
    "\n",
    "#  write here\n",
    "\n"
   ]
  },
  {
   "cell_type": "markdown",
   "metadata": {},
   "source": [
    "### Exercise 4\n",
    "\n",
    "Shows how to completely remove the content of a solution cell (including the solution comment)"
   ]
  },
  {
   "cell_type": "markdown",
   "metadata": {},
   "source": [
    "**EXERCISE**: write a function that prints 'hello'"
   ]
  },
  {
   "cell_type": "raw",
   "id": "a21a0893",
   "metadata": {
    "format": "text/html"
   },
   "source": [
    "<a  class=\"jupman-sol jupman-sol-toggler\" \n",
    " onclick=\"jupman.toggleSolution(this);\" \n",
    " data-jupman-show=\"Show solution\" data-jupman-hide=\"Hide\">Show solution</a><div class=\"jupman-sol jupman-sol-code\" style=\"display:none\">  "
   ]
  },
  {
   "cell_type": "code",
   "execution_count": 8,
   "metadata": {},
   "outputs": [],
   "source": [
    "# SOLUTION\n",
    "\n",
    "def f():\n",
    "    print('hello')"
   ]
  },
  {
   "cell_type": "raw",
   "id": "67700980",
   "metadata": {
    "format": "text/html"
   },
   "source": [
    "</div>"
   ]
  },
  {
   "cell_type": "code",
   "execution_count": 8,
   "metadata": {},
   "outputs": [],
   "source": []
  },
  {
   "cell_type": "markdown",
   "metadata": {},
   "source": [
    "### Exercise 5\n",
    "\n",
    "Shows the QUESTION / ANSWER feature. All content in '**ANSWER**:' cell will be stripped"
   ]
  },
  {
   "cell_type": "markdown",
   "metadata": {},
   "source": [
    "**QUESTION**: Describe why iPhone n + 1 is better than iPhone n"
   ]
  },
  {
   "cell_type": "raw",
   "id": "922191bf",
   "metadata": {
    "format": "text/html"
   },
   "source": [
    "<a  class=\"jupman-sol jupman-sol-toggler\" \n",
    " onclick=\"jupman.toggleSolution(this);\" \n",
    " data-jupman-show=\"Show answer\" data-jupman-hide=\"Hide\">Show answer</a><div class=\"jupman-sol jupman-sol-question\" style=\"display:none\">  "
   ]
  },
  {
   "cell_type": "markdown",
   "metadata": {},
   "source": [
    "**ANSWER**: it costs more"
   ]
  },
  {
   "cell_type": "raw",
   "id": "ae12c6f2",
   "metadata": {
    "format": "text/html"
   },
   "source": [
    "</div>"
   ]
  },
  {
   "cell_type": "markdown",
   "metadata": {},
   "source": [
    "## Conclusion\n",
    "\n",
    "bla bla"
   ]
  },
  {
   "cell_type": "markdown",
   "metadata": {},
   "source": [
    "Relative image test, Markdown format: \n",
    "    \n",
    "![cc-by-78342](../_static/img/cc-by.png)"
   ]
  },
  {
   "cell_type": "markdown",
   "metadata": {},
   "source": [
    "Relative image test, HTML `img` tag: \n",
    "    \n",
    "<img alt=\"cc-by-1243\" src=\"../_static/img/cc-by.png\">"
   ]
  },
  {
   "cell_type": "markdown",
   "metadata": {},
   "source": [
    "Relative link test, Markdown format: \n",
    "  \n",
    "[Back to index](../index.ipynb)"
   ]
  },
  {
   "cell_type": "markdown",
   "metadata": {},
   "source": [
    "Relative link test, HTML `a` tag: \n",
    "    \n",
    "<a href=\"../index.ipynb\">Back to index</a>"
   ]
  }
 ],
 "metadata": {
  "celltoolbar": "Edit Metadata",
  "kernelspec": {
   "display_name": "Python 3 (ipykernel)",
   "language": "python",
   "name": "python3"
  },
  "language_info": {
   "codemirror_mode": {
    "name": "ipython",
    "version": 3
   },
   "file_extension": ".py",
   "mimetype": "text/x-python",
   "name": "python",
   "nbconvert_exporter": "python",
   "pygments_lexer": "ipython3",
   "version": "3.7.13"
  },
  "toc": {
   "base_numbering": 1,
   "nav_menu": {},
   "number_sections": false,
   "sideBar": true,
   "skip_h1_title": false,
   "title_cell": "Table of Contents",
   "title_sidebar": "Contents",
   "toc_cell": false,
   "toc_position": {},
   "toc_section_display": true,
   "toc_window_display": false
  }
 },
 "nbformat": 4,
 "nbformat_minor": 2
}
