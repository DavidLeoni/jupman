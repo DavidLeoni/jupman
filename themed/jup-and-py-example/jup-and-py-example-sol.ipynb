{
 "cells": [
  {
   "cell_type": "code",
   "execution_count": 1,
   "metadata": {
    "nbsphinx": "hidden"
   },
   "outputs": [],
   "source": [
    "#Please execute this cell\n",
    "import jupman"
   ]
  },
  {
   "cell_type": "markdown",
   "metadata": {},
   "source": [
    "# Jupyter and Python example"
   ]
  },
  {
   "cell_type": "markdown",
   "metadata": {},
   "source": [
    "## [Download exercises zip](../_static/generated/jup-and-py-example.zip)\n",
    "\n",
    "[Browse files online](https://github.com/DavidLeoni/jupman/tree/master/jup-and-py-example)\n",
    "\n",
    "Most complex example of a notebook with exercises both in Jupyter and Python files, and 'advanced' features\n",
    "\n",
    "## What to do\n",
    "\n",
    "- unzip exercises in a folder, you should get something like this: \n",
    "\n",
    "```\n",
    "jup-and-py-example\n",
    "   jup-and-py-example.ipynb\n",
    "   jup-and-py-example_sol.ipynb   \n",
    "   lab.py      \n",
    "   lab_test.py \n",
    "   lab_sol.py\n",
    "```\n",
    "\n",
    "\n",
    "- open the editor of your choice (for example Visual Studio Code, Spyder or PyCharme), and edit `lab.py` file\n",
    "- Go on reading this notebook, and follow instuctions inside.\n"
   ]
  },
  {
   "cell_type": "markdown",
   "metadata": {},
   "source": [
    "### Let's begin\n",
    "\n",
    "You are going to program a simulator of bouncing clowns. To do so, we are going to load this module:"
   ]
  },
  {
   "cell_type": "code",
   "execution_count": 2,
   "metadata": {},
   "outputs": [],
   "source": [
    "import local"
   ]
  },
  {
   "cell_type": "code",
   "execution_count": 3,
   "metadata": {},
   "outputs": [
    {
     "name": "stdout",
     "output_type": "stream",
     "text": [
      "It was a 5 indeed\n"
     ]
    }
   ],
   "source": [
    "local.gimme(5)"
   ]
  },
  {
   "cell_type": "markdown",
   "metadata": {},
   "source": [
    "**Download test data**\n",
    "\n",
    "Local file: \n",
    "\n",
    "* [example.txt](example.txt)\n",
    "* [example.csv](example.csv)\n"
   ]
  },
  {
   "cell_type": "markdown",
   "metadata": {},
   "source": [
    "## Global image\n",
    "![cc-by-5754](../_static/img/cc-by.png)"
   ]
  },
  {
   "cell_type": "markdown",
   "metadata": {},
   "source": [
    "## Local exercise image\n",
    "\n",
    "![leaves-98231](img/leaves.png)"
   ]
  },
  {
   "cell_type": "markdown",
   "metadata": {},
   "source": [
    "## Python tutor"
   ]
  },
  {
   "cell_type": "code",
   "execution_count": 4,
   "metadata": {
    "scrolled": false
   },
   "outputs": [
    {
     "data": {
      "text/html": [
       "        \n",
       "        <script src=\"../_static/js/pytutor-embed.bundle.min.js\" type=\"application/javascript\"></script>\n",
       "    \n",
       "        <style>\n",
       "        @import \"../_static/css/jupman.css\";\n",
       "        </style>\n",
       "     \n",
       "        <script id=\"json-jm-2fd875edc51ed8a6922628f64553c4ab\" type=\"application/json\" >\n",
       "            {\"code\": \" \\nx = 5\\ny = 6\\nz = x + y\", \"trace\": [{\"line\": 2, \"event\": \"step_line\", \"func_name\": \"<module>\", \"globals\": {}, \"ordered_globals\": [], \"stack_to_render\": [], \"heap\": {}, \"stdout\": \"\"}, {\"line\": 3, \"event\": \"step_line\", \"func_name\": \"<module>\", \"globals\": {\"x\": 5}, \"ordered_globals\": [\"x\"], \"stack_to_render\": [], \"heap\": {}, \"stdout\": \"\"}, {\"line\": 4, \"event\": \"step_line\", \"func_name\": \"<module>\", \"globals\": {\"x\": 5, \"y\": 6}, \"ordered_globals\": [\"x\", \"y\"], \"stack_to_render\": [], \"heap\": {}, \"stdout\": \"\"}, {\"line\": 4, \"event\": \"return\", \"func_name\": \"<module>\", \"globals\": {\"x\": 5, \"y\": 6, \"z\": 11}, \"ordered_globals\": [\"x\", \"y\", \"z\"], \"stack_to_render\": [], \"heap\": {}, \"stdout\": \"\"}]}\n",
       "        </script>\n",
       "        <div id=\"jm-2fd875edc51ed8a6922628f64553c4ab\" class=\"pytutorVisualizer\"> </div>\n",
       "                        \n",
       "        <script>\n",
       "        \n",
       "        (function(){\n",
       "            console.log(\"jupman.py embedded javascript: adding Python tutor visualizer...\")\n",
       "            \n",
       "            var trace = JSON.parse(document.getElementById('json-jm-2fd875edc51ed8a6922628f64553c4ab').innerHTML);                                        \n",
       "            // NOTE: id without #\n",
       "                    \n",
       "            addVisualizerToPage(trace, 'jm-2fd875edc51ed8a6922628f64553c4ab',{'embeddedMode' : false,                       \n",
       "                                             'visualizerIdOverride':'viz-jm-2fd875edc51ed8a6922628f64553c4ab'})  \n",
       "            \n",
       "            \n",
       "            // set overflow for pytuts - need to do in python as css \n",
       "            // does not allow parent selection\n",
       "            var pytuts = $('.pytutorVisualizer')\n",
       "            pytuts.closest('div.output_html.rendered_html.output_result')\n",
       "                    .css('overflow-x', 'visible')\n",
       "        \n",
       "            //pytuts.closest('div.output_html.rendered_html.output_result')\n",
       "            //      .css('background-color','red')                \n",
       "            \n",
       "        })()\n",
       "        </script>\n",
       "                \n",
       "    \n",
       "    <div style=\"text-align:center; font-size:0.9em\"> <a href=\"https://pythontutor.com/visualize.html#mode=edit\" target=\"_blank\">Python Tutor</a> visualization</div> \n",
       "    "
      ],
      "text/plain": [
       "<IPython.core.display.HTML object>"
      ]
     },
     "execution_count": 4,
     "metadata": {},
     "output_type": "execute_result"
    }
   ],
   "source": [
    "x = 5\n",
    "y = 6\n",
    "z = x + y\n",
    "\n",
    "jupman.pytut()"
   ]
  },
  {
   "cell_type": "markdown",
   "metadata": {},
   "source": [
    "## Exercise in Jupyter\n",
    "\n",
    "Implement this function:"
   ]
  },
  {
   "cell_type": "raw",
   "id": "afe0cc20",
   "metadata": {
    "format": "text/html"
   },
   "source": [
    "<a  class=\"jupman-sol jupman-sol-toggler\" \n",
    " onclick=\"jupman.toggleSolution(this);\" \n",
    " data-jupman-show=\"Show solution\" data-jupman-hide=\"Hide\">Show solution</a><div class=\"jupman-sol jupman-sol-code\" style=\"display:none\">  "
   ]
  },
  {
   "cell_type": "code",
   "execution_count": 5,
   "metadata": {},
   "outputs": [
    {
     "data": {
      "text/plain": [
       "['hello',\n",
       " 'Guybrush',\n",
       " 'hello',\n",
       " 'Guybrush',\n",
       " 'hello',\n",
       " 'Guybrush',\n",
       " 'hello',\n",
       " 'Guybrush',\n",
       " 'hello',\n",
       " 'Guybrush']"
      ]
     },
     "execution_count": 5,
     "metadata": {},
     "output_type": "execute_result"
    }
   ],
   "source": [
    "def hello(s):\n",
    "    \n",
    "    return ['hello',s]*1000\n",
    "    \n",
    "    \n",
    "hello_db = hello(\"Guybrush\")\n",
    "\n",
    "hello_db[:10]"
   ]
  },
  {
   "cell_type": "raw",
   "id": "50c3b62c",
   "metadata": {
    "format": "text/html"
   },
   "source": [
    "</div>"
   ]
  },
  {
   "cell_type": "code",
   "execution_count": 5,
   "metadata": {},
   "outputs": [
    {
     "data": {
      "text/plain": [
       "['hello',\n",
       " 'Guybrush',\n",
       " 'hello',\n",
       " 'Guybrush',\n",
       " 'hello',\n",
       " 'Guybrush',\n",
       " 'hello',\n",
       " 'Guybrush',\n",
       " 'hello',\n",
       " 'Guybrush']"
      ]
     },
     "execution_count": 5,
     "metadata": {},
     "output_type": "execute_result"
    }
   ],
   "source": [
    "def hello(s):\n",
    "    raise Exception('TODO IMPLEMENT ME !')\n",
    "    \n",
    "hello_db = hello(\"Guybrush\")\n",
    "\n",
    "hello_db[:10]"
   ]
  },
  {
   "cell_type": "markdown",
   "metadata": {},
   "source": [
    "Full expected output is in file `expected_output_db.py`, \n",
    "if you can't manage to solve the exercise, as a last resort you can type: `from expected_hello_db import *`\n",
    "(DO NOT copy-paste file content, it would probably mess Jupyter up)"
   ]
  },
  {
   "cell_type": "code",
   "execution_count": 6,
   "metadata": {},
   "outputs": [
    {
     "data": {
      "text/plain": [
       "['hello',\n",
       " 'Guybrush',\n",
       " 'hello',\n",
       " 'Guybrush',\n",
       " 'hello',\n",
       " 'Guybrush',\n",
       " 'hello',\n",
       " 'Guybrush',\n",
       " 'hello',\n",
       " 'Guybrush']"
      ]
     },
     "execution_count": 6,
     "metadata": {},
     "output_type": "execute_result"
    }
   ],
   "source": [
    "from expected_hello_db import *\n",
    "expected_hello_db[:10]"
   ]
  },
  {
   "cell_type": "markdown",
   "metadata": {},
   "source": [
    "Other example:"
   ]
  },
  {
   "cell_type": "code",
   "execution_count": 7,
   "metadata": {},
   "outputs": [
    {
     "data": {
      "text/plain": [
       "['hello',\n",
       " 'Threepwood',\n",
       " 'hello',\n",
       " 'Threepwood',\n",
       " 'hello',\n",
       " 'Threepwood',\n",
       " 'hello',\n",
       " 'Threepwood',\n",
       " 'hello',\n",
       " 'Threepwood']"
      ]
     },
     "execution_count": 7,
     "metadata": {},
     "output_type": "execute_result"
    }
   ],
   "source": [
    "hello_db2 = hello(\"Threepwood\")\n",
    "\n",
    "hello_db2[:10]"
   ]
  },
  {
   "cell_type": "markdown",
   "metadata": {},
   "source": [
    "## Exercise using previous output\n",
    "\n",
    "Write some code which says hello 3 times using previous functionand"
   ]
  },
  {
   "cell_type": "code",
   "execution_count": 8,
   "metadata": {},
   "outputs": [
    {
     "name": "stdout",
     "output_type": "stream",
     "text": [
      "['hello', 'Guybrush', 'hello', 'Guybrush', 'hello', 'Guybrush']\n"
     ]
    }
   ],
   "source": [
    "print(hello('Guybrush')[:6])"
   ]
  },
  {
   "cell_type": "markdown",
   "metadata": {},
   "source": [
    "## Question in Jupyter\n",
    "\n",
    "**QUESTION**: Why learn coding?"
   ]
  },
  {
   "cell_type": "raw",
   "id": "40d4a924",
   "metadata": {
    "format": "text/html"
   },
   "source": [
    "<a  class=\"jupman-sol jupman-sol-toggler\" \n",
    " onclick=\"jupman.toggleSolution(this);\" \n",
    " data-jupman-show=\"Show answer\" data-jupman-hide=\"Hide\">Show answer</a><div class=\"jupman-sol jupman-sol-question\" style=\"display:none\">  "
   ]
  },
  {
   "cell_type": "markdown",
   "metadata": {},
   "source": [
    "**ANSWER**: So they pay me more\n",
    "\n",
    "```python\n",
    "x + 1\n",
    "```\n",
    "\n",
    "Some other comment\n",
    "\n",
    "    Some nasty formatting\n",
    "\n",
    "> even more formatting\n"
   ]
  },
  {
   "cell_type": "raw",
   "id": "54f31349",
   "metadata": {
    "format": "text/html"
   },
   "source": [
    "</div>"
   ]
  },
  {
   "cell_type": "markdown",
   "metadata": {},
   "source": [
    "## Exercise in Python\n",
    "\n",
    "Start editing `lab.py` in text editor"
   ]
  },
  {
   "cell_type": "code",
   "execution_count": 9,
   "metadata": {},
   "outputs": [],
   "source": [
    "from lab_sol import *"
   ]
  },
  {
   "cell_type": "markdown",
   "metadata": {},
   "source": [
    "## add\n",
    "\n",
    "Implement `add` function:"
   ]
  },
  {
   "cell_type": "code",
   "execution_count": 10,
   "metadata": {},
   "outputs": [
    {
     "data": {
      "text/plain": [
       "8"
      ]
     },
     "execution_count": 10,
     "metadata": {},
     "output_type": "execute_result"
    }
   ],
   "source": [
    "add(3,5)"
   ]
  },
  {
   "cell_type": "markdown",
   "metadata": {},
   "source": [
    "## sub\n",
    "\n",
    "Implement sub function"
   ]
  },
  {
   "cell_type": "code",
   "execution_count": 11,
   "metadata": {},
   "outputs": [
    {
     "data": {
      "text/plain": [
       "3"
      ]
     },
     "execution_count": 11,
     "metadata": {},
     "output_type": "execute_result"
    }
   ],
   "source": [
    "sub(7,4)"
   ]
  },
  {
   "cell_type": "markdown",
   "metadata": {},
   "source": [
    "## Fine grained purging"
   ]
  },
  {
   "cell_type": "code",
   "execution_count": 12,
   "metadata": {},
   "outputs": [
    {
     "name": "stdout",
     "output_type": "stream",
     "text": [
      "This cell input will be completely removed\n"
     ]
    }
   ],
   "source": [],
   "transient": {
    "remove_source": true
   }
  },
  {
   "cell_type": "code",
   "execution_count": 13,
   "metadata": {},
   "outputs": [],
   "source": [
    "\n",
    "\n",
    "print(\"This cell output will be completely removed\")"
   ]
  },
  {
   "cell_type": "code",
   "execution_count": 14,
   "metadata": {
    "nbsphinx": "hidden"
   },
   "outputs": [],
   "source": [],
   "transient": {
    "remove_source": true
   }
  },
  {
   "cell_type": "code",
   "execution_count": 15,
   "metadata": {
    "nbsphinx": "hidden"
   },
   "outputs": [
    {
     "name": "stderr",
     "output_type": "stream",
     "text": [
      "..\n",
      "----------------------------------------------------------------------\n",
      "Ran 2 tests in 0.002s\n",
      "\n",
      "OK\n"
     ]
    }
   ],
   "source": [
    "import lab_test\n",
    "jupman.run(lab_test.MyTest)"
   ]
  },
  {
   "cell_type": "code",
   "execution_count": null,
   "metadata": {},
   "outputs": [],
   "source": []
  }
 ],
 "metadata": {
  "celltoolbar": "Edit Metadata",
  "kernelspec": {
   "display_name": "Python 3 (ipykernel)",
   "language": "python",
   "name": "python3"
  },
  "language_info": {
   "codemirror_mode": {
    "name": "ipython",
    "version": 3
   },
   "file_extension": ".py",
   "mimetype": "text/x-python",
   "name": "python",
   "nbconvert_exporter": "python",
   "pygments_lexer": "ipython3",
   "version": "3.7.13"
  },
  "toc": {
   "base_numbering": 1,
   "nav_menu": {},
   "number_sections": false,
   "sideBar": true,
   "skip_h1_title": false,
   "title_cell": "Table of Contents",
   "title_sidebar": "Contents",
   "toc_cell": false,
   "toc_position": {},
   "toc_section_display": true,
   "toc_window_display": false
  }
 },
 "nbformat": 4,
 "nbformat_minor": 2
}
