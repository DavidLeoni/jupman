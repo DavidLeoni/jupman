{
 "cells": [
  {
   "cell_type": "code",
   "execution_count": 1,
   "metadata": {
    "nbsphinx": "hidden"
   },
   "outputs": [],
   "source": [
    "#Please execute this cell\n",
    "import sys;\n",
    "sys.path.append('../'); \n",
    "import jupman;"
   ]
  },
  {
   "cell_type": "markdown",
   "metadata": {},
   "source": [
    "# Python example"
   ]
  },
  {
   "cell_type": "markdown",
   "metadata": {},
   "source": [
    "## [Download exercises zip](../_static/generated/python-example.zip)\n",
    "\n",
    "[Browse files online](https://github.com/DavidLeoni/jupman/tree/master/python-example)\n",
    "\n",
    "Example of notebook for exercises in Python files\n",
    "\n",
    "## What to do\n",
    "\n",
    "- unzip exercises in a folder, you should get something like this: \n",
    "\n",
    "```\n",
    "python-example\n",
    "   python-example.ipynb         \n",
    "   lab1.py      \n",
    "   lab1_test.py\n",
    "   lab1_sol.py         \n",
    "   lab2.py\n",
    "   lab2_test.py         \n",
    "   lab2_sol.py\n",
    "   jupman.py\n",
    "   my_lib.py\n",
    "     \n",
    "```\n",
    "\n",
    "\n",
    "- open the editor of your choice (for example Visual Studio Code, Spyder or PyCharme), you will edit the files `lab1.py` and `lab2.py`\n",
    "- Go on reading this notebook, and follow instuctions inside.\n",
    "\n",
    "\n"
   ]
  },
  {
   "cell_type": "markdown",
   "metadata": {},
   "source": [
    "### Let's begin\n",
    "\n",
    "You are going to program a simulator of bouncing clowns. To do so, we are going to load this module:"
   ]
  },
  {
   "cell_type": "code",
   "execution_count": 2,
   "metadata": {},
   "outputs": [],
   "source": [
    "import local"
   ]
  },
  {
   "cell_type": "code",
   "execution_count": 3,
   "metadata": {},
   "outputs": [
    {
     "name": "stdout",
     "output_type": "stream",
     "text": [
      "It was a 5 indeed\n"
     ]
    }
   ],
   "source": [
    "local.gimme(5)"
   ]
  },
  {
   "cell_type": "markdown",
   "metadata": {},
   "source": [
    "**Download test data**\n",
    "\n",
    "Local file: \n",
    "\n",
    "* [example.txt](example.txt)\n",
    "* [example.csv](example.csv)\n"
   ]
  },
  {
   "cell_type": "markdown",
   "metadata": {},
   "source": [
    "## Global image\n",
    "![cc-by-2313](../_static/img/cc-by.png)"
   ]
  },
  {
   "cell_type": "markdown",
   "metadata": {},
   "source": [
    "## Local exercise image\n",
    "\n",
    "![leaves-983423](_static/img/leaves.png)"
   ]
  },
  {
   "cell_type": "markdown",
   "metadata": {},
   "source": [
    "## Python tutor"
   ]
  },
  {
   "cell_type": "code",
   "execution_count": 4,
   "metadata": {
    "scrolled": true
   },
   "outputs": [
    {
     "data": {
      "text/html": [
       "        \n",
       "        <script src=\"../_static/js/pytutor-embed.bundle.min.js\" type=\"application/javascript\"></script>\n",
       "    \n",
       "        <style>\n",
       "        @import \"../_static/css/jupman.css\";\n",
       "        </style>\n",
       "     \n",
       "        <script id=\"json-jm-a173c55cc3002f330b94f3f38e041215\" type=\"application/json\" >\n",
       "            {\"code\": \" \\nx = [1,2,3]\\ny = 6\", \"trace\": [{\"line\": 2, \"event\": \"step_line\", \"func_name\": \"<module>\", \"globals\": {}, \"ordered_globals\": [], \"stack_to_render\": [], \"heap\": {}, \"stdout\": \"\"}, {\"line\": 3, \"event\": \"step_line\", \"func_name\": \"<module>\", \"globals\": {\"x\": [\"REF\", 1]}, \"ordered_globals\": [\"x\"], \"stack_to_render\": [], \"heap\": {\"1\": [\"LIST\", 1, 2, 3]}, \"stdout\": \"\"}, {\"line\": 3, \"event\": \"return\", \"func_name\": \"<module>\", \"globals\": {\"x\": [\"REF\", 1], \"y\": 6}, \"ordered_globals\": [\"x\", \"y\"], \"stack_to_render\": [], \"heap\": {\"1\": [\"LIST\", 1, 2, 3]}, \"stdout\": \"\"}]}\n",
       "        </script>\n",
       "        <div id=\"jm-a173c55cc3002f330b94f3f38e041215\" class=\"pytutorVisualizer\"> </div>\n",
       "                        \n",
       "        <script>\n",
       "        (function(){\n",
       "\n",
       "            var trace = JSON.parse(document.getElementById('json-jm-a173c55cc3002f330b94f3f38e041215').innerHTML);                                        \n",
       "            // NOTE 1: id without #\n",
       "            \n",
       "            addVisualizerToPage(trace, 'jm-a173c55cc3002f330b94f3f38e041215',{'embeddedMode' : false,                       \n",
       "                                             'visualizerIdOverride':'viz-jm-a173c55cc3002f330b94f3f38e041215'})  \n",
       "            \n",
       "            \n",
       "            // set overflow for pytuts - need to do in python as css \n",
       "            // does not allow parent selection\n",
       "            var pytuts = $('.pytutorVisualizer')\n",
       "            pytuts.closest('div.output_html.rendered_html.output_result')\n",
       "                    .css('overflow-x', 'visible')\n",
       "        \n",
       "            //pytuts.closest('div.output_html.rendered_html.output_result')\n",
       "            //      .css('background-color','red')                \n",
       "            \n",
       "        })()\n",
       "        </script>\n",
       "                \n",
       "    \n",
       "    <div style=\"text-align:center; font-size:0.9em\"> Visualization provided by <a href=\"https://pythontutor.com/visualize.html#mode=edit\" target=\"_blank\">Python Tutor</a> </div> \n",
       "    "
      ],
      "text/plain": [
       "<IPython.core.display.HTML object>"
      ]
     },
     "execution_count": 4,
     "metadata": {},
     "output_type": "execute_result"
    }
   ],
   "source": [
    "x = [1,2,3]\n",
    "y = 6\n",
    "\n",
    "jupman.pytut()"
   ]
  },
  {
   "cell_type": "code",
   "execution_count": 5,
   "metadata": {},
   "outputs": [
    {
     "data": {
      "text/html": [
       "        \n",
       "        <script src=\"../_static/js/pytutor-embed.bundle.min.js\" type=\"application/javascript\"></script>\n",
       "    \n",
       "        <style>\n",
       "        @import \"../_static/css/jupman.css\";\n",
       "        </style>\n",
       "     \n",
       "        <script id=\"json-jm-4e42b2aafeaf5242035cd6919bd28a57\" type=\"application/json\" >\n",
       "            {\"code\": \" \\ny = [1,2,3]\", \"trace\": [{\"line\": 2, \"event\": \"step_line\", \"func_name\": \"<module>\", \"globals\": {}, \"ordered_globals\": [], \"stack_to_render\": [], \"heap\": {}, \"stdout\": \"\"}, {\"line\": 2, \"event\": \"return\", \"func_name\": \"<module>\", \"globals\": {\"y\": [\"REF\", 1]}, \"ordered_globals\": [\"y\"], \"stack_to_render\": [], \"heap\": {\"1\": [\"LIST\", 1, 2, 3]}, \"stdout\": \"\"}]}\n",
       "        </script>\n",
       "        <div id=\"jm-4e42b2aafeaf5242035cd6919bd28a57\" class=\"pytutorVisualizer\"> </div>\n",
       "                        \n",
       "        <script>\n",
       "        (function(){\n",
       "\n",
       "            var trace = JSON.parse(document.getElementById('json-jm-4e42b2aafeaf5242035cd6919bd28a57').innerHTML);                                        \n",
       "            // NOTE 1: id without #\n",
       "            \n",
       "            addVisualizerToPage(trace, 'jm-4e42b2aafeaf5242035cd6919bd28a57',{'embeddedMode' : false,                       \n",
       "                                             'visualizerIdOverride':'viz-jm-4e42b2aafeaf5242035cd6919bd28a57'})  \n",
       "            \n",
       "            \n",
       "            // set overflow for pytuts - need to do in python as css \n",
       "            // does not allow parent selection\n",
       "            var pytuts = $('.pytutorVisualizer')\n",
       "            pytuts.closest('div.output_html.rendered_html.output_result')\n",
       "                    .css('overflow-x', 'visible')\n",
       "        \n",
       "            //pytuts.closest('div.output_html.rendered_html.output_result')\n",
       "            //      .css('background-color','red')                \n",
       "            \n",
       "        })()\n",
       "        </script>\n",
       "                \n",
       "    \n",
       "    <div style=\"text-align:center; font-size:0.9em\"> Visualization provided by <a href=\"https://pythontutor.com/visualize.html#mode=edit\" target=\"_blank\">Python Tutor</a> </div> \n",
       "    "
      ],
      "text/plain": [
       "<IPython.core.display.HTML object>"
      ]
     },
     "execution_count": 5,
     "metadata": {},
     "output_type": "execute_result"
    }
   ],
   "source": [
    "y = [1,2,3]\n",
    "\n",
    "jupman.pytut()"
   ]
  },
  {
   "cell_type": "markdown",
   "metadata": {},
   "source": [
    "Start editing `lab1.py` in text editor"
   ]
  },
  {
   "cell_type": "code",
   "execution_count": 6,
   "metadata": {},
   "outputs": [],
   "source": [
    "from lab1_sol import *"
   ]
  },
  {
   "cell_type": "markdown",
   "metadata": {},
   "source": [
    "## add\n",
    "\n",
    "Implement `add` function:"
   ]
  },
  {
   "cell_type": "code",
   "execution_count": 7,
   "metadata": {},
   "outputs": [
    {
     "data": {
      "text/plain": [
       "8"
      ]
     },
     "execution_count": 7,
     "metadata": {},
     "output_type": "execute_result"
    }
   ],
   "source": [
    "add(3,5)"
   ]
  },
  {
   "cell_type": "markdown",
   "metadata": {},
   "source": [
    "## sub\n",
    "\n",
    "Implement sub function"
   ]
  },
  {
   "cell_type": "code",
   "execution_count": 8,
   "metadata": {},
   "outputs": [
    {
     "data": {
      "text/plain": [
       "3"
      ]
     },
     "execution_count": 8,
     "metadata": {},
     "output_type": "execute_result"
    }
   ],
   "source": [
    "sub(7,4)"
   ]
  },
  {
   "cell_type": "code",
   "execution_count": 9,
   "metadata": {
    "nbsphinx": "hidden"
   },
   "outputs": [
    {
     "name": "stderr",
     "output_type": "stream",
     "text": [
      "..\n",
      "----------------------------------------------------------------------\n",
      "Ran 2 tests in 0.001s\n",
      "\n",
      "OK\n"
     ]
    }
   ],
   "source": [
    "import lab1_test\n",
    "jupman.run(lab1_test.MyTest)"
   ]
  },
  {
   "cell_type": "code",
   "execution_count": null,
   "metadata": {},
   "outputs": [],
   "source": []
  }
 ],
 "metadata": {
  "celltoolbar": "Edit Metadata",
  "kernelspec": {
   "display_name": "Python 3 (ipykernel)",
   "language": "python",
   "name": "python3"
  },
  "language_info": {
   "codemirror_mode": {
    "name": "ipython",
    "version": 3
   },
   "file_extension": ".py",
   "mimetype": "text/x-python",
   "name": "python",
   "nbconvert_exporter": "python",
   "pygments_lexer": "ipython3",
   "version": "3.7.13"
  },
  "toc": {
   "base_numbering": 1,
   "nav_menu": {},
   "number_sections": false,
   "sideBar": true,
   "skip_h1_title": false,
   "title_cell": "Table of Contents",
   "title_sidebar": "Contents",
   "toc_cell": false,
   "toc_position": {},
   "toc_section_display": true,
   "toc_window_display": false
  }
 },
 "nbformat": 4,
 "nbformat_minor": 2
}
