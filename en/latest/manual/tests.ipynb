{
 "cells": [
  {
   "cell_type": "code",
   "execution_count": 1,
   "metadata": {
    "nbsphinx": "hidden"
   },
   "outputs": [
    {
     "data": {
      "text/html": [
       "\n",
       "            <script type=\"application/javascript\"> \n",
       "                var JUPMAN_IN_JUPYTER = true;\n",
       "            </script>\n",
       "            \n",
       "                <style>\n",
       "                @import \"../_static/css/jupman.css\";\n",
       "                </style>\n",
       "            \n",
       "                    <style>\n",
       "                        #jupman-toc{\n",
       "                            display : none !important;\n",
       "                        }\n",
       "                    \n",
       "                    </style>                    \n",
       "                        \n",
       "                <script src=\"../_static/js/jupman.js\" type=\"application/javascript\"></script>\n",
       "            "
      ],
      "text/plain": [
       "<IPython.core.display.HTML object>"
      ]
     },
     "execution_count": 1,
     "metadata": {},
     "output_type": "execute_result"
    }
   ],
   "source": [
    "import sys\n",
    "sys.path.append('../')\n",
    "import jupman;\n",
    "jupman.init()"
   ]
  },
  {
   "cell_type": "markdown",
   "metadata": {},
   "source": [
    "# Rendering tests\n",
    "\n",
    "Shows various recommendations and cornercases, see also [softpython themed](https://jupman.softpython.org/themed/manual/tests.html) version."
   ]
  },
  {
   "cell_type": "markdown",
   "metadata": {},
   "source": [
    "The page Title has one sharp, sections always have two sharps.\n",
    "\n",
    "## Section 1\n",
    "\n",
    "bla bla \n",
    "\n",
    "## Section 2\n",
    "\n",
    "Subsections always have three sharps\n",
    "\n",
    "### Subsection 1\n",
    "bla bla \n",
    "\n",
    "### Subsection 2\n",
    "bla bla \n"
   ]
  },
  {
   "cell_type": "markdown",
   "metadata": {},
   "source": [
    "## Python code"
   ]
  },
  {
   "cell_type": "code",
   "execution_count": 2,
   "metadata": {},
   "outputs": [],
   "source": [
    "x = 4\n",
    "lst = [1,2,4]"
   ]
  },
  {
   "cell_type": "markdown",
   "metadata": {},
   "source": [
    "## Python in Markdown\n",
    "\n",
    "```python\n",
    "x = 4\n",
    "lst = [1,2,4]\n",
    "```"
   ]
  },
  {
   "cell_type": "markdown",
   "metadata": {},
   "source": [
    "## Other quotes"
   ]
  },
  {
   "cell_type": "markdown",
   "metadata": {},
   "source": [
    "> I'm quoted with > symbol\n",
    "> on multiple lines. **Am I readable?**\n",
    ">\n",
    "> Somebody asked"
   ]
  },
  {
   "cell_type": "markdown",
   "metadata": {},
   "source": [
    "    I'm quoted with **spaces** \n",
    "    on multiple lines\n",
    "    Am I readable?"
   ]
  },
  {
   "cell_type": "markdown",
   "metadata": {},
   "source": [
    "```\n",
    "Generic quote with backticks\n",
    "Can you read it?\n",
    "Is it nice?\n",
    "```"
   ]
  },
  {
   "cell_type": "markdown",
   "metadata": {},
   "source": [
    "\n",
    "```bash\n",
    "# bash quote with backticks\n",
    "cd foo\n",
    "ls\n",
    "cat wiz.txt\n",
    "```"
   ]
  },
  {
   "cell_type": "markdown",
   "metadata": {},
   "source": [
    "## Download links\n",
    "\n",
    "Files manually put in `_static` : \n",
    "\n",
    "* Download [trial.odt](../_static/jupman/trial.odt)\n",
    "* Download [trial.pdf](../_static/jupman/trial.pdf)\n",
    " \n",
    "Files in arbitrary folder position : \n",
    "\n",
    "* Download [requirements.txt](../requirements.txt)\n",
    "\n",
    "NOTE: download links are messy, [see issue 8](https://github.com/DavidLeoni/jupman/issues/8)"
   ]
  },
  {
   "cell_type": "markdown",
   "metadata": {},
   "source": [
    "## Links to HTML\n",
    "\n",
    "* Link to [trial.html](../_static/jupman/trial.html)"
   ]
  },
  {
   "cell_type": "markdown",
   "metadata": {
    "collapsed": true
   },
   "source": [
    "## Info/Warning Boxes\n",
    "\n",
    "Inherited from NBSphinx: \n",
    "\n",
    "Until there is an info/warning extension for Markdown/CommonMark, such boxes can be created by using HTML <div> elements like the following\n",
    "\n",
    "For this to work reliably, you should obey the following guidelines:\n",
    "\n",
    "* The class attribute has to be either `\"alert alert-info\"` or `\"alert alert-warning\"`, other values will not be converted correctly.\n",
    "* No further attributes are allowed.\n",
    "* For compatibility with CommonMark, you should add an empty line between the `<div>` start tag and the beginning of the content.\n"
   ]
  },
  {
   "cell_type": "markdown",
   "metadata": {},
   "source": [
    "<div class=\"alert alert-info\">\n",
    "\n",
    "**Note:** This is an info, mixed bold!\n",
    "\n",
    "</div>"
   ]
  },
  {
   "cell_type": "markdown",
   "metadata": {},
   "source": [
    "<div class=\"alert alert-warning\">\n",
    "\n",
    "**Note:** This is a warn, mixed bold!\n",
    "\n",
    "</div>"
   ]
  },
  {
   "cell_type": "markdown",
   "metadata": {},
   "source": [
    "<div class=\"alert alert-info\">\n",
    "      \n",
    "Note: This is a long info, plain title, single paragraph\n",
    "    \n",
    "Lorem ipsum dolor sit amet, consectetur adipisci elit, sed eiusmod tempor incidunt ut labore et dolore magna aliqua. Ut enim ad minim veniam, quis nostrum exercitationem ullam corporis suscipit laboriosam, nisi ut aliquid ex ea commodi consequatur. \n",
    "</div>"
   ]
  },
  {
   "cell_type": "markdown",
   "metadata": {},
   "source": [
    "<div class=\"alert alert-warning\">\n",
    "\n",
    "This is a long warn, plain title, single paragraph\n",
    "    \n",
    "Lorem ipsum dolor sit amet, consectetur adipisci elit, sed eiusmod tempor incidunt ut labore et dolore magna aliqua. Ut enim ad minim veniam, quis nostrum exercitationem ullam corporis suscipit laboriosam, nisi ut aliquid ex ea commodi consequatur. \n",
    "    </div>"
   ]
  },
  {
   "cell_type": "markdown",
   "metadata": {},
   "source": [
    "<div class=\"alert alert-info\">\n",
    "      \n",
    "Note: This is a long info, plain title, multiple paragraph\n",
    "    \n",
    "Lorem ipsum dolor sit amet, consectetur adipisci elit, sed eiusmod tempor incidunt ut labore et dolore magna aliqua. Ut enim ad minim veniam, quis nostrum exercitationem ullam corporis suscipit laboriosam, nisi ut aliquid ex ea commodi consequatur. \n",
    "    \n",
    "Sed ut perspiciatis unde omnis iste natus error sit voluptatem accusantium doloremque laudantium, totam rem aperiam, eaque ipsa quae ab illo inventore veritatis et quasi architecto beatae vitae dicta sunt explicabo. \n",
    "</div>"
   ]
  },
  {
   "cell_type": "markdown",
   "metadata": {},
   "source": [
    "<div class=\"alert alert-warning\">\n",
    "\n",
    "This is a long warn, plain title, multiple paragraph\n",
    "    \n",
    "Lorem ipsum dolor sit amet, consectetur adipisci elit, sed eiusmod tempor incidunt ut labore et dolore magna aliqua. Ut enim ad minim veniam, quis nostrum exercitationem ullam corporis suscipit laboriosam, nisi ut aliquid ex ea commodi consequatur. \n",
    "    \n",
    "Sed ut perspiciatis unde omnis iste natus error sit voluptatem accusantium doloremque laudantium, totam rem aperiam, eaque ipsa quae ab illo inventore veritatis et quasi architecto beatae vitae dicta sunt explicabo. \n",
    "</div>"
   ]
  },
  {
   "cell_type": "markdown",
   "metadata": {},
   "source": [
    "<div class=\"alert alert-info\">\n",
    "      \n",
    "Note: This is a long info, plain title, multiple paragraph with code\n",
    "    \n",
    "Lorem ipsum dolor sit amet, consectetur adipisci elit, sed eiusmod tempor incidunt ut labore et dolore magna aliqua. Ut enim ad minim veniam, quis nostrum exercitationem ullam corporis suscipit laboriosam, nisi ut aliquid ex ea commodi consequatur. \n",
    "    \n",
    "Sed ut perspiciatis unde omnis iste natus error sit voluptatem accusantium doloremque laudantium, totam rem aperiam, eaque ipsa quae ab illo inventore veritatis et quasi architecto beatae vitae dicta sunt explicabo. \n",
    "    \n",
    "```python\n",
    "for x in range(4):\n",
    "    if x in [8,3,1,5]:\n",
    "        print(x)\n",
    "```\n",
    "    \n",
    "</div>"
   ]
  },
  {
   "cell_type": "markdown",
   "metadata": {},
   "source": [
    "<div class=\"alert alert-warning\">\n",
    "\n",
    "This is a long warn, plain title, multiple paragraph, code\n",
    "    \n",
    "Lorem ipsum dolor sit amet, consectetur adipisci elit, sed eiusmod tempor incidunt ut labore et dolore magna aliqua. Ut enim ad minim veniam, quis nostrum exercitationem ullam corporis suscipit laboriosam, nisi ut aliquid ex ea commodi consequatur. \n",
    "    \n",
    "Sed ut perspiciatis unde omnis iste natus error sit voluptatem accusantium doloremque laudantium, totam rem aperiam, eaque ipsa quae ab illo inventore veritatis et quasi architecto beatae vitae dicta sunt explicabo. \n",
    "    \n",
    "```python\n",
    "for x in range(4):\n",
    "    if x in [8,3,1,5]:\n",
    "        print(x)\n",
    "```\n",
    "    \n",
    "</div>"
   ]
  },
  {
   "cell_type": "markdown",
   "metadata": {},
   "source": [
    "<div class=\"alert alert-info\">\n",
    "      \n",
    "**Note: This is a long info, bold title**\n",
    "    \n",
    "Lorem ipsum dolor sit amet, consectetur adipisci elit, sed eiusmod tempor incidunt ut labore et dolore magna aliqua. Ut enim ad minim veniam, quis nostrum exercitationem ullam corporis suscipit laboriosam, nisi ut aliquid ex ea commodi consequatur. \n",
    "</div>"
   ]
  },
  {
   "cell_type": "markdown",
   "metadata": {},
   "source": [
    "<div class=\"alert alert-warning\">\n",
    "\n",
    "**This is a long warn, plain title!**\n",
    "    \n",
    "Lorem ipsum dolor sit amet, consectetur adipisci elit, sed eiusmod tempor incidunt ut labore et dolore magna aliqua. Ut enim ad minim veniam, quis nostrum exercitationem ullam corporis suscipit laboriosam, nisi ut aliquid ex ea commodi consequatur. \n",
    "</div>"
   ]
  },
  {
   "cell_type": "markdown",
   "metadata": {},
   "source": [
    "### jupman-alert-principle\n",
    "\n",
    "**NOTE**: default colors are indicative and minimal on purpose, for a better view see [softpython themed version](https://jupman.softpython.org/themed/manual/tests.html#jupman-alert-principle)\n",
    "\n",
    "**Recommended approach**: The typical principle alert should be brief and may have a link to more substantial text, with a short line under it.  If you need more explicative text, put it outside:"
   ]
  },
  {
   "cell_type": "markdown",
   "metadata": {},
   "source": [
    "```html\n",
    "<div class=\"jupman-alert-principle\"></div>\n",
    "<div class=\"alert alert-info\">\n",
    "\n",
    "[IV PRINCIPLE](https://jupman.softpython.org/principles.html#V-PRINCIPLE): **You shall write tests!**\n",
    "    \n",
    "Who does **not** writes tests, falls into _Debugging Hell_!\n",
    "</div>\n",
    "                 \n",
    "\n",
    "```"
   ]
  },
  {
   "cell_type": "markdown",
   "metadata": {},
   "source": [
    "<div class=\"jupman-alert-principle\"></div>\n",
    "<div class=\"alert alert-info\">\n",
    "\n",
    "[IV PRINCIPLE](https://jupman.softpython.org/principles.html#IV-PRINCIPLE): **You shall write tests!**\n",
    "\n",
    "Who does **not** writes tests, falls into _Debugging Hell_! \n",
    "</div>"
   ]
  },
  {
   "cell_type": "markdown",
   "metadata": {},
   "source": [
    "**Normal weight font:**"
   ]
  },
  {
   "cell_type": "markdown",
   "metadata": {},
   "source": [
    "<div class=\"jupman-alert-principle\"></div>\n",
    "<div class=\"alert alert-info\">\n",
    "\n",
    "[IV PRINCIPLE](https://jupman.softpython.org/principles.html#IV-PRINCIPLE): You shall write tests!\n",
    "\n",
    "Who does **not** writes tests, falls into _Debugging Hell_! \n",
    "</div>"
   ]
  },
  {
   "cell_type": "markdown",
   "metadata": {},
   "source": [
    "**Shorter principle recall, bold:**"
   ]
  },
  {
   "cell_type": "markdown",
   "metadata": {},
   "source": [
    "<div class=\"jupman-alert-principle\"></div>\n",
    "<div class=\"alert alert-info\">\n",
    "\n",
    "[IV PRINCIPLE](https://jupman.softpython.org/principles.html#IV-PRINCIPLE): **You shall write tests!**\n",
    "</div>                "
   ]
  },
  {
   "cell_type": "markdown",
   "metadata": {},
   "source": [
    "**Shorter principle recall, normal font weight:**"
   ]
  },
  {
   "cell_type": "markdown",
   "metadata": {},
   "source": [
    "<div class=\"jupman-alert-principle\"></div>\n",
    "<div class=\"alert alert-info\">\n",
    "\n",
    "[IV PRINCIPLE](https://jupman.softpython.org/principles.html#IV-PRINCIPLE): You shall write tests!\n",
    "</div>                "
   ]
  },
  {
   "cell_type": "markdown",
   "metadata": {},
   "source": [
    "**Shorter principle recall, all bold:** (doesn't work: shows artifacts)"
   ]
  },
  {
   "cell_type": "markdown",
   "metadata": {},
   "source": [
    "<div class=\"jupman-alert-principle\"></div>\n",
    "<div class=\"alert alert-info\">\n",
    "\n",
    "**[IV PRINCIPLE](https://jupman.softpython.org/principles.html#IV-PRINCIPLE): You shall write tests!**\n",
    "</div>                "
   ]
  },
  {
   "cell_type": "markdown",
   "metadata": {},
   "source": [
    "**Longer principle with text outside the box** (recommended):"
   ]
  },
  {
   "cell_type": "markdown",
   "metadata": {},
   "source": [
    "<div class=\"jupman-alert-principle\"></div>\n",
    "<div class=\"alert alert-info\">\n",
    "\n",
    "[VII PRINCIPLE](https://jupman.softpython.org/principles.html#VII-PRINCIPLE): **You shall never ever add nor remove elements from a sequence you are iterating with a** `for` !        \n",
    "</div>\n",
    "                \n",
    "Better to keep explanation text and code outside\n",
    "                \n",
    "```python\n",
    "lst = ['a','b','c']\n",
    "for x in lst:\n",
    "    lst.add(x)  # aarrgh\n",
    "```"
   ]
  },
  {
   "cell_type": "markdown",
   "metadata": {},
   "source": [
    "**Longer principle with text inside the box** (not recommended):"
   ]
  },
  {
   "cell_type": "markdown",
   "metadata": {},
   "source": [
    "<div class=\"jupman-alert-principle\"></div>\n",
    "<div class=\"alert alert-info\">\n",
    "\n",
    "[VII PRINCIPLE](https://jupman.softpython.org/principles.html#VII-PRINCIPLE): **You shall never ever add nor remove elements from a sequence you are iterating with a** `for` !\n",
    "       \n",
    "This is a **way too long** principle only for _testing_ purposes, typically it's much better keeping long stuff outside. \n",
    "    \n",
    "```python\n",
    "lst = ['a','b','c']\n",
    "for x in lst:\n",
    "    lst.add(x)  # aaargh\n",
    "```\n",
    "    \n",
    "</div>"
   ]
  },
  {
   "cell_type": "markdown",
   "metadata": {},
   "source": [
    "**Longer principle with text inside the box, all bold** (not recommended, doesn't work: shows artifacts):"
   ]
  },
  {
   "cell_type": "markdown",
   "metadata": {},
   "source": [
    "<div class=\"jupman-alert-principle\"></div>\n",
    "<div class=\"alert alert-info\">\n",
    "\n",
    "**[VII PRINCIPLE](https://jupman.softpython.org/principles.html#VII-PRINCIPLE): You shall never ever add nor remove elements from a sequence you are iterating with a** `for` !\n",
    "       \n",
    "This is a **way too long** principle only for _testing_ purposes, typically it's much better keeping long stuff outside. \n",
    "    \n",
    "```python\n",
    "lst = ['a','b','c']\n",
    "for x in lst:\n",
    "    lst.add(x)  # aaargh\n",
    "```\n",
    "    \n",
    "</div>"
   ]
  },
  {
   "cell_type": "markdown",
   "metadata": {},
   "source": [
    "\n",
    "## Math\n",
    "\n",
    "For math stuff, [see npshpinx docs](https://nbsphinx.readthedocs.io/en/0.2.14/markdown-cells.html#Equations)\n",
    "\n",
    "Here we put just some equation to show it behaves fine in Jupman\n",
    "\n",
    "This is infinity: $\\infty$ "
   ]
  },
  {
   "cell_type": "markdown",
   "metadata": {},
   "source": [
    "## Unicode \n",
    "\n",
    "Unicode characters should display an HTML, but with latex you might have problems, and need to manually map characters in conf.py\n",
    "\n",
    "\n",
    "You should see a star in a black circle: ✪ \n",
    "\n",
    "You should see a check: ✓\n",
    "\n",
    "table characters: │ ├ └ ─"
   ]
  },
  {
   "cell_type": "markdown",
   "metadata": {},
   "source": [
    "## Tables\n",
    "\n",
    "### A small table\n",
    "\n",
    "|Name| Surname| Age | Occupation|\n",
    "|----|-----|-----------|---|\n",
    "|Augustus |Gloop | 40  |  Software Engineer |\n",
    "|Veruca | Salt| 34  |  Writer |\n",
    "|Violet|Beauregarde| 37|  Accountant|"
   ]
  },
  {
   "cell_type": "markdown",
   "metadata": {},
   "source": [
    "### An extra large table\n",
    "\n",
    "|Why  |  do   |  you      |  need  |  so  |   much |  chocolate?| I don't| understand.| \n",
    "|-----|-------|-----------|--------|------|--------|------------|--------|------------|\n",
    "|Oompa|Loompa,| do        |      ba|dee   |doo     |            |        |            |\n",
    "|I've | got   | a         |perfect |puzzle|for     |you.        |        |            |\n",
    "|Oompa|Loompa,| do        |      ba|dee   |doo     |            |        |            |\n",
    "|If   |  you  |    are    |    wise|you'll| listen |to          |me.     |            |\n",
    "|What |do     |you        |     get| when | you    |guzzle| down| sweets?|\n"
   ]
  },
  {
   "cell_type": "markdown",
   "metadata": {},
   "source": [
    "### A table with extra large text\n",
    "\n",
    "Note with default style text overflows, we fix this in themes\n",
    "\n",
    "|Who |  do you   |   blame? |  \n",
    "|-----|-------|-----------|\n",
    "|Gum chewing's fine when it's once in a while. | It stops you from smoking and brightens your smile. | But it's repulsive revolting and wrong.|\n",
    "|Blaming the kids is a lie and a shame | You know exactly who's to blame: |The mother and the father!|\n"
   ]
  },
  {
   "cell_type": "markdown",
   "metadata": {},
   "source": [
    "### A table with links\n",
    "\n",
    "Some of these links in markdown tables may show ill-formatted in HTML output\n",
    "\n",
    "Test for [issue 137](https://github.com/DavidLeoni/jupman/issues/137)\n",
    "\n",
    "\n",
    "|Operatore|Sintassi|Risultato|Significato|\n",
    "|---|---|----|-----|\n",
    "|lunghezza|`len`(str)|`int`| Ritorna la lunghezza della stringa|\n",
    "|[indice](#Leggere-caratteri)|str`[`int`]`|`str`|Legge il carattere all'indice specificato|\n",
    "|[concatenazione](#Sostituire-caratteri)|str1 `+` str2|`str`| Concatena due stringhe|\n",
    "|[inclusione](#Operatore-in)|str1 `in` str2|`bool`| Controlla se la stringa è presente in un'altra stringa|\n",
    "\n",
    "|Operatore|Sintassi|Risultato|Significato|\n",
    "|---|---|----|-----|\n",
    "|lunghezza|`len`(str)|`int`| Ritorna la lunghezza della stringa|\n",
    "|[indice](#Leggere-caratteri)|str`[`int`]`|`str`|Legge il carattere all'indice specificato|\n",
    "|[concatenazione](#Sostituire-caratteri)|str1 `+` str2|`str`| Concatena due stringhe|\n",
    "\n",
    "|Operatore|Sintassi|Risultato|Significato|\n",
    "|---|---|----|-----|\n",
    "|[inclusione](#Operatore-in)|str1 `in` str2|`bool`| Controlla se la stringa è presente in un'altra stringa|\n",
    "\n",
    "|Operatore|Sintassi|Risultato|Significato|\n",
    "|---|---|----|-----|\n",
    "|[inclusione](#Operatore-in)|str1 `inabc` str2|`bool`| Controlla se la stringa è presente in un'altra stringa|\n",
    "\n",
    "with `#Operatore-inxyz` link and `inabc` operator:\n",
    "\n",
    "|Operatore|Sintassi|Risultato|Significato|\n",
    "|---|---|----|-----|\n",
    "|[inclusione](#Operatore-inxyz)|str1 `inabc` str2|`bool`| Controlla se la stringa è presente in un'altra stringa|\n",
    "\n",
    "\n",
    "with `#Operatore-inxyz` link and `in` operator:\n",
    "\n",
    "|Operatore|Sintassi|Risultato|Significato|\n",
    "|---|---|----|-----|\n",
    "|[inclusione](#Operatore-inxyz)|str1 `in` str2|`bool`| Controlla se la stringa è presente in un'altra stringa|\n",
    "\n",
    "with `#Operatore-in ` (with end space) link and `in` operator:\n",
    "\n",
    "|Operatore|Sintassi|Risultato|Significato|\n",
    "|---|---|----|-----|\n",
    "|[inclusione](#Operatore-in )|str1 `in` str2|`bool`| Controlla se la stringa è presente in un'altra stringa|\n",
    "\n",
    "\n",
    "with `#Opera-in`\n",
    "\n",
    "|Operatore|Sintassi|Risultato|Significato|\n",
    "|---|---|----|-----|\n",
    "|[inclusione](#Opera-in )|str1 `in` str2|`bool`| Controlla se la stringa è presente in un'altra stringa|\n",
    "\n",
    "\n",
    "with `#Operaz-in`  (with target in quotes)\n",
    "\n",
    "\n",
    "|Operatore|Sintassi|Risultato|Significato|\n",
    "|---|---|----|-----|\n",
    "|[inclusione](#Operaz-in)|str1 `in` str2|`bool`| Controlla se la stringa è presente in un'altra stringa|\n",
    "\n",
    "\n",
    "\n",
    "**Workaround with `<a>` tags**\n",
    "\n",
    "... doesn't work :-(\n",
    "\n",
    "|Operatore|Sintassi|Risultato|Significato|\n",
    "|---|---|----|-----|\n",
    "|lunghezza|`len`(str)|`int`| Ritorna la lunghezza della stringa|\n",
    "|<a href=\"#Leggere-caratteri\">indice</a>|str`[`int`]`|`str`|Legge il carattere all'indice specificato|\n",
    "|[concatenazione](#Sostituire-caratteri)|str1 `+` str2|`str`| Concatena due stringhe|\n",
    "|<a href=\"#Operatore-in\">inclusione</a>|str1 `in` str2|`bool`| Controlla se la stringa è presente in un'altra stringa|\n",
    "\n",
    "\n",
    "\n",
    "#### Leggere caratteri\n",
    "\n",
    "bla bla\n",
    "\n",
    "#### Sostituire caratteri\n",
    "\n",
    "bla bla\n",
    "\n",
    "#### Operatore in\n",
    "\n",
    "bla bla\n",
    "\n",
    "#### Opera in\n",
    "\n",
    "bla bla\n",
    "\n",
    "#### Operaz `in`\n",
    "\n",
    "bla bla\n",
    "\n",
    "\n",
    "#### Operatore inxyz\n",
    "\n",
    "bla bla"
   ]
  },
  {
   "cell_type": "markdown",
   "metadata": {},
   "source": [
    "## Lists\n",
    "\n",
    "* Home\n",
    "    * Contents\n",
    "    * Revisions\n",
    "* More\n",
    "    * Quickstart    \n",
    "    * Configure\n",
    "        * Building the manual\n",
    "        * Publish\n",
    "        * Further steps\n",
    "    * Installation"
   ]
  },
  {
   "cell_type": "markdown",
   "metadata": {},
   "source": [
    "## Images\n",
    "\n",
    "### SVG Images\n",
    "\n",
    "SVG images work in notebook, but here it is commented since it breaks Latex, [see issue](https://github.com/DavidLeoni/jupman/issues/1)\n",
    "\n",
    "```\n",
    "![An image](../img/cc-by.svg)\n",
    "```\n",
    "\n",
    "This one also doesn't work (and shows ugly code in the notebook anyway)\n",
    "\n",
    "```\n",
    "from IPython.display import SVG\n",
    "SVG(filename='../img/cc-by.svg')\n",
    "```\n"
   ]
  },
  {
   "cell_type": "markdown",
   "metadata": {},
   "source": [
    "### PNG Images\n",
    "\n",
    "![A PNG image alone](../_static/img/jupman/notebook_icon.png)"
   ]
  },
  {
   "cell_type": "markdown",
   "metadata": {},
   "source": [
    "### Inline images - pure markdown"
   ]
  },
  {
   "cell_type": "markdown",
   "metadata": {},
   "source": [
    "    Bla ![A PNG image md](../_static/img/jupman/notebook_icon.png)  bli blo"
   ]
  },
  {
   "cell_type": "markdown",
   "metadata": {},
   "source": [
    "Bla ![A PNG image  md](../_static/img/jupman/notebook_icon.png)  bli blo"
   ]
  },
  {
   "cell_type": "markdown",
   "metadata": {},
   "source": [
    "### Inline images - markdown and img"
   ]
  },
  {
   "cell_type": "markdown",
   "metadata": {},
   "source": [
    "    bla <img alt=\"markimg84545\" style=\"display:inline\" src=\"../_static/img/jupman/notebook_icon.png\"> bli blo"
   ]
  },
  {
   "cell_type": "markdown",
   "metadata": {},
   "source": [
    "\n",
    "bla <img alt=\"markimg84545\" style=\"display:inline !important\" src=\"../_static/img/jupman/notebook_icon.png\"> bli blo"
   ]
  },
  {
   "cell_type": "markdown",
   "metadata": {},
   "source": [
    "### Img class\n",
    "\n",
    "If we pass a class, it will to be present in the website:\n",
    "\n",
    "    <img alt=\"markimg7325\" class=\"jupman-inline-img\" src=\"../_static/img/jupman/notebook_icon.png\">\n",
    "    \n",
    "This  <img alt=\"markimg7325\" class=\"jupman-inline-img\" src=\"../_static/img/jupman/notebook_icon.png\"> should be inline"
   ]
  },
  {
   "cell_type": "markdown",
   "metadata": {},
   "source": [
    "### A picture with alternate text\n",
    "\n",
    "![An example picture](../_static/img/jupman/leaves.png)"
   ]
  },
  {
   "cell_type": "markdown",
   "metadata": {},
   "source": [
    "## Expressions list\n",
    "\n",
    "Highlighting **does** work both in Jupyter and Sphinx\n",
    "\n",
    "Three quotes, multiple lines - Careful: put **exactly 4 spaces** indentation\n",
    "\n",
    "1.  ```python \n",
    "    [2,3,1] != \"[2,3,1]\"\n",
    "    ```\n",
    "1.  ```python \n",
    "    [4,8,12] == [2*2,\"4*2\",6*2]\n",
    "    ```\n",
    "1.  ```python \n",
    "    [][:] == []\n",
    "    ```"
   ]
  },
  {
   "cell_type": "markdown",
   "metadata": {},
   "source": [
    "Three quotes, multiple lines, more compact - works in Jupyter,  **doesn't** in Sphinx\n",
    "\n",
    "1.  ```python \n",
    "    [2,3,1] != \"[2,3,1]\"```\n",
    "1.  ```python \n",
    "    [4,8,12] == [2*2,\"4*2\",6*2]```\n",
    "1.  ```python \n",
    "    [][:] == []```"
   ]
  },
  {
   "cell_type": "markdown",
   "metadata": {},
   "source": [
    "Highlighting **doesn't** work in Jupyter neither in Sphinx:\n",
    "\n",
    "Three quotes, single line\n",
    "\n",
    "1. ```python [2,3,1] != [\"2\",3,1]```\n",
    "1. ```python [4,8,12] == [2*2,\"4*2\",6*2]```\n",
    "1. ```python [][:] == \"[]\"```\n",
    "\n",
    "Single quote, single line\n",
    "\n",
    "1. `python [2,3,1] != [\"2\",3,1]`\n",
    "1. `python [4,8,12] == [2*2,\"4*2\",6*2]`\n",
    "1. `python [][:] == \"[]\"`\n"
   ]
  },
  {
   "cell_type": "markdown",
   "metadata": {},
   "source": [
    "## Togglable cells\n",
    "\n",
    "There are various ways to have togglable cells.\n",
    "\n",
    "### Show/hide exercises (RECOMMENDED)\n",
    "\n",
    "If you need clickable show/hide buttons for exercise solutions , see here: [Editing - Exercise types](https://jupman.softpython.org/en/latest/manual/editing.html#Exercise-types). It manages comprehensively use cases for display in website, student zips, exams, etc\n",
    "\n",
    "If you have other needs, we report here some test we made, but keep in mind this sort of hacks tend to change behaviour with different versions of jupyter."
   ]
  },
  {
   "cell_type": "markdown",
   "metadata": {},
   "source": [
    "### Toggling with Javascript\n",
    "\n",
    "* Works in MarkDown\n",
    "* Works while in Jupyter\n",
    "* Works in HTML\n",
    "* Does not show in Latex (which might be a good point, if you intend to put somehow solutions at the end of the document)\n",
    "* NOTE: after creating the text to see the results you have to run the initial cell with jupman.init (as for the toc) \n",
    "* NOTE: you can't use Markdown block code since of Sept 2017 doesn't show well in HTML output \n",
    "\n",
    "<div class=\"jupman-togglable\">\n",
    "\n",
    "<code>\n",
    "<pre>\n",
    "    # SOME CODE\n",
    "    color = raw_input(\"What's your eyes' color?\")\n",
    "    if color == \"\":\n",
    "        sys.exit()\n",
    "</pre>\n",
    "</code>\n",
    "</div>\n",
    "\n",
    "<div class=\"jupman-togglable\" \n",
    "     data-jupman-show=\"Customized show msg\" \n",
    "     data-jupman-hide=\"Customized hide msg\">\n",
    "\n",
    "<code>\n",
    "<pre>\n",
    "    # SOME OTHER CODE\n",
    "    how_old = raw_input(\"How old are you?\")\n",
    "    x = random.randint(1,8)\n",
    "    if question == \"\":\n",
    "        sys.exit()\n",
    "        \n",
    "</pre>\n",
    "</code>\n",
    "</div>"
   ]
  },
  {
   "cell_type": "markdown",
   "metadata": {},
   "source": [
    "### HTML details in Markdown, code tag \n",
    "\n",
    "* Works while in Jupyter\n",
    "* Doesn't work in HTML output\n",
    "* as of Sept Oct 2017, not yet supported in Microsoft browsers\n",
    "\n",
    "<details>\n",
    "\n",
    "<summary>Click here to see the code</summary>\n",
    "\n",
    "<code>\n",
    "\n",
    "    question = raw_input(\"What?\")\n",
    "    answers = random.randint(1,8)\n",
    "    if question == \"\":\n",
    "        sys.exit()\n",
    "</code>\n",
    "\n",
    "</details>\n"
   ]
  },
  {
   "cell_type": "markdown",
   "metadata": {},
   "source": [
    "### HTML details in Markdown, Markdown mixed code\n",
    "\n",
    "* Works while in Jupyter \n",
    "* Doesn't work in HTML output\n",
    "* as of Sept Oct 2017, not yet supported in Microsoft browsers\n",
    "\n",
    "\n",
    "<details>\n",
    "\n",
    "<summary>Click here to see the code</summary>\n",
    "\n",
    "```python\n",
    "    question = raw_input(\"What?\")\n",
    "    answers = random.randint(1,8)\n",
    "    if question == \"\":\n",
    "        sys.exit()\n",
    "```\n",
    "\n",
    "</details>\n"
   ]
  },
  {
   "cell_type": "markdown",
   "metadata": {},
   "source": [
    "### HTML details in HTML, raw NBConvert Format \n",
    "\n",
    "* Doesn't work in Jupyter\n",
    "* Works in HTML output\n",
    "    * NOTE: as of Sept Oct 2017, not yet supported in Microsoft browsers\n",
    "* Doesn't show at all in PDF output\n"
   ]
  },
  {
   "cell_type": "raw",
   "metadata": {
    "raw_mimetype": "text/html"
   },
   "source": [
    "<details>\n",
    "<summary>Click here to see the code</summary>\n",
    "<code>\n",
    "<pre>\n",
    "    question = raw_input(\"What?\")\n",
    "    answers = random.randint(1,8)\n",
    "    if question == \"\":\n",
    "        sys.exit()\n",
    "</pre>\n",
    "</code>\n",
    "</details>"
   ]
  },
  {
   "cell_type": "markdown",
   "metadata": {},
   "source": [
    "Some other Markdown cell afterwards ...."
   ]
  },
  {
   "cell_type": "markdown",
   "metadata": {},
   "source": [
    "## Stripping answers\n",
    "\n",
    "For stripping answers examples, see [jupyter-example/jupyter-example-sol](../jupyter-example/jupyter-example-sol.ipynb). For explanation, see [editing](editing.ipynb#Solution-tags)"
   ]
  },
  {
   "cell_type": "markdown",
   "metadata": {},
   "source": [
    "## Files in templates\n",
    "\n",
    "Since Dec 2019 they are not accessible [see issue 10](https://github.com/DavidLeoni/jupman/issues/10), but it is not a great problem, you can always put a link to Github, see for example [exam-yyyy-mm-dd.ipynb](https://github.com/DavidLeoni/jupman/tree/master/_templates/exam/exam-yyyy-mm-dd.ipynb)"
   ]
  },
  {
   "cell_type": "markdown",
   "metadata": {},
   "source": [
    "## Inline text style\n",
    "\n",
    "For colors on the fly you can use inline style in markdown. Works on:\n",
    "\n",
    "- website: yes\n",
    "- Jupyter: no\n",
    "- pdf: no\n",
    "\n",
    "```html\n",
    "<style>\n",
    "    .be-fancy {\n",
    "        color: red;\n",
    "    }\n",
    "</style>    \n",
    "\n",
    "<div class=\"be-fancy\">\n",
    "     This should display in red\n",
    "</div> \n",
    "```"
   ]
  },
  {
   "cell_type": "markdown",
   "metadata": {},
   "source": [
    "<style>\n",
    "    .be-fancy {\n",
    "        color: red;\n",
    "    }\n",
    "</style>    \n",
    "\n",
    "<div class=\"be-fancy\">\n",
    "     This should display in red\n",
    "</div> "
   ]
  },
  {
   "cell_type": "markdown",
   "metadata": {},
   "source": [
    "## Formatting problems"
   ]
  },
  {
   "cell_type": "markdown",
   "metadata": {},
   "source": [
    "### Characters per line\n",
    "\n",
    "\n",
    "Python standard for code has limit to 79, many styles have 80 (see [Wikipedia](https://en.wikipedia.org/wiki/Characters_per_line)). We can keep 80 like this, which should **not** display a scrollbar:"
   ]
  },
  {
   "cell_type": "markdown",
   "metadata": {},
   "source": [
    "Plain:\n",
    "\n",
    "```\n",
    "--------------------------------------------------------------------------------\n",
    "```"
   ]
  },
  {
   "cell_type": "markdown",
   "metadata": {},
   "source": [
    "As `python` markup:\n",
    "\n",
    "```python\n",
    "--------------------------------------------------------------------------------\n",
    "```"
   ]
  },
  {
   "cell_type": "markdown",
   "metadata": {},
   "source": [
    "This should **not** display a scrollbar:"
   ]
  },
  {
   "cell_type": "code",
   "execution_count": 3,
   "metadata": {},
   "outputs": [
    {
     "data": {
      "text/plain": [
       "'------------------------------------------------------------------------------'"
      ]
     },
     "execution_count": 3,
     "metadata": {},
     "output_type": "execute_result"
    }
   ],
   "source": [
    "'-'*78"
   ]
  },
  {
   "cell_type": "markdown",
   "metadata": {},
   "source": [
    "This should **not** display a scrollbar:"
   ]
  },
  {
   "cell_type": "code",
   "execution_count": 4,
   "metadata": {
    "scrolled": true
   },
   "outputs": [
    {
     "name": "stdout",
     "output_type": "stream",
     "text": [
      "--------------------------------------------------------------------------------\n"
     ]
    }
   ],
   "source": [
    "print('-'*80)"
   ]
  },
  {
   "cell_type": "markdown",
   "metadata": {},
   "source": [
    "On website this **may** display a scroll bar, because it will actually print `'` apexes plus the dashes"
   ]
  },
  {
   "cell_type": "code",
   "execution_count": 5,
   "metadata": {},
   "outputs": [
    {
     "data": {
      "text/plain": [
       "'--------------------------------------------------------------------------------'"
      ]
     },
     "execution_count": 5,
     "metadata": {},
     "output_type": "execute_result"
    }
   ],
   "source": [
    "'-'*80"
   ]
  },
  {
   "cell_type": "markdown",
   "metadata": {},
   "source": [
    "Note errors hold 75 dashes:"
   ]
  },
  {
   "cell_type": "markdown",
   "metadata": {},
   "source": [
    "Plain:\n",
    "\n",
    "```\n",
    "---------------------------------------------------------------------------\n",
    "ZeroDivisionError                         Traceback (most recent call last)\n",
    "<ipython-input-15-9e1622b385b6> in <module>()\n",
    "----> 1 1/0\n",
    "\n",
    "ZeroDivisionError: division by zero\n",
    "\n",
    "```"
   ]
  },
  {
   "cell_type": "markdown",
   "metadata": {},
   "source": [
    "As `python` markup:\n",
    "\n",
    "```python\n",
    "---------------------------------------------------------------------------\n",
    "ZeroDivisionError                         Traceback (most recent call last)\n",
    "<ipython-input-15-9e1622b385b6> in <module>()\n",
    "----> 1 1/0\n",
    "\n",
    "ZeroDivisionError: division by zero\n",
    "```"
   ]
  },
  {
   "cell_type": "code",
   "execution_count": 6,
   "metadata": {
    "scrolled": true
   },
   "outputs": [
    {
     "data": {
      "text/plain": [
       "75"
      ]
     },
     "execution_count": 6,
     "metadata": {},
     "output_type": "execute_result"
    }
   ],
   "source": [
    "len('---------------------------------------------------------------------------')"
   ]
  },
  {
   "cell_type": "markdown",
   "metadata": {},
   "source": [
    "### Very long input\n",
    "\n",
    "In Jupyter: default behaviour, show scrollbar\n",
    "\n",
    "On the website: default behaviour, don't show scrollbar\n",
    "\n",
    "Test for [issue 122](https://github.com/DavidLeoni/jupman/issues/122) softpython theme eye candy scrollbars"
   ]
  },
  {
   "cell_type": "code",
   "execution_count": 7,
   "metadata": {},
   "outputs": [
    {
     "data": {
      "text/plain": [
       "80"
      ]
     },
     "execution_count": 7,
     "metadata": {},
     "output_type": "execute_result"
    }
   ],
   "source": [
    "1\n",
    "2\n",
    "3\n",
    "4\n",
    "5\n",
    "6\n",
    "7\n",
    "8\n",
    "9\n",
    "10\n",
    "11\n",
    "12\n",
    "13\n",
    "14\n",
    "15\n",
    "16\n",
    "17\n",
    "18\n",
    "19\n",
    "20\n",
    "21\n",
    "22\n",
    "23\n",
    "24\n",
    "25\n",
    "26\n",
    "27\n",
    "28\n",
    "29\n",
    "30\n",
    "31\n",
    "32\n",
    "33\n",
    "34\n",
    "35\n",
    "36\n",
    "37\n",
    "38\n",
    "39\n",
    "40\n",
    "51\n",
    "52\n",
    "53\n",
    "54\n",
    "55\n",
    "56\n",
    "57\n",
    "58\n",
    "59\n",
    "60\n",
    "61\n",
    "62\n",
    "63\n",
    "64\n",
    "65\n",
    "66\n",
    "67\n",
    "68\n",
    "69\n",
    "70\n",
    "71\n",
    "72\n",
    "73\n",
    "74\n",
    "75\n",
    "76\n",
    "77\n",
    "78\n",
    "79\n",
    "80"
   ]
  },
  {
   "cell_type": "markdown",
   "metadata": {},
   "source": [
    "### Very large input\n",
    "\n",
    "In Jupyter: default behaviour, show scrollbar\n",
    "\n",
    "On the website: default behaviour, show scrollbar"
   ]
  },
  {
   "cell_type": "code",
   "execution_count": 8,
   "metadata": {},
   "outputs": [],
   "source": [
    "# line with an exceedingly long comment line with an exceedingly long comment line with an exceedingly long comment line with an exceedingly long comment line with an exceedingly long comment line with an exceedingly long comment\n",
    "\n",
    "# line with an an out-of-this-world long comment line with an an out-of-this-world long comment line with an an out-of-this-world long comment line with an an out-of-this-world long comment line with an an out-of-this-world long comment line with an an out-of-this-world long comment line with an an out-of-this-world long comment line with an an out-of-this-world long comment line with an an out-of-this-world long comment line with an an out-of-this-world long comment line with an an out-of-this-world long comment line with an an out-of-this-world long comment line with an an out-of-this-world long comment line with an an out-of-this-world long comment line with an an out-of-this-world long comment line with an an out-of-this-world long comment line with an an out-of-this-world long comment line with an an out-of-this-world long comment line with an an out-of-this-world long comment line with an an out-of-this-world long comment line with an an out-of-this-world long comment line with an an out-of-this-world long comment line with an an out-of-this-world long comment line with an an out-of-this-world long comment line with an an out-of-this-world long comment line with an an out-of-this-world long comment line with an an out-of-this-world long comment line with an an out-of-this-world long comment line with an an out-of-this-world long comment line with an an out-of-this-world long comment line with an an out-of-this-world long comment line with an an out-of-this-world long comment line with an an out-of-this-world long comment line with an an out-of-this-world long comment line with an an out-of-this-world long comment line with an an out-of-this-world long comment line with an an out-of-this-world long comment line with an an out-of-this-world long comment line with an an out-of-this-world long comment line with an an out-of-this-world long comment line with an an out-of-this-world long comment line with an an out-of-this-world long comment line with an an out-of-this-world long comment line with an an out-of-this-world long comment line with an an out-of-this-world long comment line with an an out-of-this-world long comment line with an an out-of-this-world long comment line with an an out-of-this-world long comment line with an an out-of-this-world long comment line with an an out-of-this-world long comment line with an an out-of-this-world long comment line with an an out-of-this-world long comment line with an an out-of-this-world long comment line with an an out-of-this-world long comment line with an an out-of-this-world long comment line with an an out-of-this-world long comment line with an an out-of-this-world long comment line with an an out-of-this-world long comment line with an an out-of-this-world long comment line with an an out-of-this-world long comment line with an an out-of-this-world long comment line with an an out-of-this-world long comment line with an an out-of-this-world long comment line with an an out-of-this-world long comment line with an an out-of-this-world long comment line with an an out-of-this-world long comment line with an an out-of-this-world long comment line with an an out-of-this-world long comment line with an an out-of-this-world long comment line with an an out-of-this-world long comment line with an an out-of-this-world long comment line with an an out-of-this-world long comment line with an an out-of-this-world long comment line with an an out-of-this-world long comment line with an an out-of-this-world long comment line with an an out-of-this-world long comment line with an an out-of-this-world long comment line with an an out-of-this-world long comment line with an an out-of-this-world long comment line with an an out-of-this-world long comment line with an an out-of-this-world long comment line with an an out-of-this-world long comment line with an an out-of-this-world long comment line with an an out-of-this-world long comment line with an an out-of-this-world long comment line with an an out-of-this-world long comment line with an an out-of-this-world long comment line with an an out-of-this-world long comment line with an an out-of-this-world long comment line with an an out-of-this-world long comment line with an an out-of-this-world long comment line with an an out-of-this-world long comment line with an an out-of-this-world long comment line with an an out-of-this-world long comment line with an an out-of-this-world long comment line with an an out-of-this-world long comment line with an an out-of-this-world long comment line with an an out-of-this-world long comment line with an an out-of-this-world long comment line with an an out-of-this-world long comment line with an an out-of-this-world long comment line with an an out-of-this-world long comment line with an an out-of-this-world long comment line with an an out-of-this-world long comment line with an an out-of-this-world long comment line with an an out-of-this-world long comment line with an an out-of-this-world long comment line with an an out-of-this-world long comment\n",
    "\n"
   ]
  },
  {
   "cell_type": "markdown",
   "metadata": {},
   "source": [
    "### Very long and large input\n",
    "\n",
    "In Jupyter: default behaviour, show horizontal scrollbar\n",
    "\n",
    "On the website: default behaviour, show horizontal scrollbar\n",
    "\n",
    "Test for [issue 122](https://github.com/DavidLeoni/jupman/issues/122) softpython theme eye candy scrollbars"
   ]
  },
  {
   "cell_type": "code",
   "execution_count": 9,
   "metadata": {},
   "outputs": [],
   "source": [
    "#\n",
    "#xxxxxxx\n",
    "#xxxxxxxxxxxxxx\n",
    "#xxxxxxxxxxxxxxxxxxxxx\n",
    "#xxxxxxxxxxxxxxxxxxxxxxxxxxxx\n",
    "#xxxxxxxxxxxxxxxxxxxxxxxxxxxxxxxxxxx\n",
    "#xxxxxxxxxxxxxxxxxxxxxxxxxxxxxxxxxxxxxxxxxx\n",
    "#xxxxxxxxxxxxxxxxxxxxxxxxxxxxxxxxxxxxxxxxxxxxxxxxx\n",
    "#xxxxxxxxxxxxxxxxxxxxxxxxxxxxxxxxxxxxxxxxxxxxxxxxxxxxxxxx\n",
    "#xxxxxxxxxxxxxxxxxxxxxxxxxxxxxxxxxxxxxxxxxxxxxxxxxxxxxxxxxxxxxxx\n",
    "#xxxxxxxxxxxxxxxxxxxxxxxxxxxxxxxxxxxxxxxxxxxxxxxxxxxxxxxxxxxxxxxxxxxxxx\n",
    "#xxxxxxxxxxxxxxxxxxxxxxxxxxxxxxxxxxxxxxxxxxxxxxxxxxxxxxxxxxxxxxxxxxxxxxxxxxxxx\n",
    "#xxxxxxxxxxxxxxxxxxxxxxxxxxxxxxxxxxxxxxxxxxxxxxxxxxxxxxxxxxxxxxxxxxxxxxxxxxxxxxxxxxxx\n",
    "#xxxxxxxxxxxxxxxxxxxxxxxxxxxxxxxxxxxxxxxxxxxxxxxxxxxxxxxxxxxxxxxxxxxxxxxxxxxxxxxxxxxxxxxxxxx\n",
    "#xxxxxxxxxxxxxxxxxxxxxxxxxxxxxxxxxxxxxxxxxxxxxxxxxxxxxxxxxxxxxxxxxxxxxxxxxxxxxxxxxxxxxxxxxxxxxxxxxx\n",
    "#xxxxxxxxxxxxxxxxxxxxxxxxxxxxxxxxxxxxxxxxxxxxxxxxxxxxxxxxxxxxxxxxxxxxxxxxxxxxxxxxxxxxxxxxxxxxxxxxxxxxxxxxx\n",
    "#xxxxxxxxxxxxxxxxxxxxxxxxxxxxxxxxxxxxxxxxxxxxxxxxxxxxxxxxxxxxxxxxxxxxxxxxxxxxxxxxxxxxxxxxxxxxxxxxxxxxxxxxxxxxxxxx\n",
    "#xxxxxxxxxxxxxxxxxxxxxxxxxxxxxxxxxxxxxxxxxxxxxxxxxxxxxxxxxxxxxxxxxxxxxxxxxxxxxxxxxxxxxxxxxxxxxxxxxxxxxxxxxxxxxxxxxxxxxxx\n",
    "#xxxxxxxxxxxxxxxxxxxxxxxxxxxxxxxxxxxxxxxxxxxxxxxxxxxxxxxxxxxxxxxxxxxxxxxxxxxxxxxxxxxxxxxxxxxxxxxxxxxxxxxxxxxxxxxxxxxxxxxxxxxxxx\n",
    "#xxxxxxxxxxxxxxxxxxxxxxxxxxxxxxxxxxxxxxxxxxxxxxxxxxxxxxxxxxxxxxxxxxxxxxxxxxxxxxxxxxxxxxxxxxxxxxxxxxxxxxxxxxxxxxxxxxxxxxxxxxxxxxxxxxxxx\n",
    "#xxxxxxxxxxxxxxxxxxxxxxxxxxxxxxxxxxxxxxxxxxxxxxxxxxxxxxxxxxxxxxxxxxxxxxxxxxxxxxxxxxxxxxxxxxxxxxxxxxxxxxxxxxxxxxxxxxxxxxxxxxxxxxxxxxxxxxxxxxxx\n",
    "#xxxxxxxxxxxxxxxxxxxxxxxxxxxxxxxxxxxxxxxxxxxxxxxxxxxxxxxxxxxxxxxxxxxxxxxxxxxxxxxxxxxxxxxxxxxxxxxxxxxxxxxxxxxxxxxxxxxxxxxxxxxxxxxxxxxxxxxxxxxxxxxxxxx\n",
    "#xxxxxxxxxxxxxxxxxxxxxxxxxxxxxxxxxxxxxxxxxxxxxxxxxxxxxxxxxxxxxxxxxxxxxxxxxxxxxxxxxxxxxxxxxxxxxxxxxxxxxxxxxxxxxxxxxxxxxxxxxxxxxxxxxxxxxxxxxxxxxxxxxxxxxxxxxx\n",
    "#xxxxxxxxxxxxxxxxxxxxxxxxxxxxxxxxxxxxxxxxxxxxxxxxxxxxxxxxxxxxxxxxxxxxxxxxxxxxxxxxxxxxxxxxxxxxxxxxxxxxxxxxxxxxxxxxxxxxxxxxxxxxxxxxxxxxxxxxxxxxxxxxxxxxxxxxxxxxxxxxx\n",
    "#xxxxxxxxxxxxxxxxxxxxxxxxxxxxxxxxxxxxxxxxxxxxxxxxxxxxxxxxxxxxxxxxxxxxxxxxxxxxxxxxxxxxxxxxxxxxxxxxxxxxxxxxxxxxxxxxxxxxxxxxxxxxxxxxxxxxxxxxxxxxxxxxxxxxxxxxxxxxxxxxxxxxxxxx\n",
    "#xxxxxxxxxxxxxxxxxxxxxxxxxxxxxxxxxxxxxxxxxxxxxxxxxxxxxxxxxxxxxxxxxxxxxxxxxxxxxxxxxxxxxxxxxxxxxxxxxxxxxxxxxxxxxxxxxxxxxxxxxxxxxxxxxxxxxxxxxxxxxxxxxxxxxxxxxxxxxxxxxxxxxxxxxxxxxxx\n",
    "#xxxxxxxxxxxxxxxxxxxxxxxxxxxxxxxxxxxxxxxxxxxxxxxxxxxxxxxxxxxxxxxxxxxxxxxxxxxxxxxxxxxxxxxxxxxxxxxxxxxxxxxxxxxxxxxxxxxxxxxxxxxxxxxxxxxxxxxxxxxxxxxxxxxxxxxxxxxxxxxxxxxxxxxxxxxxxxxxxxxxxx\n",
    "#xxxxxxxxxxxxxxxxxxxxxxxxxxxxxxxxxxxxxxxxxxxxxxxxxxxxxxxxxxxxxxxxxxxxxxxxxxxxxxxxxxxxxxxxxxxxxxxxxxxxxxxxxxxxxxxxxxxxxxxxxxxxxxxxxxxxxxxxxxxxxxxxxxxxxxxxxxxxxxxxxxxxxxxxxxxxxxxxxxxxxxxxxxxxx\n",
    "#xxxxxxxxxxxxxxxxxxxxxxxxxxxxxxxxxxxxxxxxxxxxxxxxxxxxxxxxxxxxxxxxxxxxxxxxxxxxxxxxxxxxxxxxxxxxxxxxxxxxxxxxxxxxxxxxxxxxxxxxxxxxxxxxxxxxxxxxxxxxxxxxxxxxxxxxxxxxxxxxxxxxxxxxxxxxxxxxxxxxxxxxxxxxxxxxxxxx\n",
    "#xxxxxxxxxxxxxxxxxxxxxxxxxxxxxxxxxxxxxxxxxxxxxxxxxxxxxxxxxxxxxxxxxxxxxxxxxxxxxxxxxxxxxxxxxxxxxxxxxxxxxxxxxxxxxxxxxxxxxxxxxxxxxxxxxxxxxxxxxxxxxxxxxxxxxxxxxxxxxxxxxxxxxxxxxxxxxxxxxxxxxxxxxxxxxxxxxxxxxxxxxxx\n",
    "#xxxxxxxxxxxxxxxxxxxxxxxxxxxxxxxxxxxxxxxxxxxxxxxxxxxxxxxxxxxxxxxxxxxxxxxxxxxxxxxxxxxxxxxxxxxxxxxxxxxxxxxxxxxxxxxxxxxxxxxxxxxxxxxxxxxxxxxxxxxxxxxxxxxxxxxxxxxxxxxxxxxxxxxxxxxxxxxxxxxxxxxxxxxxxxxxxxxxxxxxxxxxxxxxxx\n",
    "#xxxxxxxxxxxxxxxxxxxxxxxxxxxxxxxxxxxxxxxxxxxxxxxxxxxxxxxxxxxxxxxxxxxxxxxxxxxxxxxxxxxxxxxxxxxxxxxxxxxxxxxxxxxxxxxxxxxxxxxxxxxxxxxxxxxxxxxxxxxxxxxxxxxxxxxxxxxxxxxxxxxxxxxxxxxxxxxxxxxxxxxxxxxxxxxxxxxxxxxxxxxxxxxxxxxxxxxxx\n",
    "#xxxxxxxxxxxxxxxxxxxxxxxxxxxxxxxxxxxxxxxxxxxxxxxxxxxxxxxxxxxxxxxxxxxxxxxxxxxxxxxxxxxxxxxxxxxxxxxxxxxxxxxxxxxxxxxxxxxxxxxxxxxxxxxxxxxxxxxxxxxxxxxxxxxxxxxxxxxxxxxxxxxxxxxxxxxxxxxxxxxxxxxxxxxxxxxxxxxxxxxxxxxxxxxxxxxxxxxxxxxxxxxx\n",
    "#xxxxxxxxxxxxxxxxxxxxxxxxxxxxxxxxxxxxxxxxxxxxxxxxxxxxxxxxxxxxxxxxxxxxxxxxxxxxxxxxxxxxxxxxxxxxxxxxxxxxxxxxxxxxxxxxxxxxxxxxxxxxxxxxxxxxxxxxxxxxxxxxxxxxxxxxxxxxxxxxxxxxxxxxxxxxxxxxxxxxxxxxxxxxxxxxxxxxxxxxxxxxxxxxxxxxxxxxxxxxxxxxxxxxxxx\n",
    "#xxxxxxxxxxxxxxxxxxxxxxxxxxxxxxxxxxxxxxxxxxxxxxxxxxxxxxxxxxxxxxxxxxxxxxxxxxxxxxxxxxxxxxxxxxxxxxxxxxxxxxxxxxxxxxxxxxxxxxxxxxxxxxxxxxxxxxxxxxxxxxxxxxxxxxxxxxxxxxxxxxxxxxxxxxxxxxxxxxxxxxxxxxxxxxxxxxxxxxxxxxxxxxxxxxxxxxxxxxxxxxxxxxxxxxxxxxxxxx\n",
    "#xxxxxxxxxxxxxxxxxxxxxxxxxxxxxxxxxxxxxxxxxxxxxxxxxxxxxxxxxxxxxxxxxxxxxxxxxxxxxxxxxxxxxxxxxxxxxxxxxxxxxxxxxxxxxxxxxxxxxxxxxxxxxxxxxxxxxxxxxxxxxxxxxxxxxxxxxxxxxxxxxxxxxxxxxxxxxxxxxxxxxxxxxxxxxxxxxxxxxxxxxxxxxxxxxxxxxxxxxxxxxxxxxxxxxxxxxxxxxxxxxxxxx\n",
    "#xxxxxxxxxxxxxxxxxxxxxxxxxxxxxxxxxxxxxxxxxxxxxxxxxxxxxxxxxxxxxxxxxxxxxxxxxxxxxxxxxxxxxxxxxxxxxxxxxxxxxxxxxxxxxxxxxxxxxxxxxxxxxxxxxxxxxxxxxxxxxxxxxxxxxxxxxxxxxxxxxxxxxxxxxxxxxxxxxxxxxxxxxxxxxxxxxxxxxxxxxxxxxxxxxxxxxxxxxxxxxxxxxxxxxxxxxxxxxxxxxxxxxxxxxxxx\n",
    "#xxxxxxxxxxxxxxxxxxxxxxxxxxxxxxxxxxxxxxxxxxxxxxxxxxxxxxxxxxxxxxxxxxxxxxxxxxxxxxxxxxxxxxxxxxxxxxxxxxxxxxxxxxxxxxxxxxxxxxxxxxxxxxxxxxxxxxxxxxxxxxxxxxxxxxxxxxxxxxxxxxxxxxxxxxxxxxxxxxxxxxxxxxxxxxxxxxxxxxxxxxxxxxxxxxxxxxxxxxxxxxxxxxxxxxxxxxxxxxxxxxxxxxxxxxxxxxxxxxx\n",
    "#xxxxxxxxxxxxxxxxxxxxxxxxxxxxxxxxxxxxxxxxxxxxxxxxxxxxxxxxxxxxxxxxxxxxxxxxxxxxxxxxxxxxxxxxxxxxxxxxxxxxxxxxxxxxxxxxxxxxxxxxxxxxxxxxxxxxxxxxxxxxxxxxxxxxxxxxxxxxxxxxxxxxxxxxxxxxxxxxxxxxxxxxxxxxxxxxxxxxxxxxxxxxxxxxxxxxxxxxxxxxxxxxxxxxxxxxxxxxxxxxxxxxxxxxxxxxxxxxxxxxxxxxxx\n",
    "#xxxxxxxxxxxxxxxxxxxxxxxxxxxxxxxxxxxxxxxxxxxxxxxxxxxxxxxxxxxxxxxxxxxxxxxxxxxxxxxxxxxxxxxxxxxxxxxxxxxxxxxxxxxxxxxxxxxxxxxxxxxxxxxxxxxxxxxxxxxxxxxxxxxxxxxxxxxxxxxxxxxxxxxxxxxxxxxxxxxxxxxxxxxxxxxxxxxxxxxxxxxxxxxxxxxxxxxxxxxxxxxxxxxxxxxxxxxxxxxxxxxxxxxxxxxxxxxxxxxxxxxxxxxxxxxxx"
   ]
  },
  {
   "cell_type": "markdown",
   "metadata": {},
   "source": [
    "**Very long HTML** (and long code line)\n",
    "\n",
    "Should expand in vertical as much as it wants."
   ]
  },
  {
   "cell_type": "code",
   "execution_count": 10,
   "metadata": {
    "scrolled": false
   },
   "outputs": [
    {
     "data": {
      "text/html": [
       "\n",
       "<iframe width=\"100%\" height=\"1300px\" frameBorder=\"0\" src=\"https://umap.openstreetmap.fr/en/map/mia-mappa-agritur_182055?scaleControl=false&miniMap=false&scrollWheelZoom=false&zoomControl=true&allowEdit=false&moreControl=true&searchControl=null&tilelayersControl=null&embedControl=null&datalayersControl=true&onLoadPanel=undefined&captionBar=false#11/46.0966/11.4024\"></iframe><p><a href=\"http://umap.openstreetmap.fr/en/map/mia-mappa-agritur_182055\">See full screen</a></p>\n",
       "\n"
      ],
      "text/plain": [
       "<IPython.core.display.HTML object>"
      ]
     },
     "metadata": {},
     "output_type": "display_data"
    }
   ],
   "source": [
    "%%HTML\n",
    "\n",
    "<iframe width=\"100%\" height=\"1300px\" frameBorder=\"0\" src=\"https://umap.openstreetmap.fr/en/map/mia-mappa-agritur_182055?scaleControl=false&miniMap=false&scrollWheelZoom=false&zoomControl=true&allowEdit=false&moreControl=true&searchControl=null&tilelayersControl=null&embedControl=null&datalayersControl=true&onLoadPanel=undefined&captionBar=false#11/46.0966/11.4024\"></iframe><p><a href=\"http://umap.openstreetmap.fr/en/map/mia-mappa-agritur_182055\">See full screen</a></p>\n",
    "\n"
   ]
  },
  {
   "cell_type": "markdown",
   "metadata": {},
   "source": [
    "### Very long output\n",
    "\n",
    "In Jupyter: by clicking, you can collapse\n",
    "\n",
    "On the website: a scrollbar should appear"
   ]
  },
  {
   "cell_type": "code",
   "execution_count": 11,
   "metadata": {
    "scrolled": true
   },
   "outputs": [
    {
     "name": "stdout",
     "output_type": "stream",
     "text": [
      "long output ... 0\n",
      "long output ... 1\n",
      "long output ... 2\n",
      "long output ... 3\n",
      "long output ... 4\n",
      "long output ... 5\n",
      "long output ... 6\n",
      "long output ... 7\n",
      "long output ... 8\n",
      "long output ... 9\n",
      "long output ... 10\n",
      "long output ... 11\n",
      "long output ... 12\n",
      "long output ... 13\n",
      "long output ... 14\n",
      "long output ... 15\n",
      "long output ... 16\n",
      "long output ... 17\n",
      "long output ... 18\n",
      "long output ... 19\n",
      "long output ... 20\n",
      "long output ... 21\n",
      "long output ... 22\n",
      "long output ... 23\n",
      "long output ... 24\n",
      "long output ... 25\n",
      "long output ... 26\n",
      "long output ... 27\n",
      "long output ... 28\n",
      "long output ... 29\n",
      "long output ... 30\n",
      "long output ... 31\n",
      "long output ... 32\n",
      "long output ... 33\n",
      "long output ... 34\n",
      "long output ... 35\n",
      "long output ... 36\n",
      "long output ... 37\n",
      "long output ... 38\n",
      "long output ... 39\n",
      "long output ... 40\n",
      "long output ... 41\n",
      "long output ... 42\n",
      "long output ... 43\n",
      "long output ... 44\n",
      "long output ... 45\n",
      "long output ... 46\n",
      "long output ... 47\n",
      "long output ... 48\n",
      "long output ... 49\n",
      "long output ... 50\n",
      "long output ... 51\n",
      "long output ... 52\n",
      "long output ... 53\n",
      "long output ... 54\n",
      "long output ... 55\n",
      "long output ... 56\n",
      "long output ... 57\n",
      "long output ... 58\n",
      "long output ... 59\n",
      "long output ... 60\n",
      "long output ... 61\n",
      "long output ... 62\n",
      "long output ... 63\n",
      "long output ... 64\n",
      "long output ... 65\n",
      "long output ... 66\n",
      "long output ... 67\n",
      "long output ... 68\n",
      "long output ... 69\n",
      "long output ... 70\n",
      "long output ... 71\n",
      "long output ... 72\n",
      "long output ... 73\n",
      "long output ... 74\n",
      "long output ... 75\n",
      "long output ... 76\n",
      "long output ... 77\n",
      "long output ... 78\n",
      "long output ... 79\n",
      "long output ... 80\n",
      "long output ... 81\n",
      "long output ... 82\n",
      "long output ... 83\n",
      "long output ... 84\n",
      "long output ... 85\n",
      "long output ... 86\n",
      "long output ... 87\n",
      "long output ... 88\n",
      "long output ... 89\n",
      "long output ... 90\n",
      "long output ... 91\n",
      "long output ... 92\n",
      "long output ... 93\n",
      "long output ... 94\n",
      "long output ... 95\n",
      "long output ... 96\n",
      "long output ... 97\n",
      "long output ... 98\n",
      "long output ... 99\n",
      "long output ... 100\n",
      "long output ... 101\n",
      "long output ... 102\n",
      "long output ... 103\n",
      "long output ... 104\n",
      "long output ... 105\n",
      "long output ... 106\n",
      "long output ... 107\n",
      "long output ... 108\n",
      "long output ... 109\n",
      "long output ... 110\n",
      "long output ... 111\n",
      "long output ... 112\n",
      "long output ... 113\n",
      "long output ... 114\n",
      "long output ... 115\n",
      "long output ... 116\n",
      "long output ... 117\n",
      "long output ... 118\n",
      "long output ... 119\n",
      "long output ... 120\n",
      "long output ... 121\n",
      "long output ... 122\n",
      "long output ... 123\n",
      "long output ... 124\n",
      "long output ... 125\n",
      "long output ... 126\n",
      "long output ... 127\n",
      "long output ... 128\n",
      "long output ... 129\n",
      "long output ... 130\n",
      "long output ... 131\n",
      "long output ... 132\n",
      "long output ... 133\n",
      "long output ... 134\n",
      "long output ... 135\n",
      "long output ... 136\n",
      "long output ... 137\n",
      "long output ... 138\n",
      "long output ... 139\n",
      "long output ... 140\n",
      "long output ... 141\n",
      "long output ... 142\n",
      "long output ... 143\n",
      "long output ... 144\n",
      "long output ... 145\n",
      "long output ... 146\n",
      "long output ... 147\n",
      "long output ... 148\n",
      "long output ... 149\n"
     ]
    }
   ],
   "source": [
    "for x in range(150):\n",
    "    print('long output ...', x)"
   ]
  },
  {
   "cell_type": "markdown",
   "metadata": {},
   "source": [
    "### Very large output\n",
    "\n",
    "In Jupyter: automatically returns carriage\n",
    "\n",
    "On the website: horiz scrollbar should appear"
   ]
  },
  {
   "cell_type": "code",
   "execution_count": 12,
   "metadata": {},
   "outputs": [
    {
     "name": "stdout",
     "output_type": "stream",
     "text": [
      "0,1,2,3,4,5,6,7,8,9,10,11,12,13,14,15,16,17,18,19,20,21,22,23,24,25,26,27,28,29,30,31,32,33,34,35,36,37,38,39,40,41,42,43,44,45,46,47,48,49,50,51,52,53,54,55,56,57,58,59,60,61,62,63,64,65,66,67,68,69,70,71,72,73,74,75,76,77,78,79,80,81,82,83,84,85,86,87,88,89,90,91,92,93,94,95,96,97,98,99,100,101,102,103,104,105,106,107,108,109,110,111,112,113,114,115,116,117,118,119,120,121,122,123,124,125,126,127,128,129,130,131,132,133,134,135,136,137,138,139,140,141,142,143,144,145,146,147,148,149\n"
     ]
    }
   ],
   "source": [
    "print(','.join([str(x) for x in range(150)]))"
   ]
  },
  {
   "cell_type": "markdown",
   "metadata": {},
   "source": [
    "### Very long output and large output\n",
    "\n",
    "In Jupyter: by clicking, you can collapse\n",
    "\n",
    "On the website: both scrollbars should appear"
   ]
  },
  {
   "cell_type": "code",
   "execution_count": 13,
   "metadata": {
    "scrolled": false
   },
   "outputs": [
    {
     "name": "stdout",
     "output_type": "stream",
     "text": [
      "long and large output ... \n",
      "long and large output ... z\n",
      "long and large output ... zz\n",
      "long and large output ... zzz\n",
      "long and large output ... zzzz\n",
      "long and large output ... zzzzz\n",
      "long and large output ... zzzzzz\n",
      "long and large output ... zzzzzzz\n",
      "long and large output ... zzzzzzzz\n",
      "long and large output ... zzzzzzzzz\n",
      "long and large output ... zzzzzzzzzz\n",
      "long and large output ... zzzzzzzzzzz\n",
      "long and large output ... zzzzzzzzzzzz\n",
      "long and large output ... zzzzzzzzzzzzz\n",
      "long and large output ... zzzzzzzzzzzzzz\n",
      "long and large output ... zzzzzzzzzzzzzzz\n",
      "long and large output ... zzzzzzzzzzzzzzzz\n",
      "long and large output ... zzzzzzzzzzzzzzzzz\n",
      "long and large output ... zzzzzzzzzzzzzzzzzz\n",
      "long and large output ... zzzzzzzzzzzzzzzzzzz\n",
      "long and large output ... zzzzzzzzzzzzzzzzzzzz\n",
      "long and large output ... zzzzzzzzzzzzzzzzzzzzz\n",
      "long and large output ... zzzzzzzzzzzzzzzzzzzzzz\n",
      "long and large output ... zzzzzzzzzzzzzzzzzzzzzzz\n",
      "long and large output ... zzzzzzzzzzzzzzzzzzzzzzzz\n",
      "long and large output ... zzzzzzzzzzzzzzzzzzzzzzzzz\n",
      "long and large output ... zzzzzzzzzzzzzzzzzzzzzzzzzz\n",
      "long and large output ... zzzzzzzzzzzzzzzzzzzzzzzzzzz\n",
      "long and large output ... zzzzzzzzzzzzzzzzzzzzzzzzzzzz\n",
      "long and large output ... zzzzzzzzzzzzzzzzzzzzzzzzzzzzz\n",
      "long and large output ... zzzzzzzzzzzzzzzzzzzzzzzzzzzzzz\n",
      "long and large output ... zzzzzzzzzzzzzzzzzzzzzzzzzzzzzzz\n",
      "long and large output ... zzzzzzzzzzzzzzzzzzzzzzzzzzzzzzzz\n",
      "long and large output ... zzzzzzzzzzzzzzzzzzzzzzzzzzzzzzzzz\n",
      "long and large output ... zzzzzzzzzzzzzzzzzzzzzzzzzzzzzzzzzz\n",
      "long and large output ... zzzzzzzzzzzzzzzzzzzzzzzzzzzzzzzzzzz\n",
      "long and large output ... zzzzzzzzzzzzzzzzzzzzzzzzzzzzzzzzzzzz\n",
      "long and large output ... zzzzzzzzzzzzzzzzzzzzzzzzzzzzzzzzzzzzz\n",
      "long and large output ... zzzzzzzzzzzzzzzzzzzzzzzzzzzzzzzzzzzzzz\n",
      "long and large output ... zzzzzzzzzzzzzzzzzzzzzzzzzzzzzzzzzzzzzzz\n",
      "long and large output ... zzzzzzzzzzzzzzzzzzzzzzzzzzzzzzzzzzzzzzzz\n",
      "long and large output ... zzzzzzzzzzzzzzzzzzzzzzzzzzzzzzzzzzzzzzzzz\n",
      "long and large output ... zzzzzzzzzzzzzzzzzzzzzzzzzzzzzzzzzzzzzzzzzz\n",
      "long and large output ... zzzzzzzzzzzzzzzzzzzzzzzzzzzzzzzzzzzzzzzzzzz\n",
      "long and large output ... zzzzzzzzzzzzzzzzzzzzzzzzzzzzzzzzzzzzzzzzzzzz\n",
      "long and large output ... zzzzzzzzzzzzzzzzzzzzzzzzzzzzzzzzzzzzzzzzzzzzz\n",
      "long and large output ... zzzzzzzzzzzzzzzzzzzzzzzzzzzzzzzzzzzzzzzzzzzzzz\n",
      "long and large output ... zzzzzzzzzzzzzzzzzzzzzzzzzzzzzzzzzzzzzzzzzzzzzzz\n",
      "long and large output ... zzzzzzzzzzzzzzzzzzzzzzzzzzzzzzzzzzzzzzzzzzzzzzzz\n",
      "long and large output ... zzzzzzzzzzzzzzzzzzzzzzzzzzzzzzzzzzzzzzzzzzzzzzzzz\n",
      "long and large output ... zzzzzzzzzzzzzzzzzzzzzzzzzzzzzzzzzzzzzzzzzzzzzzzzzz\n",
      "long and large output ... zzzzzzzzzzzzzzzzzzzzzzzzzzzzzzzzzzzzzzzzzzzzzzzzzzz\n",
      "long and large output ... zzzzzzzzzzzzzzzzzzzzzzzzzzzzzzzzzzzzzzzzzzzzzzzzzzzz\n",
      "long and large output ... zzzzzzzzzzzzzzzzzzzzzzzzzzzzzzzzzzzzzzzzzzzzzzzzzzzzz\n",
      "long and large output ... zzzzzzzzzzzzzzzzzzzzzzzzzzzzzzzzzzzzzzzzzzzzzzzzzzzzzz\n",
      "long and large output ... zzzzzzzzzzzzzzzzzzzzzzzzzzzzzzzzzzzzzzzzzzzzzzzzzzzzzzz\n",
      "long and large output ... zzzzzzzzzzzzzzzzzzzzzzzzzzzzzzzzzzzzzzzzzzzzzzzzzzzzzzzz\n",
      "long and large output ... zzzzzzzzzzzzzzzzzzzzzzzzzzzzzzzzzzzzzzzzzzzzzzzzzzzzzzzzz\n",
      "long and large output ... zzzzzzzzzzzzzzzzzzzzzzzzzzzzzzzzzzzzzzzzzzzzzzzzzzzzzzzzzz\n",
      "long and large output ... zzzzzzzzzzzzzzzzzzzzzzzzzzzzzzzzzzzzzzzzzzzzzzzzzzzzzzzzzzz\n",
      "long and large output ... zzzzzzzzzzzzzzzzzzzzzzzzzzzzzzzzzzzzzzzzzzzzzzzzzzzzzzzzzzzz\n",
      "long and large output ... zzzzzzzzzzzzzzzzzzzzzzzzzzzzzzzzzzzzzzzzzzzzzzzzzzzzzzzzzzzzz\n",
      "long and large output ... zzzzzzzzzzzzzzzzzzzzzzzzzzzzzzzzzzzzzzzzzzzzzzzzzzzzzzzzzzzzzz\n",
      "long and large output ... zzzzzzzzzzzzzzzzzzzzzzzzzzzzzzzzzzzzzzzzzzzzzzzzzzzzzzzzzzzzzzz\n",
      "long and large output ... zzzzzzzzzzzzzzzzzzzzzzzzzzzzzzzzzzzzzzzzzzzzzzzzzzzzzzzzzzzzzzzz\n",
      "long and large output ... zzzzzzzzzzzzzzzzzzzzzzzzzzzzzzzzzzzzzzzzzzzzzzzzzzzzzzzzzzzzzzzzz\n",
      "long and large output ... zzzzzzzzzzzzzzzzzzzzzzzzzzzzzzzzzzzzzzzzzzzzzzzzzzzzzzzzzzzzzzzzzz\n",
      "long and large output ... zzzzzzzzzzzzzzzzzzzzzzzzzzzzzzzzzzzzzzzzzzzzzzzzzzzzzzzzzzzzzzzzzzz\n",
      "long and large output ... zzzzzzzzzzzzzzzzzzzzzzzzzzzzzzzzzzzzzzzzzzzzzzzzzzzzzzzzzzzzzzzzzzzz\n",
      "long and large output ... zzzzzzzzzzzzzzzzzzzzzzzzzzzzzzzzzzzzzzzzzzzzzzzzzzzzzzzzzzzzzzzzzzzzz\n",
      "long and large output ... zzzzzzzzzzzzzzzzzzzzzzzzzzzzzzzzzzzzzzzzzzzzzzzzzzzzzzzzzzzzzzzzzzzzzz\n",
      "long and large output ... zzzzzzzzzzzzzzzzzzzzzzzzzzzzzzzzzzzzzzzzzzzzzzzzzzzzzzzzzzzzzzzzzzzzzzz\n",
      "long and large output ... zzzzzzzzzzzzzzzzzzzzzzzzzzzzzzzzzzzzzzzzzzzzzzzzzzzzzzzzzzzzzzzzzzzzzzzz\n",
      "long and large output ... zzzzzzzzzzzzzzzzzzzzzzzzzzzzzzzzzzzzzzzzzzzzzzzzzzzzzzzzzzzzzzzzzzzzzzzzz\n",
      "long and large output ... zzzzzzzzzzzzzzzzzzzzzzzzzzzzzzzzzzzzzzzzzzzzzzzzzzzzzzzzzzzzzzzzzzzzzzzzzz\n",
      "long and large output ... zzzzzzzzzzzzzzzzzzzzzzzzzzzzzzzzzzzzzzzzzzzzzzzzzzzzzzzzzzzzzzzzzzzzzzzzzzz\n",
      "long and large output ... zzzzzzzzzzzzzzzzzzzzzzzzzzzzzzzzzzzzzzzzzzzzzzzzzzzzzzzzzzzzzzzzzzzzzzzzzzzz\n",
      "long and large output ... zzzzzzzzzzzzzzzzzzzzzzzzzzzzzzzzzzzzzzzzzzzzzzzzzzzzzzzzzzzzzzzzzzzzzzzzzzzzz\n",
      "long and large output ... zzzzzzzzzzzzzzzzzzzzzzzzzzzzzzzzzzzzzzzzzzzzzzzzzzzzzzzzzzzzzzzzzzzzzzzzzzzzzz\n",
      "long and large output ... zzzzzzzzzzzzzzzzzzzzzzzzzzzzzzzzzzzzzzzzzzzzzzzzzzzzzzzzzzzzzzzzzzzzzzzzzzzzzzz\n",
      "long and large output ... zzzzzzzzzzzzzzzzzzzzzzzzzzzzzzzzzzzzzzzzzzzzzzzzzzzzzzzzzzzzzzzzzzzzzzzzzzzzzzzz\n",
      "long and large output ... zzzzzzzzzzzzzzzzzzzzzzzzzzzzzzzzzzzzzzzzzzzzzzzzzzzzzzzzzzzzzzzzzzzzzzzzzzzzzzzzz\n",
      "long and large output ... zzzzzzzzzzzzzzzzzzzzzzzzzzzzzzzzzzzzzzzzzzzzzzzzzzzzzzzzzzzzzzzzzzzzzzzzzzzzzzzzzz\n",
      "long and large output ... zzzzzzzzzzzzzzzzzzzzzzzzzzzzzzzzzzzzzzzzzzzzzzzzzzzzzzzzzzzzzzzzzzzzzzzzzzzzzzzzzzz\n",
      "long and large output ... zzzzzzzzzzzzzzzzzzzzzzzzzzzzzzzzzzzzzzzzzzzzzzzzzzzzzzzzzzzzzzzzzzzzzzzzzzzzzzzzzzzz\n",
      "long and large output ... zzzzzzzzzzzzzzzzzzzzzzzzzzzzzzzzzzzzzzzzzzzzzzzzzzzzzzzzzzzzzzzzzzzzzzzzzzzzzzzzzzzzz\n",
      "long and large output ... zzzzzzzzzzzzzzzzzzzzzzzzzzzzzzzzzzzzzzzzzzzzzzzzzzzzzzzzzzzzzzzzzzzzzzzzzzzzzzzzzzzzzz\n",
      "long and large output ... zzzzzzzzzzzzzzzzzzzzzzzzzzzzzzzzzzzzzzzzzzzzzzzzzzzzzzzzzzzzzzzzzzzzzzzzzzzzzzzzzzzzzzz\n",
      "long and large output ... zzzzzzzzzzzzzzzzzzzzzzzzzzzzzzzzzzzzzzzzzzzzzzzzzzzzzzzzzzzzzzzzzzzzzzzzzzzzzzzzzzzzzzzz\n",
      "long and large output ... zzzzzzzzzzzzzzzzzzzzzzzzzzzzzzzzzzzzzzzzzzzzzzzzzzzzzzzzzzzzzzzzzzzzzzzzzzzzzzzzzzzzzzzzz\n",
      "long and large output ... zzzzzzzzzzzzzzzzzzzzzzzzzzzzzzzzzzzzzzzzzzzzzzzzzzzzzzzzzzzzzzzzzzzzzzzzzzzzzzzzzzzzzzzzzz\n",
      "long and large output ... zzzzzzzzzzzzzzzzzzzzzzzzzzzzzzzzzzzzzzzzzzzzzzzzzzzzzzzzzzzzzzzzzzzzzzzzzzzzzzzzzzzzzzzzzzz\n",
      "long and large output ... zzzzzzzzzzzzzzzzzzzzzzzzzzzzzzzzzzzzzzzzzzzzzzzzzzzzzzzzzzzzzzzzzzzzzzzzzzzzzzzzzzzzzzzzzzzz\n",
      "long and large output ... zzzzzzzzzzzzzzzzzzzzzzzzzzzzzzzzzzzzzzzzzzzzzzzzzzzzzzzzzzzzzzzzzzzzzzzzzzzzzzzzzzzzzzzzzzzzz\n",
      "long and large output ... zzzzzzzzzzzzzzzzzzzzzzzzzzzzzzzzzzzzzzzzzzzzzzzzzzzzzzzzzzzzzzzzzzzzzzzzzzzzzzzzzzzzzzzzzzzzzz\n",
      "long and large output ... zzzzzzzzzzzzzzzzzzzzzzzzzzzzzzzzzzzzzzzzzzzzzzzzzzzzzzzzzzzzzzzzzzzzzzzzzzzzzzzzzzzzzzzzzzzzzzz\n",
      "long and large output ... zzzzzzzzzzzzzzzzzzzzzzzzzzzzzzzzzzzzzzzzzzzzzzzzzzzzzzzzzzzzzzzzzzzzzzzzzzzzzzzzzzzzzzzzzzzzzzzz\n",
      "long and large output ... zzzzzzzzzzzzzzzzzzzzzzzzzzzzzzzzzzzzzzzzzzzzzzzzzzzzzzzzzzzzzzzzzzzzzzzzzzzzzzzzzzzzzzzzzzzzzzzzz\n",
      "long and large output ... zzzzzzzzzzzzzzzzzzzzzzzzzzzzzzzzzzzzzzzzzzzzzzzzzzzzzzzzzzzzzzzzzzzzzzzzzzzzzzzzzzzzzzzzzzzzzzzzzz\n",
      "long and large output ... zzzzzzzzzzzzzzzzzzzzzzzzzzzzzzzzzzzzzzzzzzzzzzzzzzzzzzzzzzzzzzzzzzzzzzzzzzzzzzzzzzzzzzzzzzzzzzzzzzz\n",
      "long and large output ... zzzzzzzzzzzzzzzzzzzzzzzzzzzzzzzzzzzzzzzzzzzzzzzzzzzzzzzzzzzzzzzzzzzzzzzzzzzzzzzzzzzzzzzzzzzzzzzzzzzz\n",
      "long and large output ... zzzzzzzzzzzzzzzzzzzzzzzzzzzzzzzzzzzzzzzzzzzzzzzzzzzzzzzzzzzzzzzzzzzzzzzzzzzzzzzzzzzzzzzzzzzzzzzzzzzzz\n",
      "long and large output ... zzzzzzzzzzzzzzzzzzzzzzzzzzzzzzzzzzzzzzzzzzzzzzzzzzzzzzzzzzzzzzzzzzzzzzzzzzzzzzzzzzzzzzzzzzzzzzzzzzzzzz\n",
      "long and large output ... zzzzzzzzzzzzzzzzzzzzzzzzzzzzzzzzzzzzzzzzzzzzzzzzzzzzzzzzzzzzzzzzzzzzzzzzzzzzzzzzzzzzzzzzzzzzzzzzzzzzzzz\n",
      "long and large output ... zzzzzzzzzzzzzzzzzzzzzzzzzzzzzzzzzzzzzzzzzzzzzzzzzzzzzzzzzzzzzzzzzzzzzzzzzzzzzzzzzzzzzzzzzzzzzzzzzzzzzzzz\n",
      "long and large output ... zzzzzzzzzzzzzzzzzzzzzzzzzzzzzzzzzzzzzzzzzzzzzzzzzzzzzzzzzzzzzzzzzzzzzzzzzzzzzzzzzzzzzzzzzzzzzzzzzzzzzzzzz\n",
      "long and large output ... zzzzzzzzzzzzzzzzzzzzzzzzzzzzzzzzzzzzzzzzzzzzzzzzzzzzzzzzzzzzzzzzzzzzzzzzzzzzzzzzzzzzzzzzzzzzzzzzzzzzzzzzzz\n",
      "long and large output ... zzzzzzzzzzzzzzzzzzzzzzzzzzzzzzzzzzzzzzzzzzzzzzzzzzzzzzzzzzzzzzzzzzzzzzzzzzzzzzzzzzzzzzzzzzzzzzzzzzzzzzzzzzz\n",
      "long and large output ... zzzzzzzzzzzzzzzzzzzzzzzzzzzzzzzzzzzzzzzzzzzzzzzzzzzzzzzzzzzzzzzzzzzzzzzzzzzzzzzzzzzzzzzzzzzzzzzzzzzzzzzzzzzz\n",
      "long and large output ... zzzzzzzzzzzzzzzzzzzzzzzzzzzzzzzzzzzzzzzzzzzzzzzzzzzzzzzzzzzzzzzzzzzzzzzzzzzzzzzzzzzzzzzzzzzzzzzzzzzzzzzzzzzzz\n",
      "long and large output ... zzzzzzzzzzzzzzzzzzzzzzzzzzzzzzzzzzzzzzzzzzzzzzzzzzzzzzzzzzzzzzzzzzzzzzzzzzzzzzzzzzzzzzzzzzzzzzzzzzzzzzzzzzzzzz\n",
      "long and large output ... zzzzzzzzzzzzzzzzzzzzzzzzzzzzzzzzzzzzzzzzzzzzzzzzzzzzzzzzzzzzzzzzzzzzzzzzzzzzzzzzzzzzzzzzzzzzzzzzzzzzzzzzzzzzzzz\n",
      "long and large output ... zzzzzzzzzzzzzzzzzzzzzzzzzzzzzzzzzzzzzzzzzzzzzzzzzzzzzzzzzzzzzzzzzzzzzzzzzzzzzzzzzzzzzzzzzzzzzzzzzzzzzzzzzzzzzzzz\n",
      "long and large output ... zzzzzzzzzzzzzzzzzzzzzzzzzzzzzzzzzzzzzzzzzzzzzzzzzzzzzzzzzzzzzzzzzzzzzzzzzzzzzzzzzzzzzzzzzzzzzzzzzzzzzzzzzzzzzzzzz\n",
      "long and large output ... zzzzzzzzzzzzzzzzzzzzzzzzzzzzzzzzzzzzzzzzzzzzzzzzzzzzzzzzzzzzzzzzzzzzzzzzzzzzzzzzzzzzzzzzzzzzzzzzzzzzzzzzzzzzzzzzzz\n",
      "long and large output ... zzzzzzzzzzzzzzzzzzzzzzzzzzzzzzzzzzzzzzzzzzzzzzzzzzzzzzzzzzzzzzzzzzzzzzzzzzzzzzzzzzzzzzzzzzzzzzzzzzzzzzzzzzzzzzzzzzz\n",
      "long and large output ... zzzzzzzzzzzzzzzzzzzzzzzzzzzzzzzzzzzzzzzzzzzzzzzzzzzzzzzzzzzzzzzzzzzzzzzzzzzzzzzzzzzzzzzzzzzzzzzzzzzzzzzzzzzzzzzzzzzz\n",
      "long and large output ... zzzzzzzzzzzzzzzzzzzzzzzzzzzzzzzzzzzzzzzzzzzzzzzzzzzzzzzzzzzzzzzzzzzzzzzzzzzzzzzzzzzzzzzzzzzzzzzzzzzzzzzzzzzzzzzzzzzzz\n",
      "long and large output ... zzzzzzzzzzzzzzzzzzzzzzzzzzzzzzzzzzzzzzzzzzzzzzzzzzzzzzzzzzzzzzzzzzzzzzzzzzzzzzzzzzzzzzzzzzzzzzzzzzzzzzzzzzzzzzzzzzzzzz\n",
      "long and large output ... zzzzzzzzzzzzzzzzzzzzzzzzzzzzzzzzzzzzzzzzzzzzzzzzzzzzzzzzzzzzzzzzzzzzzzzzzzzzzzzzzzzzzzzzzzzzzzzzzzzzzzzzzzzzzzzzzzzzzzz\n",
      "long and large output ... zzzzzzzzzzzzzzzzzzzzzzzzzzzzzzzzzzzzzzzzzzzzzzzzzzzzzzzzzzzzzzzzzzzzzzzzzzzzzzzzzzzzzzzzzzzzzzzzzzzzzzzzzzzzzzzzzzzzzzzz\n",
      "long and large output ... zzzzzzzzzzzzzzzzzzzzzzzzzzzzzzzzzzzzzzzzzzzzzzzzzzzzzzzzzzzzzzzzzzzzzzzzzzzzzzzzzzzzzzzzzzzzzzzzzzzzzzzzzzzzzzzzzzzzzzzzz\n",
      "long and large output ... zzzzzzzzzzzzzzzzzzzzzzzzzzzzzzzzzzzzzzzzzzzzzzzzzzzzzzzzzzzzzzzzzzzzzzzzzzzzzzzzzzzzzzzzzzzzzzzzzzzzzzzzzzzzzzzzzzzzzzzzzz\n",
      "long and large output ... zzzzzzzzzzzzzzzzzzzzzzzzzzzzzzzzzzzzzzzzzzzzzzzzzzzzzzzzzzzzzzzzzzzzzzzzzzzzzzzzzzzzzzzzzzzzzzzzzzzzzzzzzzzzzzzzzzzzzzzzzzz\n",
      "long and large output ... zzzzzzzzzzzzzzzzzzzzzzzzzzzzzzzzzzzzzzzzzzzzzzzzzzzzzzzzzzzzzzzzzzzzzzzzzzzzzzzzzzzzzzzzzzzzzzzzzzzzzzzzzzzzzzzzzzzzzzzzzzzz\n",
      "long and large output ... zzzzzzzzzzzzzzzzzzzzzzzzzzzzzzzzzzzzzzzzzzzzzzzzzzzzzzzzzzzzzzzzzzzzzzzzzzzzzzzzzzzzzzzzzzzzzzzzzzzzzzzzzzzzzzzzzzzzzzzzzzzzz\n",
      "long and large output ... zzzzzzzzzzzzzzzzzzzzzzzzzzzzzzzzzzzzzzzzzzzzzzzzzzzzzzzzzzzzzzzzzzzzzzzzzzzzzzzzzzzzzzzzzzzzzzzzzzzzzzzzzzzzzzzzzzzzzzzzzzzzzz\n",
      "long and large output ... zzzzzzzzzzzzzzzzzzzzzzzzzzzzzzzzzzzzzzzzzzzzzzzzzzzzzzzzzzzzzzzzzzzzzzzzzzzzzzzzzzzzzzzzzzzzzzzzzzzzzzzzzzzzzzzzzzzzzzzzzzzzzzz\n",
      "long and large output ... zzzzzzzzzzzzzzzzzzzzzzzzzzzzzzzzzzzzzzzzzzzzzzzzzzzzzzzzzzzzzzzzzzzzzzzzzzzzzzzzzzzzzzzzzzzzzzzzzzzzzzzzzzzzzzzzzzzzzzzzzzzzzzzz\n",
      "long and large output ... zzzzzzzzzzzzzzzzzzzzzzzzzzzzzzzzzzzzzzzzzzzzzzzzzzzzzzzzzzzzzzzzzzzzzzzzzzzzzzzzzzzzzzzzzzzzzzzzzzzzzzzzzzzzzzzzzzzzzzzzzzzzzzzzz\n",
      "long and large output ... zzzzzzzzzzzzzzzzzzzzzzzzzzzzzzzzzzzzzzzzzzzzzzzzzzzzzzzzzzzzzzzzzzzzzzzzzzzzzzzzzzzzzzzzzzzzzzzzzzzzzzzzzzzzzzzzzzzzzzzzzzzzzzzzzz\n",
      "long and large output ... zzzzzzzzzzzzzzzzzzzzzzzzzzzzzzzzzzzzzzzzzzzzzzzzzzzzzzzzzzzzzzzzzzzzzzzzzzzzzzzzzzzzzzzzzzzzzzzzzzzzzzzzzzzzzzzzzzzzzzzzzzzzzzzzzzz\n",
      "long and large output ... zzzzzzzzzzzzzzzzzzzzzzzzzzzzzzzzzzzzzzzzzzzzzzzzzzzzzzzzzzzzzzzzzzzzzzzzzzzzzzzzzzzzzzzzzzzzzzzzzzzzzzzzzzzzzzzzzzzzzzzzzzzzzzzzzzzz\n",
      "long and large output ... zzzzzzzzzzzzzzzzzzzzzzzzzzzzzzzzzzzzzzzzzzzzzzzzzzzzzzzzzzzzzzzzzzzzzzzzzzzzzzzzzzzzzzzzzzzzzzzzzzzzzzzzzzzzzzzzzzzzzzzzzzzzzzzzzzzzz\n",
      "long and large output ... zzzzzzzzzzzzzzzzzzzzzzzzzzzzzzzzzzzzzzzzzzzzzzzzzzzzzzzzzzzzzzzzzzzzzzzzzzzzzzzzzzzzzzzzzzzzzzzzzzzzzzzzzzzzzzzzzzzzzzzzzzzzzzzzzzzzzz\n",
      "long and large output ... zzzzzzzzzzzzzzzzzzzzzzzzzzzzzzzzzzzzzzzzzzzzzzzzzzzzzzzzzzzzzzzzzzzzzzzzzzzzzzzzzzzzzzzzzzzzzzzzzzzzzzzzzzzzzzzzzzzzzzzzzzzzzzzzzzzzzzz\n",
      "long and large output ... zzzzzzzzzzzzzzzzzzzzzzzzzzzzzzzzzzzzzzzzzzzzzzzzzzzzzzzzzzzzzzzzzzzzzzzzzzzzzzzzzzzzzzzzzzzzzzzzzzzzzzzzzzzzzzzzzzzzzzzzzzzzzzzzzzzzzzzz\n",
      "long and large output ... zzzzzzzzzzzzzzzzzzzzzzzzzzzzzzzzzzzzzzzzzzzzzzzzzzzzzzzzzzzzzzzzzzzzzzzzzzzzzzzzzzzzzzzzzzzzzzzzzzzzzzzzzzzzzzzzzzzzzzzzzzzzzzzzzzzzzzzzz\n",
      "long and large output ... zzzzzzzzzzzzzzzzzzzzzzzzzzzzzzzzzzzzzzzzzzzzzzzzzzzzzzzzzzzzzzzzzzzzzzzzzzzzzzzzzzzzzzzzzzzzzzzzzzzzzzzzzzzzzzzzzzzzzzzzzzzzzzzzzzzzzzzzzz\n",
      "long and large output ... zzzzzzzzzzzzzzzzzzzzzzzzzzzzzzzzzzzzzzzzzzzzzzzzzzzzzzzzzzzzzzzzzzzzzzzzzzzzzzzzzzzzzzzzzzzzzzzzzzzzzzzzzzzzzzzzzzzzzzzzzzzzzzzzzzzzzzzzzzz\n",
      "long and large output ... zzzzzzzzzzzzzzzzzzzzzzzzzzzzzzzzzzzzzzzzzzzzzzzzzzzzzzzzzzzzzzzzzzzzzzzzzzzzzzzzzzzzzzzzzzzzzzzzzzzzzzzzzzzzzzzzzzzzzzzzzzzzzzzzzzzzzzzzzzzz\n",
      "long and large output ... zzzzzzzzzzzzzzzzzzzzzzzzzzzzzzzzzzzzzzzzzzzzzzzzzzzzzzzzzzzzzzzzzzzzzzzzzzzzzzzzzzzzzzzzzzzzzzzzzzzzzzzzzzzzzzzzzzzzzzzzzzzzzzzzzzzzzzzzzzzzz\n",
      "long and large output ... zzzzzzzzzzzzzzzzzzzzzzzzzzzzzzzzzzzzzzzzzzzzzzzzzzzzzzzzzzzzzzzzzzzzzzzzzzzzzzzzzzzzzzzzzzzzzzzzzzzzzzzzzzzzzzzzzzzzzzzzzzzzzzzzzzzzzzzzzzzzzz\n",
      "long and large output ... zzzzzzzzzzzzzzzzzzzzzzzzzzzzzzzzzzzzzzzzzzzzzzzzzzzzzzzzzzzzzzzzzzzzzzzzzzzzzzzzzzzzzzzzzzzzzzzzzzzzzzzzzzzzzzzzzzzzzzzzzzzzzzzzzzzzzzzzzzzzzzz\n",
      "long and large output ... zzzzzzzzzzzzzzzzzzzzzzzzzzzzzzzzzzzzzzzzzzzzzzzzzzzzzzzzzzzzzzzzzzzzzzzzzzzzzzzzzzzzzzzzzzzzzzzzzzzzzzzzzzzzzzzzzzzzzzzzzzzzzzzzzzzzzzzzzzzzzzzz\n",
      "long and large output ... zzzzzzzzzzzzzzzzzzzzzzzzzzzzzzzzzzzzzzzzzzzzzzzzzzzzzzzzzzzzzzzzzzzzzzzzzzzzzzzzzzzzzzzzzzzzzzzzzzzzzzzzzzzzzzzzzzzzzzzzzzzzzzzzzzzzzzzzzzzzzzzzz\n",
      "long and large output ... zzzzzzzzzzzzzzzzzzzzzzzzzzzzzzzzzzzzzzzzzzzzzzzzzzzzzzzzzzzzzzzzzzzzzzzzzzzzzzzzzzzzzzzzzzzzzzzzzzzzzzzzzzzzzzzzzzzzzzzzzzzzzzzzzzzzzzzzzzzzzzzzzz\n",
      "long and large output ... zzzzzzzzzzzzzzzzzzzzzzzzzzzzzzzzzzzzzzzzzzzzzzzzzzzzzzzzzzzzzzzzzzzzzzzzzzzzzzzzzzzzzzzzzzzzzzzzzzzzzzzzzzzzzzzzzzzzzzzzzzzzzzzzzzzzzzzzzzzzzzzzzzz\n",
      "long and large output ... zzzzzzzzzzzzzzzzzzzzzzzzzzzzzzzzzzzzzzzzzzzzzzzzzzzzzzzzzzzzzzzzzzzzzzzzzzzzzzzzzzzzzzzzzzzzzzzzzzzzzzzzzzzzzzzzzzzzzzzzzzzzzzzzzzzzzzzzzzzzzzzzzzzz\n",
      "long and large output ... zzzzzzzzzzzzzzzzzzzzzzzzzzzzzzzzzzzzzzzzzzzzzzzzzzzzzzzzzzzzzzzzzzzzzzzzzzzzzzzzzzzzzzzzzzzzzzzzzzzzzzzzzzzzzzzzzzzzzzzzzzzzzzzzzzzzzzzzzzzzzzzzzzzzz\n"
     ]
    }
   ],
   "source": [
    "for x in range(150):\n",
    "    print('long and large output ...', 'z'*x)"
   ]
  },
  {
   "cell_type": "markdown",
   "metadata": {},
   "source": [
    "## Python tutor tests\n",
    "\n",
    "See [Pytutor page](tests-pytutor.ipynb)"
   ]
  }
 ],
 "metadata": {
  "celltoolbar": "Visualize",
  "kernelspec": {
   "display_name": "Python 3 (ipykernel)",
   "language": "python",
   "name": "python3"
  },
  "language_info": {
   "codemirror_mode": {
    "name": "ipython",
    "version": 3
   },
   "file_extension": ".py",
   "mimetype": "text/x-python",
   "name": "python",
   "nbconvert_exporter": "python",
   "pygments_lexer": "ipython3",
   "version": "3.7.17"
  },
  "toc": {
   "base_numbering": 1,
   "nav_menu": {},
   "number_sections": false,
   "sideBar": true,
   "skip_h1_title": false,
   "title_cell": "Table of Contents",
   "title_sidebar": "Contents",
   "toc_cell": false,
   "toc_position": {
    "height": "calc(100% - 180px)",
    "left": "10px",
    "top": "150px",
    "width": "311px"
   },
   "toc_section_display": true,
   "toc_window_display": true
  }
 },
 "nbformat": 4,
 "nbformat_minor": 2
}
