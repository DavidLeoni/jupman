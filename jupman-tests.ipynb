{
 "cells": [
  {
   "cell_type": "code",
   "execution_count": 1,
   "metadata": {
    "nbsphinx": "hidden"
   },
   "outputs": [
    {
     "data": {
      "text/html": [
       "<style>\n",
       "\n",
       "/** ONLY AVAILABLE IN JUPYTER **/\n",
       "\n",
       "#jupman-nav {\n",
       "    position: fixed;\n",
       "    top: 10px; \n",
       "    left: 5px; \n",
       "    background: white;\n",
       "    width: 200px; \n",
       "    padding: 10px; \n",
       "    z-index: 10;\n",
       "}\n",
       "\n",
       "/* style=\"background: rgba(255, 255, 255, 0);\" class=\"unstyled\" */\n",
       "\n",
       "#jupman-toc {\n",
       "    position: fixed;\n",
       "    top: 100px; \n",
       "    left: -55px; \n",
       "    background: rgba(255, 255, 255, 0);\n",
       "    \n",
       "    height: 80%;\n",
       "    width: 200px; \n",
       "    padding: 20px; \n",
       "    z-index: 10;\n",
       "    overflow-y: scroll;        \n",
       "        /* font-size: 50%; */\n",
       "}\n",
       "\n",
       "\n",
       "\n",
       "code {\n",
       "    background-color:rgb(245, 249, 249) !important;\n",
       "}\n",
       "\n",
       "\n",
       ".jupman-nav-item {\n",
       "    font-weight:bold;\n",
       "    font-size:120%  \n",
       "}\n",
       "\n",
       ".jupman-chapter-link {\n",
       "    font-size:150%;\n",
       "    margin-right:15px;        \n",
       "}\n",
       "\n",
       ".jupman-chapter-link a {\n",
       "    text-decoration: none;\n",
       "}    \n",
       "\n",
       ".jupman-title {\n",
       "    font-size:250%; \n",
       "    font-weight:bold        \n",
       "}    \n",
       "    \n",
       ".jupman-warn {    \n",
       "    background-color: #fcf2f2;        \n",
       "    border-left: 5px solid #dfb5b4;\n",
       "    padding: 1.5em;\n",
       "    font-weight:bold;\n",
       "    margin-bottom:10px;\n",
       "}\n",
       "\n",
       ".jupman-question {    \n",
       "    background-color: rgb(251, 231, 250);\n",
       "    border-left: 5px solid rgb(189, 151, 184);\n",
       "    padding: 1.5em;\n",
       "    font-weight:bold;\n",
       "    margin-bottom:10px;\n",
       "}\n",
       "    \n",
       "\n",
       ".jupman-important {\n",
       "    background-color: rgba(255, 238, 0, 0.31);\n",
       "    border-left: 5px solid rgba(205, 208, 0, 1.0);\n",
       "    color: #000;        \n",
       "    padding: 1.5em;\n",
       "    font-weight:bold;\n",
       "    margin-bottom:10px;\n",
       "}\n",
       "\n",
       "\n",
       "#jupman-toc ul {                                                                                                                                                                           \n",
       "    list-style-type: none;                                                                                                                                                                 \n",
       "    margin-left: 5px;\n",
       "}\n",
       "\n",
       "#jupman-toc li {        \n",
       "        padding-left: 3px;\n",
       "}    \n",
       "\n",
       "#jupman-toc .h1 {\n",
       "    font-size:110%; \n",
       "    \n",
       "}\n",
       "\n",
       "#jupman-toc .h2 {\n",
       "    font-size:100%; \n",
       "    padding-left:15px;\n",
       "}\n",
       "\n",
       "#jupman-toc .h3 {\n",
       "    font-size:100%; \n",
       "    padding-left:25px;\n",
       "}\n",
       "\n",
       "\n",
       "\n",
       "#notebook-container {\n",
       "    box-shadow : none;\n",
       "-web-kit-box-shadow: none;\n",
       "}\n",
       "\n",
       "\n",
       "#jupman-toc .toc-active {\n",
       "    background: rgba(168, 254, 255, 0.32);\n",
       "}\n",
       "\n",
       "\n",
       ".jupman-toggler {\n",
       "    text-decoration: none; \n",
       "    display:block;\n",
       "}\n",
       " </style>\n",
       "\n",
       "<script>\n",
       "var JUPMAN_IN_JUPYTER = true;\n",
       "\n",
       "/**\n",
       " * JUPYTER MANAGER JavaScript https://github.com/DavidLeoni/jupman \n",
       " * \n",
       " */\n",
       "\n",
       "\n",
       "/**\n",
       " * @deprecated use jupman.toggleVisibility instead\n",
       " * @param {string} what \n",
       " */\n",
       "function toggleVisibility(what){\n",
       "    console.warn(\"global toggleVisibility is deprecated, use jupman.toggleVisibility instead\");\n",
       "    jupman.toggleVisibility(what);            \n",
       "};\n",
       "\n",
       "function showthis(url) {\n",
       "    window.open(url, \"pres\", \"toolbar=yes,scrollbars=yes,resizable=yes,top=10,left=400,width=500,height=500\");\n",
       "    return(false);\n",
       "}\n",
       "\n",
       "var jupman = {\n",
       "    \n",
       "    /** \n",
       "        Checks if toc was injected in the script. \n",
       "    */\n",
       "    hasToc : function(){\n",
       "        return $('#jupman-toc').toc;\n",
       "    },\n",
       "    \n",
       "    isReduced : function(){\n",
       "        return $(window).width() < 924;\n",
       "    },\n",
       "    hoverToc : function(){\n",
       "        return $('#jupman-toc:hover').length != 0;\n",
       "    },\n",
       "    resize : function(){\n",
       "        if (jupman.isReduced()){\n",
       "            $(\"#jupman-toc\").hide();\n",
       "                \n",
       "        } else {\n",
       "            $(\"#jupman-toc\").show();\n",
       "            $(\"#jupman-toc\").css(\"background\",\"rgba(255, 255, 255, 0)\");\n",
       "            \n",
       "            tocParams = {\n",
       "                \n",
       "                'selectors': 'h1,h2,h3', //elements to use as headings\n",
       "                'container': 'body', //element to find all selectors in\n",
       "                'smoothScrolling': true, //enable or disable smooth scrolling on click\n",
       "                 //doesn't work  'prefix': 'jupman-toc', //prefix for anchor tags and class names\n",
       "                //'onHighlight': function(el) {}, //called when a new section is highlighted \n",
       "                'highlightOnScroll': true, //add class to heading that is currently in focus\n",
       "                'highlightOffset': 100, //offset to trigger the next headline\n",
       "                'anchorName': function(i, heading, prefix) { //custom function for anchor name\n",
       "                    return prefix+i;\n",
       "                },\n",
       "                'headerText': function(i, heading, $heading) { //custom function building the header-item text                  \n",
       "                    return $heading.text().replace(\"¶\",\"\");\n",
       "                },\n",
       "                'itemClass': function(i, heading, $heading, prefix) { // custom function for item class\n",
       "                    return $heading[0].tagName.toLowerCase();\n",
       "                }                \n",
       "            }\n",
       "            \n",
       "            if (jupman.hasToc()){\n",
       "                $('#jupman-toc').toc(tocParams);\n",
       "            }\n",
       "        }\n",
       "    },\n",
       "    /**\n",
       "        Hides cell input\n",
       "        \n",
       "        Renamed in 0.19\n",
       "    */    \n",
       "    hideCell : function(prefixOrRegex){\n",
       "        \n",
       "        $('.border-box-sizing .code_cell pre').filter(function() { \n",
       "                var t = $(this).text();\n",
       "                if (typeof prefixOrRegex == \"string\"){\n",
       "                    return t.indexOf(prefixOrRegex) === 0;\n",
       "                } else if ( prefixOrRegex instanceof RegExp){\n",
       "                    return t.match(prefixOrRegex);\n",
       "                } else {\n",
       "                    console.error(\"Invalid argument:\", prefixOrRegex);\n",
       "                    throw new Error(\"Invalid argument!\");\n",
       "                }\n",
       "            }).parents('div .cell .input').hide();        \n",
       "    },\n",
       "    /**\n",
       "        Hides the cell input AND output.\n",
       "        \n",
       "        @since 0.19\n",
       "    */\n",
       "    hideCellAll : function(prefixOrRegex){        \n",
       "        $('.border-box-sizing .code_cell pre').filter(function() { \n",
       "                var t = $(this).text();\n",
       "                if (typeof prefixOrRegex == \"string\"){\n",
       "                    return t.indexOf(prefixOrRegex) === 0;\n",
       "                } else if ( prefixOrRegex instanceof RegExp){\n",
       "                    return t.match(prefixOrRegex);\n",
       "                } else {\n",
       "                    console.error(\"Invalid argument:\", prefixOrRegex);\n",
       "                    throw new Error(\"Invalid argument!\");\n",
       "                }\n",
       "            }).parents('div .cell ').hide();        \n",
       "    },\n",
       "   \n",
       "    /**\n",
       "     * NOTE: ONLY WORKS ON THE WEBSITE\n",
       "     *      \n",
       "     * @param {@string} caller a this from html tag onclick\n",
       "     * @since 3.2 \n",
       "     */\n",
       "    toggleSolution : function(caller){\n",
       "        \n",
       "        let toggler = $(caller);\n",
       "        let content = toggler.next();\n",
       "        \n",
       "        content.addClass('jupman-sol jupman-sol-content');        \n",
       "\n",
       "        if (content.css('display') === 'none'){            \n",
       "            toggler.text(toggler.data('jupman-hide'));\n",
       "        } else {                                    \n",
       "            toggler.text(toggler.data('jupman-show'));            \n",
       "        }\n",
       "        content.slideToggle();                                \n",
       "    },\n",
       "    \n",
       "    /**\n",
       "     * Simple vanilla way to toggle an element\n",
       "     * @param {string} what i.e. someid (no # prefix)\n",
       "     */\n",
       "    toggleVisibility : function (what){\n",
       "\n",
       "        var e = document.getElementById(what);\n",
       "        if(e.style.display == 'block') {\n",
       "            e.style.display = 'none';\n",
       "        } else {\n",
       "            e.style.display = 'block';        \n",
       "        }\n",
       "    },\n",
       "\n",
       "    /**\n",
       "     *  Code common to both jupman in jupyter and Website\n",
       "    */\n",
       "    initCommon : function(){\n",
       "        \n",
       "        console.log('jupman.js initCommon start')\n",
       "        \n",
       "        console.log(\"jupman.js Initializing togglable stuff\");\n",
       "        if (typeof $ == \"undefined\"){\n",
       "            console.error(\"   No jquery found! Skipping ... \");\n",
       "        } else {\n",
       "                        \n",
       "            console.log(\"Initializing generic jupman-togglable stuff\");\n",
       "\n",
       "            let defaultShowMsg = 'Show';\n",
       "            let defaultHideMsg = 'Hide';            \n",
       "\n",
       "            $(\".jupman-toggler\").remove();\n",
       "            \n",
       "            $(\".jupman-togglable\").each(function(index, value) {\n",
       "                let toggler = $('<a href=\"#\"></a>');\n",
       "                toggler.addClass('jupman-toggler');\n",
       "                let showMsg = defaultShowMsg;            \n",
       "                if ($(this).data('jupman-show')){\n",
       "                    showMsg = $(this).data('jupman-show');\n",
       "                }\n",
       "                \n",
       "                toggler.text(showMsg);\n",
       "                toggler.insertBefore(value);\n",
       "            });            \n",
       "            \n",
       "            $(\".jupman-togglable\").hide();\n",
       "            $(\".jupman-toggler\").show();\n",
       "\n",
       "            $('.jupman-toggler')\n",
       "                .off('click')\n",
       "                .click(function(ev){                                \n",
       "                    let toggler = $(this);\n",
       "                    \n",
       "                    let uls = toggler.nextAll(\".jupman-togglable\");\n",
       "                    let sibling = uls.eq(0);\n",
       "                    \n",
       "                    let showMsg = defaultShowMsg;\n",
       "                    let hideMsg = defaultHideMsg;\n",
       "                    if (sibling.data('jupman-show')){\n",
       "                        showMsg = sibling.data('jupman-show');\n",
       "                    }\n",
       "                    if (sibling.data('jupman-hide')){\n",
       "                        hideMsg = sibling.data('jupman-hide');\n",
       "                    }\n",
       "                    if (sibling.css('display') === 'none'){            \n",
       "                        toggler.text(hideMsg);\n",
       "                    } else {                                    \n",
       "                        toggler.text(showMsg);\n",
       "                    }\n",
       "                    sibling.slideToggle();        \n",
       "                    ev.preventDefault();\n",
       "                    ev.stopPropagation();\n",
       "                    return false;\n",
       "            });\n",
       "        } \n",
       "        console.log('jupman.js initCommon end')\n",
       "\n",
       "    },\n",
       "\n",
       "    /**\n",
       "     *   Jupyter only instructions - doesn't run on website\n",
       "     */\n",
       "    initJupyter : function(){\n",
       "       console.log('jupman.js initJupyter start') \n",
       "\n",
       "       var toc = $(\"<div>\").attr(\"id\", \"jupman-toc\");              \n",
       "                                                             \n",
       "       var nav = $(\"<div>\")\n",
       "                     .attr(\"id\", \"jupman-nav\")\n",
       "                    \n",
       "        \n",
       "        \n",
       "       // ****************************     WARNING      ********************************\n",
       "       //         THIS HIDE STUFF DOES NOT WORK IN SPHINX, ONLY WORKS WHEN YOU MANUALLY EXPORT TO HTML \n",
       "       // ******************************************************************************\n",
       "       \n",
       "       \n",
       "       if (jupman.hasToc()){\n",
       "           if ($(\"#jupman-toc\").length === 0){\n",
       "               $(\"body\").append(toc);       \n",
       "           } else {\n",
       "               $(\"#jupman-toc\").replaceWith(toc);\n",
       "           }\n",
       "       } else {\n",
       "           $(\"#jupman-toc\").hide();\n",
       "       }\n",
       "       \n",
       "       if ($(\"#jupman-nav\").length === 0){\n",
       "           $(\"body\").append(nav);       \n",
       "       } else {\n",
       "           $(\"#jupman-nav\").replaceWith(nav);\n",
       "       }              \n",
       "\n",
       "       \n",
       "        $( window ).resize(function() {\n",
       "            jupman.resize();\n",
       "        });\n",
       "\n",
       "\n",
       "        $(\"body\").on(\"mousemove\",function(event) {\n",
       "            if (jupman.isReduced()){\n",
       "                if (event.pageX < 50) {            \n",
       "                     $(\"#jupman-toc\").show(); \n",
       "                     $(\"#jupman-toc\").css(\"background\",\"rgba(255, 255, 255, 1.0)\");\n",
       "                } else {\n",
       "                    if (jupman.hoverToc()) {                    \n",
       "                    } else {\n",
       "                        $(\"#jupman-toc\").hide();                        \n",
       "                    }\n",
       "$\n",
       "        /*            if ($(\"#jupman-toc\").is(\":visible\")){\n",
       "                        if (jupman.hoverToc()) {                    \n",
       "                        } else {\n",
       "                            $(\"#jupman-toc\").hide();                        \n",
       "                        }\n",
       "                    } else {\n",
       "                        if (jupman.hoverToc())\n",
       "                          show\n",
       "                      } else {\n",
       "                        $(\"#jupman-toc\").hide();                        \n",
       "                       }                 \n",
       "                    }\n",
       "          */     \n",
       "                }\n",
       "            }\n",
       "        });\n",
       " \n",
       "        \n",
       "       jupman.resize();\n",
       "       console.log('jupman.js initJupyter end')\n",
       "    },\n",
       "    \n",
       "    /**\n",
       "    * Website only instructions\n",
       "    */\n",
       "    initWebsite : function(){  \n",
       "        \n",
       "        console.log(\"jupman.js initWebsite start\")\n",
       "        \n",
       "        console.log(\"Fixing menu clicks for https://github.com/DavidLeoni/jupman/issues/38\")\n",
       "\n",
       "        // function copied as is from\n",
       "        // https://github.com/readthedocs/sphinx_rtd_theme/blob/master/src/theme.js#L190\n",
       "        var toggleCurrent = function (elem) {\n",
       "            var parent_li = elem.closest('li');\n",
       "            parent_li.siblings('li.current').removeClass('current');\n",
       "            parent_li.siblings().find('li.current').removeClass('current');\n",
       "            parent_li.find('> ul li.current').removeClass('current');\n",
       "            parent_li.toggleClass('current');\n",
       "        }        \n",
       "\n",
       "        \n",
       "        var fix = function(prefix){\n",
       "\n",
       "            var s = 'nav a.reference.internal[href^=\"' + prefix + 'toc\"]';            \n",
       "            \n",
       "            var span = $(s + ' > span.toctree-expand');\n",
       "            span.off('click')\n",
       "\n",
       "            var link = $(s); \n",
       "            \n",
       "            link.on('click', function (ev) {\n",
       "                ev.preventDefault();\n",
       "                toggleCurrent($(this));\n",
       "                ev.stopPropagation();\n",
       "                return false;\n",
       "            });\n",
       "        }\n",
       "\n",
       "        // fix for https://github.com/DavidLeoni/jupman/issues/71\n",
       "        // should better do it serverside, but at least it works!\n",
       "        console.log(\"Fixing home link ...\");\n",
       "        var home = $('a.icon-home');\n",
       "        \n",
       "        if (home.length > 0){\n",
       "            \n",
       "            home.attr('href', home.attr('href').replace('toc-page.html', 'index.html'))\n",
       "        \n",
       "            console.log(\"Fixing Index link ...\");\n",
       "            var home_root = home.attr('href').replace('toc-page.html','').replace('index.html','');            \n",
       "            //DIRTY, if you wonder why see  https://github.com/DavidLeoni/jupman/issues/11\n",
       "            //                         and  https://stackoverflow.com/a/31820846     \n",
       "            var tocRef = \"toc.html#http://\";\n",
       "            $('a.reference.external[href$=\"'+ tocRef + '\"]').attr('href', home_root + tocRef);\n",
       "        }                        \n",
       "        \n",
       "        fix('')\n",
       "        fix('../')\n",
       "        fix('../../')    // probably useless but just in case ...\n",
       "        fix('../../../') // probably useless but just in case ... \n",
       "\n",
       "        console.log(\"Fixing Python Tutor overflow ...\");\n",
       "        \n",
       "        // need it in js as there are no css parent selectors.\n",
       "        // NOTE: these selectors are different from Jupyter ones !!!\n",
       "        var pytuts = $('.pytutorVisualizer')        \n",
       "        pytuts.closest('div.output_area.rendered_html.docutils.container')\n",
       "              .css('overflow', 'visible')\n",
       "\n",
       "        console.log(\"jupman.js initWebsite end\")\n",
       "    },\n",
       "    \n",
       "    /**\n",
       "     * Initializes jupman.js\n",
       "     */\n",
       "    init : function(){\n",
       "\n",
       "       jupman.initCommon();\n",
       "        \n",
       "       if (typeof JUPMAN_IN_JUPYTER === \"undefined\" || !JUPMAN_IN_JUPYTER ){\n",
       "           jupman.initWebsite();\n",
       "       } else {\n",
       "           jupman.initJupyter();\n",
       "       }\n",
       "        \n",
       "    }\n",
       "}\n",
       "\n",
       "$(document).ready(jupman.init);\n",
       "\n",
       "</script>\n"
      ],
      "text/plain": [
       "<IPython.core.display.HTML object>"
      ]
     },
     "execution_count": 1,
     "metadata": {},
     "output_type": "execute_result"
    }
   ],
   "source": [
    "import jupman;\n",
    "jupman.init()"
   ]
  },
  {
   "cell_type": "markdown",
   "metadata": {},
   "source": [
    "# Jupman Tests\n",
    "\n",
    "Tests and cornercases.\n",
    "\n",
    "The page Title has one sharp, the Sections always have two sharps.\n",
    "\n",
    "## Section 1\n",
    "\n",
    "bla bla \n",
    "\n",
    "## Section 2\n",
    "\n",
    "Subsections always have three sharps\n",
    "\n",
    "### Subsection 1\n",
    "bla bla \n",
    "\n",
    "### Subsection 2\n",
    "bla bla \n"
   ]
  },
  {
   "cell_type": "markdown",
   "metadata": {},
   "source": [
    "## Quotes"
   ]
  },
  {
   "cell_type": "markdown",
   "metadata": {},
   "source": [
    "> I'm quoted with **greater than** symbol\n",
    "> on multiple lines\n",
    "> Am I readable?"
   ]
  },
  {
   "cell_type": "markdown",
   "metadata": {},
   "source": [
    "    I'm quoted with **spaces** \n",
    "    on multiple lines\n",
    "    Am I readable?"
   ]
  },
  {
   "cell_type": "markdown",
   "metadata": {},
   "source": [
    "## Download links\n",
    "\n",
    "Files manually put in `_static` : \n",
    "\n",
    "* Download [trial.odt](_static/trial.odt)\n",
    "* Download [trial.pdf](_static/trial.pdf)\n",
    " \n",
    "Files in arbitrary folder position : \n",
    "\n",
    "* Download [requirements.txt](requirements.txt)\n",
    "\n",
    "NOTE: download links are messy, [see issue 8](https://github.com/DavidLeoni/jupman/issues/8)"
   ]
  },
  {
   "cell_type": "markdown",
   "metadata": {},
   "source": [
    "## Links to HTML\n",
    "\n",
    "* Link to [trial.html](_static/trial.html)"
   ]
  },
  {
   "cell_type": "markdown",
   "metadata": {
    "collapsed": true
   },
   "source": [
    "## Info/Warning Boxes\n",
    "\n",
    "Until there is an info/warning extension for Markdown/CommonMark, such boxes can be created by using HTML <div> elements like this:"
   ]
  },
  {
   "cell_type": "markdown",
   "metadata": {},
   "source": [
    "<div class=\"alert alert-info\">\n",
    "\n",
    "**Note:** This is an info!\n",
    "\n",
    "</div>"
   ]
  },
  {
   "cell_type": "markdown",
   "metadata": {},
   "source": [
    "<div class=\"alert alert-warning\">\n",
    "\n",
    "**Note:** This is a warn!\n",
    "\n",
    "</div>"
   ]
  },
  {
   "cell_type": "markdown",
   "metadata": {},
   "source": [
    "For this to work reliably, you should obey the following guidelines:\n",
    "\n",
    "* The class attribute has to be either \"alert alert-info\" or \"alert alert-warning\", other values will not be converted correctly.\n",
    "* No further attributes are allowed.\n",
    "* For compatibility with CommonMark, you should add an empty line between the <div> start tag and the beginning of the content.\n"
   ]
  },
  {
   "cell_type": "markdown",
   "metadata": {},
   "source": [
    "\n",
    "## Math\n",
    "\n",
    "For math stuff, [see npshpinx docs](https://nbsphinx.readthedocs.io/en/0.2.14/markdown-cells.html#Equations)\n",
    "\n",
    "Here we put just some equation to show it behaves fine in Jupman\n",
    "\n",
    "This is infinity: $\\infty$ "
   ]
  },
  {
   "cell_type": "markdown",
   "metadata": {},
   "source": [
    "## Unicode \n",
    "\n",
    "Unicode characters should display an HTML, but with latex you might have problems, and need to manually map characters in conf.py\n",
    "\n",
    "\n",
    "You should see a star in a black circle: ✪ \n",
    "\n",
    "You should see a check: ✓\n",
    "\n",
    "table characters: │ ├ └ ─"
   ]
  },
  {
   "cell_type": "markdown",
   "metadata": {},
   "source": [
    "## Image\n",
    "\n",
    "### SVG Images\n",
    "\n",
    "SVG images work in notebook, but here it is commented since it breaks Latex, [see issue](https://github.com/DavidLeoni/jupman/issues/1)\n",
    "\n",
    "```\n",
    "![An image](img/cc-by.svg)\n",
    "```\n",
    "\n",
    "This one also doesn't works (and shows ugly code in the notebook anyway)\n",
    "\n",
    "```\n",
    "from IPython.display import SVG\n",
    "SVG(filename='img/cc-by.svg')\n",
    "```\n"
   ]
  },
  {
   "cell_type": "markdown",
   "metadata": {},
   "source": [
    "### PNG Images\n",
    "\n",
    "![A PNG image alone](_static/img/notebook_icon.png)"
   ]
  },
  {
   "cell_type": "markdown",
   "metadata": {},
   "source": [
    "### Inline images - pure markdown"
   ]
  },
  {
   "cell_type": "markdown",
   "metadata": {},
   "source": [
    "    Bla ![A PNG image md](_static/img/notebook_icon.png)  bli blo"
   ]
  },
  {
   "cell_type": "markdown",
   "metadata": {},
   "source": [
    "Bla ![A PNG image  md](_static/img/notebook_icon.png)  bli blo"
   ]
  },
  {
   "cell_type": "markdown",
   "metadata": {},
   "source": [
    "### Inline images - markdown and img"
   ]
  },
  {
   "cell_type": "markdown",
   "metadata": {},
   "source": [
    "    bla <img alt=\"markimg84545\" style=\"display:inline\" src=\"_static/img/notebook_icon.png\"> bli blo"
   ]
  },
  {
   "cell_type": "markdown",
   "metadata": {},
   "source": [
    "\n",
    "bla <img alt=\"markimg84545\" style=\"display:inline !important\" src=\"_static/img/notebook_icon.png\"> bli blo"
   ]
  },
  {
   "cell_type": "markdown",
   "metadata": {},
   "source": [
    "### Img class\n",
    "\n",
    "If we pass a class, it will to be present in the website:\n",
    "\n",
    "    <img alt=\"markimg7325\" class=\"jupman-inline-img\" src=\"_static/img/notebook_icon.png\">\n",
    "    \n",
    "This  <img alt=\"markimg7325\" class=\"jupman-inline-img\" src=\"_static/img/notebook_icon.png\"> should be inline"
   ]
  },
  {
   "cell_type": "markdown",
   "metadata": {},
   "source": [
    "## Expressions list\n",
    "\n",
    "Highlighting **does** work both in Jupyter and Sphinx\n",
    "\n",
    "Three quotes, multiple lines - Careful: put **exactly 4 spaces** indentation\n",
    "\n",
    "1.  ```python \n",
    "    [2,3,1] != \"[2,3,1]\"\n",
    "    ```\n",
    "1.  ```python \n",
    "    [4,8,12] == [2*2,\"4*2\",6*2]\n",
    "    ```\n",
    "1.  ```python \n",
    "    [][:] == []\n",
    "    ```"
   ]
  },
  {
   "cell_type": "markdown",
   "metadata": {},
   "source": [
    "Three quotes, multiple lines, more compact - works in Jupyter,  **doesn't** in Sphinx\n",
    "\n",
    "1.  ```python \n",
    "    [2,3,1] != \"[2,3,1]\"```\n",
    "1.  ```python \n",
    "    [4,8,12] == [2*2,\"4*2\",6*2]```\n",
    "1.  ```python \n",
    "    [][:] == []```"
   ]
  },
  {
   "cell_type": "markdown",
   "metadata": {},
   "source": [
    "Highlighting **doesn't** work in Jupyter neither in Sphinx:\n",
    "\n",
    "Three quotes, single line\n",
    "\n",
    "1. ```python [2,3,1] != [\"2\",3,1]```\n",
    "1. ```python [4,8,12] == [2*2,\"4*2\",6*2]```\n",
    "1. ```python [][:] == \"[]\"```\n",
    "\n",
    "Single quote, single line\n",
    "\n",
    "1. `python [2,3,1] != [\"2\",3,1]`\n",
    "1. `python [4,8,12] == [2*2,\"4*2\",6*2]`\n",
    "1. `python [][:] == \"[]\"`\n"
   ]
  },
  {
   "cell_type": "markdown",
   "metadata": {},
   "source": [
    "## Togglable cells\n",
    "\n",
    "There are various ways to have togglable cells.\n",
    "\n",
    "### Show/hide exercises (PREFERRED)\n",
    "\n",
    "If you need clickable show/hide buttons for exercise solutions , see here: [Editing - Exercise types](https://jupman.softpython.org/en/latest/manual/editing.html#Exercise-types). It manages comprehensively use cases for display in website, student zips, exams, etc\n",
    "\n",
    "If you have other needs, we report here some test we made, but keep in mind this sort of hacks tend to change behaviour with different versions of jupyter.\n",
    "\n",
    "### Toggling with Javascript\n",
    "\n",
    "* Works in MarkDown\n",
    "* Works while in Jupyter\n",
    "* Works in HTML\n",
    "* Does not show in Latex (which might be a good point, if you intend to put somehow solutions at the end of the document)\n",
    "* NOTE: after creating the text to see the results you have to run the initial cell with jupman.init (as for the toc) \n",
    "* NOTE: you can't use Markdown block code since of Sept 2017 doesn't show well in HTML output \n",
    "\n",
    "<div class=\"jupman-togglable\">\n",
    "\n",
    "<code>\n",
    "<pre>\n",
    "    # SOME CODE\n",
    "    color = raw_input(\"What's your eyes' color?\")\n",
    "    if color == \"\":\n",
    "        sys.exit()\n",
    "</pre>\n",
    "</code>\n",
    "</div>\n",
    "\n",
    "<div class=\"jupman-togglable\" \n",
    "     data-jupman-show=\"Customized show msg\" \n",
    "     data-jupman-hide=\"Customized hide msg\">\n",
    "\n",
    "<code>\n",
    "<pre>\n",
    "    # SOME OTHER CODE\n",
    "    how_old = raw_input(\"How old are you?\")\n",
    "    x = random.randint(1,8)\n",
    "    if question == \"\":\n",
    "        sys.exit()\n",
    "        \n",
    "</pre>\n",
    "</code>\n",
    "</div>"
   ]
  },
  {
   "cell_type": "markdown",
   "metadata": {},
   "source": [
    "### HTML details in Markdown, code tag \n",
    "\n",
    "* Works while in Jupyter\n",
    "* Doesn't work in HTML output\n",
    "* as of Sept Oct 2017, not yet supported in Microsoft browsers\n",
    "\n",
    "<details>\n",
    "\n",
    "<summary>Click here to see the code</summary>\n",
    "\n",
    "<code>\n",
    "\n",
    "    question = raw_input(\"What?\")\n",
    "    answers = random.randint(1,8)\n",
    "    if question == \"\":\n",
    "        sys.exit()\n",
    "</code>\n",
    "\n",
    "</details>\n"
   ]
  },
  {
   "cell_type": "markdown",
   "metadata": {},
   "source": [
    "### HTML details in Markdown, Markdown mixed code\n",
    "\n",
    "* Works while in Jupyter \n",
    "* Doesn't work in HTML output\n",
    "* as of Sept Oct 2017, not yet supported in Microsoft browsers\n",
    "\n",
    "\n",
    "<details>\n",
    "\n",
    "<summary>Click here to see the code</summary>\n",
    "\n",
    "```python\n",
    "    question = raw_input(\"What?\")\n",
    "    answers = random.randint(1,8)\n",
    "    if question == \"\":\n",
    "        sys.exit()\n",
    "```\n",
    "\n",
    "</details>\n"
   ]
  },
  {
   "cell_type": "markdown",
   "metadata": {},
   "source": [
    "### HTML details in HTML, raw NBConvert Format \n",
    "\n",
    "* Doesn't work in Jupyter\n",
    "* Works in HTML output\n",
    "    * NOTE: as of Sept Oct 2017, not yet supported in Microsoft browsers\n",
    "* Doesn't show at all in PDF output\n"
   ]
  },
  {
   "cell_type": "raw",
   "metadata": {
    "raw_mimetype": "text/html"
   },
   "source": [
    "<details>\n",
    "<summary>Click here to see the code</summary>\n",
    "<code>\n",
    "<pre>\n",
    "    question = raw_input(\"What?\")\n",
    "    answers = random.randint(1,8)\n",
    "    if question == \"\":\n",
    "        sys.exit()\n",
    "</pre>\n",
    "</code>\n",
    "</details>"
   ]
  },
  {
   "cell_type": "markdown",
   "metadata": {},
   "source": [
    "Some other Markdown cell afterwards ...."
   ]
  },
  {
   "cell_type": "markdown",
   "metadata": {},
   "source": [
    "## Files in templates\n",
    "\n",
    "Since Dec 2019 they are not accessible [see issue 10](https://github.com/DavidLeoni/jupman/issues/10), but it is not a great problem, you can always put a link to Github, see for example [exam-yyyy-mm-dd.ipynb](https://github.com/DavidLeoni/jupman/tree/master/_templates/exam/exam-yyyy-mm-dd.ipynb)"
   ]
  },
  {
   "cell_type": "markdown",
   "metadata": {},
   "source": [
    "## Python tutor\n",
    "\n",
    "There are various ways to embed Python tutor, first we put the recommended one."
   ]
  },
  {
   "cell_type": "markdown",
   "metadata": {},
   "source": [
    "###  jupman.pytut"
   ]
  },
  {
   "cell_type": "markdown",
   "metadata": {},
   "source": [
    "**RECOMMENDED**: You can put a call to `jupman.pytut()` at the end of a cell, and the cell code will magically appear in python tutor in the output (except the call to `pytut()` of course). \n",
    "Does not need internet  connection."
   ]
  },
  {
   "cell_type": "code",
   "execution_count": 2,
   "metadata": {},
   "outputs": [
    {
     "data": {
      "text/html": [
       "\n",
       "        <script src=\"_static/js/pytutor-embed.bundle.min.js\" type=\"application/javascript\"></script>\n",
       "     \n",
       "        <script id=\"json-jm180edf7c-1960-4568-87de-fb7be5c6dd0e\" type=\"application/json\" >\n",
       "            {\"code\": \" \\nx = [5,8,4,10,30,20,40,50,60,70,20,30]\\ny= {3:9}\\nz = [x]\", \"trace\": [{\"line\": 2, \"event\": \"step_line\", \"func_name\": \"<module>\", \"globals\": {}, \"ordered_globals\": [], \"stack_to_render\": [], \"heap\": {}, \"stdout\": \"\"}, {\"line\": 3, \"event\": \"step_line\", \"func_name\": \"<module>\", \"globals\": {\"x\": [\"REF\", 1]}, \"ordered_globals\": [\"x\"], \"stack_to_render\": [], \"heap\": {\"1\": [\"LIST\", 5, 8, 4, 10, 30, 20, 40, 50, 60, 70, 20, 30]}, \"stdout\": \"\"}, {\"line\": 4, \"event\": \"step_line\", \"func_name\": \"<module>\", \"globals\": {\"x\": [\"REF\", 1], \"y\": [\"REF\", 2]}, \"ordered_globals\": [\"x\", \"y\"], \"stack_to_render\": [], \"heap\": {\"1\": [\"LIST\", 5, 8, 4, 10, 30, 20, 40, 50, 60, 70, 20, 30], \"2\": [\"DICT\", [3, 9]]}, \"stdout\": \"\"}, {\"line\": 4, \"event\": \"return\", \"func_name\": \"<module>\", \"globals\": {\"x\": [\"REF\", 1], \"y\": [\"REF\", 2], \"z\": [\"REF\", 3]}, \"ordered_globals\": [\"x\", \"y\", \"z\"], \"stack_to_render\": [], \"heap\": {\"1\": [\"LIST\", 5, 8, 4, 10, 30, 20, 40, 50, 60, 70, 20, 30], \"2\": [\"DICT\", [3, 9]], \"3\": [\"LIST\", [\"REF\", 1]]}, \"stdout\": \"\"}]}\n",
       "        </script>\n",
       "        <div id=\"jm180edf7c-1960-4568-87de-fb7be5c6dd0e\" class=\"pytutorVisualizer\"> </div>\n",
       " \n",
       "        <style>\n",
       "        .vizLayoutTd {\n",
       "            background-color: #fff !important;\n",
       "        }\n",
       "                            \n",
       "        #pyStdout {\n",
       "            min-height:25px;\n",
       "        }\n",
       "\n",
       "        /* 'Edit this code' link, hiding because replaces browser tab !!!*/\n",
       "        #editCodeLinkDiv {\n",
       "            display:none;  \n",
       "        }\n",
       "        </style>   \n",
       "                            \n",
       "        <script>\n",
       "        (function(){\n",
       "\n",
       "            var trace = JSON.parse(document.getElementById('json-jm180edf7c-1960-4568-87de-fb7be5c6dd0e').innerHTML);                                        \n",
       "            // NOTE 1: id without #\n",
       "            // NOTE 2 - maybe there are more predictable ways, but this will work anyway\n",
       "            //        - id should be number\n",
       "            visualizerIdOverride = Math.trunc(Math.random() * 100000000000)\n",
       "            addVisualizerToPage(trace, 'jm180edf7c-1960-4568-87de-fb7be5c6dd0e',{'embeddedMode' : false,\n",
       "                                             'visualizerIdOverride':visualizerIdOverride})  \n",
       "            \n",
       "            \n",
       "            // set overflow for pytuts - need to do in python as css \n",
       "            // does not allow parent selection\n",
       "            var pytuts = $('.pytutorVisualizer')\n",
       "            pytuts.closest('div.output_html.rendered_html.output_result')\n",
       "                    .css('overflow-x', 'visible')\n",
       "        \n",
       "            //pytuts.closest('div.output_html.rendered_html.output_result')\n",
       "            //      .css('background-color','red')                \n",
       "            \n",
       "        })()\n",
       "        </script>\n",
       "                \n",
       "                "
      ],
      "text/plain": [
       "<IPython.core.display.HTML object>"
      ]
     },
     "execution_count": 2,
     "metadata": {},
     "output_type": "execute_result"
    }
   ],
   "source": [
    "x = [5,8,4,10,30,20,40,50,60,70,20,30]\n",
    "y= {3:9}\n",
    "z = [x]\n",
    "\n",
    "jupman.pytut()"
   ]
  },
  {
   "cell_type": "markdown",
   "metadata": {},
   "source": [
    "**jupman.pytut scope**: BEWARE of variables which were initialized in previous cells, they WILL NOT be available in Python Tutor:"
   ]
  },
  {
   "cell_type": "code",
   "execution_count": 3,
   "metadata": {},
   "outputs": [],
   "source": [
    "w = 8"
   ]
  },
  {
   "cell_type": "code",
   "execution_count": 4,
   "metadata": {
    "scrolled": false
   },
   "outputs": [
    {
     "name": "stderr",
     "output_type": "stream",
     "text": [
      "Traceback (most recent call last):\n",
      "  File \"/home/da/Da/prj/jupman/prj/jupman.py\", line 2434, in _runscript\n",
      "    self.run(script_str, user_globals, user_globals)\n",
      "  File \"/usr/lib/python3.7/bdb.py\", line 578, in run\n",
      "    exec(cmd, globals, locals)\n",
      "  File \"<string>\", line 2, in <module>\n",
      "NameError: name 'w' is not defined\n"
     ]
    },
    {
     "data": {
      "text/html": [
       "\n",
       "        <script src=\"_static/js/pytutor-embed.bundle.min.js\" type=\"application/javascript\"></script>\n",
       "     \n",
       "        <script id=\"json-jmf9fa5318-55bd-47bb-a0cc-91606b8d5106\" type=\"application/json\" >\n",
       "            {\"code\": \" \\nx =  w + 5\", \"trace\": [{\"line\": 2, \"event\": \"step_line\", \"func_name\": \"<module>\", \"globals\": {}, \"ordered_globals\": [], \"stack_to_render\": [], \"heap\": {}, \"stdout\": \"\"}, {\"line\": 2, \"event\": \"exception\", \"func_name\": \"<module>\", \"globals\": {}, \"ordered_globals\": [], \"stack_to_render\": [], \"heap\": {}, \"stdout\": \"\", \"exception_msg\": \"NameError: name 'w' is not defined\"}]}\n",
       "        </script>\n",
       "        <div id=\"jmf9fa5318-55bd-47bb-a0cc-91606b8d5106\" class=\"pytutorVisualizer\"> </div>\n",
       " \n",
       "        <style>\n",
       "        .vizLayoutTd {\n",
       "            background-color: #fff !important;\n",
       "        }\n",
       "                            \n",
       "        #pyStdout {\n",
       "            min-height:25px;\n",
       "        }\n",
       "\n",
       "        /* 'Edit this code' link, hiding because replaces browser tab !!!*/\n",
       "        #editCodeLinkDiv {\n",
       "            display:none;  \n",
       "        }\n",
       "        </style>   \n",
       "                            \n",
       "        <script>\n",
       "        (function(){\n",
       "\n",
       "            var trace = JSON.parse(document.getElementById('json-jmf9fa5318-55bd-47bb-a0cc-91606b8d5106').innerHTML);                                        \n",
       "            // NOTE 1: id without #\n",
       "            // NOTE 2 - maybe there are more predictable ways, but this will work anyway\n",
       "            //        - id should be number\n",
       "            visualizerIdOverride = Math.trunc(Math.random() * 100000000000)\n",
       "            addVisualizerToPage(trace, 'jmf9fa5318-55bd-47bb-a0cc-91606b8d5106',{'embeddedMode' : false,\n",
       "                                             'visualizerIdOverride':visualizerIdOverride})  \n",
       "            \n",
       "            \n",
       "            // set overflow for pytuts - need to do in python as css \n",
       "            // does not allow parent selection\n",
       "            var pytuts = $('.pytutorVisualizer')\n",
       "            pytuts.closest('div.output_html.rendered_html.output_result')\n",
       "                    .css('overflow-x', 'visible')\n",
       "        \n",
       "            //pytuts.closest('div.output_html.rendered_html.output_result')\n",
       "            //      .css('background-color','red')                \n",
       "            \n",
       "        })()\n",
       "        </script>\n",
       "                \n",
       "                "
      ],
      "text/plain": [
       "<IPython.core.display.HTML object>"
      ]
     },
     "execution_count": 4,
     "metadata": {},
     "output_type": "execute_result"
    }
   ],
   "source": [
    "x =  w + 5\n",
    "jupman.pytut()"
   ]
  },
  {
   "cell_type": "markdown",
   "metadata": {},
   "source": [
    "**jupman.pytut window overflow**: When too much right space is taken, it might be difficult to scroll:\n"
   ]
  },
  {
   "cell_type": "code",
   "execution_count": 5,
   "metadata": {},
   "outputs": [
    {
     "data": {
      "text/html": [
       "\n",
       "        <script src=\"_static/js/pytutor-embed.bundle.min.js\" type=\"application/javascript\"></script>\n",
       "     \n",
       "        <script id=\"json-jm3a332828-8ee6-4546-b01e-7493fdc38e41\" type=\"application/json\" >\n",
       "            {\"code\": \" \\nx = [3,2,5,2,42,34,2,4,34,2,3,4,23,4,23,4,2,34,23,4,23,4,23,4,234,34,23,4,23,4,23,4,2]\", \"trace\": [{\"line\": 2, \"event\": \"step_line\", \"func_name\": \"<module>\", \"globals\": {}, \"ordered_globals\": [], \"stack_to_render\": [], \"heap\": {}, \"stdout\": \"\"}, {\"line\": 2, \"event\": \"return\", \"func_name\": \"<module>\", \"globals\": {\"x\": [\"REF\", 1]}, \"ordered_globals\": [\"x\"], \"stack_to_render\": [], \"heap\": {\"1\": [\"LIST\", 3, 2, 5, 2, 42, 34, 2, 4, 34, 2, 3, 4, 23, 4, 23, 4, 2, 34, 23, 4, 23, 4, 23, 4, 234, 34, 23, 4, 23, 4, 23, 4, 2]}, \"stdout\": \"\"}]}\n",
       "        </script>\n",
       "        <div id=\"jm3a332828-8ee6-4546-b01e-7493fdc38e41\" class=\"pytutorVisualizer\"> </div>\n",
       " \n",
       "        <style>\n",
       "        .vizLayoutTd {\n",
       "            background-color: #fff !important;\n",
       "        }\n",
       "                            \n",
       "        #pyStdout {\n",
       "            min-height:25px;\n",
       "        }\n",
       "\n",
       "        /* 'Edit this code' link, hiding because replaces browser tab !!!*/\n",
       "        #editCodeLinkDiv {\n",
       "            display:none;  \n",
       "        }\n",
       "        </style>   \n",
       "                            \n",
       "        <script>\n",
       "        (function(){\n",
       "\n",
       "            var trace = JSON.parse(document.getElementById('json-jm3a332828-8ee6-4546-b01e-7493fdc38e41').innerHTML);                                        \n",
       "            // NOTE 1: id without #\n",
       "            // NOTE 2 - maybe there are more predictable ways, but this will work anyway\n",
       "            //        - id should be number\n",
       "            visualizerIdOverride = Math.trunc(Math.random() * 100000000000)\n",
       "            addVisualizerToPage(trace, 'jm3a332828-8ee6-4546-b01e-7493fdc38e41',{'embeddedMode' : false,\n",
       "                                             'visualizerIdOverride':visualizerIdOverride})  \n",
       "            \n",
       "            \n",
       "            // set overflow for pytuts - need to do in python as css \n",
       "            // does not allow parent selection\n",
       "            var pytuts = $('.pytutorVisualizer')\n",
       "            pytuts.closest('div.output_html.rendered_html.output_result')\n",
       "                    .css('overflow-x', 'visible')\n",
       "        \n",
       "            //pytuts.closest('div.output_html.rendered_html.output_result')\n",
       "            //      .css('background-color','red')                \n",
       "            \n",
       "        })()\n",
       "        </script>\n",
       "                \n",
       "                "
      ],
      "text/plain": [
       "<IPython.core.display.HTML object>"
      ]
     },
     "execution_count": 5,
     "metadata": {},
     "output_type": "execute_result"
    }
   ],
   "source": [
    "x = [3,2,5,2,42,34,2,4,34,2,3,4,23,4,23,4,2,34,23,4,23,4,23,4,234,34,23,4,23,4,23,4,2]\n",
    "\n",
    "jupman.pytut()"
   ]
  },
  {
   "cell_type": "code",
   "execution_count": 6,
   "metadata": {},
   "outputs": [
    {
     "name": "stderr",
     "output_type": "stream",
     "text": [
      "Traceback (most recent call last):\n",
      "  File \"/home/da/Da/prj/jupman/prj/jupman.py\", line 2434, in _runscript\n",
      "    self.run(script_str, user_globals, user_globals)\n",
      "  File \"/usr/lib/python3.7/bdb.py\", line 578, in run\n",
      "    exec(cmd, globals, locals)\n",
      "  File \"<string>\", line 2, in <module>\n",
      "NameError: name 'w' is not defined\n"
     ]
    },
    {
     "data": {
      "text/html": [
       "\n",
       "        <script src=\"_static/js/pytutor-embed.bundle.min.js\" type=\"application/javascript\"></script>\n",
       "     \n",
       "        <script id=\"json-jmde47969d-d270-46df-aa95-38b19c2118d8\" type=\"application/json\" >\n",
       "            {\"code\": \" \\nx =  w + 5\", \"trace\": [{\"line\": 2, \"event\": \"step_line\", \"func_name\": \"<module>\", \"globals\": {}, \"ordered_globals\": [], \"stack_to_render\": [], \"heap\": {}, \"stdout\": \"\"}, {\"line\": 2, \"event\": \"exception\", \"func_name\": \"<module>\", \"globals\": {}, \"ordered_globals\": [], \"stack_to_render\": [], \"heap\": {}, \"stdout\": \"\", \"exception_msg\": \"NameError: name 'w' is not defined\"}]}\n",
       "        </script>\n",
       "        <div id=\"jmde47969d-d270-46df-aa95-38b19c2118d8\" class=\"pytutorVisualizer\"> </div>\n",
       " \n",
       "        <style>\n",
       "        .vizLayoutTd {\n",
       "            background-color: #fff !important;\n",
       "        }\n",
       "                            \n",
       "        #pyStdout {\n",
       "            min-height:25px;\n",
       "        }\n",
       "\n",
       "        /* 'Edit this code' link, hiding because replaces browser tab !!!*/\n",
       "        #editCodeLinkDiv {\n",
       "            display:none;  \n",
       "        }\n",
       "        </style>   \n",
       "                            \n",
       "        <script>\n",
       "        (function(){\n",
       "\n",
       "            var trace = JSON.parse(document.getElementById('json-jmde47969d-d270-46df-aa95-38b19c2118d8').innerHTML);                                        \n",
       "            // NOTE 1: id without #\n",
       "            // NOTE 2 - maybe there are more predictable ways, but this will work anyway\n",
       "            //        - id should be number\n",
       "            visualizerIdOverride = Math.trunc(Math.random() * 100000000000)\n",
       "            addVisualizerToPage(trace, 'jmde47969d-d270-46df-aa95-38b19c2118d8',{'embeddedMode' : false,\n",
       "                                             'visualizerIdOverride':visualizerIdOverride})  \n",
       "            \n",
       "            \n",
       "            // set overflow for pytuts - need to do in python as css \n",
       "            // does not allow parent selection\n",
       "            var pytuts = $('.pytutorVisualizer')\n",
       "            pytuts.closest('div.output_html.rendered_html.output_result')\n",
       "                    .css('overflow-x', 'visible')\n",
       "        \n",
       "            //pytuts.closest('div.output_html.rendered_html.output_result')\n",
       "            //      .css('background-color','red')                \n",
       "            \n",
       "        })()\n",
       "        </script>\n",
       "                \n",
       "                "
      ],
      "text/plain": [
       "<IPython.core.display.HTML object>"
      ]
     },
     "execution_count": 6,
     "metadata": {},
     "output_type": "execute_result"
    }
   ],
   "source": [
    "x =  w + 5\n",
    "jupman.pytut()"
   ]
  },
  {
   "cell_type": "markdown",
   "metadata": {},
   "source": [
    "**jupman.pytut execution:** Some cells might execute in Jupyter but not so well in Python Tutor, due to [its inherent limitations](https://github.com/pgbovine/OnlinePythonTutor/blob/master/unsupported-features.md):"
   ]
  },
  {
   "cell_type": "code",
   "execution_count": 7,
   "metadata": {},
   "outputs": [
    {
     "name": "stdout",
     "output_type": "stream",
     "text": [
      "10000\n"
     ]
    },
    {
     "data": {
      "text/html": [
       "\n",
       "        <script src=\"_static/js/pytutor-embed.bundle.min.js\" type=\"application/javascript\"></script>\n",
       "     \n",
       "        <script id=\"json-jm6522534b-687b-4716-83f8-deb262353ae1\" type=\"application/json\" >\n",
       "            {\"code\": \" \\nx = 0\\nfor i in range(10000):\\n    x += 1\\nprint(x)\", \"trace\": [{\"line\": 2, \"event\": \"step_line\", \"func_name\": \"<module>\", \"globals\": {}, \"ordered_globals\": [], \"stack_to_render\": [], \"heap\": {}, \"stdout\": \"\"}, {\"line\": 3, \"event\": \"step_line\", \"func_name\": \"<module>\", \"globals\": {\"x\": 0}, \"ordered_globals\": [\"x\"], \"stack_to_render\": [], \"heap\": {}, \"stdout\": \"\"}, {\"line\": 4, \"event\": \"step_line\", \"func_name\": \"<module>\", \"globals\": {\"x\": 0, \"i\": 0}, \"ordered_globals\": [\"x\", \"i\"], \"stack_to_render\": [], \"heap\": {}, \"stdout\": \"\"}, {\"line\": 3, \"event\": \"step_line\", \"func_name\": \"<module>\", \"globals\": {\"x\": 1, \"i\": 0}, \"ordered_globals\": [\"x\", \"i\"], \"stack_to_render\": [], \"heap\": {}, \"stdout\": \"\"}, {\"line\": 4, \"event\": \"step_line\", \"func_name\": \"<module>\", \"globals\": {\"x\": 1, \"i\": 1}, \"ordered_globals\": [\"x\", \"i\"], \"stack_to_render\": [], \"heap\": {}, \"stdout\": \"\"}, {\"line\": 3, \"event\": \"step_line\", \"func_name\": \"<module>\", \"globals\": {\"x\": 2, \"i\": 1}, \"ordered_globals\": [\"x\", \"i\"], \"stack_to_render\": [], \"heap\": {}, \"stdout\": \"\"}, {\"line\": 4, \"event\": \"step_line\", \"func_name\": \"<module>\", \"globals\": {\"x\": 2, \"i\": 2}, \"ordered_globals\": [\"x\", \"i\"], \"stack_to_render\": [], \"heap\": {}, \"stdout\": \"\"}, {\"line\": 3, \"event\": \"step_line\", \"func_name\": \"<module>\", \"globals\": {\"x\": 3, \"i\": 2}, \"ordered_globals\": [\"x\", \"i\"], \"stack_to_render\": [], \"heap\": {}, \"stdout\": \"\"}, {\"line\": 4, \"event\": \"step_line\", \"func_name\": \"<module>\", \"globals\": {\"x\": 3, \"i\": 3}, \"ordered_globals\": [\"x\", \"i\"], \"stack_to_render\": [], \"heap\": {}, \"stdout\": \"\"}, {\"line\": 3, \"event\": \"step_line\", \"func_name\": \"<module>\", \"globals\": {\"x\": 4, \"i\": 3}, \"ordered_globals\": [\"x\", \"i\"], \"stack_to_render\": [], \"heap\": {}, \"stdout\": \"\"}, {\"line\": 4, \"event\": \"step_line\", \"func_name\": \"<module>\", \"globals\": {\"x\": 4, \"i\": 4}, \"ordered_globals\": [\"x\", \"i\"], \"stack_to_render\": [], \"heap\": {}, \"stdout\": \"\"}, {\"line\": 3, \"event\": \"step_line\", \"func_name\": \"<module>\", \"globals\": {\"x\": 5, \"i\": 4}, \"ordered_globals\": [\"x\", \"i\"], \"stack_to_render\": [], \"heap\": {}, \"stdout\": \"\"}, {\"line\": 4, \"event\": \"step_line\", \"func_name\": \"<module>\", \"globals\": {\"x\": 5, \"i\": 5}, \"ordered_globals\": [\"x\", \"i\"], \"stack_to_render\": [], \"heap\": {}, \"stdout\": \"\"}, {\"line\": 3, \"event\": \"step_line\", \"func_name\": \"<module>\", \"globals\": {\"x\": 6, \"i\": 5}, \"ordered_globals\": [\"x\", \"i\"], \"stack_to_render\": [], \"heap\": {}, \"stdout\": \"\"}, {\"line\": 4, \"event\": \"step_line\", \"func_name\": \"<module>\", \"globals\": {\"x\": 6, \"i\": 6}, \"ordered_globals\": [\"x\", \"i\"], \"stack_to_render\": [], \"heap\": {}, \"stdout\": \"\"}, {\"line\": 3, \"event\": \"step_line\", \"func_name\": \"<module>\", \"globals\": {\"x\": 7, \"i\": 6}, \"ordered_globals\": [\"x\", \"i\"], \"stack_to_render\": [], \"heap\": {}, \"stdout\": \"\"}, {\"line\": 4, \"event\": \"step_line\", \"func_name\": \"<module>\", \"globals\": {\"x\": 7, \"i\": 7}, \"ordered_globals\": [\"x\", \"i\"], \"stack_to_render\": [], \"heap\": {}, \"stdout\": \"\"}, {\"line\": 3, \"event\": \"step_line\", \"func_name\": \"<module>\", \"globals\": {\"x\": 8, \"i\": 7}, \"ordered_globals\": [\"x\", \"i\"], \"stack_to_render\": [], \"heap\": {}, \"stdout\": \"\"}, {\"line\": 4, \"event\": \"step_line\", \"func_name\": \"<module>\", \"globals\": {\"x\": 8, \"i\": 8}, \"ordered_globals\": [\"x\", \"i\"], \"stack_to_render\": [], \"heap\": {}, \"stdout\": \"\"}, {\"line\": 3, \"event\": \"step_line\", \"func_name\": \"<module>\", \"globals\": {\"x\": 9, \"i\": 8}, \"ordered_globals\": [\"x\", \"i\"], \"stack_to_render\": [], \"heap\": {}, \"stdout\": \"\"}, {\"line\": 4, \"event\": \"step_line\", \"func_name\": \"<module>\", \"globals\": {\"x\": 9, \"i\": 9}, \"ordered_globals\": [\"x\", \"i\"], \"stack_to_render\": [], \"heap\": {}, \"stdout\": \"\"}, {\"line\": 3, \"event\": \"step_line\", \"func_name\": \"<module>\", \"globals\": {\"x\": 10, \"i\": 9}, \"ordered_globals\": [\"x\", \"i\"], \"stack_to_render\": [], \"heap\": {}, \"stdout\": \"\"}, {\"line\": 4, \"event\": \"step_line\", \"func_name\": \"<module>\", \"globals\": {\"x\": 10, \"i\": 10}, \"ordered_globals\": [\"x\", \"i\"], \"stack_to_render\": [], \"heap\": {}, \"stdout\": \"\"}, {\"line\": 3, \"event\": \"step_line\", \"func_name\": \"<module>\", \"globals\": {\"x\": 11, \"i\": 10}, \"ordered_globals\": [\"x\", \"i\"], \"stack_to_render\": [], \"heap\": {}, \"stdout\": \"\"}, {\"line\": 4, \"event\": \"step_line\", \"func_name\": \"<module>\", \"globals\": {\"x\": 11, \"i\": 11}, \"ordered_globals\": [\"x\", \"i\"], \"stack_to_render\": [], \"heap\": {}, \"stdout\": \"\"}, {\"line\": 3, \"event\": \"step_line\", \"func_name\": \"<module>\", \"globals\": {\"x\": 12, \"i\": 11}, \"ordered_globals\": [\"x\", \"i\"], \"stack_to_render\": [], \"heap\": {}, \"stdout\": \"\"}, {\"line\": 4, \"event\": \"step_line\", \"func_name\": \"<module>\", \"globals\": {\"x\": 12, \"i\": 12}, \"ordered_globals\": [\"x\", \"i\"], \"stack_to_render\": [], \"heap\": {}, \"stdout\": \"\"}, {\"line\": 3, \"event\": \"step_line\", \"func_name\": \"<module>\", \"globals\": {\"x\": 13, \"i\": 12}, \"ordered_globals\": [\"x\", \"i\"], \"stack_to_render\": [], \"heap\": {}, \"stdout\": \"\"}, {\"line\": 4, \"event\": \"step_line\", \"func_name\": \"<module>\", \"globals\": {\"x\": 13, \"i\": 13}, \"ordered_globals\": [\"x\", \"i\"], \"stack_to_render\": [], \"heap\": {}, \"stdout\": \"\"}, {\"line\": 3, \"event\": \"step_line\", \"func_name\": \"<module>\", \"globals\": {\"x\": 14, \"i\": 13}, \"ordered_globals\": [\"x\", \"i\"], \"stack_to_render\": [], \"heap\": {}, \"stdout\": \"\"}, {\"line\": 4, \"event\": \"step_line\", \"func_name\": \"<module>\", \"globals\": {\"x\": 14, \"i\": 14}, \"ordered_globals\": [\"x\", \"i\"], \"stack_to_render\": [], \"heap\": {}, \"stdout\": \"\"}, {\"line\": 3, \"event\": \"step_line\", \"func_name\": \"<module>\", \"globals\": {\"x\": 15, \"i\": 14}, \"ordered_globals\": [\"x\", \"i\"], \"stack_to_render\": [], \"heap\": {}, \"stdout\": \"\"}, {\"line\": 4, \"event\": \"step_line\", \"func_name\": \"<module>\", \"globals\": {\"x\": 15, \"i\": 15}, \"ordered_globals\": [\"x\", \"i\"], \"stack_to_render\": [], \"heap\": {}, \"stdout\": \"\"}, {\"line\": 3, \"event\": \"step_line\", \"func_name\": \"<module>\", \"globals\": {\"x\": 16, \"i\": 15}, \"ordered_globals\": [\"x\", \"i\"], \"stack_to_render\": [], \"heap\": {}, \"stdout\": \"\"}, {\"line\": 4, \"event\": \"step_line\", \"func_name\": \"<module>\", \"globals\": {\"x\": 16, \"i\": 16}, \"ordered_globals\": [\"x\", \"i\"], \"stack_to_render\": [], \"heap\": {}, \"stdout\": \"\"}, {\"line\": 3, \"event\": \"step_line\", \"func_name\": \"<module>\", \"globals\": {\"x\": 17, \"i\": 16}, \"ordered_globals\": [\"x\", \"i\"], \"stack_to_render\": [], \"heap\": {}, \"stdout\": \"\"}, {\"line\": 4, \"event\": \"step_line\", \"func_name\": \"<module>\", \"globals\": {\"x\": 17, \"i\": 17}, \"ordered_globals\": [\"x\", \"i\"], \"stack_to_render\": [], \"heap\": {}, \"stdout\": \"\"}, {\"line\": 3, \"event\": \"step_line\", \"func_name\": \"<module>\", \"globals\": {\"x\": 18, \"i\": 17}, \"ordered_globals\": [\"x\", \"i\"], \"stack_to_render\": [], \"heap\": {}, \"stdout\": \"\"}, {\"line\": 4, \"event\": \"step_line\", \"func_name\": \"<module>\", \"globals\": {\"x\": 18, \"i\": 18}, \"ordered_globals\": [\"x\", \"i\"], \"stack_to_render\": [], \"heap\": {}, \"stdout\": \"\"}, {\"line\": 3, \"event\": \"step_line\", \"func_name\": \"<module>\", \"globals\": {\"x\": 19, \"i\": 18}, \"ordered_globals\": [\"x\", \"i\"], \"stack_to_render\": [], \"heap\": {}, \"stdout\": \"\"}, {\"line\": 4, \"event\": \"step_line\", \"func_name\": \"<module>\", \"globals\": {\"x\": 19, \"i\": 19}, \"ordered_globals\": [\"x\", \"i\"], \"stack_to_render\": [], \"heap\": {}, \"stdout\": \"\"}, {\"line\": 3, \"event\": \"step_line\", \"func_name\": \"<module>\", \"globals\": {\"x\": 20, \"i\": 19}, \"ordered_globals\": [\"x\", \"i\"], \"stack_to_render\": [], \"heap\": {}, \"stdout\": \"\"}, {\"line\": 4, \"event\": \"step_line\", \"func_name\": \"<module>\", \"globals\": {\"x\": 20, \"i\": 20}, \"ordered_globals\": [\"x\", \"i\"], \"stack_to_render\": [], \"heap\": {}, \"stdout\": \"\"}, {\"line\": 3, \"event\": \"step_line\", \"func_name\": \"<module>\", \"globals\": {\"x\": 21, \"i\": 20}, \"ordered_globals\": [\"x\", \"i\"], \"stack_to_render\": [], \"heap\": {}, \"stdout\": \"\"}, {\"line\": 4, \"event\": \"step_line\", \"func_name\": \"<module>\", \"globals\": {\"x\": 21, \"i\": 21}, \"ordered_globals\": [\"x\", \"i\"], \"stack_to_render\": [], \"heap\": {}, \"stdout\": \"\"}, {\"line\": 3, \"event\": \"step_line\", \"func_name\": \"<module>\", \"globals\": {\"x\": 22, \"i\": 21}, \"ordered_globals\": [\"x\", \"i\"], \"stack_to_render\": [], \"heap\": {}, \"stdout\": \"\"}, {\"line\": 4, \"event\": \"step_line\", \"func_name\": \"<module>\", \"globals\": {\"x\": 22, \"i\": 22}, \"ordered_globals\": [\"x\", \"i\"], \"stack_to_render\": [], \"heap\": {}, \"stdout\": \"\"}, {\"line\": 3, \"event\": \"step_line\", \"func_name\": \"<module>\", \"globals\": {\"x\": 23, \"i\": 22}, \"ordered_globals\": [\"x\", \"i\"], \"stack_to_render\": [], \"heap\": {}, \"stdout\": \"\"}, {\"line\": 4, \"event\": \"step_line\", \"func_name\": \"<module>\", \"globals\": {\"x\": 23, \"i\": 23}, \"ordered_globals\": [\"x\", \"i\"], \"stack_to_render\": [], \"heap\": {}, \"stdout\": \"\"}, {\"line\": 3, \"event\": \"step_line\", \"func_name\": \"<module>\", \"globals\": {\"x\": 24, \"i\": 23}, \"ordered_globals\": [\"x\", \"i\"], \"stack_to_render\": [], \"heap\": {}, \"stdout\": \"\"}, {\"line\": 4, \"event\": \"step_line\", \"func_name\": \"<module>\", \"globals\": {\"x\": 24, \"i\": 24}, \"ordered_globals\": [\"x\", \"i\"], \"stack_to_render\": [], \"heap\": {}, \"stdout\": \"\"}, {\"line\": 3, \"event\": \"step_line\", \"func_name\": \"<module>\", \"globals\": {\"x\": 25, \"i\": 24}, \"ordered_globals\": [\"x\", \"i\"], \"stack_to_render\": [], \"heap\": {}, \"stdout\": \"\"}, {\"line\": 4, \"event\": \"step_line\", \"func_name\": \"<module>\", \"globals\": {\"x\": 25, \"i\": 25}, \"ordered_globals\": [\"x\", \"i\"], \"stack_to_render\": [], \"heap\": {}, \"stdout\": \"\"}, {\"line\": 3, \"event\": \"step_line\", \"func_name\": \"<module>\", \"globals\": {\"x\": 26, \"i\": 25}, \"ordered_globals\": [\"x\", \"i\"], \"stack_to_render\": [], \"heap\": {}, \"stdout\": \"\"}, {\"line\": 4, \"event\": \"step_line\", \"func_name\": \"<module>\", \"globals\": {\"x\": 26, \"i\": 26}, \"ordered_globals\": [\"x\", \"i\"], \"stack_to_render\": [], \"heap\": {}, \"stdout\": \"\"}, {\"line\": 3, \"event\": \"step_line\", \"func_name\": \"<module>\", \"globals\": {\"x\": 27, \"i\": 26}, \"ordered_globals\": [\"x\", \"i\"], \"stack_to_render\": [], \"heap\": {}, \"stdout\": \"\"}, {\"line\": 4, \"event\": \"step_line\", \"func_name\": \"<module>\", \"globals\": {\"x\": 27, \"i\": 27}, \"ordered_globals\": [\"x\", \"i\"], \"stack_to_render\": [], \"heap\": {}, \"stdout\": \"\"}, {\"line\": 3, \"event\": \"step_line\", \"func_name\": \"<module>\", \"globals\": {\"x\": 28, \"i\": 27}, \"ordered_globals\": [\"x\", \"i\"], \"stack_to_render\": [], \"heap\": {}, \"stdout\": \"\"}, {\"line\": 4, \"event\": \"step_line\", \"func_name\": \"<module>\", \"globals\": {\"x\": 28, \"i\": 28}, \"ordered_globals\": [\"x\", \"i\"], \"stack_to_render\": [], \"heap\": {}, \"stdout\": \"\"}, {\"line\": 3, \"event\": \"step_line\", \"func_name\": \"<module>\", \"globals\": {\"x\": 29, \"i\": 28}, \"ordered_globals\": [\"x\", \"i\"], \"stack_to_render\": [], \"heap\": {}, \"stdout\": \"\"}, {\"line\": 4, \"event\": \"step_line\", \"func_name\": \"<module>\", \"globals\": {\"x\": 29, \"i\": 29}, \"ordered_globals\": [\"x\", \"i\"], \"stack_to_render\": [], \"heap\": {}, \"stdout\": \"\"}, {\"line\": 3, \"event\": \"step_line\", \"func_name\": \"<module>\", \"globals\": {\"x\": 30, \"i\": 29}, \"ordered_globals\": [\"x\", \"i\"], \"stack_to_render\": [], \"heap\": {}, \"stdout\": \"\"}, {\"line\": 4, \"event\": \"step_line\", \"func_name\": \"<module>\", \"globals\": {\"x\": 30, \"i\": 30}, \"ordered_globals\": [\"x\", \"i\"], \"stack_to_render\": [], \"heap\": {}, \"stdout\": \"\"}, {\"line\": 3, \"event\": \"step_line\", \"func_name\": \"<module>\", \"globals\": {\"x\": 31, \"i\": 30}, \"ordered_globals\": [\"x\", \"i\"], \"stack_to_render\": [], \"heap\": {}, \"stdout\": \"\"}, {\"line\": 4, \"event\": \"step_line\", \"func_name\": \"<module>\", \"globals\": {\"x\": 31, \"i\": 31}, \"ordered_globals\": [\"x\", \"i\"], \"stack_to_render\": [], \"heap\": {}, \"stdout\": \"\"}, {\"line\": 3, \"event\": \"step_line\", \"func_name\": \"<module>\", \"globals\": {\"x\": 32, \"i\": 31}, \"ordered_globals\": [\"x\", \"i\"], \"stack_to_render\": [], \"heap\": {}, \"stdout\": \"\"}, {\"line\": 4, \"event\": \"step_line\", \"func_name\": \"<module>\", \"globals\": {\"x\": 32, \"i\": 32}, \"ordered_globals\": [\"x\", \"i\"], \"stack_to_render\": [], \"heap\": {}, \"stdout\": \"\"}, {\"line\": 3, \"event\": \"step_line\", \"func_name\": \"<module>\", \"globals\": {\"x\": 33, \"i\": 32}, \"ordered_globals\": [\"x\", \"i\"], \"stack_to_render\": [], \"heap\": {}, \"stdout\": \"\"}, {\"line\": 4, \"event\": \"step_line\", \"func_name\": \"<module>\", \"globals\": {\"x\": 33, \"i\": 33}, \"ordered_globals\": [\"x\", \"i\"], \"stack_to_render\": [], \"heap\": {}, \"stdout\": \"\"}, {\"line\": 3, \"event\": \"step_line\", \"func_name\": \"<module>\", \"globals\": {\"x\": 34, \"i\": 33}, \"ordered_globals\": [\"x\", \"i\"], \"stack_to_render\": [], \"heap\": {}, \"stdout\": \"\"}, {\"line\": 4, \"event\": \"step_line\", \"func_name\": \"<module>\", \"globals\": {\"x\": 34, \"i\": 34}, \"ordered_globals\": [\"x\", \"i\"], \"stack_to_render\": [], \"heap\": {}, \"stdout\": \"\"}, {\"line\": 3, \"event\": \"step_line\", \"func_name\": \"<module>\", \"globals\": {\"x\": 35, \"i\": 34}, \"ordered_globals\": [\"x\", \"i\"], \"stack_to_render\": [], \"heap\": {}, \"stdout\": \"\"}, {\"line\": 4, \"event\": \"step_line\", \"func_name\": \"<module>\", \"globals\": {\"x\": 35, \"i\": 35}, \"ordered_globals\": [\"x\", \"i\"], \"stack_to_render\": [], \"heap\": {}, \"stdout\": \"\"}, {\"line\": 3, \"event\": \"step_line\", \"func_name\": \"<module>\", \"globals\": {\"x\": 36, \"i\": 35}, \"ordered_globals\": [\"x\", \"i\"], \"stack_to_render\": [], \"heap\": {}, \"stdout\": \"\"}, {\"line\": 4, \"event\": \"step_line\", \"func_name\": \"<module>\", \"globals\": {\"x\": 36, \"i\": 36}, \"ordered_globals\": [\"x\", \"i\"], \"stack_to_render\": [], \"heap\": {}, \"stdout\": \"\"}, {\"line\": 3, \"event\": \"step_line\", \"func_name\": \"<module>\", \"globals\": {\"x\": 37, \"i\": 36}, \"ordered_globals\": [\"x\", \"i\"], \"stack_to_render\": [], \"heap\": {}, \"stdout\": \"\"}, {\"line\": 4, \"event\": \"step_line\", \"func_name\": \"<module>\", \"globals\": {\"x\": 37, \"i\": 37}, \"ordered_globals\": [\"x\", \"i\"], \"stack_to_render\": [], \"heap\": {}, \"stdout\": \"\"}, {\"line\": 3, \"event\": \"step_line\", \"func_name\": \"<module>\", \"globals\": {\"x\": 38, \"i\": 37}, \"ordered_globals\": [\"x\", \"i\"], \"stack_to_render\": [], \"heap\": {}, \"stdout\": \"\"}, {\"line\": 4, \"event\": \"step_line\", \"func_name\": \"<module>\", \"globals\": {\"x\": 38, \"i\": 38}, \"ordered_globals\": [\"x\", \"i\"], \"stack_to_render\": [], \"heap\": {}, \"stdout\": \"\"}, {\"line\": 3, \"event\": \"step_line\", \"func_name\": \"<module>\", \"globals\": {\"x\": 39, \"i\": 38}, \"ordered_globals\": [\"x\", \"i\"], \"stack_to_render\": [], \"heap\": {}, \"stdout\": \"\"}, {\"line\": 4, \"event\": \"step_line\", \"func_name\": \"<module>\", \"globals\": {\"x\": 39, \"i\": 39}, \"ordered_globals\": [\"x\", \"i\"], \"stack_to_render\": [], \"heap\": {}, \"stdout\": \"\"}, {\"line\": 3, \"event\": \"step_line\", \"func_name\": \"<module>\", \"globals\": {\"x\": 40, \"i\": 39}, \"ordered_globals\": [\"x\", \"i\"], \"stack_to_render\": [], \"heap\": {}, \"stdout\": \"\"}, {\"line\": 4, \"event\": \"step_line\", \"func_name\": \"<module>\", \"globals\": {\"x\": 40, \"i\": 40}, \"ordered_globals\": [\"x\", \"i\"], \"stack_to_render\": [], \"heap\": {}, \"stdout\": \"\"}, {\"line\": 3, \"event\": \"step_line\", \"func_name\": \"<module>\", \"globals\": {\"x\": 41, \"i\": 40}, \"ordered_globals\": [\"x\", \"i\"], \"stack_to_render\": [], \"heap\": {}, \"stdout\": \"\"}, {\"line\": 4, \"event\": \"step_line\", \"func_name\": \"<module>\", \"globals\": {\"x\": 41, \"i\": 41}, \"ordered_globals\": [\"x\", \"i\"], \"stack_to_render\": [], \"heap\": {}, \"stdout\": \"\"}, {\"line\": 3, \"event\": \"step_line\", \"func_name\": \"<module>\", \"globals\": {\"x\": 42, \"i\": 41}, \"ordered_globals\": [\"x\", \"i\"], \"stack_to_render\": [], \"heap\": {}, \"stdout\": \"\"}, {\"line\": 4, \"event\": \"step_line\", \"func_name\": \"<module>\", \"globals\": {\"x\": 42, \"i\": 42}, \"ordered_globals\": [\"x\", \"i\"], \"stack_to_render\": [], \"heap\": {}, \"stdout\": \"\"}, {\"line\": 3, \"event\": \"step_line\", \"func_name\": \"<module>\", \"globals\": {\"x\": 43, \"i\": 42}, \"ordered_globals\": [\"x\", \"i\"], \"stack_to_render\": [], \"heap\": {}, \"stdout\": \"\"}, {\"line\": 4, \"event\": \"step_line\", \"func_name\": \"<module>\", \"globals\": {\"x\": 43, \"i\": 43}, \"ordered_globals\": [\"x\", \"i\"], \"stack_to_render\": [], \"heap\": {}, \"stdout\": \"\"}, {\"line\": 3, \"event\": \"step_line\", \"func_name\": \"<module>\", \"globals\": {\"x\": 44, \"i\": 43}, \"ordered_globals\": [\"x\", \"i\"], \"stack_to_render\": [], \"heap\": {}, \"stdout\": \"\"}, {\"line\": 4, \"event\": \"step_line\", \"func_name\": \"<module>\", \"globals\": {\"x\": 44, \"i\": 44}, \"ordered_globals\": [\"x\", \"i\"], \"stack_to_render\": [], \"heap\": {}, \"stdout\": \"\"}, {\"line\": 3, \"event\": \"step_line\", \"func_name\": \"<module>\", \"globals\": {\"x\": 45, \"i\": 44}, \"ordered_globals\": [\"x\", \"i\"], \"stack_to_render\": [], \"heap\": {}, \"stdout\": \"\"}, {\"line\": 4, \"event\": \"step_line\", \"func_name\": \"<module>\", \"globals\": {\"x\": 45, \"i\": 45}, \"ordered_globals\": [\"x\", \"i\"], \"stack_to_render\": [], \"heap\": {}, \"stdout\": \"\"}, {\"line\": 3, \"event\": \"step_line\", \"func_name\": \"<module>\", \"globals\": {\"x\": 46, \"i\": 45}, \"ordered_globals\": [\"x\", \"i\"], \"stack_to_render\": [], \"heap\": {}, \"stdout\": \"\"}, {\"line\": 4, \"event\": \"step_line\", \"func_name\": \"<module>\", \"globals\": {\"x\": 46, \"i\": 46}, \"ordered_globals\": [\"x\", \"i\"], \"stack_to_render\": [], \"heap\": {}, \"stdout\": \"\"}, {\"line\": 3, \"event\": \"step_line\", \"func_name\": \"<module>\", \"globals\": {\"x\": 47, \"i\": 46}, \"ordered_globals\": [\"x\", \"i\"], \"stack_to_render\": [], \"heap\": {}, \"stdout\": \"\"}, {\"line\": 4, \"event\": \"step_line\", \"func_name\": \"<module>\", \"globals\": {\"x\": 47, \"i\": 47}, \"ordered_globals\": [\"x\", \"i\"], \"stack_to_render\": [], \"heap\": {}, \"stdout\": \"\"}, {\"line\": 3, \"event\": \"step_line\", \"func_name\": \"<module>\", \"globals\": {\"x\": 48, \"i\": 47}, \"ordered_globals\": [\"x\", \"i\"], \"stack_to_render\": [], \"heap\": {}, \"stdout\": \"\"}, {\"line\": 4, \"event\": \"step_line\", \"func_name\": \"<module>\", \"globals\": {\"x\": 48, \"i\": 48}, \"ordered_globals\": [\"x\", \"i\"], \"stack_to_render\": [], \"heap\": {}, \"stdout\": \"\"}, {\"line\": 3, \"event\": \"step_line\", \"func_name\": \"<module>\", \"globals\": {\"x\": 49, \"i\": 48}, \"ordered_globals\": [\"x\", \"i\"], \"stack_to_render\": [], \"heap\": {}, \"stdout\": \"\"}, {\"line\": 4, \"event\": \"step_line\", \"func_name\": \"<module>\", \"globals\": {\"x\": 49, \"i\": 49}, \"ordered_globals\": [\"x\", \"i\"], \"stack_to_render\": [], \"heap\": {}, \"stdout\": \"\"}, {\"line\": 3, \"event\": \"step_line\", \"func_name\": \"<module>\", \"globals\": {\"x\": 50, \"i\": 49}, \"ordered_globals\": [\"x\", \"i\"], \"stack_to_render\": [], \"heap\": {}, \"stdout\": \"\"}, {\"line\": 4, \"event\": \"step_line\", \"func_name\": \"<module>\", \"globals\": {\"x\": 50, \"i\": 50}, \"ordered_globals\": [\"x\", \"i\"], \"stack_to_render\": [], \"heap\": {}, \"stdout\": \"\"}, {\"line\": 3, \"event\": \"step_line\", \"func_name\": \"<module>\", \"globals\": {\"x\": 51, \"i\": 50}, \"ordered_globals\": [\"x\", \"i\"], \"stack_to_render\": [], \"heap\": {}, \"stdout\": \"\"}, {\"line\": 4, \"event\": \"step_line\", \"func_name\": \"<module>\", \"globals\": {\"x\": 51, \"i\": 51}, \"ordered_globals\": [\"x\", \"i\"], \"stack_to_render\": [], \"heap\": {}, \"stdout\": \"\"}, {\"line\": 3, \"event\": \"step_line\", \"func_name\": \"<module>\", \"globals\": {\"x\": 52, \"i\": 51}, \"ordered_globals\": [\"x\", \"i\"], \"stack_to_render\": [], \"heap\": {}, \"stdout\": \"\"}, {\"line\": 4, \"event\": \"step_line\", \"func_name\": \"<module>\", \"globals\": {\"x\": 52, \"i\": 52}, \"ordered_globals\": [\"x\", \"i\"], \"stack_to_render\": [], \"heap\": {}, \"stdout\": \"\"}, {\"line\": 3, \"event\": \"step_line\", \"func_name\": \"<module>\", \"globals\": {\"x\": 53, \"i\": 52}, \"ordered_globals\": [\"x\", \"i\"], \"stack_to_render\": [], \"heap\": {}, \"stdout\": \"\"}, {\"line\": 4, \"event\": \"step_line\", \"func_name\": \"<module>\", \"globals\": {\"x\": 53, \"i\": 53}, \"ordered_globals\": [\"x\", \"i\"], \"stack_to_render\": [], \"heap\": {}, \"stdout\": \"\"}, {\"line\": 3, \"event\": \"step_line\", \"func_name\": \"<module>\", \"globals\": {\"x\": 54, \"i\": 53}, \"ordered_globals\": [\"x\", \"i\"], \"stack_to_render\": [], \"heap\": {}, \"stdout\": \"\"}, {\"line\": 4, \"event\": \"step_line\", \"func_name\": \"<module>\", \"globals\": {\"x\": 54, \"i\": 54}, \"ordered_globals\": [\"x\", \"i\"], \"stack_to_render\": [], \"heap\": {}, \"stdout\": \"\"}, {\"line\": 3, \"event\": \"step_line\", \"func_name\": \"<module>\", \"globals\": {\"x\": 55, \"i\": 54}, \"ordered_globals\": [\"x\", \"i\"], \"stack_to_render\": [], \"heap\": {}, \"stdout\": \"\"}, {\"line\": 4, \"event\": \"step_line\", \"func_name\": \"<module>\", \"globals\": {\"x\": 55, \"i\": 55}, \"ordered_globals\": [\"x\", \"i\"], \"stack_to_render\": [], \"heap\": {}, \"stdout\": \"\"}, {\"line\": 3, \"event\": \"step_line\", \"func_name\": \"<module>\", \"globals\": {\"x\": 56, \"i\": 55}, \"ordered_globals\": [\"x\", \"i\"], \"stack_to_render\": [], \"heap\": {}, \"stdout\": \"\"}, {\"line\": 4, \"event\": \"step_line\", \"func_name\": \"<module>\", \"globals\": {\"x\": 56, \"i\": 56}, \"ordered_globals\": [\"x\", \"i\"], \"stack_to_render\": [], \"heap\": {}, \"stdout\": \"\"}, {\"line\": 3, \"event\": \"step_line\", \"func_name\": \"<module>\", \"globals\": {\"x\": 57, \"i\": 56}, \"ordered_globals\": [\"x\", \"i\"], \"stack_to_render\": [], \"heap\": {}, \"stdout\": \"\"}, {\"line\": 4, \"event\": \"step_line\", \"func_name\": \"<module>\", \"globals\": {\"x\": 57, \"i\": 57}, \"ordered_globals\": [\"x\", \"i\"], \"stack_to_render\": [], \"heap\": {}, \"stdout\": \"\"}, {\"line\": 3, \"event\": \"step_line\", \"func_name\": \"<module>\", \"globals\": {\"x\": 58, \"i\": 57}, \"ordered_globals\": [\"x\", \"i\"], \"stack_to_render\": [], \"heap\": {}, \"stdout\": \"\"}, {\"line\": 4, \"event\": \"step_line\", \"func_name\": \"<module>\", \"globals\": {\"x\": 58, \"i\": 58}, \"ordered_globals\": [\"x\", \"i\"], \"stack_to_render\": [], \"heap\": {}, \"stdout\": \"\"}, {\"line\": 3, \"event\": \"step_line\", \"func_name\": \"<module>\", \"globals\": {\"x\": 59, \"i\": 58}, \"ordered_globals\": [\"x\", \"i\"], \"stack_to_render\": [], \"heap\": {}, \"stdout\": \"\"}, {\"line\": 4, \"event\": \"step_line\", \"func_name\": \"<module>\", \"globals\": {\"x\": 59, \"i\": 59}, \"ordered_globals\": [\"x\", \"i\"], \"stack_to_render\": [], \"heap\": {}, \"stdout\": \"\"}, {\"line\": 3, \"event\": \"step_line\", \"func_name\": \"<module>\", \"globals\": {\"x\": 60, \"i\": 59}, \"ordered_globals\": [\"x\", \"i\"], \"stack_to_render\": [], \"heap\": {}, \"stdout\": \"\"}, {\"line\": 4, \"event\": \"step_line\", \"func_name\": \"<module>\", \"globals\": {\"x\": 60, \"i\": 60}, \"ordered_globals\": [\"x\", \"i\"], \"stack_to_render\": [], \"heap\": {}, \"stdout\": \"\"}, {\"line\": 3, \"event\": \"step_line\", \"func_name\": \"<module>\", \"globals\": {\"x\": 61, \"i\": 60}, \"ordered_globals\": [\"x\", \"i\"], \"stack_to_render\": [], \"heap\": {}, \"stdout\": \"\"}, {\"line\": 4, \"event\": \"step_line\", \"func_name\": \"<module>\", \"globals\": {\"x\": 61, \"i\": 61}, \"ordered_globals\": [\"x\", \"i\"], \"stack_to_render\": [], \"heap\": {}, \"stdout\": \"\"}, {\"line\": 3, \"event\": \"step_line\", \"func_name\": \"<module>\", \"globals\": {\"x\": 62, \"i\": 61}, \"ordered_globals\": [\"x\", \"i\"], \"stack_to_render\": [], \"heap\": {}, \"stdout\": \"\"}, {\"line\": 4, \"event\": \"step_line\", \"func_name\": \"<module>\", \"globals\": {\"x\": 62, \"i\": 62}, \"ordered_globals\": [\"x\", \"i\"], \"stack_to_render\": [], \"heap\": {}, \"stdout\": \"\"}, {\"line\": 3, \"event\": \"step_line\", \"func_name\": \"<module>\", \"globals\": {\"x\": 63, \"i\": 62}, \"ordered_globals\": [\"x\", \"i\"], \"stack_to_render\": [], \"heap\": {}, \"stdout\": \"\"}, {\"line\": 4, \"event\": \"step_line\", \"func_name\": \"<module>\", \"globals\": {\"x\": 63, \"i\": 63}, \"ordered_globals\": [\"x\", \"i\"], \"stack_to_render\": [], \"heap\": {}, \"stdout\": \"\"}, {\"line\": 3, \"event\": \"step_line\", \"func_name\": \"<module>\", \"globals\": {\"x\": 64, \"i\": 63}, \"ordered_globals\": [\"x\", \"i\"], \"stack_to_render\": [], \"heap\": {}, \"stdout\": \"\"}, {\"line\": 4, \"event\": \"step_line\", \"func_name\": \"<module>\", \"globals\": {\"x\": 64, \"i\": 64}, \"ordered_globals\": [\"x\", \"i\"], \"stack_to_render\": [], \"heap\": {}, \"stdout\": \"\"}, {\"line\": 3, \"event\": \"step_line\", \"func_name\": \"<module>\", \"globals\": {\"x\": 65, \"i\": 64}, \"ordered_globals\": [\"x\", \"i\"], \"stack_to_render\": [], \"heap\": {}, \"stdout\": \"\"}, {\"line\": 4, \"event\": \"step_line\", \"func_name\": \"<module>\", \"globals\": {\"x\": 65, \"i\": 65}, \"ordered_globals\": [\"x\", \"i\"], \"stack_to_render\": [], \"heap\": {}, \"stdout\": \"\"}, {\"line\": 3, \"event\": \"step_line\", \"func_name\": \"<module>\", \"globals\": {\"x\": 66, \"i\": 65}, \"ordered_globals\": [\"x\", \"i\"], \"stack_to_render\": [], \"heap\": {}, \"stdout\": \"\"}, {\"line\": 4, \"event\": \"step_line\", \"func_name\": \"<module>\", \"globals\": {\"x\": 66, \"i\": 66}, \"ordered_globals\": [\"x\", \"i\"], \"stack_to_render\": [], \"heap\": {}, \"stdout\": \"\"}, {\"line\": 3, \"event\": \"step_line\", \"func_name\": \"<module>\", \"globals\": {\"x\": 67, \"i\": 66}, \"ordered_globals\": [\"x\", \"i\"], \"stack_to_render\": [], \"heap\": {}, \"stdout\": \"\"}, {\"line\": 4, \"event\": \"step_line\", \"func_name\": \"<module>\", \"globals\": {\"x\": 67, \"i\": 67}, \"ordered_globals\": [\"x\", \"i\"], \"stack_to_render\": [], \"heap\": {}, \"stdout\": \"\"}, {\"line\": 3, \"event\": \"step_line\", \"func_name\": \"<module>\", \"globals\": {\"x\": 68, \"i\": 67}, \"ordered_globals\": [\"x\", \"i\"], \"stack_to_render\": [], \"heap\": {}, \"stdout\": \"\"}, {\"line\": 4, \"event\": \"step_line\", \"func_name\": \"<module>\", \"globals\": {\"x\": 68, \"i\": 68}, \"ordered_globals\": [\"x\", \"i\"], \"stack_to_render\": [], \"heap\": {}, \"stdout\": \"\"}, {\"line\": 3, \"event\": \"step_line\", \"func_name\": \"<module>\", \"globals\": {\"x\": 69, \"i\": 68}, \"ordered_globals\": [\"x\", \"i\"], \"stack_to_render\": [], \"heap\": {}, \"stdout\": \"\"}, {\"line\": 4, \"event\": \"step_line\", \"func_name\": \"<module>\", \"globals\": {\"x\": 69, \"i\": 69}, \"ordered_globals\": [\"x\", \"i\"], \"stack_to_render\": [], \"heap\": {}, \"stdout\": \"\"}, {\"line\": 3, \"event\": \"step_line\", \"func_name\": \"<module>\", \"globals\": {\"x\": 70, \"i\": 69}, \"ordered_globals\": [\"x\", \"i\"], \"stack_to_render\": [], \"heap\": {}, \"stdout\": \"\"}, {\"line\": 4, \"event\": \"step_line\", \"func_name\": \"<module>\", \"globals\": {\"x\": 70, \"i\": 70}, \"ordered_globals\": [\"x\", \"i\"], \"stack_to_render\": [], \"heap\": {}, \"stdout\": \"\"}, {\"line\": 3, \"event\": \"step_line\", \"func_name\": \"<module>\", \"globals\": {\"x\": 71, \"i\": 70}, \"ordered_globals\": [\"x\", \"i\"], \"stack_to_render\": [], \"heap\": {}, \"stdout\": \"\"}, {\"line\": 4, \"event\": \"step_line\", \"func_name\": \"<module>\", \"globals\": {\"x\": 71, \"i\": 71}, \"ordered_globals\": [\"x\", \"i\"], \"stack_to_render\": [], \"heap\": {}, \"stdout\": \"\"}, {\"line\": 3, \"event\": \"step_line\", \"func_name\": \"<module>\", \"globals\": {\"x\": 72, \"i\": 71}, \"ordered_globals\": [\"x\", \"i\"], \"stack_to_render\": [], \"heap\": {}, \"stdout\": \"\"}, {\"line\": 4, \"event\": \"step_line\", \"func_name\": \"<module>\", \"globals\": {\"x\": 72, \"i\": 72}, \"ordered_globals\": [\"x\", \"i\"], \"stack_to_render\": [], \"heap\": {}, \"stdout\": \"\"}, {\"line\": 3, \"event\": \"step_line\", \"func_name\": \"<module>\", \"globals\": {\"x\": 73, \"i\": 72}, \"ordered_globals\": [\"x\", \"i\"], \"stack_to_render\": [], \"heap\": {}, \"stdout\": \"\"}, {\"line\": 4, \"event\": \"step_line\", \"func_name\": \"<module>\", \"globals\": {\"x\": 73, \"i\": 73}, \"ordered_globals\": [\"x\", \"i\"], \"stack_to_render\": [], \"heap\": {}, \"stdout\": \"\"}, {\"line\": 3, \"event\": \"step_line\", \"func_name\": \"<module>\", \"globals\": {\"x\": 74, \"i\": 73}, \"ordered_globals\": [\"x\", \"i\"], \"stack_to_render\": [], \"heap\": {}, \"stdout\": \"\"}, {\"line\": 4, \"event\": \"step_line\", \"func_name\": \"<module>\", \"globals\": {\"x\": 74, \"i\": 74}, \"ordered_globals\": [\"x\", \"i\"], \"stack_to_render\": [], \"heap\": {}, \"stdout\": \"\"}, {\"line\": 3, \"event\": \"step_line\", \"func_name\": \"<module>\", \"globals\": {\"x\": 75, \"i\": 74}, \"ordered_globals\": [\"x\", \"i\"], \"stack_to_render\": [], \"heap\": {}, \"stdout\": \"\"}, {\"line\": 4, \"event\": \"step_line\", \"func_name\": \"<module>\", \"globals\": {\"x\": 75, \"i\": 75}, \"ordered_globals\": [\"x\", \"i\"], \"stack_to_render\": [], \"heap\": {}, \"stdout\": \"\"}, {\"line\": 3, \"event\": \"step_line\", \"func_name\": \"<module>\", \"globals\": {\"x\": 76, \"i\": 75}, \"ordered_globals\": [\"x\", \"i\"], \"stack_to_render\": [], \"heap\": {}, \"stdout\": \"\"}, {\"line\": 4, \"event\": \"step_line\", \"func_name\": \"<module>\", \"globals\": {\"x\": 76, \"i\": 76}, \"ordered_globals\": [\"x\", \"i\"], \"stack_to_render\": [], \"heap\": {}, \"stdout\": \"\"}, {\"line\": 3, \"event\": \"step_line\", \"func_name\": \"<module>\", \"globals\": {\"x\": 77, \"i\": 76}, \"ordered_globals\": [\"x\", \"i\"], \"stack_to_render\": [], \"heap\": {}, \"stdout\": \"\"}, {\"line\": 4, \"event\": \"step_line\", \"func_name\": \"<module>\", \"globals\": {\"x\": 77, \"i\": 77}, \"ordered_globals\": [\"x\", \"i\"], \"stack_to_render\": [], \"heap\": {}, \"stdout\": \"\"}, {\"line\": 3, \"event\": \"step_line\", \"func_name\": \"<module>\", \"globals\": {\"x\": 78, \"i\": 77}, \"ordered_globals\": [\"x\", \"i\"], \"stack_to_render\": [], \"heap\": {}, \"stdout\": \"\"}, {\"line\": 4, \"event\": \"step_line\", \"func_name\": \"<module>\", \"globals\": {\"x\": 78, \"i\": 78}, \"ordered_globals\": [\"x\", \"i\"], \"stack_to_render\": [], \"heap\": {}, \"stdout\": \"\"}, {\"line\": 3, \"event\": \"step_line\", \"func_name\": \"<module>\", \"globals\": {\"x\": 79, \"i\": 78}, \"ordered_globals\": [\"x\", \"i\"], \"stack_to_render\": [], \"heap\": {}, \"stdout\": \"\"}, {\"line\": 4, \"event\": \"step_line\", \"func_name\": \"<module>\", \"globals\": {\"x\": 79, \"i\": 79}, \"ordered_globals\": [\"x\", \"i\"], \"stack_to_render\": [], \"heap\": {}, \"stdout\": \"\"}, {\"line\": 3, \"event\": \"step_line\", \"func_name\": \"<module>\", \"globals\": {\"x\": 80, \"i\": 79}, \"ordered_globals\": [\"x\", \"i\"], \"stack_to_render\": [], \"heap\": {}, \"stdout\": \"\"}, {\"line\": 4, \"event\": \"step_line\", \"func_name\": \"<module>\", \"globals\": {\"x\": 80, \"i\": 80}, \"ordered_globals\": [\"x\", \"i\"], \"stack_to_render\": [], \"heap\": {}, \"stdout\": \"\"}, {\"line\": 3, \"event\": \"step_line\", \"func_name\": \"<module>\", \"globals\": {\"x\": 81, \"i\": 80}, \"ordered_globals\": [\"x\", \"i\"], \"stack_to_render\": [], \"heap\": {}, \"stdout\": \"\"}, {\"line\": 4, \"event\": \"step_line\", \"func_name\": \"<module>\", \"globals\": {\"x\": 81, \"i\": 81}, \"ordered_globals\": [\"x\", \"i\"], \"stack_to_render\": [], \"heap\": {}, \"stdout\": \"\"}, {\"line\": 3, \"event\": \"step_line\", \"func_name\": \"<module>\", \"globals\": {\"x\": 82, \"i\": 81}, \"ordered_globals\": [\"x\", \"i\"], \"stack_to_render\": [], \"heap\": {}, \"stdout\": \"\"}, {\"line\": 4, \"event\": \"step_line\", \"func_name\": \"<module>\", \"globals\": {\"x\": 82, \"i\": 82}, \"ordered_globals\": [\"x\", \"i\"], \"stack_to_render\": [], \"heap\": {}, \"stdout\": \"\"}, {\"line\": 3, \"event\": \"step_line\", \"func_name\": \"<module>\", \"globals\": {\"x\": 83, \"i\": 82}, \"ordered_globals\": [\"x\", \"i\"], \"stack_to_render\": [], \"heap\": {}, \"stdout\": \"\"}, {\"line\": 4, \"event\": \"step_line\", \"func_name\": \"<module>\", \"globals\": {\"x\": 83, \"i\": 83}, \"ordered_globals\": [\"x\", \"i\"], \"stack_to_render\": [], \"heap\": {}, \"stdout\": \"\"}, {\"line\": 3, \"event\": \"step_line\", \"func_name\": \"<module>\", \"globals\": {\"x\": 84, \"i\": 83}, \"ordered_globals\": [\"x\", \"i\"], \"stack_to_render\": [], \"heap\": {}, \"stdout\": \"\"}, {\"line\": 4, \"event\": \"step_line\", \"func_name\": \"<module>\", \"globals\": {\"x\": 84, \"i\": 84}, \"ordered_globals\": [\"x\", \"i\"], \"stack_to_render\": [], \"heap\": {}, \"stdout\": \"\"}, {\"line\": 3, \"event\": \"step_line\", \"func_name\": \"<module>\", \"globals\": {\"x\": 85, \"i\": 84}, \"ordered_globals\": [\"x\", \"i\"], \"stack_to_render\": [], \"heap\": {}, \"stdout\": \"\"}, {\"line\": 4, \"event\": \"step_line\", \"func_name\": \"<module>\", \"globals\": {\"x\": 85, \"i\": 85}, \"ordered_globals\": [\"x\", \"i\"], \"stack_to_render\": [], \"heap\": {}, \"stdout\": \"\"}, {\"line\": 3, \"event\": \"step_line\", \"func_name\": \"<module>\", \"globals\": {\"x\": 86, \"i\": 85}, \"ordered_globals\": [\"x\", \"i\"], \"stack_to_render\": [], \"heap\": {}, \"stdout\": \"\"}, {\"line\": 4, \"event\": \"step_line\", \"func_name\": \"<module>\", \"globals\": {\"x\": 86, \"i\": 86}, \"ordered_globals\": [\"x\", \"i\"], \"stack_to_render\": [], \"heap\": {}, \"stdout\": \"\"}, {\"line\": 3, \"event\": \"step_line\", \"func_name\": \"<module>\", \"globals\": {\"x\": 87, \"i\": 86}, \"ordered_globals\": [\"x\", \"i\"], \"stack_to_render\": [], \"heap\": {}, \"stdout\": \"\"}, {\"line\": 4, \"event\": \"step_line\", \"func_name\": \"<module>\", \"globals\": {\"x\": 87, \"i\": 87}, \"ordered_globals\": [\"x\", \"i\"], \"stack_to_render\": [], \"heap\": {}, \"stdout\": \"\"}, {\"line\": 3, \"event\": \"step_line\", \"func_name\": \"<module>\", \"globals\": {\"x\": 88, \"i\": 87}, \"ordered_globals\": [\"x\", \"i\"], \"stack_to_render\": [], \"heap\": {}, \"stdout\": \"\"}, {\"line\": 4, \"event\": \"step_line\", \"func_name\": \"<module>\", \"globals\": {\"x\": 88, \"i\": 88}, \"ordered_globals\": [\"x\", \"i\"], \"stack_to_render\": [], \"heap\": {}, \"stdout\": \"\"}, {\"line\": 3, \"event\": \"step_line\", \"func_name\": \"<module>\", \"globals\": {\"x\": 89, \"i\": 88}, \"ordered_globals\": [\"x\", \"i\"], \"stack_to_render\": [], \"heap\": {}, \"stdout\": \"\"}, {\"line\": 4, \"event\": \"step_line\", \"func_name\": \"<module>\", \"globals\": {\"x\": 89, \"i\": 89}, \"ordered_globals\": [\"x\", \"i\"], \"stack_to_render\": [], \"heap\": {}, \"stdout\": \"\"}, {\"line\": 3, \"event\": \"step_line\", \"func_name\": \"<module>\", \"globals\": {\"x\": 90, \"i\": 89}, \"ordered_globals\": [\"x\", \"i\"], \"stack_to_render\": [], \"heap\": {}, \"stdout\": \"\"}, {\"line\": 4, \"event\": \"step_line\", \"func_name\": \"<module>\", \"globals\": {\"x\": 90, \"i\": 90}, \"ordered_globals\": [\"x\", \"i\"], \"stack_to_render\": [], \"heap\": {}, \"stdout\": \"\"}, {\"line\": 3, \"event\": \"step_line\", \"func_name\": \"<module>\", \"globals\": {\"x\": 91, \"i\": 90}, \"ordered_globals\": [\"x\", \"i\"], \"stack_to_render\": [], \"heap\": {}, \"stdout\": \"\"}, {\"line\": 4, \"event\": \"step_line\", \"func_name\": \"<module>\", \"globals\": {\"x\": 91, \"i\": 91}, \"ordered_globals\": [\"x\", \"i\"], \"stack_to_render\": [], \"heap\": {}, \"stdout\": \"\"}, {\"line\": 3, \"event\": \"step_line\", \"func_name\": \"<module>\", \"globals\": {\"x\": 92, \"i\": 91}, \"ordered_globals\": [\"x\", \"i\"], \"stack_to_render\": [], \"heap\": {}, \"stdout\": \"\"}, {\"line\": 4, \"event\": \"step_line\", \"func_name\": \"<module>\", \"globals\": {\"x\": 92, \"i\": 92}, \"ordered_globals\": [\"x\", \"i\"], \"stack_to_render\": [], \"heap\": {}, \"stdout\": \"\"}, {\"line\": 3, \"event\": \"step_line\", \"func_name\": \"<module>\", \"globals\": {\"x\": 93, \"i\": 92}, \"ordered_globals\": [\"x\", \"i\"], \"stack_to_render\": [], \"heap\": {}, \"stdout\": \"\"}, {\"line\": 4, \"event\": \"step_line\", \"func_name\": \"<module>\", \"globals\": {\"x\": 93, \"i\": 93}, \"ordered_globals\": [\"x\", \"i\"], \"stack_to_render\": [], \"heap\": {}, \"stdout\": \"\"}, {\"line\": 3, \"event\": \"step_line\", \"func_name\": \"<module>\", \"globals\": {\"x\": 94, \"i\": 93}, \"ordered_globals\": [\"x\", \"i\"], \"stack_to_render\": [], \"heap\": {}, \"stdout\": \"\"}, {\"line\": 4, \"event\": \"step_line\", \"func_name\": \"<module>\", \"globals\": {\"x\": 94, \"i\": 94}, \"ordered_globals\": [\"x\", \"i\"], \"stack_to_render\": [], \"heap\": {}, \"stdout\": \"\"}, {\"line\": 3, \"event\": \"step_line\", \"func_name\": \"<module>\", \"globals\": {\"x\": 95, \"i\": 94}, \"ordered_globals\": [\"x\", \"i\"], \"stack_to_render\": [], \"heap\": {}, \"stdout\": \"\"}, {\"line\": 4, \"event\": \"step_line\", \"func_name\": \"<module>\", \"globals\": {\"x\": 95, \"i\": 95}, \"ordered_globals\": [\"x\", \"i\"], \"stack_to_render\": [], \"heap\": {}, \"stdout\": \"\"}, {\"line\": 3, \"event\": \"step_line\", \"func_name\": \"<module>\", \"globals\": {\"x\": 96, \"i\": 95}, \"ordered_globals\": [\"x\", \"i\"], \"stack_to_render\": [], \"heap\": {}, \"stdout\": \"\"}, {\"line\": 4, \"event\": \"step_line\", \"func_name\": \"<module>\", \"globals\": {\"x\": 96, \"i\": 96}, \"ordered_globals\": [\"x\", \"i\"], \"stack_to_render\": [], \"heap\": {}, \"stdout\": \"\"}, {\"line\": 3, \"event\": \"step_line\", \"func_name\": \"<module>\", \"globals\": {\"x\": 97, \"i\": 96}, \"ordered_globals\": [\"x\", \"i\"], \"stack_to_render\": [], \"heap\": {}, \"stdout\": \"\"}, {\"line\": 4, \"event\": \"step_line\", \"func_name\": \"<module>\", \"globals\": {\"x\": 97, \"i\": 97}, \"ordered_globals\": [\"x\", \"i\"], \"stack_to_render\": [], \"heap\": {}, \"stdout\": \"\"}, {\"line\": 3, \"event\": \"step_line\", \"func_name\": \"<module>\", \"globals\": {\"x\": 98, \"i\": 97}, \"ordered_globals\": [\"x\", \"i\"], \"stack_to_render\": [], \"heap\": {}, \"stdout\": \"\"}, {\"line\": 4, \"event\": \"step_line\", \"func_name\": \"<module>\", \"globals\": {\"x\": 98, \"i\": 98}, \"ordered_globals\": [\"x\", \"i\"], \"stack_to_render\": [], \"heap\": {}, \"stdout\": \"\"}, {\"line\": 3, \"event\": \"step_line\", \"func_name\": \"<module>\", \"globals\": {\"x\": 99, \"i\": 98}, \"ordered_globals\": [\"x\", \"i\"], \"stack_to_render\": [], \"heap\": {}, \"stdout\": \"\"}, {\"line\": 4, \"event\": \"step_line\", \"func_name\": \"<module>\", \"globals\": {\"x\": 99, \"i\": 99}, \"ordered_globals\": [\"x\", \"i\"], \"stack_to_render\": [], \"heap\": {}, \"stdout\": \"\"}, {\"line\": 3, \"event\": \"step_line\", \"func_name\": \"<module>\", \"globals\": {\"x\": 100, \"i\": 99}, \"ordered_globals\": [\"x\", \"i\"], \"stack_to_render\": [], \"heap\": {}, \"stdout\": \"\"}, {\"line\": 4, \"event\": \"step_line\", \"func_name\": \"<module>\", \"globals\": {\"x\": 100, \"i\": 100}, \"ordered_globals\": [\"x\", \"i\"], \"stack_to_render\": [], \"heap\": {}, \"stdout\": \"\"}, {\"line\": 3, \"event\": \"step_line\", \"func_name\": \"<module>\", \"globals\": {\"x\": 101, \"i\": 100}, \"ordered_globals\": [\"x\", \"i\"], \"stack_to_render\": [], \"heap\": {}, \"stdout\": \"\"}, {\"line\": 4, \"event\": \"step_line\", \"func_name\": \"<module>\", \"globals\": {\"x\": 101, \"i\": 101}, \"ordered_globals\": [\"x\", \"i\"], \"stack_to_render\": [], \"heap\": {}, \"stdout\": \"\"}, {\"line\": 3, \"event\": \"step_line\", \"func_name\": \"<module>\", \"globals\": {\"x\": 102, \"i\": 101}, \"ordered_globals\": [\"x\", \"i\"], \"stack_to_render\": [], \"heap\": {}, \"stdout\": \"\"}, {\"line\": 4, \"event\": \"step_line\", \"func_name\": \"<module>\", \"globals\": {\"x\": 102, \"i\": 102}, \"ordered_globals\": [\"x\", \"i\"], \"stack_to_render\": [], \"heap\": {}, \"stdout\": \"\"}, {\"line\": 3, \"event\": \"step_line\", \"func_name\": \"<module>\", \"globals\": {\"x\": 103, \"i\": 102}, \"ordered_globals\": [\"x\", \"i\"], \"stack_to_render\": [], \"heap\": {}, \"stdout\": \"\"}, {\"line\": 4, \"event\": \"step_line\", \"func_name\": \"<module>\", \"globals\": {\"x\": 103, \"i\": 103}, \"ordered_globals\": [\"x\", \"i\"], \"stack_to_render\": [], \"heap\": {}, \"stdout\": \"\"}, {\"line\": 3, \"event\": \"step_line\", \"func_name\": \"<module>\", \"globals\": {\"x\": 104, \"i\": 103}, \"ordered_globals\": [\"x\", \"i\"], \"stack_to_render\": [], \"heap\": {}, \"stdout\": \"\"}, {\"line\": 4, \"event\": \"step_line\", \"func_name\": \"<module>\", \"globals\": {\"x\": 104, \"i\": 104}, \"ordered_globals\": [\"x\", \"i\"], \"stack_to_render\": [], \"heap\": {}, \"stdout\": \"\"}, {\"line\": 3, \"event\": \"step_line\", \"func_name\": \"<module>\", \"globals\": {\"x\": 105, \"i\": 104}, \"ordered_globals\": [\"x\", \"i\"], \"stack_to_render\": [], \"heap\": {}, \"stdout\": \"\"}, {\"line\": 4, \"event\": \"step_line\", \"func_name\": \"<module>\", \"globals\": {\"x\": 105, \"i\": 105}, \"ordered_globals\": [\"x\", \"i\"], \"stack_to_render\": [], \"heap\": {}, \"stdout\": \"\"}, {\"line\": 3, \"event\": \"step_line\", \"func_name\": \"<module>\", \"globals\": {\"x\": 106, \"i\": 105}, \"ordered_globals\": [\"x\", \"i\"], \"stack_to_render\": [], \"heap\": {}, \"stdout\": \"\"}, {\"line\": 4, \"event\": \"step_line\", \"func_name\": \"<module>\", \"globals\": {\"x\": 106, \"i\": 106}, \"ordered_globals\": [\"x\", \"i\"], \"stack_to_render\": [], \"heap\": {}, \"stdout\": \"\"}, {\"line\": 3, \"event\": \"step_line\", \"func_name\": \"<module>\", \"globals\": {\"x\": 107, \"i\": 106}, \"ordered_globals\": [\"x\", \"i\"], \"stack_to_render\": [], \"heap\": {}, \"stdout\": \"\"}, {\"line\": 4, \"event\": \"step_line\", \"func_name\": \"<module>\", \"globals\": {\"x\": 107, \"i\": 107}, \"ordered_globals\": [\"x\", \"i\"], \"stack_to_render\": [], \"heap\": {}, \"stdout\": \"\"}, {\"line\": 3, \"event\": \"step_line\", \"func_name\": \"<module>\", \"globals\": {\"x\": 108, \"i\": 107}, \"ordered_globals\": [\"x\", \"i\"], \"stack_to_render\": [], \"heap\": {}, \"stdout\": \"\"}, {\"line\": 4, \"event\": \"step_line\", \"func_name\": \"<module>\", \"globals\": {\"x\": 108, \"i\": 108}, \"ordered_globals\": [\"x\", \"i\"], \"stack_to_render\": [], \"heap\": {}, \"stdout\": \"\"}, {\"line\": 3, \"event\": \"step_line\", \"func_name\": \"<module>\", \"globals\": {\"x\": 109, \"i\": 108}, \"ordered_globals\": [\"x\", \"i\"], \"stack_to_render\": [], \"heap\": {}, \"stdout\": \"\"}, {\"line\": 4, \"event\": \"step_line\", \"func_name\": \"<module>\", \"globals\": {\"x\": 109, \"i\": 109}, \"ordered_globals\": [\"x\", \"i\"], \"stack_to_render\": [], \"heap\": {}, \"stdout\": \"\"}, {\"line\": 3, \"event\": \"step_line\", \"func_name\": \"<module>\", \"globals\": {\"x\": 110, \"i\": 109}, \"ordered_globals\": [\"x\", \"i\"], \"stack_to_render\": [], \"heap\": {}, \"stdout\": \"\"}, {\"line\": 4, \"event\": \"step_line\", \"func_name\": \"<module>\", \"globals\": {\"x\": 110, \"i\": 110}, \"ordered_globals\": [\"x\", \"i\"], \"stack_to_render\": [], \"heap\": {}, \"stdout\": \"\"}, {\"line\": 3, \"event\": \"step_line\", \"func_name\": \"<module>\", \"globals\": {\"x\": 111, \"i\": 110}, \"ordered_globals\": [\"x\", \"i\"], \"stack_to_render\": [], \"heap\": {}, \"stdout\": \"\"}, {\"line\": 4, \"event\": \"step_line\", \"func_name\": \"<module>\", \"globals\": {\"x\": 111, \"i\": 111}, \"ordered_globals\": [\"x\", \"i\"], \"stack_to_render\": [], \"heap\": {}, \"stdout\": \"\"}, {\"line\": 3, \"event\": \"step_line\", \"func_name\": \"<module>\", \"globals\": {\"x\": 112, \"i\": 111}, \"ordered_globals\": [\"x\", \"i\"], \"stack_to_render\": [], \"heap\": {}, \"stdout\": \"\"}, {\"line\": 4, \"event\": \"step_line\", \"func_name\": \"<module>\", \"globals\": {\"x\": 112, \"i\": 112}, \"ordered_globals\": [\"x\", \"i\"], \"stack_to_render\": [], \"heap\": {}, \"stdout\": \"\"}, {\"line\": 3, \"event\": \"step_line\", \"func_name\": \"<module>\", \"globals\": {\"x\": 113, \"i\": 112}, \"ordered_globals\": [\"x\", \"i\"], \"stack_to_render\": [], \"heap\": {}, \"stdout\": \"\"}, {\"line\": 4, \"event\": \"step_line\", \"func_name\": \"<module>\", \"globals\": {\"x\": 113, \"i\": 113}, \"ordered_globals\": [\"x\", \"i\"], \"stack_to_render\": [], \"heap\": {}, \"stdout\": \"\"}, {\"line\": 3, \"event\": \"step_line\", \"func_name\": \"<module>\", \"globals\": {\"x\": 114, \"i\": 113}, \"ordered_globals\": [\"x\", \"i\"], \"stack_to_render\": [], \"heap\": {}, \"stdout\": \"\"}, {\"line\": 4, \"event\": \"step_line\", \"func_name\": \"<module>\", \"globals\": {\"x\": 114, \"i\": 114}, \"ordered_globals\": [\"x\", \"i\"], \"stack_to_render\": [], \"heap\": {}, \"stdout\": \"\"}, {\"line\": 3, \"event\": \"step_line\", \"func_name\": \"<module>\", \"globals\": {\"x\": 115, \"i\": 114}, \"ordered_globals\": [\"x\", \"i\"], \"stack_to_render\": [], \"heap\": {}, \"stdout\": \"\"}, {\"line\": 4, \"event\": \"step_line\", \"func_name\": \"<module>\", \"globals\": {\"x\": 115, \"i\": 115}, \"ordered_globals\": [\"x\", \"i\"], \"stack_to_render\": [], \"heap\": {}, \"stdout\": \"\"}, {\"line\": 3, \"event\": \"step_line\", \"func_name\": \"<module>\", \"globals\": {\"x\": 116, \"i\": 115}, \"ordered_globals\": [\"x\", \"i\"], \"stack_to_render\": [], \"heap\": {}, \"stdout\": \"\"}, {\"line\": 4, \"event\": \"step_line\", \"func_name\": \"<module>\", \"globals\": {\"x\": 116, \"i\": 116}, \"ordered_globals\": [\"x\", \"i\"], \"stack_to_render\": [], \"heap\": {}, \"stdout\": \"\"}, {\"line\": 3, \"event\": \"step_line\", \"func_name\": \"<module>\", \"globals\": {\"x\": 117, \"i\": 116}, \"ordered_globals\": [\"x\", \"i\"], \"stack_to_render\": [], \"heap\": {}, \"stdout\": \"\"}, {\"line\": 4, \"event\": \"step_line\", \"func_name\": \"<module>\", \"globals\": {\"x\": 117, \"i\": 117}, \"ordered_globals\": [\"x\", \"i\"], \"stack_to_render\": [], \"heap\": {}, \"stdout\": \"\"}, {\"line\": 3, \"event\": \"step_line\", \"func_name\": \"<module>\", \"globals\": {\"x\": 118, \"i\": 117}, \"ordered_globals\": [\"x\", \"i\"], \"stack_to_render\": [], \"heap\": {}, \"stdout\": \"\"}, {\"line\": 4, \"event\": \"step_line\", \"func_name\": \"<module>\", \"globals\": {\"x\": 118, \"i\": 118}, \"ordered_globals\": [\"x\", \"i\"], \"stack_to_render\": [], \"heap\": {}, \"stdout\": \"\"}, {\"line\": 3, \"event\": \"step_line\", \"func_name\": \"<module>\", \"globals\": {\"x\": 119, \"i\": 118}, \"ordered_globals\": [\"x\", \"i\"], \"stack_to_render\": [], \"heap\": {}, \"stdout\": \"\"}, {\"line\": 4, \"event\": \"step_line\", \"func_name\": \"<module>\", \"globals\": {\"x\": 119, \"i\": 119}, \"ordered_globals\": [\"x\", \"i\"], \"stack_to_render\": [], \"heap\": {}, \"stdout\": \"\"}, {\"line\": 3, \"event\": \"step_line\", \"func_name\": \"<module>\", \"globals\": {\"x\": 120, \"i\": 119}, \"ordered_globals\": [\"x\", \"i\"], \"stack_to_render\": [], \"heap\": {}, \"stdout\": \"\"}, {\"line\": 4, \"event\": \"step_line\", \"func_name\": \"<module>\", \"globals\": {\"x\": 120, \"i\": 120}, \"ordered_globals\": [\"x\", \"i\"], \"stack_to_render\": [], \"heap\": {}, \"stdout\": \"\"}, {\"line\": 3, \"event\": \"step_line\", \"func_name\": \"<module>\", \"globals\": {\"x\": 121, \"i\": 120}, \"ordered_globals\": [\"x\", \"i\"], \"stack_to_render\": [], \"heap\": {}, \"stdout\": \"\"}, {\"line\": 4, \"event\": \"step_line\", \"func_name\": \"<module>\", \"globals\": {\"x\": 121, \"i\": 121}, \"ordered_globals\": [\"x\", \"i\"], \"stack_to_render\": [], \"heap\": {}, \"stdout\": \"\"}, {\"line\": 3, \"event\": \"step_line\", \"func_name\": \"<module>\", \"globals\": {\"x\": 122, \"i\": 121}, \"ordered_globals\": [\"x\", \"i\"], \"stack_to_render\": [], \"heap\": {}, \"stdout\": \"\"}, {\"line\": 4, \"event\": \"step_line\", \"func_name\": \"<module>\", \"globals\": {\"x\": 122, \"i\": 122}, \"ordered_globals\": [\"x\", \"i\"], \"stack_to_render\": [], \"heap\": {}, \"stdout\": \"\"}, {\"line\": 3, \"event\": \"step_line\", \"func_name\": \"<module>\", \"globals\": {\"x\": 123, \"i\": 122}, \"ordered_globals\": [\"x\", \"i\"], \"stack_to_render\": [], \"heap\": {}, \"stdout\": \"\"}, {\"line\": 4, \"event\": \"step_line\", \"func_name\": \"<module>\", \"globals\": {\"x\": 123, \"i\": 123}, \"ordered_globals\": [\"x\", \"i\"], \"stack_to_render\": [], \"heap\": {}, \"stdout\": \"\"}, {\"line\": 3, \"event\": \"step_line\", \"func_name\": \"<module>\", \"globals\": {\"x\": 124, \"i\": 123}, \"ordered_globals\": [\"x\", \"i\"], \"stack_to_render\": [], \"heap\": {}, \"stdout\": \"\"}, {\"line\": 4, \"event\": \"step_line\", \"func_name\": \"<module>\", \"globals\": {\"x\": 124, \"i\": 124}, \"ordered_globals\": [\"x\", \"i\"], \"stack_to_render\": [], \"heap\": {}, \"stdout\": \"\"}, {\"line\": 3, \"event\": \"step_line\", \"func_name\": \"<module>\", \"globals\": {\"x\": 125, \"i\": 124}, \"ordered_globals\": [\"x\", \"i\"], \"stack_to_render\": [], \"heap\": {}, \"stdout\": \"\"}, {\"line\": 4, \"event\": \"step_line\", \"func_name\": \"<module>\", \"globals\": {\"x\": 125, \"i\": 125}, \"ordered_globals\": [\"x\", \"i\"], \"stack_to_render\": [], \"heap\": {}, \"stdout\": \"\"}, {\"line\": 3, \"event\": \"step_line\", \"func_name\": \"<module>\", \"globals\": {\"x\": 126, \"i\": 125}, \"ordered_globals\": [\"x\", \"i\"], \"stack_to_render\": [], \"heap\": {}, \"stdout\": \"\"}, {\"line\": 4, \"event\": \"step_line\", \"func_name\": \"<module>\", \"globals\": {\"x\": 126, \"i\": 126}, \"ordered_globals\": [\"x\", \"i\"], \"stack_to_render\": [], \"heap\": {}, \"stdout\": \"\"}, {\"line\": 3, \"event\": \"step_line\", \"func_name\": \"<module>\", \"globals\": {\"x\": 127, \"i\": 126}, \"ordered_globals\": [\"x\", \"i\"], \"stack_to_render\": [], \"heap\": {}, \"stdout\": \"\"}, {\"line\": 4, \"event\": \"step_line\", \"func_name\": \"<module>\", \"globals\": {\"x\": 127, \"i\": 127}, \"ordered_globals\": [\"x\", \"i\"], \"stack_to_render\": [], \"heap\": {}, \"stdout\": \"\"}, {\"line\": 3, \"event\": \"step_line\", \"func_name\": \"<module>\", \"globals\": {\"x\": 128, \"i\": 127}, \"ordered_globals\": [\"x\", \"i\"], \"stack_to_render\": [], \"heap\": {}, \"stdout\": \"\"}, {\"line\": 4, \"event\": \"step_line\", \"func_name\": \"<module>\", \"globals\": {\"x\": 128, \"i\": 128}, \"ordered_globals\": [\"x\", \"i\"], \"stack_to_render\": [], \"heap\": {}, \"stdout\": \"\"}, {\"line\": 3, \"event\": \"step_line\", \"func_name\": \"<module>\", \"globals\": {\"x\": 129, \"i\": 128}, \"ordered_globals\": [\"x\", \"i\"], \"stack_to_render\": [], \"heap\": {}, \"stdout\": \"\"}, {\"line\": 4, \"event\": \"step_line\", \"func_name\": \"<module>\", \"globals\": {\"x\": 129, \"i\": 129}, \"ordered_globals\": [\"x\", \"i\"], \"stack_to_render\": [], \"heap\": {}, \"stdout\": \"\"}, {\"line\": 3, \"event\": \"step_line\", \"func_name\": \"<module>\", \"globals\": {\"x\": 130, \"i\": 129}, \"ordered_globals\": [\"x\", \"i\"], \"stack_to_render\": [], \"heap\": {}, \"stdout\": \"\"}, {\"line\": 4, \"event\": \"step_line\", \"func_name\": \"<module>\", \"globals\": {\"x\": 130, \"i\": 130}, \"ordered_globals\": [\"x\", \"i\"], \"stack_to_render\": [], \"heap\": {}, \"stdout\": \"\"}, {\"line\": 3, \"event\": \"step_line\", \"func_name\": \"<module>\", \"globals\": {\"x\": 131, \"i\": 130}, \"ordered_globals\": [\"x\", \"i\"], \"stack_to_render\": [], \"heap\": {}, \"stdout\": \"\"}, {\"line\": 4, \"event\": \"step_line\", \"func_name\": \"<module>\", \"globals\": {\"x\": 131, \"i\": 131}, \"ordered_globals\": [\"x\", \"i\"], \"stack_to_render\": [], \"heap\": {}, \"stdout\": \"\"}, {\"line\": 3, \"event\": \"step_line\", \"func_name\": \"<module>\", \"globals\": {\"x\": 132, \"i\": 131}, \"ordered_globals\": [\"x\", \"i\"], \"stack_to_render\": [], \"heap\": {}, \"stdout\": \"\"}, {\"line\": 4, \"event\": \"step_line\", \"func_name\": \"<module>\", \"globals\": {\"x\": 132, \"i\": 132}, \"ordered_globals\": [\"x\", \"i\"], \"stack_to_render\": [], \"heap\": {}, \"stdout\": \"\"}, {\"line\": 3, \"event\": \"step_line\", \"func_name\": \"<module>\", \"globals\": {\"x\": 133, \"i\": 132}, \"ordered_globals\": [\"x\", \"i\"], \"stack_to_render\": [], \"heap\": {}, \"stdout\": \"\"}, {\"line\": 4, \"event\": \"step_line\", \"func_name\": \"<module>\", \"globals\": {\"x\": 133, \"i\": 133}, \"ordered_globals\": [\"x\", \"i\"], \"stack_to_render\": [], \"heap\": {}, \"stdout\": \"\"}, {\"line\": 3, \"event\": \"step_line\", \"func_name\": \"<module>\", \"globals\": {\"x\": 134, \"i\": 133}, \"ordered_globals\": [\"x\", \"i\"], \"stack_to_render\": [], \"heap\": {}, \"stdout\": \"\"}, {\"line\": 4, \"event\": \"step_line\", \"func_name\": \"<module>\", \"globals\": {\"x\": 134, \"i\": 134}, \"ordered_globals\": [\"x\", \"i\"], \"stack_to_render\": [], \"heap\": {}, \"stdout\": \"\"}, {\"line\": 3, \"event\": \"step_line\", \"func_name\": \"<module>\", \"globals\": {\"x\": 135, \"i\": 134}, \"ordered_globals\": [\"x\", \"i\"], \"stack_to_render\": [], \"heap\": {}, \"stdout\": \"\"}, {\"line\": 4, \"event\": \"step_line\", \"func_name\": \"<module>\", \"globals\": {\"x\": 135, \"i\": 135}, \"ordered_globals\": [\"x\", \"i\"], \"stack_to_render\": [], \"heap\": {}, \"stdout\": \"\"}, {\"line\": 3, \"event\": \"step_line\", \"func_name\": \"<module>\", \"globals\": {\"x\": 136, \"i\": 135}, \"ordered_globals\": [\"x\", \"i\"], \"stack_to_render\": [], \"heap\": {}, \"stdout\": \"\"}, {\"line\": 4, \"event\": \"step_line\", \"func_name\": \"<module>\", \"globals\": {\"x\": 136, \"i\": 136}, \"ordered_globals\": [\"x\", \"i\"], \"stack_to_render\": [], \"heap\": {}, \"stdout\": \"\"}, {\"line\": 3, \"event\": \"step_line\", \"func_name\": \"<module>\", \"globals\": {\"x\": 137, \"i\": 136}, \"ordered_globals\": [\"x\", \"i\"], \"stack_to_render\": [], \"heap\": {}, \"stdout\": \"\"}, {\"line\": 4, \"event\": \"step_line\", \"func_name\": \"<module>\", \"globals\": {\"x\": 137, \"i\": 137}, \"ordered_globals\": [\"x\", \"i\"], \"stack_to_render\": [], \"heap\": {}, \"stdout\": \"\"}, {\"line\": 3, \"event\": \"step_line\", \"func_name\": \"<module>\", \"globals\": {\"x\": 138, \"i\": 137}, \"ordered_globals\": [\"x\", \"i\"], \"stack_to_render\": [], \"heap\": {}, \"stdout\": \"\"}, {\"line\": 4, \"event\": \"step_line\", \"func_name\": \"<module>\", \"globals\": {\"x\": 138, \"i\": 138}, \"ordered_globals\": [\"x\", \"i\"], \"stack_to_render\": [], \"heap\": {}, \"stdout\": \"\"}, {\"line\": 3, \"event\": \"step_line\", \"func_name\": \"<module>\", \"globals\": {\"x\": 139, \"i\": 138}, \"ordered_globals\": [\"x\", \"i\"], \"stack_to_render\": [], \"heap\": {}, \"stdout\": \"\"}, {\"line\": 4, \"event\": \"step_line\", \"func_name\": \"<module>\", \"globals\": {\"x\": 139, \"i\": 139}, \"ordered_globals\": [\"x\", \"i\"], \"stack_to_render\": [], \"heap\": {}, \"stdout\": \"\"}, {\"line\": 3, \"event\": \"step_line\", \"func_name\": \"<module>\", \"globals\": {\"x\": 140, \"i\": 139}, \"ordered_globals\": [\"x\", \"i\"], \"stack_to_render\": [], \"heap\": {}, \"stdout\": \"\"}, {\"line\": 4, \"event\": \"step_line\", \"func_name\": \"<module>\", \"globals\": {\"x\": 140, \"i\": 140}, \"ordered_globals\": [\"x\", \"i\"], \"stack_to_render\": [], \"heap\": {}, \"stdout\": \"\"}, {\"line\": 3, \"event\": \"step_line\", \"func_name\": \"<module>\", \"globals\": {\"x\": 141, \"i\": 140}, \"ordered_globals\": [\"x\", \"i\"], \"stack_to_render\": [], \"heap\": {}, \"stdout\": \"\"}, {\"line\": 4, \"event\": \"step_line\", \"func_name\": \"<module>\", \"globals\": {\"x\": 141, \"i\": 141}, \"ordered_globals\": [\"x\", \"i\"], \"stack_to_render\": [], \"heap\": {}, \"stdout\": \"\"}, {\"line\": 3, \"event\": \"step_line\", \"func_name\": \"<module>\", \"globals\": {\"x\": 142, \"i\": 141}, \"ordered_globals\": [\"x\", \"i\"], \"stack_to_render\": [], \"heap\": {}, \"stdout\": \"\"}, {\"line\": 4, \"event\": \"step_line\", \"func_name\": \"<module>\", \"globals\": {\"x\": 142, \"i\": 142}, \"ordered_globals\": [\"x\", \"i\"], \"stack_to_render\": [], \"heap\": {}, \"stdout\": \"\"}, {\"line\": 3, \"event\": \"step_line\", \"func_name\": \"<module>\", \"globals\": {\"x\": 143, \"i\": 142}, \"ordered_globals\": [\"x\", \"i\"], \"stack_to_render\": [], \"heap\": {}, \"stdout\": \"\"}, {\"line\": 4, \"event\": \"step_line\", \"func_name\": \"<module>\", \"globals\": {\"x\": 143, \"i\": 143}, \"ordered_globals\": [\"x\", \"i\"], \"stack_to_render\": [], \"heap\": {}, \"stdout\": \"\"}, {\"line\": 3, \"event\": \"step_line\", \"func_name\": \"<module>\", \"globals\": {\"x\": 144, \"i\": 143}, \"ordered_globals\": [\"x\", \"i\"], \"stack_to_render\": [], \"heap\": {}, \"stdout\": \"\"}, {\"line\": 4, \"event\": \"step_line\", \"func_name\": \"<module>\", \"globals\": {\"x\": 144, \"i\": 144}, \"ordered_globals\": [\"x\", \"i\"], \"stack_to_render\": [], \"heap\": {}, \"stdout\": \"\"}, {\"line\": 3, \"event\": \"step_line\", \"func_name\": \"<module>\", \"globals\": {\"x\": 145, \"i\": 144}, \"ordered_globals\": [\"x\", \"i\"], \"stack_to_render\": [], \"heap\": {}, \"stdout\": \"\"}, {\"line\": 4, \"event\": \"step_line\", \"func_name\": \"<module>\", \"globals\": {\"x\": 145, \"i\": 145}, \"ordered_globals\": [\"x\", \"i\"], \"stack_to_render\": [], \"heap\": {}, \"stdout\": \"\"}, {\"line\": 3, \"event\": \"step_line\", \"func_name\": \"<module>\", \"globals\": {\"x\": 146, \"i\": 145}, \"ordered_globals\": [\"x\", \"i\"], \"stack_to_render\": [], \"heap\": {}, \"stdout\": \"\"}, {\"line\": 4, \"event\": \"step_line\", \"func_name\": \"<module>\", \"globals\": {\"x\": 146, \"i\": 146}, \"ordered_globals\": [\"x\", \"i\"], \"stack_to_render\": [], \"heap\": {}, \"stdout\": \"\"}, {\"line\": 3, \"event\": \"step_line\", \"func_name\": \"<module>\", \"globals\": {\"x\": 147, \"i\": 146}, \"ordered_globals\": [\"x\", \"i\"], \"stack_to_render\": [], \"heap\": {}, \"stdout\": \"\"}, {\"line\": 4, \"event\": \"step_line\", \"func_name\": \"<module>\", \"globals\": {\"x\": 147, \"i\": 147}, \"ordered_globals\": [\"x\", \"i\"], \"stack_to_render\": [], \"heap\": {}, \"stdout\": \"\"}, {\"line\": 3, \"event\": \"step_line\", \"func_name\": \"<module>\", \"globals\": {\"x\": 148, \"i\": 147}, \"ordered_globals\": [\"x\", \"i\"], \"stack_to_render\": [], \"heap\": {}, \"stdout\": \"\"}, {\"line\": 4, \"event\": \"step_line\", \"func_name\": \"<module>\", \"globals\": {\"x\": 148, \"i\": 148}, \"ordered_globals\": [\"x\", \"i\"], \"stack_to_render\": [], \"heap\": {}, \"stdout\": \"\"}, {\"line\": 3, \"event\": \"step_line\", \"func_name\": \"<module>\", \"globals\": {\"x\": 149, \"i\": 148}, \"ordered_globals\": [\"x\", \"i\"], \"stack_to_render\": [], \"heap\": {}, \"stdout\": \"\"}, {\"line\": 4, \"event\": \"step_line\", \"func_name\": \"<module>\", \"globals\": {\"x\": 149, \"i\": 149}, \"ordered_globals\": [\"x\", \"i\"], \"stack_to_render\": [], \"heap\": {}, \"stdout\": \"\"}, {\"line\": 3, \"event\": \"step_line\", \"func_name\": \"<module>\", \"globals\": {\"x\": 150, \"i\": 149}, \"ordered_globals\": [\"x\", \"i\"], \"stack_to_render\": [], \"heap\": {}, \"stdout\": \"\"}, {\"line\": 4, \"event\": \"step_line\", \"func_name\": \"<module>\", \"globals\": {\"x\": 150, \"i\": 150}, \"ordered_globals\": [\"x\", \"i\"], \"stack_to_render\": [], \"heap\": {}, \"stdout\": \"\"}, {\"line\": 3, \"event\": \"step_line\", \"func_name\": \"<module>\", \"globals\": {\"x\": 151, \"i\": 150}, \"ordered_globals\": [\"x\", \"i\"], \"stack_to_render\": [], \"heap\": {}, \"stdout\": \"\"}, {\"line\": 4, \"event\": \"step_line\", \"func_name\": \"<module>\", \"globals\": {\"x\": 151, \"i\": 151}, \"ordered_globals\": [\"x\", \"i\"], \"stack_to_render\": [], \"heap\": {}, \"stdout\": \"\"}, {\"line\": 3, \"event\": \"step_line\", \"func_name\": \"<module>\", \"globals\": {\"x\": 152, \"i\": 151}, \"ordered_globals\": [\"x\", \"i\"], \"stack_to_render\": [], \"heap\": {}, \"stdout\": \"\"}, {\"line\": 4, \"event\": \"step_line\", \"func_name\": \"<module>\", \"globals\": {\"x\": 152, \"i\": 152}, \"ordered_globals\": [\"x\", \"i\"], \"stack_to_render\": [], \"heap\": {}, \"stdout\": \"\"}, {\"line\": 3, \"event\": \"step_line\", \"func_name\": \"<module>\", \"globals\": {\"x\": 153, \"i\": 152}, \"ordered_globals\": [\"x\", \"i\"], \"stack_to_render\": [], \"heap\": {}, \"stdout\": \"\"}, {\"line\": 4, \"event\": \"step_line\", \"func_name\": \"<module>\", \"globals\": {\"x\": 153, \"i\": 153}, \"ordered_globals\": [\"x\", \"i\"], \"stack_to_render\": [], \"heap\": {}, \"stdout\": \"\"}, {\"line\": 3, \"event\": \"step_line\", \"func_name\": \"<module>\", \"globals\": {\"x\": 154, \"i\": 153}, \"ordered_globals\": [\"x\", \"i\"], \"stack_to_render\": [], \"heap\": {}, \"stdout\": \"\"}, {\"line\": 4, \"event\": \"step_line\", \"func_name\": \"<module>\", \"globals\": {\"x\": 154, \"i\": 154}, \"ordered_globals\": [\"x\", \"i\"], \"stack_to_render\": [], \"heap\": {}, \"stdout\": \"\"}, {\"line\": 3, \"event\": \"step_line\", \"func_name\": \"<module>\", \"globals\": {\"x\": 155, \"i\": 154}, \"ordered_globals\": [\"x\", \"i\"], \"stack_to_render\": [], \"heap\": {}, \"stdout\": \"\"}, {\"line\": 4, \"event\": \"step_line\", \"func_name\": \"<module>\", \"globals\": {\"x\": 155, \"i\": 155}, \"ordered_globals\": [\"x\", \"i\"], \"stack_to_render\": [], \"heap\": {}, \"stdout\": \"\"}, {\"line\": 3, \"event\": \"step_line\", \"func_name\": \"<module>\", \"globals\": {\"x\": 156, \"i\": 155}, \"ordered_globals\": [\"x\", \"i\"], \"stack_to_render\": [], \"heap\": {}, \"stdout\": \"\"}, {\"line\": 4, \"event\": \"step_line\", \"func_name\": \"<module>\", \"globals\": {\"x\": 156, \"i\": 156}, \"ordered_globals\": [\"x\", \"i\"], \"stack_to_render\": [], \"heap\": {}, \"stdout\": \"\"}, {\"line\": 3, \"event\": \"step_line\", \"func_name\": \"<module>\", \"globals\": {\"x\": 157, \"i\": 156}, \"ordered_globals\": [\"x\", \"i\"], \"stack_to_render\": [], \"heap\": {}, \"stdout\": \"\"}, {\"line\": 4, \"event\": \"step_line\", \"func_name\": \"<module>\", \"globals\": {\"x\": 157, \"i\": 157}, \"ordered_globals\": [\"x\", \"i\"], \"stack_to_render\": [], \"heap\": {}, \"stdout\": \"\"}, {\"line\": 3, \"event\": \"step_line\", \"func_name\": \"<module>\", \"globals\": {\"x\": 158, \"i\": 157}, \"ordered_globals\": [\"x\", \"i\"], \"stack_to_render\": [], \"heap\": {}, \"stdout\": \"\"}, {\"line\": 4, \"event\": \"step_line\", \"func_name\": \"<module>\", \"globals\": {\"x\": 158, \"i\": 158}, \"ordered_globals\": [\"x\", \"i\"], \"stack_to_render\": [], \"heap\": {}, \"stdout\": \"\"}, {\"line\": 3, \"event\": \"step_line\", \"func_name\": \"<module>\", \"globals\": {\"x\": 159, \"i\": 158}, \"ordered_globals\": [\"x\", \"i\"], \"stack_to_render\": [], \"heap\": {}, \"stdout\": \"\"}, {\"line\": 4, \"event\": \"step_line\", \"func_name\": \"<module>\", \"globals\": {\"x\": 159, \"i\": 159}, \"ordered_globals\": [\"x\", \"i\"], \"stack_to_render\": [], \"heap\": {}, \"stdout\": \"\"}, {\"line\": 3, \"event\": \"step_line\", \"func_name\": \"<module>\", \"globals\": {\"x\": 160, \"i\": 159}, \"ordered_globals\": [\"x\", \"i\"], \"stack_to_render\": [], \"heap\": {}, \"stdout\": \"\"}, {\"line\": 4, \"event\": \"step_line\", \"func_name\": \"<module>\", \"globals\": {\"x\": 160, \"i\": 160}, \"ordered_globals\": [\"x\", \"i\"], \"stack_to_render\": [], \"heap\": {}, \"stdout\": \"\"}, {\"line\": 3, \"event\": \"step_line\", \"func_name\": \"<module>\", \"globals\": {\"x\": 161, \"i\": 160}, \"ordered_globals\": [\"x\", \"i\"], \"stack_to_render\": [], \"heap\": {}, \"stdout\": \"\"}, {\"line\": 4, \"event\": \"step_line\", \"func_name\": \"<module>\", \"globals\": {\"x\": 161, \"i\": 161}, \"ordered_globals\": [\"x\", \"i\"], \"stack_to_render\": [], \"heap\": {}, \"stdout\": \"\"}, {\"line\": 3, \"event\": \"step_line\", \"func_name\": \"<module>\", \"globals\": {\"x\": 162, \"i\": 161}, \"ordered_globals\": [\"x\", \"i\"], \"stack_to_render\": [], \"heap\": {}, \"stdout\": \"\"}, {\"line\": 4, \"event\": \"step_line\", \"func_name\": \"<module>\", \"globals\": {\"x\": 162, \"i\": 162}, \"ordered_globals\": [\"x\", \"i\"], \"stack_to_render\": [], \"heap\": {}, \"stdout\": \"\"}, {\"line\": 3, \"event\": \"step_line\", \"func_name\": \"<module>\", \"globals\": {\"x\": 163, \"i\": 162}, \"ordered_globals\": [\"x\", \"i\"], \"stack_to_render\": [], \"heap\": {}, \"stdout\": \"\"}, {\"line\": 4, \"event\": \"step_line\", \"func_name\": \"<module>\", \"globals\": {\"x\": 163, \"i\": 163}, \"ordered_globals\": [\"x\", \"i\"], \"stack_to_render\": [], \"heap\": {}, \"stdout\": \"\"}, {\"line\": 3, \"event\": \"step_line\", \"func_name\": \"<module>\", \"globals\": {\"x\": 164, \"i\": 163}, \"ordered_globals\": [\"x\", \"i\"], \"stack_to_render\": [], \"heap\": {}, \"stdout\": \"\"}, {\"line\": 4, \"event\": \"step_line\", \"func_name\": \"<module>\", \"globals\": {\"x\": 164, \"i\": 164}, \"ordered_globals\": [\"x\", \"i\"], \"stack_to_render\": [], \"heap\": {}, \"stdout\": \"\"}, {\"line\": 3, \"event\": \"step_line\", \"func_name\": \"<module>\", \"globals\": {\"x\": 165, \"i\": 164}, \"ordered_globals\": [\"x\", \"i\"], \"stack_to_render\": [], \"heap\": {}, \"stdout\": \"\"}, {\"line\": 4, \"event\": \"step_line\", \"func_name\": \"<module>\", \"globals\": {\"x\": 165, \"i\": 165}, \"ordered_globals\": [\"x\", \"i\"], \"stack_to_render\": [], \"heap\": {}, \"stdout\": \"\"}, {\"line\": 3, \"event\": \"step_line\", \"func_name\": \"<module>\", \"globals\": {\"x\": 166, \"i\": 165}, \"ordered_globals\": [\"x\", \"i\"], \"stack_to_render\": [], \"heap\": {}, \"stdout\": \"\"}, {\"line\": 4, \"event\": \"step_line\", \"func_name\": \"<module>\", \"globals\": {\"x\": 166, \"i\": 166}, \"ordered_globals\": [\"x\", \"i\"], \"stack_to_render\": [], \"heap\": {}, \"stdout\": \"\"}, {\"line\": 3, \"event\": \"step_line\", \"func_name\": \"<module>\", \"globals\": {\"x\": 167, \"i\": 166}, \"ordered_globals\": [\"x\", \"i\"], \"stack_to_render\": [], \"heap\": {}, \"stdout\": \"\"}, {\"line\": 4, \"event\": \"step_line\", \"func_name\": \"<module>\", \"globals\": {\"x\": 167, \"i\": 167}, \"ordered_globals\": [\"x\", \"i\"], \"stack_to_render\": [], \"heap\": {}, \"stdout\": \"\"}, {\"line\": 3, \"event\": \"step_line\", \"func_name\": \"<module>\", \"globals\": {\"x\": 168, \"i\": 167}, \"ordered_globals\": [\"x\", \"i\"], \"stack_to_render\": [], \"heap\": {}, \"stdout\": \"\"}, {\"line\": 4, \"event\": \"step_line\", \"func_name\": \"<module>\", \"globals\": {\"x\": 168, \"i\": 168}, \"ordered_globals\": [\"x\", \"i\"], \"stack_to_render\": [], \"heap\": {}, \"stdout\": \"\"}, {\"line\": 3, \"event\": \"step_line\", \"func_name\": \"<module>\", \"globals\": {\"x\": 169, \"i\": 168}, \"ordered_globals\": [\"x\", \"i\"], \"stack_to_render\": [], \"heap\": {}, \"stdout\": \"\"}, {\"line\": 4, \"event\": \"step_line\", \"func_name\": \"<module>\", \"globals\": {\"x\": 169, \"i\": 169}, \"ordered_globals\": [\"x\", \"i\"], \"stack_to_render\": [], \"heap\": {}, \"stdout\": \"\"}, {\"line\": 3, \"event\": \"step_line\", \"func_name\": \"<module>\", \"globals\": {\"x\": 170, \"i\": 169}, \"ordered_globals\": [\"x\", \"i\"], \"stack_to_render\": [], \"heap\": {}, \"stdout\": \"\"}, {\"line\": 4, \"event\": \"step_line\", \"func_name\": \"<module>\", \"globals\": {\"x\": 170, \"i\": 170}, \"ordered_globals\": [\"x\", \"i\"], \"stack_to_render\": [], \"heap\": {}, \"stdout\": \"\"}, {\"line\": 3, \"event\": \"step_line\", \"func_name\": \"<module>\", \"globals\": {\"x\": 171, \"i\": 170}, \"ordered_globals\": [\"x\", \"i\"], \"stack_to_render\": [], \"heap\": {}, \"stdout\": \"\"}, {\"line\": 4, \"event\": \"step_line\", \"func_name\": \"<module>\", \"globals\": {\"x\": 171, \"i\": 171}, \"ordered_globals\": [\"x\", \"i\"], \"stack_to_render\": [], \"heap\": {}, \"stdout\": \"\"}, {\"line\": 3, \"event\": \"step_line\", \"func_name\": \"<module>\", \"globals\": {\"x\": 172, \"i\": 171}, \"ordered_globals\": [\"x\", \"i\"], \"stack_to_render\": [], \"heap\": {}, \"stdout\": \"\"}, {\"line\": 4, \"event\": \"step_line\", \"func_name\": \"<module>\", \"globals\": {\"x\": 172, \"i\": 172}, \"ordered_globals\": [\"x\", \"i\"], \"stack_to_render\": [], \"heap\": {}, \"stdout\": \"\"}, {\"line\": 3, \"event\": \"step_line\", \"func_name\": \"<module>\", \"globals\": {\"x\": 173, \"i\": 172}, \"ordered_globals\": [\"x\", \"i\"], \"stack_to_render\": [], \"heap\": {}, \"stdout\": \"\"}, {\"line\": 4, \"event\": \"step_line\", \"func_name\": \"<module>\", \"globals\": {\"x\": 173, \"i\": 173}, \"ordered_globals\": [\"x\", \"i\"], \"stack_to_render\": [], \"heap\": {}, \"stdout\": \"\"}, {\"line\": 3, \"event\": \"step_line\", \"func_name\": \"<module>\", \"globals\": {\"x\": 174, \"i\": 173}, \"ordered_globals\": [\"x\", \"i\"], \"stack_to_render\": [], \"heap\": {}, \"stdout\": \"\"}, {\"line\": 4, \"event\": \"step_line\", \"func_name\": \"<module>\", \"globals\": {\"x\": 174, \"i\": 174}, \"ordered_globals\": [\"x\", \"i\"], \"stack_to_render\": [], \"heap\": {}, \"stdout\": \"\"}, {\"line\": 3, \"event\": \"step_line\", \"func_name\": \"<module>\", \"globals\": {\"x\": 175, \"i\": 174}, \"ordered_globals\": [\"x\", \"i\"], \"stack_to_render\": [], \"heap\": {}, \"stdout\": \"\"}, {\"line\": 4, \"event\": \"step_line\", \"func_name\": \"<module>\", \"globals\": {\"x\": 175, \"i\": 175}, \"ordered_globals\": [\"x\", \"i\"], \"stack_to_render\": [], \"heap\": {}, \"stdout\": \"\"}, {\"line\": 3, \"event\": \"step_line\", \"func_name\": \"<module>\", \"globals\": {\"x\": 176, \"i\": 175}, \"ordered_globals\": [\"x\", \"i\"], \"stack_to_render\": [], \"heap\": {}, \"stdout\": \"\"}, {\"line\": 4, \"event\": \"step_line\", \"func_name\": \"<module>\", \"globals\": {\"x\": 176, \"i\": 176}, \"ordered_globals\": [\"x\", \"i\"], \"stack_to_render\": [], \"heap\": {}, \"stdout\": \"\"}, {\"line\": 3, \"event\": \"step_line\", \"func_name\": \"<module>\", \"globals\": {\"x\": 177, \"i\": 176}, \"ordered_globals\": [\"x\", \"i\"], \"stack_to_render\": [], \"heap\": {}, \"stdout\": \"\"}, {\"line\": 4, \"event\": \"step_line\", \"func_name\": \"<module>\", \"globals\": {\"x\": 177, \"i\": 177}, \"ordered_globals\": [\"x\", \"i\"], \"stack_to_render\": [], \"heap\": {}, \"stdout\": \"\"}, {\"line\": 3, \"event\": \"step_line\", \"func_name\": \"<module>\", \"globals\": {\"x\": 178, \"i\": 177}, \"ordered_globals\": [\"x\", \"i\"], \"stack_to_render\": [], \"heap\": {}, \"stdout\": \"\"}, {\"line\": 4, \"event\": \"step_line\", \"func_name\": \"<module>\", \"globals\": {\"x\": 178, \"i\": 178}, \"ordered_globals\": [\"x\", \"i\"], \"stack_to_render\": [], \"heap\": {}, \"stdout\": \"\"}, {\"line\": 3, \"event\": \"step_line\", \"func_name\": \"<module>\", \"globals\": {\"x\": 179, \"i\": 178}, \"ordered_globals\": [\"x\", \"i\"], \"stack_to_render\": [], \"heap\": {}, \"stdout\": \"\"}, {\"line\": 4, \"event\": \"step_line\", \"func_name\": \"<module>\", \"globals\": {\"x\": 179, \"i\": 179}, \"ordered_globals\": [\"x\", \"i\"], \"stack_to_render\": [], \"heap\": {}, \"stdout\": \"\"}, {\"line\": 3, \"event\": \"step_line\", \"func_name\": \"<module>\", \"globals\": {\"x\": 180, \"i\": 179}, \"ordered_globals\": [\"x\", \"i\"], \"stack_to_render\": [], \"heap\": {}, \"stdout\": \"\"}, {\"line\": 4, \"event\": \"step_line\", \"func_name\": \"<module>\", \"globals\": {\"x\": 180, \"i\": 180}, \"ordered_globals\": [\"x\", \"i\"], \"stack_to_render\": [], \"heap\": {}, \"stdout\": \"\"}, {\"line\": 3, \"event\": \"step_line\", \"func_name\": \"<module>\", \"globals\": {\"x\": 181, \"i\": 180}, \"ordered_globals\": [\"x\", \"i\"], \"stack_to_render\": [], \"heap\": {}, \"stdout\": \"\"}, {\"line\": 4, \"event\": \"step_line\", \"func_name\": \"<module>\", \"globals\": {\"x\": 181, \"i\": 181}, \"ordered_globals\": [\"x\", \"i\"], \"stack_to_render\": [], \"heap\": {}, \"stdout\": \"\"}, {\"line\": 3, \"event\": \"step_line\", \"func_name\": \"<module>\", \"globals\": {\"x\": 182, \"i\": 181}, \"ordered_globals\": [\"x\", \"i\"], \"stack_to_render\": [], \"heap\": {}, \"stdout\": \"\"}, {\"line\": 4, \"event\": \"step_line\", \"func_name\": \"<module>\", \"globals\": {\"x\": 182, \"i\": 182}, \"ordered_globals\": [\"x\", \"i\"], \"stack_to_render\": [], \"heap\": {}, \"stdout\": \"\"}, {\"line\": 3, \"event\": \"step_line\", \"func_name\": \"<module>\", \"globals\": {\"x\": 183, \"i\": 182}, \"ordered_globals\": [\"x\", \"i\"], \"stack_to_render\": [], \"heap\": {}, \"stdout\": \"\"}, {\"line\": 4, \"event\": \"step_line\", \"func_name\": \"<module>\", \"globals\": {\"x\": 183, \"i\": 183}, \"ordered_globals\": [\"x\", \"i\"], \"stack_to_render\": [], \"heap\": {}, \"stdout\": \"\"}, {\"line\": 3, \"event\": \"step_line\", \"func_name\": \"<module>\", \"globals\": {\"x\": 184, \"i\": 183}, \"ordered_globals\": [\"x\", \"i\"], \"stack_to_render\": [], \"heap\": {}, \"stdout\": \"\"}, {\"line\": 4, \"event\": \"step_line\", \"func_name\": \"<module>\", \"globals\": {\"x\": 184, \"i\": 184}, \"ordered_globals\": [\"x\", \"i\"], \"stack_to_render\": [], \"heap\": {}, \"stdout\": \"\"}, {\"line\": 3, \"event\": \"step_line\", \"func_name\": \"<module>\", \"globals\": {\"x\": 185, \"i\": 184}, \"ordered_globals\": [\"x\", \"i\"], \"stack_to_render\": [], \"heap\": {}, \"stdout\": \"\"}, {\"line\": 4, \"event\": \"step_line\", \"func_name\": \"<module>\", \"globals\": {\"x\": 185, \"i\": 185}, \"ordered_globals\": [\"x\", \"i\"], \"stack_to_render\": [], \"heap\": {}, \"stdout\": \"\"}, {\"line\": 3, \"event\": \"step_line\", \"func_name\": \"<module>\", \"globals\": {\"x\": 186, \"i\": 185}, \"ordered_globals\": [\"x\", \"i\"], \"stack_to_render\": [], \"heap\": {}, \"stdout\": \"\"}, {\"line\": 4, \"event\": \"step_line\", \"func_name\": \"<module>\", \"globals\": {\"x\": 186, \"i\": 186}, \"ordered_globals\": [\"x\", \"i\"], \"stack_to_render\": [], \"heap\": {}, \"stdout\": \"\"}, {\"line\": 3, \"event\": \"step_line\", \"func_name\": \"<module>\", \"globals\": {\"x\": 187, \"i\": 186}, \"ordered_globals\": [\"x\", \"i\"], \"stack_to_render\": [], \"heap\": {}, \"stdout\": \"\"}, {\"line\": 4, \"event\": \"step_line\", \"func_name\": \"<module>\", \"globals\": {\"x\": 187, \"i\": 187}, \"ordered_globals\": [\"x\", \"i\"], \"stack_to_render\": [], \"heap\": {}, \"stdout\": \"\"}, {\"line\": 3, \"event\": \"step_line\", \"func_name\": \"<module>\", \"globals\": {\"x\": 188, \"i\": 187}, \"ordered_globals\": [\"x\", \"i\"], \"stack_to_render\": [], \"heap\": {}, \"stdout\": \"\"}, {\"line\": 4, \"event\": \"step_line\", \"func_name\": \"<module>\", \"globals\": {\"x\": 188, \"i\": 188}, \"ordered_globals\": [\"x\", \"i\"], \"stack_to_render\": [], \"heap\": {}, \"stdout\": \"\"}, {\"line\": 3, \"event\": \"step_line\", \"func_name\": \"<module>\", \"globals\": {\"x\": 189, \"i\": 188}, \"ordered_globals\": [\"x\", \"i\"], \"stack_to_render\": [], \"heap\": {}, \"stdout\": \"\"}, {\"line\": 4, \"event\": \"step_line\", \"func_name\": \"<module>\", \"globals\": {\"x\": 189, \"i\": 189}, \"ordered_globals\": [\"x\", \"i\"], \"stack_to_render\": [], \"heap\": {}, \"stdout\": \"\"}, {\"line\": 3, \"event\": \"step_line\", \"func_name\": \"<module>\", \"globals\": {\"x\": 190, \"i\": 189}, \"ordered_globals\": [\"x\", \"i\"], \"stack_to_render\": [], \"heap\": {}, \"stdout\": \"\"}, {\"line\": 4, \"event\": \"step_line\", \"func_name\": \"<module>\", \"globals\": {\"x\": 190, \"i\": 190}, \"ordered_globals\": [\"x\", \"i\"], \"stack_to_render\": [], \"heap\": {}, \"stdout\": \"\"}, {\"line\": 3, \"event\": \"step_line\", \"func_name\": \"<module>\", \"globals\": {\"x\": 191, \"i\": 190}, \"ordered_globals\": [\"x\", \"i\"], \"stack_to_render\": [], \"heap\": {}, \"stdout\": \"\"}, {\"line\": 4, \"event\": \"step_line\", \"func_name\": \"<module>\", \"globals\": {\"x\": 191, \"i\": 191}, \"ordered_globals\": [\"x\", \"i\"], \"stack_to_render\": [], \"heap\": {}, \"stdout\": \"\"}, {\"line\": 3, \"event\": \"step_line\", \"func_name\": \"<module>\", \"globals\": {\"x\": 192, \"i\": 191}, \"ordered_globals\": [\"x\", \"i\"], \"stack_to_render\": [], \"heap\": {}, \"stdout\": \"\"}, {\"line\": 4, \"event\": \"step_line\", \"func_name\": \"<module>\", \"globals\": {\"x\": 192, \"i\": 192}, \"ordered_globals\": [\"x\", \"i\"], \"stack_to_render\": [], \"heap\": {}, \"stdout\": \"\"}, {\"line\": 3, \"event\": \"step_line\", \"func_name\": \"<module>\", \"globals\": {\"x\": 193, \"i\": 192}, \"ordered_globals\": [\"x\", \"i\"], \"stack_to_render\": [], \"heap\": {}, \"stdout\": \"\"}, {\"line\": 4, \"event\": \"step_line\", \"func_name\": \"<module>\", \"globals\": {\"x\": 193, \"i\": 193}, \"ordered_globals\": [\"x\", \"i\"], \"stack_to_render\": [], \"heap\": {}, \"stdout\": \"\"}, {\"line\": 3, \"event\": \"step_line\", \"func_name\": \"<module>\", \"globals\": {\"x\": 194, \"i\": 193}, \"ordered_globals\": [\"x\", \"i\"], \"stack_to_render\": [], \"heap\": {}, \"stdout\": \"\"}, {\"line\": 4, \"event\": \"step_line\", \"func_name\": \"<module>\", \"globals\": {\"x\": 194, \"i\": 194}, \"ordered_globals\": [\"x\", \"i\"], \"stack_to_render\": [], \"heap\": {}, \"stdout\": \"\"}, {\"line\": 3, \"event\": \"step_line\", \"func_name\": \"<module>\", \"globals\": {\"x\": 195, \"i\": 194}, \"ordered_globals\": [\"x\", \"i\"], \"stack_to_render\": [], \"heap\": {}, \"stdout\": \"\"}, {\"line\": 4, \"event\": \"step_line\", \"func_name\": \"<module>\", \"globals\": {\"x\": 195, \"i\": 195}, \"ordered_globals\": [\"x\", \"i\"], \"stack_to_render\": [], \"heap\": {}, \"stdout\": \"\"}, {\"line\": 3, \"event\": \"step_line\", \"func_name\": \"<module>\", \"globals\": {\"x\": 196, \"i\": 195}, \"ordered_globals\": [\"x\", \"i\"], \"stack_to_render\": [], \"heap\": {}, \"stdout\": \"\"}, {\"line\": 4, \"event\": \"step_line\", \"func_name\": \"<module>\", \"globals\": {\"x\": 196, \"i\": 196}, \"ordered_globals\": [\"x\", \"i\"], \"stack_to_render\": [], \"heap\": {}, \"stdout\": \"\"}, {\"line\": 3, \"event\": \"step_line\", \"func_name\": \"<module>\", \"globals\": {\"x\": 197, \"i\": 196}, \"ordered_globals\": [\"x\", \"i\"], \"stack_to_render\": [], \"heap\": {}, \"stdout\": \"\"}, {\"line\": 4, \"event\": \"step_line\", \"func_name\": \"<module>\", \"globals\": {\"x\": 197, \"i\": 197}, \"ordered_globals\": [\"x\", \"i\"], \"stack_to_render\": [], \"heap\": {}, \"stdout\": \"\"}, {\"line\": 3, \"event\": \"step_line\", \"func_name\": \"<module>\", \"globals\": {\"x\": 198, \"i\": 197}, \"ordered_globals\": [\"x\", \"i\"], \"stack_to_render\": [], \"heap\": {}, \"stdout\": \"\"}, {\"line\": 4, \"event\": \"step_line\", \"func_name\": \"<module>\", \"globals\": {\"x\": 198, \"i\": 198}, \"ordered_globals\": [\"x\", \"i\"], \"stack_to_render\": [], \"heap\": {}, \"stdout\": \"\"}, {\"line\": 3, \"event\": \"step_line\", \"func_name\": \"<module>\", \"globals\": {\"x\": 199, \"i\": 198}, \"ordered_globals\": [\"x\", \"i\"], \"stack_to_render\": [], \"heap\": {}, \"stdout\": \"\"}, {\"line\": 4, \"event\": \"step_line\", \"func_name\": \"<module>\", \"globals\": {\"x\": 199, \"i\": 199}, \"ordered_globals\": [\"x\", \"i\"], \"stack_to_render\": [], \"heap\": {}, \"stdout\": \"\"}, {\"line\": 3, \"event\": \"step_line\", \"func_name\": \"<module>\", \"globals\": {\"x\": 200, \"i\": 199}, \"ordered_globals\": [\"x\", \"i\"], \"stack_to_render\": [], \"heap\": {}, \"stdout\": \"\"}, {\"line\": 4, \"event\": \"step_line\", \"func_name\": \"<module>\", \"globals\": {\"x\": 200, \"i\": 200}, \"ordered_globals\": [\"x\", \"i\"], \"stack_to_render\": [], \"heap\": {}, \"stdout\": \"\"}, {\"line\": 3, \"event\": \"step_line\", \"func_name\": \"<module>\", \"globals\": {\"x\": 201, \"i\": 200}, \"ordered_globals\": [\"x\", \"i\"], \"stack_to_render\": [], \"heap\": {}, \"stdout\": \"\"}, {\"line\": 4, \"event\": \"step_line\", \"func_name\": \"<module>\", \"globals\": {\"x\": 201, \"i\": 201}, \"ordered_globals\": [\"x\", \"i\"], \"stack_to_render\": [], \"heap\": {}, \"stdout\": \"\"}, {\"line\": 3, \"event\": \"step_line\", \"func_name\": \"<module>\", \"globals\": {\"x\": 202, \"i\": 201}, \"ordered_globals\": [\"x\", \"i\"], \"stack_to_render\": [], \"heap\": {}, \"stdout\": \"\"}, {\"line\": 4, \"event\": \"step_line\", \"func_name\": \"<module>\", \"globals\": {\"x\": 202, \"i\": 202}, \"ordered_globals\": [\"x\", \"i\"], \"stack_to_render\": [], \"heap\": {}, \"stdout\": \"\"}, {\"line\": 3, \"event\": \"step_line\", \"func_name\": \"<module>\", \"globals\": {\"x\": 203, \"i\": 202}, \"ordered_globals\": [\"x\", \"i\"], \"stack_to_render\": [], \"heap\": {}, \"stdout\": \"\"}, {\"line\": 4, \"event\": \"step_line\", \"func_name\": \"<module>\", \"globals\": {\"x\": 203, \"i\": 203}, \"ordered_globals\": [\"x\", \"i\"], \"stack_to_render\": [], \"heap\": {}, \"stdout\": \"\"}, {\"line\": 3, \"event\": \"step_line\", \"func_name\": \"<module>\", \"globals\": {\"x\": 204, \"i\": 203}, \"ordered_globals\": [\"x\", \"i\"], \"stack_to_render\": [], \"heap\": {}, \"stdout\": \"\"}, {\"line\": 4, \"event\": \"step_line\", \"func_name\": \"<module>\", \"globals\": {\"x\": 204, \"i\": 204}, \"ordered_globals\": [\"x\", \"i\"], \"stack_to_render\": [], \"heap\": {}, \"stdout\": \"\"}, {\"line\": 3, \"event\": \"step_line\", \"func_name\": \"<module>\", \"globals\": {\"x\": 205, \"i\": 204}, \"ordered_globals\": [\"x\", \"i\"], \"stack_to_render\": [], \"heap\": {}, \"stdout\": \"\"}, {\"line\": 4, \"event\": \"step_line\", \"func_name\": \"<module>\", \"globals\": {\"x\": 205, \"i\": 205}, \"ordered_globals\": [\"x\", \"i\"], \"stack_to_render\": [], \"heap\": {}, \"stdout\": \"\"}, {\"line\": 3, \"event\": \"step_line\", \"func_name\": \"<module>\", \"globals\": {\"x\": 206, \"i\": 205}, \"ordered_globals\": [\"x\", \"i\"], \"stack_to_render\": [], \"heap\": {}, \"stdout\": \"\"}, {\"line\": 4, \"event\": \"step_line\", \"func_name\": \"<module>\", \"globals\": {\"x\": 206, \"i\": 206}, \"ordered_globals\": [\"x\", \"i\"], \"stack_to_render\": [], \"heap\": {}, \"stdout\": \"\"}, {\"line\": 3, \"event\": \"step_line\", \"func_name\": \"<module>\", \"globals\": {\"x\": 207, \"i\": 206}, \"ordered_globals\": [\"x\", \"i\"], \"stack_to_render\": [], \"heap\": {}, \"stdout\": \"\"}, {\"line\": 4, \"event\": \"step_line\", \"func_name\": \"<module>\", \"globals\": {\"x\": 207, \"i\": 207}, \"ordered_globals\": [\"x\", \"i\"], \"stack_to_render\": [], \"heap\": {}, \"stdout\": \"\"}, {\"line\": 3, \"event\": \"step_line\", \"func_name\": \"<module>\", \"globals\": {\"x\": 208, \"i\": 207}, \"ordered_globals\": [\"x\", \"i\"], \"stack_to_render\": [], \"heap\": {}, \"stdout\": \"\"}, {\"line\": 4, \"event\": \"step_line\", \"func_name\": \"<module>\", \"globals\": {\"x\": 208, \"i\": 208}, \"ordered_globals\": [\"x\", \"i\"], \"stack_to_render\": [], \"heap\": {}, \"stdout\": \"\"}, {\"line\": 3, \"event\": \"step_line\", \"func_name\": \"<module>\", \"globals\": {\"x\": 209, \"i\": 208}, \"ordered_globals\": [\"x\", \"i\"], \"stack_to_render\": [], \"heap\": {}, \"stdout\": \"\"}, {\"line\": 4, \"event\": \"step_line\", \"func_name\": \"<module>\", \"globals\": {\"x\": 209, \"i\": 209}, \"ordered_globals\": [\"x\", \"i\"], \"stack_to_render\": [], \"heap\": {}, \"stdout\": \"\"}, {\"line\": 3, \"event\": \"step_line\", \"func_name\": \"<module>\", \"globals\": {\"x\": 210, \"i\": 209}, \"ordered_globals\": [\"x\", \"i\"], \"stack_to_render\": [], \"heap\": {}, \"stdout\": \"\"}, {\"line\": 4, \"event\": \"step_line\", \"func_name\": \"<module>\", \"globals\": {\"x\": 210, \"i\": 210}, \"ordered_globals\": [\"x\", \"i\"], \"stack_to_render\": [], \"heap\": {}, \"stdout\": \"\"}, {\"line\": 3, \"event\": \"step_line\", \"func_name\": \"<module>\", \"globals\": {\"x\": 211, \"i\": 210}, \"ordered_globals\": [\"x\", \"i\"], \"stack_to_render\": [], \"heap\": {}, \"stdout\": \"\"}, {\"line\": 4, \"event\": \"step_line\", \"func_name\": \"<module>\", \"globals\": {\"x\": 211, \"i\": 211}, \"ordered_globals\": [\"x\", \"i\"], \"stack_to_render\": [], \"heap\": {}, \"stdout\": \"\"}, {\"line\": 3, \"event\": \"step_line\", \"func_name\": \"<module>\", \"globals\": {\"x\": 212, \"i\": 211}, \"ordered_globals\": [\"x\", \"i\"], \"stack_to_render\": [], \"heap\": {}, \"stdout\": \"\"}, {\"line\": 4, \"event\": \"step_line\", \"func_name\": \"<module>\", \"globals\": {\"x\": 212, \"i\": 212}, \"ordered_globals\": [\"x\", \"i\"], \"stack_to_render\": [], \"heap\": {}, \"stdout\": \"\"}, {\"line\": 3, \"event\": \"step_line\", \"func_name\": \"<module>\", \"globals\": {\"x\": 213, \"i\": 212}, \"ordered_globals\": [\"x\", \"i\"], \"stack_to_render\": [], \"heap\": {}, \"stdout\": \"\"}, {\"line\": 4, \"event\": \"step_line\", \"func_name\": \"<module>\", \"globals\": {\"x\": 213, \"i\": 213}, \"ordered_globals\": [\"x\", \"i\"], \"stack_to_render\": [], \"heap\": {}, \"stdout\": \"\"}, {\"line\": 3, \"event\": \"step_line\", \"func_name\": \"<module>\", \"globals\": {\"x\": 214, \"i\": 213}, \"ordered_globals\": [\"x\", \"i\"], \"stack_to_render\": [], \"heap\": {}, \"stdout\": \"\"}, {\"line\": 4, \"event\": \"step_line\", \"func_name\": \"<module>\", \"globals\": {\"x\": 214, \"i\": 214}, \"ordered_globals\": [\"x\", \"i\"], \"stack_to_render\": [], \"heap\": {}, \"stdout\": \"\"}, {\"line\": 3, \"event\": \"step_line\", \"func_name\": \"<module>\", \"globals\": {\"x\": 215, \"i\": 214}, \"ordered_globals\": [\"x\", \"i\"], \"stack_to_render\": [], \"heap\": {}, \"stdout\": \"\"}, {\"line\": 4, \"event\": \"step_line\", \"func_name\": \"<module>\", \"globals\": {\"x\": 215, \"i\": 215}, \"ordered_globals\": [\"x\", \"i\"], \"stack_to_render\": [], \"heap\": {}, \"stdout\": \"\"}, {\"line\": 3, \"event\": \"step_line\", \"func_name\": \"<module>\", \"globals\": {\"x\": 216, \"i\": 215}, \"ordered_globals\": [\"x\", \"i\"], \"stack_to_render\": [], \"heap\": {}, \"stdout\": \"\"}, {\"line\": 4, \"event\": \"step_line\", \"func_name\": \"<module>\", \"globals\": {\"x\": 216, \"i\": 216}, \"ordered_globals\": [\"x\", \"i\"], \"stack_to_render\": [], \"heap\": {}, \"stdout\": \"\"}, {\"line\": 3, \"event\": \"step_line\", \"func_name\": \"<module>\", \"globals\": {\"x\": 217, \"i\": 216}, \"ordered_globals\": [\"x\", \"i\"], \"stack_to_render\": [], \"heap\": {}, \"stdout\": \"\"}, {\"line\": 4, \"event\": \"step_line\", \"func_name\": \"<module>\", \"globals\": {\"x\": 217, \"i\": 217}, \"ordered_globals\": [\"x\", \"i\"], \"stack_to_render\": [], \"heap\": {}, \"stdout\": \"\"}, {\"line\": 3, \"event\": \"step_line\", \"func_name\": \"<module>\", \"globals\": {\"x\": 218, \"i\": 217}, \"ordered_globals\": [\"x\", \"i\"], \"stack_to_render\": [], \"heap\": {}, \"stdout\": \"\"}, {\"line\": 4, \"event\": \"step_line\", \"func_name\": \"<module>\", \"globals\": {\"x\": 218, \"i\": 218}, \"ordered_globals\": [\"x\", \"i\"], \"stack_to_render\": [], \"heap\": {}, \"stdout\": \"\"}, {\"line\": 3, \"event\": \"step_line\", \"func_name\": \"<module>\", \"globals\": {\"x\": 219, \"i\": 218}, \"ordered_globals\": [\"x\", \"i\"], \"stack_to_render\": [], \"heap\": {}, \"stdout\": \"\"}, {\"line\": 4, \"event\": \"step_line\", \"func_name\": \"<module>\", \"globals\": {\"x\": 219, \"i\": 219}, \"ordered_globals\": [\"x\", \"i\"], \"stack_to_render\": [], \"heap\": {}, \"stdout\": \"\"}, {\"line\": 3, \"event\": \"step_line\", \"func_name\": \"<module>\", \"globals\": {\"x\": 220, \"i\": 219}, \"ordered_globals\": [\"x\", \"i\"], \"stack_to_render\": [], \"heap\": {}, \"stdout\": \"\"}, {\"line\": 4, \"event\": \"step_line\", \"func_name\": \"<module>\", \"globals\": {\"x\": 220, \"i\": 220}, \"ordered_globals\": [\"x\", \"i\"], \"stack_to_render\": [], \"heap\": {}, \"stdout\": \"\"}, {\"line\": 3, \"event\": \"step_line\", \"func_name\": \"<module>\", \"globals\": {\"x\": 221, \"i\": 220}, \"ordered_globals\": [\"x\", \"i\"], \"stack_to_render\": [], \"heap\": {}, \"stdout\": \"\"}, {\"line\": 4, \"event\": \"step_line\", \"func_name\": \"<module>\", \"globals\": {\"x\": 221, \"i\": 221}, \"ordered_globals\": [\"x\", \"i\"], \"stack_to_render\": [], \"heap\": {}, \"stdout\": \"\"}, {\"line\": 3, \"event\": \"step_line\", \"func_name\": \"<module>\", \"globals\": {\"x\": 222, \"i\": 221}, \"ordered_globals\": [\"x\", \"i\"], \"stack_to_render\": [], \"heap\": {}, \"stdout\": \"\"}, {\"line\": 4, \"event\": \"step_line\", \"func_name\": \"<module>\", \"globals\": {\"x\": 222, \"i\": 222}, \"ordered_globals\": [\"x\", \"i\"], \"stack_to_render\": [], \"heap\": {}, \"stdout\": \"\"}, {\"line\": 3, \"event\": \"step_line\", \"func_name\": \"<module>\", \"globals\": {\"x\": 223, \"i\": 222}, \"ordered_globals\": [\"x\", \"i\"], \"stack_to_render\": [], \"heap\": {}, \"stdout\": \"\"}, {\"line\": 4, \"event\": \"step_line\", \"func_name\": \"<module>\", \"globals\": {\"x\": 223, \"i\": 223}, \"ordered_globals\": [\"x\", \"i\"], \"stack_to_render\": [], \"heap\": {}, \"stdout\": \"\"}, {\"line\": 3, \"event\": \"step_line\", \"func_name\": \"<module>\", \"globals\": {\"x\": 224, \"i\": 223}, \"ordered_globals\": [\"x\", \"i\"], \"stack_to_render\": [], \"heap\": {}, \"stdout\": \"\"}, {\"line\": 4, \"event\": \"step_line\", \"func_name\": \"<module>\", \"globals\": {\"x\": 224, \"i\": 224}, \"ordered_globals\": [\"x\", \"i\"], \"stack_to_render\": [], \"heap\": {}, \"stdout\": \"\"}, {\"line\": 3, \"event\": \"step_line\", \"func_name\": \"<module>\", \"globals\": {\"x\": 225, \"i\": 224}, \"ordered_globals\": [\"x\", \"i\"], \"stack_to_render\": [], \"heap\": {}, \"stdout\": \"\"}, {\"line\": 4, \"event\": \"step_line\", \"func_name\": \"<module>\", \"globals\": {\"x\": 225, \"i\": 225}, \"ordered_globals\": [\"x\", \"i\"], \"stack_to_render\": [], \"heap\": {}, \"stdout\": \"\"}, {\"line\": 3, \"event\": \"step_line\", \"func_name\": \"<module>\", \"globals\": {\"x\": 226, \"i\": 225}, \"ordered_globals\": [\"x\", \"i\"], \"stack_to_render\": [], \"heap\": {}, \"stdout\": \"\"}, {\"line\": 4, \"event\": \"step_line\", \"func_name\": \"<module>\", \"globals\": {\"x\": 226, \"i\": 226}, \"ordered_globals\": [\"x\", \"i\"], \"stack_to_render\": [], \"heap\": {}, \"stdout\": \"\"}, {\"line\": 3, \"event\": \"step_line\", \"func_name\": \"<module>\", \"globals\": {\"x\": 227, \"i\": 226}, \"ordered_globals\": [\"x\", \"i\"], \"stack_to_render\": [], \"heap\": {}, \"stdout\": \"\"}, {\"line\": 4, \"event\": \"step_line\", \"func_name\": \"<module>\", \"globals\": {\"x\": 227, \"i\": 227}, \"ordered_globals\": [\"x\", \"i\"], \"stack_to_render\": [], \"heap\": {}, \"stdout\": \"\"}, {\"line\": 3, \"event\": \"step_line\", \"func_name\": \"<module>\", \"globals\": {\"x\": 228, \"i\": 227}, \"ordered_globals\": [\"x\", \"i\"], \"stack_to_render\": [], \"heap\": {}, \"stdout\": \"\"}, {\"line\": 4, \"event\": \"step_line\", \"func_name\": \"<module>\", \"globals\": {\"x\": 228, \"i\": 228}, \"ordered_globals\": [\"x\", \"i\"], \"stack_to_render\": [], \"heap\": {}, \"stdout\": \"\"}, {\"line\": 3, \"event\": \"step_line\", \"func_name\": \"<module>\", \"globals\": {\"x\": 229, \"i\": 228}, \"ordered_globals\": [\"x\", \"i\"], \"stack_to_render\": [], \"heap\": {}, \"stdout\": \"\"}, {\"line\": 4, \"event\": \"step_line\", \"func_name\": \"<module>\", \"globals\": {\"x\": 229, \"i\": 229}, \"ordered_globals\": [\"x\", \"i\"], \"stack_to_render\": [], \"heap\": {}, \"stdout\": \"\"}, {\"line\": 3, \"event\": \"step_line\", \"func_name\": \"<module>\", \"globals\": {\"x\": 230, \"i\": 229}, \"ordered_globals\": [\"x\", \"i\"], \"stack_to_render\": [], \"heap\": {}, \"stdout\": \"\"}, {\"line\": 4, \"event\": \"step_line\", \"func_name\": \"<module>\", \"globals\": {\"x\": 230, \"i\": 230}, \"ordered_globals\": [\"x\", \"i\"], \"stack_to_render\": [], \"heap\": {}, \"stdout\": \"\"}, {\"line\": 3, \"event\": \"step_line\", \"func_name\": \"<module>\", \"globals\": {\"x\": 231, \"i\": 230}, \"ordered_globals\": [\"x\", \"i\"], \"stack_to_render\": [], \"heap\": {}, \"stdout\": \"\"}, {\"line\": 4, \"event\": \"step_line\", \"func_name\": \"<module>\", \"globals\": {\"x\": 231, \"i\": 231}, \"ordered_globals\": [\"x\", \"i\"], \"stack_to_render\": [], \"heap\": {}, \"stdout\": \"\"}, {\"line\": 3, \"event\": \"step_line\", \"func_name\": \"<module>\", \"globals\": {\"x\": 232, \"i\": 231}, \"ordered_globals\": [\"x\", \"i\"], \"stack_to_render\": [], \"heap\": {}, \"stdout\": \"\"}, {\"line\": 4, \"event\": \"step_line\", \"func_name\": \"<module>\", \"globals\": {\"x\": 232, \"i\": 232}, \"ordered_globals\": [\"x\", \"i\"], \"stack_to_render\": [], \"heap\": {}, \"stdout\": \"\"}, {\"line\": 3, \"event\": \"step_line\", \"func_name\": \"<module>\", \"globals\": {\"x\": 233, \"i\": 232}, \"ordered_globals\": [\"x\", \"i\"], \"stack_to_render\": [], \"heap\": {}, \"stdout\": \"\"}, {\"line\": 4, \"event\": \"step_line\", \"func_name\": \"<module>\", \"globals\": {\"x\": 233, \"i\": 233}, \"ordered_globals\": [\"x\", \"i\"], \"stack_to_render\": [], \"heap\": {}, \"stdout\": \"\"}, {\"line\": 3, \"event\": \"step_line\", \"func_name\": \"<module>\", \"globals\": {\"x\": 234, \"i\": 233}, \"ordered_globals\": [\"x\", \"i\"], \"stack_to_render\": [], \"heap\": {}, \"stdout\": \"\"}, {\"line\": 4, \"event\": \"step_line\", \"func_name\": \"<module>\", \"globals\": {\"x\": 234, \"i\": 234}, \"ordered_globals\": [\"x\", \"i\"], \"stack_to_render\": [], \"heap\": {}, \"stdout\": \"\"}, {\"line\": 3, \"event\": \"step_line\", \"func_name\": \"<module>\", \"globals\": {\"x\": 235, \"i\": 234}, \"ordered_globals\": [\"x\", \"i\"], \"stack_to_render\": [], \"heap\": {}, \"stdout\": \"\"}, {\"line\": 4, \"event\": \"step_line\", \"func_name\": \"<module>\", \"globals\": {\"x\": 235, \"i\": 235}, \"ordered_globals\": [\"x\", \"i\"], \"stack_to_render\": [], \"heap\": {}, \"stdout\": \"\"}, {\"line\": 3, \"event\": \"step_line\", \"func_name\": \"<module>\", \"globals\": {\"x\": 236, \"i\": 235}, \"ordered_globals\": [\"x\", \"i\"], \"stack_to_render\": [], \"heap\": {}, \"stdout\": \"\"}, {\"line\": 4, \"event\": \"step_line\", \"func_name\": \"<module>\", \"globals\": {\"x\": 236, \"i\": 236}, \"ordered_globals\": [\"x\", \"i\"], \"stack_to_render\": [], \"heap\": {}, \"stdout\": \"\"}, {\"line\": 3, \"event\": \"step_line\", \"func_name\": \"<module>\", \"globals\": {\"x\": 237, \"i\": 236}, \"ordered_globals\": [\"x\", \"i\"], \"stack_to_render\": [], \"heap\": {}, \"stdout\": \"\"}, {\"line\": 4, \"event\": \"step_line\", \"func_name\": \"<module>\", \"globals\": {\"x\": 237, \"i\": 237}, \"ordered_globals\": [\"x\", \"i\"], \"stack_to_render\": [], \"heap\": {}, \"stdout\": \"\"}, {\"line\": 3, \"event\": \"step_line\", \"func_name\": \"<module>\", \"globals\": {\"x\": 238, \"i\": 237}, \"ordered_globals\": [\"x\", \"i\"], \"stack_to_render\": [], \"heap\": {}, \"stdout\": \"\"}, {\"line\": 4, \"event\": \"step_line\", \"func_name\": \"<module>\", \"globals\": {\"x\": 238, \"i\": 238}, \"ordered_globals\": [\"x\", \"i\"], \"stack_to_render\": [], \"heap\": {}, \"stdout\": \"\"}, {\"line\": 3, \"event\": \"step_line\", \"func_name\": \"<module>\", \"globals\": {\"x\": 239, \"i\": 238}, \"ordered_globals\": [\"x\", \"i\"], \"stack_to_render\": [], \"heap\": {}, \"stdout\": \"\"}, {\"line\": 4, \"event\": \"step_line\", \"func_name\": \"<module>\", \"globals\": {\"x\": 239, \"i\": 239}, \"ordered_globals\": [\"x\", \"i\"], \"stack_to_render\": [], \"heap\": {}, \"stdout\": \"\"}, {\"line\": 3, \"event\": \"step_line\", \"func_name\": \"<module>\", \"globals\": {\"x\": 240, \"i\": 239}, \"ordered_globals\": [\"x\", \"i\"], \"stack_to_render\": [], \"heap\": {}, \"stdout\": \"\"}, {\"line\": 4, \"event\": \"step_line\", \"func_name\": \"<module>\", \"globals\": {\"x\": 240, \"i\": 240}, \"ordered_globals\": [\"x\", \"i\"], \"stack_to_render\": [], \"heap\": {}, \"stdout\": \"\"}, {\"line\": 3, \"event\": \"step_line\", \"func_name\": \"<module>\", \"globals\": {\"x\": 241, \"i\": 240}, \"ordered_globals\": [\"x\", \"i\"], \"stack_to_render\": [], \"heap\": {}, \"stdout\": \"\"}, {\"line\": 4, \"event\": \"step_line\", \"func_name\": \"<module>\", \"globals\": {\"x\": 241, \"i\": 241}, \"ordered_globals\": [\"x\", \"i\"], \"stack_to_render\": [], \"heap\": {}, \"stdout\": \"\"}, {\"line\": 3, \"event\": \"step_line\", \"func_name\": \"<module>\", \"globals\": {\"x\": 242, \"i\": 241}, \"ordered_globals\": [\"x\", \"i\"], \"stack_to_render\": [], \"heap\": {}, \"stdout\": \"\"}, {\"line\": 4, \"event\": \"step_line\", \"func_name\": \"<module>\", \"globals\": {\"x\": 242, \"i\": 242}, \"ordered_globals\": [\"x\", \"i\"], \"stack_to_render\": [], \"heap\": {}, \"stdout\": \"\"}, {\"line\": 3, \"event\": \"step_line\", \"func_name\": \"<module>\", \"globals\": {\"x\": 243, \"i\": 242}, \"ordered_globals\": [\"x\", \"i\"], \"stack_to_render\": [], \"heap\": {}, \"stdout\": \"\"}, {\"line\": 4, \"event\": \"step_line\", \"func_name\": \"<module>\", \"globals\": {\"x\": 243, \"i\": 243}, \"ordered_globals\": [\"x\", \"i\"], \"stack_to_render\": [], \"heap\": {}, \"stdout\": \"\"}, {\"line\": 3, \"event\": \"step_line\", \"func_name\": \"<module>\", \"globals\": {\"x\": 244, \"i\": 243}, \"ordered_globals\": [\"x\", \"i\"], \"stack_to_render\": [], \"heap\": {}, \"stdout\": \"\"}, {\"line\": 4, \"event\": \"step_line\", \"func_name\": \"<module>\", \"globals\": {\"x\": 244, \"i\": 244}, \"ordered_globals\": [\"x\", \"i\"], \"stack_to_render\": [], \"heap\": {}, \"stdout\": \"\"}, {\"line\": 3, \"event\": \"step_line\", \"func_name\": \"<module>\", \"globals\": {\"x\": 245, \"i\": 244}, \"ordered_globals\": [\"x\", \"i\"], \"stack_to_render\": [], \"heap\": {}, \"stdout\": \"\"}, {\"line\": 4, \"event\": \"step_line\", \"func_name\": \"<module>\", \"globals\": {\"x\": 245, \"i\": 245}, \"ordered_globals\": [\"x\", \"i\"], \"stack_to_render\": [], \"heap\": {}, \"stdout\": \"\"}, {\"line\": 3, \"event\": \"step_line\", \"func_name\": \"<module>\", \"globals\": {\"x\": 246, \"i\": 245}, \"ordered_globals\": [\"x\", \"i\"], \"stack_to_render\": [], \"heap\": {}, \"stdout\": \"\"}, {\"line\": 4, \"event\": \"step_line\", \"func_name\": \"<module>\", \"globals\": {\"x\": 246, \"i\": 246}, \"ordered_globals\": [\"x\", \"i\"], \"stack_to_render\": [], \"heap\": {}, \"stdout\": \"\"}, {\"line\": 3, \"event\": \"step_line\", \"func_name\": \"<module>\", \"globals\": {\"x\": 247, \"i\": 246}, \"ordered_globals\": [\"x\", \"i\"], \"stack_to_render\": [], \"heap\": {}, \"stdout\": \"\"}, {\"line\": 4, \"event\": \"step_line\", \"func_name\": \"<module>\", \"globals\": {\"x\": 247, \"i\": 247}, \"ordered_globals\": [\"x\", \"i\"], \"stack_to_render\": [], \"heap\": {}, \"stdout\": \"\"}, {\"line\": 3, \"event\": \"step_line\", \"func_name\": \"<module>\", \"globals\": {\"x\": 248, \"i\": 247}, \"ordered_globals\": [\"x\", \"i\"], \"stack_to_render\": [], \"heap\": {}, \"stdout\": \"\"}, {\"line\": 4, \"event\": \"step_line\", \"func_name\": \"<module>\", \"globals\": {\"x\": 248, \"i\": 248}, \"ordered_globals\": [\"x\", \"i\"], \"stack_to_render\": [], \"heap\": {}, \"stdout\": \"\"}, {\"line\": 3, \"event\": \"step_line\", \"func_name\": \"<module>\", \"globals\": {\"x\": 249, \"i\": 248}, \"ordered_globals\": [\"x\", \"i\"], \"stack_to_render\": [], \"heap\": {}, \"stdout\": \"\"}, {\"line\": 4, \"event\": \"step_line\", \"func_name\": \"<module>\", \"globals\": {\"x\": 249, \"i\": 249}, \"ordered_globals\": [\"x\", \"i\"], \"stack_to_render\": [], \"heap\": {}, \"stdout\": \"\"}, {\"line\": 3, \"event\": \"step_line\", \"func_name\": \"<module>\", \"globals\": {\"x\": 250, \"i\": 249}, \"ordered_globals\": [\"x\", \"i\"], \"stack_to_render\": [], \"heap\": {}, \"stdout\": \"\"}, {\"line\": 4, \"event\": \"step_line\", \"func_name\": \"<module>\", \"globals\": {\"x\": 250, \"i\": 250}, \"ordered_globals\": [\"x\", \"i\"], \"stack_to_render\": [], \"heap\": {}, \"stdout\": \"\"}, {\"line\": 3, \"event\": \"step_line\", \"func_name\": \"<module>\", \"globals\": {\"x\": 251, \"i\": 250}, \"ordered_globals\": [\"x\", \"i\"], \"stack_to_render\": [], \"heap\": {}, \"stdout\": \"\"}, {\"line\": 4, \"event\": \"step_line\", \"func_name\": \"<module>\", \"globals\": {\"x\": 251, \"i\": 251}, \"ordered_globals\": [\"x\", \"i\"], \"stack_to_render\": [], \"heap\": {}, \"stdout\": \"\"}, {\"line\": 3, \"event\": \"step_line\", \"func_name\": \"<module>\", \"globals\": {\"x\": 252, \"i\": 251}, \"ordered_globals\": [\"x\", \"i\"], \"stack_to_render\": [], \"heap\": {}, \"stdout\": \"\"}, {\"line\": 4, \"event\": \"step_line\", \"func_name\": \"<module>\", \"globals\": {\"x\": 252, \"i\": 252}, \"ordered_globals\": [\"x\", \"i\"], \"stack_to_render\": [], \"heap\": {}, \"stdout\": \"\"}, {\"line\": 3, \"event\": \"step_line\", \"func_name\": \"<module>\", \"globals\": {\"x\": 253, \"i\": 252}, \"ordered_globals\": [\"x\", \"i\"], \"stack_to_render\": [], \"heap\": {}, \"stdout\": \"\"}, {\"line\": 4, \"event\": \"step_line\", \"func_name\": \"<module>\", \"globals\": {\"x\": 253, \"i\": 253}, \"ordered_globals\": [\"x\", \"i\"], \"stack_to_render\": [], \"heap\": {}, \"stdout\": \"\"}, {\"line\": 3, \"event\": \"step_line\", \"func_name\": \"<module>\", \"globals\": {\"x\": 254, \"i\": 253}, \"ordered_globals\": [\"x\", \"i\"], \"stack_to_render\": [], \"heap\": {}, \"stdout\": \"\"}, {\"line\": 4, \"event\": \"step_line\", \"func_name\": \"<module>\", \"globals\": {\"x\": 254, \"i\": 254}, \"ordered_globals\": [\"x\", \"i\"], \"stack_to_render\": [], \"heap\": {}, \"stdout\": \"\"}, {\"line\": 3, \"event\": \"step_line\", \"func_name\": \"<module>\", \"globals\": {\"x\": 255, \"i\": 254}, \"ordered_globals\": [\"x\", \"i\"], \"stack_to_render\": [], \"heap\": {}, \"stdout\": \"\"}, {\"line\": 4, \"event\": \"step_line\", \"func_name\": \"<module>\", \"globals\": {\"x\": 255, \"i\": 255}, \"ordered_globals\": [\"x\", \"i\"], \"stack_to_render\": [], \"heap\": {}, \"stdout\": \"\"}, {\"line\": 3, \"event\": \"step_line\", \"func_name\": \"<module>\", \"globals\": {\"x\": 256, \"i\": 255}, \"ordered_globals\": [\"x\", \"i\"], \"stack_to_render\": [], \"heap\": {}, \"stdout\": \"\"}, {\"line\": 4, \"event\": \"step_line\", \"func_name\": \"<module>\", \"globals\": {\"x\": 256, \"i\": 256}, \"ordered_globals\": [\"x\", \"i\"], \"stack_to_render\": [], \"heap\": {}, \"stdout\": \"\"}, {\"line\": 3, \"event\": \"step_line\", \"func_name\": \"<module>\", \"globals\": {\"x\": 257, \"i\": 256}, \"ordered_globals\": [\"x\", \"i\"], \"stack_to_render\": [], \"heap\": {}, \"stdout\": \"\"}, {\"line\": 4, \"event\": \"step_line\", \"func_name\": \"<module>\", \"globals\": {\"x\": 257, \"i\": 257}, \"ordered_globals\": [\"x\", \"i\"], \"stack_to_render\": [], \"heap\": {}, \"stdout\": \"\"}, {\"line\": 3, \"event\": \"step_line\", \"func_name\": \"<module>\", \"globals\": {\"x\": 258, \"i\": 257}, \"ordered_globals\": [\"x\", \"i\"], \"stack_to_render\": [], \"heap\": {}, \"stdout\": \"\"}, {\"line\": 4, \"event\": \"step_line\", \"func_name\": \"<module>\", \"globals\": {\"x\": 258, \"i\": 258}, \"ordered_globals\": [\"x\", \"i\"], \"stack_to_render\": [], \"heap\": {}, \"stdout\": \"\"}, {\"line\": 3, \"event\": \"step_line\", \"func_name\": \"<module>\", \"globals\": {\"x\": 259, \"i\": 258}, \"ordered_globals\": [\"x\", \"i\"], \"stack_to_render\": [], \"heap\": {}, \"stdout\": \"\"}, {\"line\": 4, \"event\": \"step_line\", \"func_name\": \"<module>\", \"globals\": {\"x\": 259, \"i\": 259}, \"ordered_globals\": [\"x\", \"i\"], \"stack_to_render\": [], \"heap\": {}, \"stdout\": \"\"}, {\"line\": 3, \"event\": \"step_line\", \"func_name\": \"<module>\", \"globals\": {\"x\": 260, \"i\": 259}, \"ordered_globals\": [\"x\", \"i\"], \"stack_to_render\": [], \"heap\": {}, \"stdout\": \"\"}, {\"line\": 4, \"event\": \"step_line\", \"func_name\": \"<module>\", \"globals\": {\"x\": 260, \"i\": 260}, \"ordered_globals\": [\"x\", \"i\"], \"stack_to_render\": [], \"heap\": {}, \"stdout\": \"\"}, {\"line\": 3, \"event\": \"step_line\", \"func_name\": \"<module>\", \"globals\": {\"x\": 261, \"i\": 260}, \"ordered_globals\": [\"x\", \"i\"], \"stack_to_render\": [], \"heap\": {}, \"stdout\": \"\"}, {\"line\": 4, \"event\": \"step_line\", \"func_name\": \"<module>\", \"globals\": {\"x\": 261, \"i\": 261}, \"ordered_globals\": [\"x\", \"i\"], \"stack_to_render\": [], \"heap\": {}, \"stdout\": \"\"}, {\"line\": 3, \"event\": \"step_line\", \"func_name\": \"<module>\", \"globals\": {\"x\": 262, \"i\": 261}, \"ordered_globals\": [\"x\", \"i\"], \"stack_to_render\": [], \"heap\": {}, \"stdout\": \"\"}, {\"line\": 4, \"event\": \"step_line\", \"func_name\": \"<module>\", \"globals\": {\"x\": 262, \"i\": 262}, \"ordered_globals\": [\"x\", \"i\"], \"stack_to_render\": [], \"heap\": {}, \"stdout\": \"\"}, {\"line\": 3, \"event\": \"step_line\", \"func_name\": \"<module>\", \"globals\": {\"x\": 263, \"i\": 262}, \"ordered_globals\": [\"x\", \"i\"], \"stack_to_render\": [], \"heap\": {}, \"stdout\": \"\"}, {\"line\": 4, \"event\": \"step_line\", \"func_name\": \"<module>\", \"globals\": {\"x\": 263, \"i\": 263}, \"ordered_globals\": [\"x\", \"i\"], \"stack_to_render\": [], \"heap\": {}, \"stdout\": \"\"}, {\"line\": 3, \"event\": \"step_line\", \"func_name\": \"<module>\", \"globals\": {\"x\": 264, \"i\": 263}, \"ordered_globals\": [\"x\", \"i\"], \"stack_to_render\": [], \"heap\": {}, \"stdout\": \"\"}, {\"line\": 4, \"event\": \"step_line\", \"func_name\": \"<module>\", \"globals\": {\"x\": 264, \"i\": 264}, \"ordered_globals\": [\"x\", \"i\"], \"stack_to_render\": [], \"heap\": {}, \"stdout\": \"\"}, {\"line\": 3, \"event\": \"step_line\", \"func_name\": \"<module>\", \"globals\": {\"x\": 265, \"i\": 264}, \"ordered_globals\": [\"x\", \"i\"], \"stack_to_render\": [], \"heap\": {}, \"stdout\": \"\"}, {\"line\": 4, \"event\": \"step_line\", \"func_name\": \"<module>\", \"globals\": {\"x\": 265, \"i\": 265}, \"ordered_globals\": [\"x\", \"i\"], \"stack_to_render\": [], \"heap\": {}, \"stdout\": \"\"}, {\"line\": 3, \"event\": \"step_line\", \"func_name\": \"<module>\", \"globals\": {\"x\": 266, \"i\": 265}, \"ordered_globals\": [\"x\", \"i\"], \"stack_to_render\": [], \"heap\": {}, \"stdout\": \"\"}, {\"line\": 4, \"event\": \"step_line\", \"func_name\": \"<module>\", \"globals\": {\"x\": 266, \"i\": 266}, \"ordered_globals\": [\"x\", \"i\"], \"stack_to_render\": [], \"heap\": {}, \"stdout\": \"\"}, {\"line\": 3, \"event\": \"step_line\", \"func_name\": \"<module>\", \"globals\": {\"x\": 267, \"i\": 266}, \"ordered_globals\": [\"x\", \"i\"], \"stack_to_render\": [], \"heap\": {}, \"stdout\": \"\"}, {\"line\": 4, \"event\": \"step_line\", \"func_name\": \"<module>\", \"globals\": {\"x\": 267, \"i\": 267}, \"ordered_globals\": [\"x\", \"i\"], \"stack_to_render\": [], \"heap\": {}, \"stdout\": \"\"}, {\"line\": 3, \"event\": \"step_line\", \"func_name\": \"<module>\", \"globals\": {\"x\": 268, \"i\": 267}, \"ordered_globals\": [\"x\", \"i\"], \"stack_to_render\": [], \"heap\": {}, \"stdout\": \"\"}, {\"line\": 4, \"event\": \"step_line\", \"func_name\": \"<module>\", \"globals\": {\"x\": 268, \"i\": 268}, \"ordered_globals\": [\"x\", \"i\"], \"stack_to_render\": [], \"heap\": {}, \"stdout\": \"\"}, {\"line\": 3, \"event\": \"step_line\", \"func_name\": \"<module>\", \"globals\": {\"x\": 269, \"i\": 268}, \"ordered_globals\": [\"x\", \"i\"], \"stack_to_render\": [], \"heap\": {}, \"stdout\": \"\"}, {\"line\": 4, \"event\": \"step_line\", \"func_name\": \"<module>\", \"globals\": {\"x\": 269, \"i\": 269}, \"ordered_globals\": [\"x\", \"i\"], \"stack_to_render\": [], \"heap\": {}, \"stdout\": \"\"}, {\"line\": 3, \"event\": \"step_line\", \"func_name\": \"<module>\", \"globals\": {\"x\": 270, \"i\": 269}, \"ordered_globals\": [\"x\", \"i\"], \"stack_to_render\": [], \"heap\": {}, \"stdout\": \"\"}, {\"line\": 4, \"event\": \"step_line\", \"func_name\": \"<module>\", \"globals\": {\"x\": 270, \"i\": 270}, \"ordered_globals\": [\"x\", \"i\"], \"stack_to_render\": [], \"heap\": {}, \"stdout\": \"\"}, {\"line\": 3, \"event\": \"step_line\", \"func_name\": \"<module>\", \"globals\": {\"x\": 271, \"i\": 270}, \"ordered_globals\": [\"x\", \"i\"], \"stack_to_render\": [], \"heap\": {}, \"stdout\": \"\"}, {\"line\": 4, \"event\": \"step_line\", \"func_name\": \"<module>\", \"globals\": {\"x\": 271, \"i\": 271}, \"ordered_globals\": [\"x\", \"i\"], \"stack_to_render\": [], \"heap\": {}, \"stdout\": \"\"}, {\"line\": 3, \"event\": \"step_line\", \"func_name\": \"<module>\", \"globals\": {\"x\": 272, \"i\": 271}, \"ordered_globals\": [\"x\", \"i\"], \"stack_to_render\": [], \"heap\": {}, \"stdout\": \"\"}, {\"line\": 4, \"event\": \"step_line\", \"func_name\": \"<module>\", \"globals\": {\"x\": 272, \"i\": 272}, \"ordered_globals\": [\"x\", \"i\"], \"stack_to_render\": [], \"heap\": {}, \"stdout\": \"\"}, {\"line\": 3, \"event\": \"step_line\", \"func_name\": \"<module>\", \"globals\": {\"x\": 273, \"i\": 272}, \"ordered_globals\": [\"x\", \"i\"], \"stack_to_render\": [], \"heap\": {}, \"stdout\": \"\"}, {\"line\": 4, \"event\": \"step_line\", \"func_name\": \"<module>\", \"globals\": {\"x\": 273, \"i\": 273}, \"ordered_globals\": [\"x\", \"i\"], \"stack_to_render\": [], \"heap\": {}, \"stdout\": \"\"}, {\"line\": 3, \"event\": \"step_line\", \"func_name\": \"<module>\", \"globals\": {\"x\": 274, \"i\": 273}, \"ordered_globals\": [\"x\", \"i\"], \"stack_to_render\": [], \"heap\": {}, \"stdout\": \"\"}, {\"line\": 4, \"event\": \"step_line\", \"func_name\": \"<module>\", \"globals\": {\"x\": 274, \"i\": 274}, \"ordered_globals\": [\"x\", \"i\"], \"stack_to_render\": [], \"heap\": {}, \"stdout\": \"\"}, {\"line\": 3, \"event\": \"step_line\", \"func_name\": \"<module>\", \"globals\": {\"x\": 275, \"i\": 274}, \"ordered_globals\": [\"x\", \"i\"], \"stack_to_render\": [], \"heap\": {}, \"stdout\": \"\"}, {\"line\": 4, \"event\": \"step_line\", \"func_name\": \"<module>\", \"globals\": {\"x\": 275, \"i\": 275}, \"ordered_globals\": [\"x\", \"i\"], \"stack_to_render\": [], \"heap\": {}, \"stdout\": \"\"}, {\"line\": 3, \"event\": \"step_line\", \"func_name\": \"<module>\", \"globals\": {\"x\": 276, \"i\": 275}, \"ordered_globals\": [\"x\", \"i\"], \"stack_to_render\": [], \"heap\": {}, \"stdout\": \"\"}, {\"line\": 4, \"event\": \"step_line\", \"func_name\": \"<module>\", \"globals\": {\"x\": 276, \"i\": 276}, \"ordered_globals\": [\"x\", \"i\"], \"stack_to_render\": [], \"heap\": {}, \"stdout\": \"\"}, {\"line\": 3, \"event\": \"step_line\", \"func_name\": \"<module>\", \"globals\": {\"x\": 277, \"i\": 276}, \"ordered_globals\": [\"x\", \"i\"], \"stack_to_render\": [], \"heap\": {}, \"stdout\": \"\"}, {\"line\": 4, \"event\": \"step_line\", \"func_name\": \"<module>\", \"globals\": {\"x\": 277, \"i\": 277}, \"ordered_globals\": [\"x\", \"i\"], \"stack_to_render\": [], \"heap\": {}, \"stdout\": \"\"}, {\"line\": 3, \"event\": \"step_line\", \"func_name\": \"<module>\", \"globals\": {\"x\": 278, \"i\": 277}, \"ordered_globals\": [\"x\", \"i\"], \"stack_to_render\": [], \"heap\": {}, \"stdout\": \"\"}, {\"line\": 4, \"event\": \"step_line\", \"func_name\": \"<module>\", \"globals\": {\"x\": 278, \"i\": 278}, \"ordered_globals\": [\"x\", \"i\"], \"stack_to_render\": [], \"heap\": {}, \"stdout\": \"\"}, {\"line\": 3, \"event\": \"step_line\", \"func_name\": \"<module>\", \"globals\": {\"x\": 279, \"i\": 278}, \"ordered_globals\": [\"x\", \"i\"], \"stack_to_render\": [], \"heap\": {}, \"stdout\": \"\"}, {\"line\": 4, \"event\": \"step_line\", \"func_name\": \"<module>\", \"globals\": {\"x\": 279, \"i\": 279}, \"ordered_globals\": [\"x\", \"i\"], \"stack_to_render\": [], \"heap\": {}, \"stdout\": \"\"}, {\"line\": 3, \"event\": \"step_line\", \"func_name\": \"<module>\", \"globals\": {\"x\": 280, \"i\": 279}, \"ordered_globals\": [\"x\", \"i\"], \"stack_to_render\": [], \"heap\": {}, \"stdout\": \"\"}, {\"line\": 4, \"event\": \"step_line\", \"func_name\": \"<module>\", \"globals\": {\"x\": 280, \"i\": 280}, \"ordered_globals\": [\"x\", \"i\"], \"stack_to_render\": [], \"heap\": {}, \"stdout\": \"\"}, {\"line\": 3, \"event\": \"step_line\", \"func_name\": \"<module>\", \"globals\": {\"x\": 281, \"i\": 280}, \"ordered_globals\": [\"x\", \"i\"], \"stack_to_render\": [], \"heap\": {}, \"stdout\": \"\"}, {\"line\": 4, \"event\": \"step_line\", \"func_name\": \"<module>\", \"globals\": {\"x\": 281, \"i\": 281}, \"ordered_globals\": [\"x\", \"i\"], \"stack_to_render\": [], \"heap\": {}, \"stdout\": \"\"}, {\"line\": 3, \"event\": \"step_line\", \"func_name\": \"<module>\", \"globals\": {\"x\": 282, \"i\": 281}, \"ordered_globals\": [\"x\", \"i\"], \"stack_to_render\": [], \"heap\": {}, \"stdout\": \"\"}, {\"line\": 4, \"event\": \"step_line\", \"func_name\": \"<module>\", \"globals\": {\"x\": 282, \"i\": 282}, \"ordered_globals\": [\"x\", \"i\"], \"stack_to_render\": [], \"heap\": {}, \"stdout\": \"\"}, {\"line\": 3, \"event\": \"step_line\", \"func_name\": \"<module>\", \"globals\": {\"x\": 283, \"i\": 282}, \"ordered_globals\": [\"x\", \"i\"], \"stack_to_render\": [], \"heap\": {}, \"stdout\": \"\"}, {\"line\": 4, \"event\": \"step_line\", \"func_name\": \"<module>\", \"globals\": {\"x\": 283, \"i\": 283}, \"ordered_globals\": [\"x\", \"i\"], \"stack_to_render\": [], \"heap\": {}, \"stdout\": \"\"}, {\"line\": 3, \"event\": \"step_line\", \"func_name\": \"<module>\", \"globals\": {\"x\": 284, \"i\": 283}, \"ordered_globals\": [\"x\", \"i\"], \"stack_to_render\": [], \"heap\": {}, \"stdout\": \"\"}, {\"line\": 4, \"event\": \"step_line\", \"func_name\": \"<module>\", \"globals\": {\"x\": 284, \"i\": 284}, \"ordered_globals\": [\"x\", \"i\"], \"stack_to_render\": [], \"heap\": {}, \"stdout\": \"\"}, {\"line\": 3, \"event\": \"step_line\", \"func_name\": \"<module>\", \"globals\": {\"x\": 285, \"i\": 284}, \"ordered_globals\": [\"x\", \"i\"], \"stack_to_render\": [], \"heap\": {}, \"stdout\": \"\"}, {\"line\": 4, \"event\": \"step_line\", \"func_name\": \"<module>\", \"globals\": {\"x\": 285, \"i\": 285}, \"ordered_globals\": [\"x\", \"i\"], \"stack_to_render\": [], \"heap\": {}, \"stdout\": \"\"}, {\"line\": 3, \"event\": \"step_line\", \"func_name\": \"<module>\", \"globals\": {\"x\": 286, \"i\": 285}, \"ordered_globals\": [\"x\", \"i\"], \"stack_to_render\": [], \"heap\": {}, \"stdout\": \"\"}, {\"line\": 4, \"event\": \"step_line\", \"func_name\": \"<module>\", \"globals\": {\"x\": 286, \"i\": 286}, \"ordered_globals\": [\"x\", \"i\"], \"stack_to_render\": [], \"heap\": {}, \"stdout\": \"\"}, {\"line\": 3, \"event\": \"step_line\", \"func_name\": \"<module>\", \"globals\": {\"x\": 287, \"i\": 286}, \"ordered_globals\": [\"x\", \"i\"], \"stack_to_render\": [], \"heap\": {}, \"stdout\": \"\"}, {\"line\": 4, \"event\": \"step_line\", \"func_name\": \"<module>\", \"globals\": {\"x\": 287, \"i\": 287}, \"ordered_globals\": [\"x\", \"i\"], \"stack_to_render\": [], \"heap\": {}, \"stdout\": \"\"}, {\"line\": 3, \"event\": \"step_line\", \"func_name\": \"<module>\", \"globals\": {\"x\": 288, \"i\": 287}, \"ordered_globals\": [\"x\", \"i\"], \"stack_to_render\": [], \"heap\": {}, \"stdout\": \"\"}, {\"line\": 4, \"event\": \"step_line\", \"func_name\": \"<module>\", \"globals\": {\"x\": 288, \"i\": 288}, \"ordered_globals\": [\"x\", \"i\"], \"stack_to_render\": [], \"heap\": {}, \"stdout\": \"\"}, {\"line\": 3, \"event\": \"step_line\", \"func_name\": \"<module>\", \"globals\": {\"x\": 289, \"i\": 288}, \"ordered_globals\": [\"x\", \"i\"], \"stack_to_render\": [], \"heap\": {}, \"stdout\": \"\"}, {\"line\": 4, \"event\": \"step_line\", \"func_name\": \"<module>\", \"globals\": {\"x\": 289, \"i\": 289}, \"ordered_globals\": [\"x\", \"i\"], \"stack_to_render\": [], \"heap\": {}, \"stdout\": \"\"}, {\"line\": 3, \"event\": \"step_line\", \"func_name\": \"<module>\", \"globals\": {\"x\": 290, \"i\": 289}, \"ordered_globals\": [\"x\", \"i\"], \"stack_to_render\": [], \"heap\": {}, \"stdout\": \"\"}, {\"line\": 4, \"event\": \"step_line\", \"func_name\": \"<module>\", \"globals\": {\"x\": 290, \"i\": 290}, \"ordered_globals\": [\"x\", \"i\"], \"stack_to_render\": [], \"heap\": {}, \"stdout\": \"\"}, {\"line\": 3, \"event\": \"step_line\", \"func_name\": \"<module>\", \"globals\": {\"x\": 291, \"i\": 290}, \"ordered_globals\": [\"x\", \"i\"], \"stack_to_render\": [], \"heap\": {}, \"stdout\": \"\"}, {\"line\": 4, \"event\": \"step_line\", \"func_name\": \"<module>\", \"globals\": {\"x\": 291, \"i\": 291}, \"ordered_globals\": [\"x\", \"i\"], \"stack_to_render\": [], \"heap\": {}, \"stdout\": \"\"}, {\"line\": 3, \"event\": \"step_line\", \"func_name\": \"<module>\", \"globals\": {\"x\": 292, \"i\": 291}, \"ordered_globals\": [\"x\", \"i\"], \"stack_to_render\": [], \"heap\": {}, \"stdout\": \"\"}, {\"line\": 4, \"event\": \"step_line\", \"func_name\": \"<module>\", \"globals\": {\"x\": 292, \"i\": 292}, \"ordered_globals\": [\"x\", \"i\"], \"stack_to_render\": [], \"heap\": {}, \"stdout\": \"\"}, {\"line\": 3, \"event\": \"step_line\", \"func_name\": \"<module>\", \"globals\": {\"x\": 293, \"i\": 292}, \"ordered_globals\": [\"x\", \"i\"], \"stack_to_render\": [], \"heap\": {}, \"stdout\": \"\"}, {\"line\": 4, \"event\": \"step_line\", \"func_name\": \"<module>\", \"globals\": {\"x\": 293, \"i\": 293}, \"ordered_globals\": [\"x\", \"i\"], \"stack_to_render\": [], \"heap\": {}, \"stdout\": \"\"}, {\"line\": 3, \"event\": \"step_line\", \"func_name\": \"<module>\", \"globals\": {\"x\": 294, \"i\": 293}, \"ordered_globals\": [\"x\", \"i\"], \"stack_to_render\": [], \"heap\": {}, \"stdout\": \"\"}, {\"line\": 4, \"event\": \"step_line\", \"func_name\": \"<module>\", \"globals\": {\"x\": 294, \"i\": 294}, \"ordered_globals\": [\"x\", \"i\"], \"stack_to_render\": [], \"heap\": {}, \"stdout\": \"\"}, {\"line\": 3, \"event\": \"step_line\", \"func_name\": \"<module>\", \"globals\": {\"x\": 295, \"i\": 294}, \"ordered_globals\": [\"x\", \"i\"], \"stack_to_render\": [], \"heap\": {}, \"stdout\": \"\"}, {\"line\": 4, \"event\": \"step_line\", \"func_name\": \"<module>\", \"globals\": {\"x\": 295, \"i\": 295}, \"ordered_globals\": [\"x\", \"i\"], \"stack_to_render\": [], \"heap\": {}, \"stdout\": \"\"}, {\"line\": 3, \"event\": \"step_line\", \"func_name\": \"<module>\", \"globals\": {\"x\": 296, \"i\": 295}, \"ordered_globals\": [\"x\", \"i\"], \"stack_to_render\": [], \"heap\": {}, \"stdout\": \"\"}, {\"line\": 4, \"event\": \"step_line\", \"func_name\": \"<module>\", \"globals\": {\"x\": 296, \"i\": 296}, \"ordered_globals\": [\"x\", \"i\"], \"stack_to_render\": [], \"heap\": {}, \"stdout\": \"\"}, {\"line\": 3, \"event\": \"step_line\", \"func_name\": \"<module>\", \"globals\": {\"x\": 297, \"i\": 296}, \"ordered_globals\": [\"x\", \"i\"], \"stack_to_render\": [], \"heap\": {}, \"stdout\": \"\"}, {\"line\": 4, \"event\": \"step_line\", \"func_name\": \"<module>\", \"globals\": {\"x\": 297, \"i\": 297}, \"ordered_globals\": [\"x\", \"i\"], \"stack_to_render\": [], \"heap\": {}, \"stdout\": \"\"}, {\"line\": 3, \"event\": \"step_line\", \"func_name\": \"<module>\", \"globals\": {\"x\": 298, \"i\": 297}, \"ordered_globals\": [\"x\", \"i\"], \"stack_to_render\": [], \"heap\": {}, \"stdout\": \"\"}, {\"line\": 4, \"event\": \"step_line\", \"func_name\": \"<module>\", \"globals\": {\"x\": 298, \"i\": 298}, \"ordered_globals\": [\"x\", \"i\"], \"stack_to_render\": [], \"heap\": {}, \"stdout\": \"\"}, {\"line\": 3, \"event\": \"step_line\", \"func_name\": \"<module>\", \"globals\": {\"x\": 299, \"i\": 298}, \"ordered_globals\": [\"x\", \"i\"], \"stack_to_render\": [], \"heap\": {}, \"stdout\": \"\"}, {\"line\": 4, \"event\": \"step_line\", \"func_name\": \"<module>\", \"globals\": {\"x\": 299, \"i\": 299}, \"ordered_globals\": [\"x\", \"i\"], \"stack_to_render\": [], \"heap\": {}, \"stdout\": \"\"}, {\"line\": 3, \"event\": \"step_line\", \"func_name\": \"<module>\", \"globals\": {\"x\": 300, \"i\": 299}, \"ordered_globals\": [\"x\", \"i\"], \"stack_to_render\": [], \"heap\": {}, \"stdout\": \"\"}, {\"line\": 4, \"event\": \"step_line\", \"func_name\": \"<module>\", \"globals\": {\"x\": 300, \"i\": 300}, \"ordered_globals\": [\"x\", \"i\"], \"stack_to_render\": [], \"heap\": {}, \"stdout\": \"\"}, {\"line\": 3, \"event\": \"step_line\", \"func_name\": \"<module>\", \"globals\": {\"x\": 301, \"i\": 300}, \"ordered_globals\": [\"x\", \"i\"], \"stack_to_render\": [], \"heap\": {}, \"stdout\": \"\"}, {\"line\": 4, \"event\": \"step_line\", \"func_name\": \"<module>\", \"globals\": {\"x\": 301, \"i\": 301}, \"ordered_globals\": [\"x\", \"i\"], \"stack_to_render\": [], \"heap\": {}, \"stdout\": \"\"}, {\"line\": 3, \"event\": \"step_line\", \"func_name\": \"<module>\", \"globals\": {\"x\": 302, \"i\": 301}, \"ordered_globals\": [\"x\", \"i\"], \"stack_to_render\": [], \"heap\": {}, \"stdout\": \"\"}, {\"line\": 4, \"event\": \"step_line\", \"func_name\": \"<module>\", \"globals\": {\"x\": 302, \"i\": 302}, \"ordered_globals\": [\"x\", \"i\"], \"stack_to_render\": [], \"heap\": {}, \"stdout\": \"\"}, {\"line\": 3, \"event\": \"step_line\", \"func_name\": \"<module>\", \"globals\": {\"x\": 303, \"i\": 302}, \"ordered_globals\": [\"x\", \"i\"], \"stack_to_render\": [], \"heap\": {}, \"stdout\": \"\"}, {\"line\": 4, \"event\": \"step_line\", \"func_name\": \"<module>\", \"globals\": {\"x\": 303, \"i\": 303}, \"ordered_globals\": [\"x\", \"i\"], \"stack_to_render\": [], \"heap\": {}, \"stdout\": \"\"}, {\"line\": 3, \"event\": \"step_line\", \"func_name\": \"<module>\", \"globals\": {\"x\": 304, \"i\": 303}, \"ordered_globals\": [\"x\", \"i\"], \"stack_to_render\": [], \"heap\": {}, \"stdout\": \"\"}, {\"line\": 4, \"event\": \"step_line\", \"func_name\": \"<module>\", \"globals\": {\"x\": 304, \"i\": 304}, \"ordered_globals\": [\"x\", \"i\"], \"stack_to_render\": [], \"heap\": {}, \"stdout\": \"\"}, {\"line\": 3, \"event\": \"step_line\", \"func_name\": \"<module>\", \"globals\": {\"x\": 305, \"i\": 304}, \"ordered_globals\": [\"x\", \"i\"], \"stack_to_render\": [], \"heap\": {}, \"stdout\": \"\"}, {\"line\": 4, \"event\": \"step_line\", \"func_name\": \"<module>\", \"globals\": {\"x\": 305, \"i\": 305}, \"ordered_globals\": [\"x\", \"i\"], \"stack_to_render\": [], \"heap\": {}, \"stdout\": \"\"}, {\"line\": 3, \"event\": \"step_line\", \"func_name\": \"<module>\", \"globals\": {\"x\": 306, \"i\": 305}, \"ordered_globals\": [\"x\", \"i\"], \"stack_to_render\": [], \"heap\": {}, \"stdout\": \"\"}, {\"line\": 4, \"event\": \"step_line\", \"func_name\": \"<module>\", \"globals\": {\"x\": 306, \"i\": 306}, \"ordered_globals\": [\"x\", \"i\"], \"stack_to_render\": [], \"heap\": {}, \"stdout\": \"\"}, {\"line\": 3, \"event\": \"step_line\", \"func_name\": \"<module>\", \"globals\": {\"x\": 307, \"i\": 306}, \"ordered_globals\": [\"x\", \"i\"], \"stack_to_render\": [], \"heap\": {}, \"stdout\": \"\"}, {\"line\": 4, \"event\": \"step_line\", \"func_name\": \"<module>\", \"globals\": {\"x\": 307, \"i\": 307}, \"ordered_globals\": [\"x\", \"i\"], \"stack_to_render\": [], \"heap\": {}, \"stdout\": \"\"}, {\"line\": 3, \"event\": \"step_line\", \"func_name\": \"<module>\", \"globals\": {\"x\": 308, \"i\": 307}, \"ordered_globals\": [\"x\", \"i\"], \"stack_to_render\": [], \"heap\": {}, \"stdout\": \"\"}, {\"line\": 4, \"event\": \"step_line\", \"func_name\": \"<module>\", \"globals\": {\"x\": 308, \"i\": 308}, \"ordered_globals\": [\"x\", \"i\"], \"stack_to_render\": [], \"heap\": {}, \"stdout\": \"\"}, {\"line\": 3, \"event\": \"step_line\", \"func_name\": \"<module>\", \"globals\": {\"x\": 309, \"i\": 308}, \"ordered_globals\": [\"x\", \"i\"], \"stack_to_render\": [], \"heap\": {}, \"stdout\": \"\"}, {\"line\": 4, \"event\": \"step_line\", \"func_name\": \"<module>\", \"globals\": {\"x\": 309, \"i\": 309}, \"ordered_globals\": [\"x\", \"i\"], \"stack_to_render\": [], \"heap\": {}, \"stdout\": \"\"}, {\"line\": 3, \"event\": \"step_line\", \"func_name\": \"<module>\", \"globals\": {\"x\": 310, \"i\": 309}, \"ordered_globals\": [\"x\", \"i\"], \"stack_to_render\": [], \"heap\": {}, \"stdout\": \"\"}, {\"line\": 4, \"event\": \"step_line\", \"func_name\": \"<module>\", \"globals\": {\"x\": 310, \"i\": 310}, \"ordered_globals\": [\"x\", \"i\"], \"stack_to_render\": [], \"heap\": {}, \"stdout\": \"\"}, {\"line\": 3, \"event\": \"step_line\", \"func_name\": \"<module>\", \"globals\": {\"x\": 311, \"i\": 310}, \"ordered_globals\": [\"x\", \"i\"], \"stack_to_render\": [], \"heap\": {}, \"stdout\": \"\"}, {\"line\": 4, \"event\": \"step_line\", \"func_name\": \"<module>\", \"globals\": {\"x\": 311, \"i\": 311}, \"ordered_globals\": [\"x\", \"i\"], \"stack_to_render\": [], \"heap\": {}, \"stdout\": \"\"}, {\"line\": 3, \"event\": \"step_line\", \"func_name\": \"<module>\", \"globals\": {\"x\": 312, \"i\": 311}, \"ordered_globals\": [\"x\", \"i\"], \"stack_to_render\": [], \"heap\": {}, \"stdout\": \"\"}, {\"line\": 4, \"event\": \"step_line\", \"func_name\": \"<module>\", \"globals\": {\"x\": 312, \"i\": 312}, \"ordered_globals\": [\"x\", \"i\"], \"stack_to_render\": [], \"heap\": {}, \"stdout\": \"\"}, {\"line\": 3, \"event\": \"step_line\", \"func_name\": \"<module>\", \"globals\": {\"x\": 313, \"i\": 312}, \"ordered_globals\": [\"x\", \"i\"], \"stack_to_render\": [], \"heap\": {}, \"stdout\": \"\"}, {\"line\": 4, \"event\": \"step_line\", \"func_name\": \"<module>\", \"globals\": {\"x\": 313, \"i\": 313}, \"ordered_globals\": [\"x\", \"i\"], \"stack_to_render\": [], \"heap\": {}, \"stdout\": \"\"}, {\"line\": 3, \"event\": \"step_line\", \"func_name\": \"<module>\", \"globals\": {\"x\": 314, \"i\": 313}, \"ordered_globals\": [\"x\", \"i\"], \"stack_to_render\": [], \"heap\": {}, \"stdout\": \"\"}, {\"line\": 4, \"event\": \"step_line\", \"func_name\": \"<module>\", \"globals\": {\"x\": 314, \"i\": 314}, \"ordered_globals\": [\"x\", \"i\"], \"stack_to_render\": [], \"heap\": {}, \"stdout\": \"\"}, {\"line\": 3, \"event\": \"step_line\", \"func_name\": \"<module>\", \"globals\": {\"x\": 315, \"i\": 314}, \"ordered_globals\": [\"x\", \"i\"], \"stack_to_render\": [], \"heap\": {}, \"stdout\": \"\"}, {\"line\": 4, \"event\": \"step_line\", \"func_name\": \"<module>\", \"globals\": {\"x\": 315, \"i\": 315}, \"ordered_globals\": [\"x\", \"i\"], \"stack_to_render\": [], \"heap\": {}, \"stdout\": \"\"}, {\"line\": 3, \"event\": \"step_line\", \"func_name\": \"<module>\", \"globals\": {\"x\": 316, \"i\": 315}, \"ordered_globals\": [\"x\", \"i\"], \"stack_to_render\": [], \"heap\": {}, \"stdout\": \"\"}, {\"line\": 4, \"event\": \"step_line\", \"func_name\": \"<module>\", \"globals\": {\"x\": 316, \"i\": 316}, \"ordered_globals\": [\"x\", \"i\"], \"stack_to_render\": [], \"heap\": {}, \"stdout\": \"\"}, {\"line\": 3, \"event\": \"step_line\", \"func_name\": \"<module>\", \"globals\": {\"x\": 317, \"i\": 316}, \"ordered_globals\": [\"x\", \"i\"], \"stack_to_render\": [], \"heap\": {}, \"stdout\": \"\"}, {\"line\": 4, \"event\": \"step_line\", \"func_name\": \"<module>\", \"globals\": {\"x\": 317, \"i\": 317}, \"ordered_globals\": [\"x\", \"i\"], \"stack_to_render\": [], \"heap\": {}, \"stdout\": \"\"}, {\"line\": 3, \"event\": \"step_line\", \"func_name\": \"<module>\", \"globals\": {\"x\": 318, \"i\": 317}, \"ordered_globals\": [\"x\", \"i\"], \"stack_to_render\": [], \"heap\": {}, \"stdout\": \"\"}, {\"line\": 4, \"event\": \"step_line\", \"func_name\": \"<module>\", \"globals\": {\"x\": 318, \"i\": 318}, \"ordered_globals\": [\"x\", \"i\"], \"stack_to_render\": [], \"heap\": {}, \"stdout\": \"\"}, {\"line\": 3, \"event\": \"step_line\", \"func_name\": \"<module>\", \"globals\": {\"x\": 319, \"i\": 318}, \"ordered_globals\": [\"x\", \"i\"], \"stack_to_render\": [], \"heap\": {}, \"stdout\": \"\"}, {\"line\": 4, \"event\": \"step_line\", \"func_name\": \"<module>\", \"globals\": {\"x\": 319, \"i\": 319}, \"ordered_globals\": [\"x\", \"i\"], \"stack_to_render\": [], \"heap\": {}, \"stdout\": \"\"}, {\"line\": 3, \"event\": \"step_line\", \"func_name\": \"<module>\", \"globals\": {\"x\": 320, \"i\": 319}, \"ordered_globals\": [\"x\", \"i\"], \"stack_to_render\": [], \"heap\": {}, \"stdout\": \"\"}, {\"line\": 4, \"event\": \"step_line\", \"func_name\": \"<module>\", \"globals\": {\"x\": 320, \"i\": 320}, \"ordered_globals\": [\"x\", \"i\"], \"stack_to_render\": [], \"heap\": {}, \"stdout\": \"\"}, {\"line\": 3, \"event\": \"step_line\", \"func_name\": \"<module>\", \"globals\": {\"x\": 321, \"i\": 320}, \"ordered_globals\": [\"x\", \"i\"], \"stack_to_render\": [], \"heap\": {}, \"stdout\": \"\"}, {\"line\": 4, \"event\": \"step_line\", \"func_name\": \"<module>\", \"globals\": {\"x\": 321, \"i\": 321}, \"ordered_globals\": [\"x\", \"i\"], \"stack_to_render\": [], \"heap\": {}, \"stdout\": \"\"}, {\"line\": 3, \"event\": \"step_line\", \"func_name\": \"<module>\", \"globals\": {\"x\": 322, \"i\": 321}, \"ordered_globals\": [\"x\", \"i\"], \"stack_to_render\": [], \"heap\": {}, \"stdout\": \"\"}, {\"line\": 4, \"event\": \"step_line\", \"func_name\": \"<module>\", \"globals\": {\"x\": 322, \"i\": 322}, \"ordered_globals\": [\"x\", \"i\"], \"stack_to_render\": [], \"heap\": {}, \"stdout\": \"\"}, {\"line\": 3, \"event\": \"step_line\", \"func_name\": \"<module>\", \"globals\": {\"x\": 323, \"i\": 322}, \"ordered_globals\": [\"x\", \"i\"], \"stack_to_render\": [], \"heap\": {}, \"stdout\": \"\"}, {\"line\": 4, \"event\": \"step_line\", \"func_name\": \"<module>\", \"globals\": {\"x\": 323, \"i\": 323}, \"ordered_globals\": [\"x\", \"i\"], \"stack_to_render\": [], \"heap\": {}, \"stdout\": \"\"}, {\"line\": 3, \"event\": \"step_line\", \"func_name\": \"<module>\", \"globals\": {\"x\": 324, \"i\": 323}, \"ordered_globals\": [\"x\", \"i\"], \"stack_to_render\": [], \"heap\": {}, \"stdout\": \"\"}, {\"line\": 4, \"event\": \"step_line\", \"func_name\": \"<module>\", \"globals\": {\"x\": 324, \"i\": 324}, \"ordered_globals\": [\"x\", \"i\"], \"stack_to_render\": [], \"heap\": {}, \"stdout\": \"\"}, {\"line\": 3, \"event\": \"step_line\", \"func_name\": \"<module>\", \"globals\": {\"x\": 325, \"i\": 324}, \"ordered_globals\": [\"x\", \"i\"], \"stack_to_render\": [], \"heap\": {}, \"stdout\": \"\"}, {\"line\": 4, \"event\": \"step_line\", \"func_name\": \"<module>\", \"globals\": {\"x\": 325, \"i\": 325}, \"ordered_globals\": [\"x\", \"i\"], \"stack_to_render\": [], \"heap\": {}, \"stdout\": \"\"}, {\"line\": 3, \"event\": \"step_line\", \"func_name\": \"<module>\", \"globals\": {\"x\": 326, \"i\": 325}, \"ordered_globals\": [\"x\", \"i\"], \"stack_to_render\": [], \"heap\": {}, \"stdout\": \"\"}, {\"line\": 4, \"event\": \"step_line\", \"func_name\": \"<module>\", \"globals\": {\"x\": 326, \"i\": 326}, \"ordered_globals\": [\"x\", \"i\"], \"stack_to_render\": [], \"heap\": {}, \"stdout\": \"\"}, {\"line\": 3, \"event\": \"step_line\", \"func_name\": \"<module>\", \"globals\": {\"x\": 327, \"i\": 326}, \"ordered_globals\": [\"x\", \"i\"], \"stack_to_render\": [], \"heap\": {}, \"stdout\": \"\"}, {\"line\": 4, \"event\": \"step_line\", \"func_name\": \"<module>\", \"globals\": {\"x\": 327, \"i\": 327}, \"ordered_globals\": [\"x\", \"i\"], \"stack_to_render\": [], \"heap\": {}, \"stdout\": \"\"}, {\"line\": 3, \"event\": \"step_line\", \"func_name\": \"<module>\", \"globals\": {\"x\": 328, \"i\": 327}, \"ordered_globals\": [\"x\", \"i\"], \"stack_to_render\": [], \"heap\": {}, \"stdout\": \"\"}, {\"line\": 4, \"event\": \"step_line\", \"func_name\": \"<module>\", \"globals\": {\"x\": 328, \"i\": 328}, \"ordered_globals\": [\"x\", \"i\"], \"stack_to_render\": [], \"heap\": {}, \"stdout\": \"\"}, {\"line\": 3, \"event\": \"step_line\", \"func_name\": \"<module>\", \"globals\": {\"x\": 329, \"i\": 328}, \"ordered_globals\": [\"x\", \"i\"], \"stack_to_render\": [], \"heap\": {}, \"stdout\": \"\"}, {\"line\": 4, \"event\": \"step_line\", \"func_name\": \"<module>\", \"globals\": {\"x\": 329, \"i\": 329}, \"ordered_globals\": [\"x\", \"i\"], \"stack_to_render\": [], \"heap\": {}, \"stdout\": \"\"}, {\"line\": 3, \"event\": \"step_line\", \"func_name\": \"<module>\", \"globals\": {\"x\": 330, \"i\": 329}, \"ordered_globals\": [\"x\", \"i\"], \"stack_to_render\": [], \"heap\": {}, \"stdout\": \"\"}, {\"line\": 4, \"event\": \"step_line\", \"func_name\": \"<module>\", \"globals\": {\"x\": 330, \"i\": 330}, \"ordered_globals\": [\"x\", \"i\"], \"stack_to_render\": [], \"heap\": {}, \"stdout\": \"\"}, {\"line\": 3, \"event\": \"step_line\", \"func_name\": \"<module>\", \"globals\": {\"x\": 331, \"i\": 330}, \"ordered_globals\": [\"x\", \"i\"], \"stack_to_render\": [], \"heap\": {}, \"stdout\": \"\"}, {\"line\": 4, \"event\": \"step_line\", \"func_name\": \"<module>\", \"globals\": {\"x\": 331, \"i\": 331}, \"ordered_globals\": [\"x\", \"i\"], \"stack_to_render\": [], \"heap\": {}, \"stdout\": \"\"}, {\"line\": 3, \"event\": \"step_line\", \"func_name\": \"<module>\", \"globals\": {\"x\": 332, \"i\": 331}, \"ordered_globals\": [\"x\", \"i\"], \"stack_to_render\": [], \"heap\": {}, \"stdout\": \"\"}, {\"line\": 4, \"event\": \"step_line\", \"func_name\": \"<module>\", \"globals\": {\"x\": 332, \"i\": 332}, \"ordered_globals\": [\"x\", \"i\"], \"stack_to_render\": [], \"heap\": {}, \"stdout\": \"\"}, {\"line\": 3, \"event\": \"step_line\", \"func_name\": \"<module>\", \"globals\": {\"x\": 333, \"i\": 332}, \"ordered_globals\": [\"x\", \"i\"], \"stack_to_render\": [], \"heap\": {}, \"stdout\": \"\"}, {\"line\": 4, \"event\": \"step_line\", \"func_name\": \"<module>\", \"globals\": {\"x\": 333, \"i\": 333}, \"ordered_globals\": [\"x\", \"i\"], \"stack_to_render\": [], \"heap\": {}, \"stdout\": \"\"}, {\"line\": 3, \"event\": \"step_line\", \"func_name\": \"<module>\", \"globals\": {\"x\": 334, \"i\": 333}, \"ordered_globals\": [\"x\", \"i\"], \"stack_to_render\": [], \"heap\": {}, \"stdout\": \"\"}, {\"line\": 4, \"event\": \"step_line\", \"func_name\": \"<module>\", \"globals\": {\"x\": 334, \"i\": 334}, \"ordered_globals\": [\"x\", \"i\"], \"stack_to_render\": [], \"heap\": {}, \"stdout\": \"\"}, {\"line\": 3, \"event\": \"step_line\", \"func_name\": \"<module>\", \"globals\": {\"x\": 335, \"i\": 334}, \"ordered_globals\": [\"x\", \"i\"], \"stack_to_render\": [], \"heap\": {}, \"stdout\": \"\"}, {\"line\": 4, \"event\": \"step_line\", \"func_name\": \"<module>\", \"globals\": {\"x\": 335, \"i\": 335}, \"ordered_globals\": [\"x\", \"i\"], \"stack_to_render\": [], \"heap\": {}, \"stdout\": \"\"}, {\"line\": 3, \"event\": \"step_line\", \"func_name\": \"<module>\", \"globals\": {\"x\": 336, \"i\": 335}, \"ordered_globals\": [\"x\", \"i\"], \"stack_to_render\": [], \"heap\": {}, \"stdout\": \"\"}, {\"line\": 4, \"event\": \"step_line\", \"func_name\": \"<module>\", \"globals\": {\"x\": 336, \"i\": 336}, \"ordered_globals\": [\"x\", \"i\"], \"stack_to_render\": [], \"heap\": {}, \"stdout\": \"\"}, {\"line\": 3, \"event\": \"step_line\", \"func_name\": \"<module>\", \"globals\": {\"x\": 337, \"i\": 336}, \"ordered_globals\": [\"x\", \"i\"], \"stack_to_render\": [], \"heap\": {}, \"stdout\": \"\"}, {\"line\": 4, \"event\": \"step_line\", \"func_name\": \"<module>\", \"globals\": {\"x\": 337, \"i\": 337}, \"ordered_globals\": [\"x\", \"i\"], \"stack_to_render\": [], \"heap\": {}, \"stdout\": \"\"}, {\"line\": 3, \"event\": \"step_line\", \"func_name\": \"<module>\", \"globals\": {\"x\": 338, \"i\": 337}, \"ordered_globals\": [\"x\", \"i\"], \"stack_to_render\": [], \"heap\": {}, \"stdout\": \"\"}, {\"line\": 4, \"event\": \"step_line\", \"func_name\": \"<module>\", \"globals\": {\"x\": 338, \"i\": 338}, \"ordered_globals\": [\"x\", \"i\"], \"stack_to_render\": [], \"heap\": {}, \"stdout\": \"\"}, {\"line\": 3, \"event\": \"step_line\", \"func_name\": \"<module>\", \"globals\": {\"x\": 339, \"i\": 338}, \"ordered_globals\": [\"x\", \"i\"], \"stack_to_render\": [], \"heap\": {}, \"stdout\": \"\"}, {\"line\": 4, \"event\": \"step_line\", \"func_name\": \"<module>\", \"globals\": {\"x\": 339, \"i\": 339}, \"ordered_globals\": [\"x\", \"i\"], \"stack_to_render\": [], \"heap\": {}, \"stdout\": \"\"}, {\"line\": 3, \"event\": \"step_line\", \"func_name\": \"<module>\", \"globals\": {\"x\": 340, \"i\": 339}, \"ordered_globals\": [\"x\", \"i\"], \"stack_to_render\": [], \"heap\": {}, \"stdout\": \"\"}, {\"line\": 4, \"event\": \"step_line\", \"func_name\": \"<module>\", \"globals\": {\"x\": 340, \"i\": 340}, \"ordered_globals\": [\"x\", \"i\"], \"stack_to_render\": [], \"heap\": {}, \"stdout\": \"\"}, {\"line\": 3, \"event\": \"step_line\", \"func_name\": \"<module>\", \"globals\": {\"x\": 341, \"i\": 340}, \"ordered_globals\": [\"x\", \"i\"], \"stack_to_render\": [], \"heap\": {}, \"stdout\": \"\"}, {\"line\": 4, \"event\": \"step_line\", \"func_name\": \"<module>\", \"globals\": {\"x\": 341, \"i\": 341}, \"ordered_globals\": [\"x\", \"i\"], \"stack_to_render\": [], \"heap\": {}, \"stdout\": \"\"}, {\"line\": 3, \"event\": \"step_line\", \"func_name\": \"<module>\", \"globals\": {\"x\": 342, \"i\": 341}, \"ordered_globals\": [\"x\", \"i\"], \"stack_to_render\": [], \"heap\": {}, \"stdout\": \"\"}, {\"line\": 4, \"event\": \"step_line\", \"func_name\": \"<module>\", \"globals\": {\"x\": 342, \"i\": 342}, \"ordered_globals\": [\"x\", \"i\"], \"stack_to_render\": [], \"heap\": {}, \"stdout\": \"\"}, {\"line\": 3, \"event\": \"step_line\", \"func_name\": \"<module>\", \"globals\": {\"x\": 343, \"i\": 342}, \"ordered_globals\": [\"x\", \"i\"], \"stack_to_render\": [], \"heap\": {}, \"stdout\": \"\"}, {\"line\": 4, \"event\": \"step_line\", \"func_name\": \"<module>\", \"globals\": {\"x\": 343, \"i\": 343}, \"ordered_globals\": [\"x\", \"i\"], \"stack_to_render\": [], \"heap\": {}, \"stdout\": \"\"}, {\"line\": 3, \"event\": \"step_line\", \"func_name\": \"<module>\", \"globals\": {\"x\": 344, \"i\": 343}, \"ordered_globals\": [\"x\", \"i\"], \"stack_to_render\": [], \"heap\": {}, \"stdout\": \"\"}, {\"line\": 4, \"event\": \"step_line\", \"func_name\": \"<module>\", \"globals\": {\"x\": 344, \"i\": 344}, \"ordered_globals\": [\"x\", \"i\"], \"stack_to_render\": [], \"heap\": {}, \"stdout\": \"\"}, {\"line\": 3, \"event\": \"step_line\", \"func_name\": \"<module>\", \"globals\": {\"x\": 345, \"i\": 344}, \"ordered_globals\": [\"x\", \"i\"], \"stack_to_render\": [], \"heap\": {}, \"stdout\": \"\"}, {\"line\": 4, \"event\": \"step_line\", \"func_name\": \"<module>\", \"globals\": {\"x\": 345, \"i\": 345}, \"ordered_globals\": [\"x\", \"i\"], \"stack_to_render\": [], \"heap\": {}, \"stdout\": \"\"}, {\"line\": 3, \"event\": \"step_line\", \"func_name\": \"<module>\", \"globals\": {\"x\": 346, \"i\": 345}, \"ordered_globals\": [\"x\", \"i\"], \"stack_to_render\": [], \"heap\": {}, \"stdout\": \"\"}, {\"line\": 4, \"event\": \"step_line\", \"func_name\": \"<module>\", \"globals\": {\"x\": 346, \"i\": 346}, \"ordered_globals\": [\"x\", \"i\"], \"stack_to_render\": [], \"heap\": {}, \"stdout\": \"\"}, {\"line\": 3, \"event\": \"step_line\", \"func_name\": \"<module>\", \"globals\": {\"x\": 347, \"i\": 346}, \"ordered_globals\": [\"x\", \"i\"], \"stack_to_render\": [], \"heap\": {}, \"stdout\": \"\"}, {\"line\": 4, \"event\": \"step_line\", \"func_name\": \"<module>\", \"globals\": {\"x\": 347, \"i\": 347}, \"ordered_globals\": [\"x\", \"i\"], \"stack_to_render\": [], \"heap\": {}, \"stdout\": \"\"}, {\"line\": 3, \"event\": \"step_line\", \"func_name\": \"<module>\", \"globals\": {\"x\": 348, \"i\": 347}, \"ordered_globals\": [\"x\", \"i\"], \"stack_to_render\": [], \"heap\": {}, \"stdout\": \"\"}, {\"line\": 4, \"event\": \"step_line\", \"func_name\": \"<module>\", \"globals\": {\"x\": 348, \"i\": 348}, \"ordered_globals\": [\"x\", \"i\"], \"stack_to_render\": [], \"heap\": {}, \"stdout\": \"\"}, {\"line\": 3, \"event\": \"step_line\", \"func_name\": \"<module>\", \"globals\": {\"x\": 349, \"i\": 348}, \"ordered_globals\": [\"x\", \"i\"], \"stack_to_render\": [], \"heap\": {}, \"stdout\": \"\"}, {\"line\": 4, \"event\": \"step_line\", \"func_name\": \"<module>\", \"globals\": {\"x\": 349, \"i\": 349}, \"ordered_globals\": [\"x\", \"i\"], \"stack_to_render\": [], \"heap\": {}, \"stdout\": \"\"}, {\"line\": 3, \"event\": \"step_line\", \"func_name\": \"<module>\", \"globals\": {\"x\": 350, \"i\": 349}, \"ordered_globals\": [\"x\", \"i\"], \"stack_to_render\": [], \"heap\": {}, \"stdout\": \"\"}, {\"line\": 4, \"event\": \"step_line\", \"func_name\": \"<module>\", \"globals\": {\"x\": 350, \"i\": 350}, \"ordered_globals\": [\"x\", \"i\"], \"stack_to_render\": [], \"heap\": {}, \"stdout\": \"\"}, {\"line\": 3, \"event\": \"step_line\", \"func_name\": \"<module>\", \"globals\": {\"x\": 351, \"i\": 350}, \"ordered_globals\": [\"x\", \"i\"], \"stack_to_render\": [], \"heap\": {}, \"stdout\": \"\"}, {\"line\": 4, \"event\": \"step_line\", \"func_name\": \"<module>\", \"globals\": {\"x\": 351, \"i\": 351}, \"ordered_globals\": [\"x\", \"i\"], \"stack_to_render\": [], \"heap\": {}, \"stdout\": \"\"}, {\"line\": 3, \"event\": \"step_line\", \"func_name\": \"<module>\", \"globals\": {\"x\": 352, \"i\": 351}, \"ordered_globals\": [\"x\", \"i\"], \"stack_to_render\": [], \"heap\": {}, \"stdout\": \"\"}, {\"line\": 4, \"event\": \"step_line\", \"func_name\": \"<module>\", \"globals\": {\"x\": 352, \"i\": 352}, \"ordered_globals\": [\"x\", \"i\"], \"stack_to_render\": [], \"heap\": {}, \"stdout\": \"\"}, {\"line\": 3, \"event\": \"step_line\", \"func_name\": \"<module>\", \"globals\": {\"x\": 353, \"i\": 352}, \"ordered_globals\": [\"x\", \"i\"], \"stack_to_render\": [], \"heap\": {}, \"stdout\": \"\"}, {\"line\": 4, \"event\": \"step_line\", \"func_name\": \"<module>\", \"globals\": {\"x\": 353, \"i\": 353}, \"ordered_globals\": [\"x\", \"i\"], \"stack_to_render\": [], \"heap\": {}, \"stdout\": \"\"}, {\"line\": 3, \"event\": \"step_line\", \"func_name\": \"<module>\", \"globals\": {\"x\": 354, \"i\": 353}, \"ordered_globals\": [\"x\", \"i\"], \"stack_to_render\": [], \"heap\": {}, \"stdout\": \"\"}, {\"line\": 4, \"event\": \"step_line\", \"func_name\": \"<module>\", \"globals\": {\"x\": 354, \"i\": 354}, \"ordered_globals\": [\"x\", \"i\"], \"stack_to_render\": [], \"heap\": {}, \"stdout\": \"\"}, {\"line\": 3, \"event\": \"step_line\", \"func_name\": \"<module>\", \"globals\": {\"x\": 355, \"i\": 354}, \"ordered_globals\": [\"x\", \"i\"], \"stack_to_render\": [], \"heap\": {}, \"stdout\": \"\"}, {\"line\": 4, \"event\": \"step_line\", \"func_name\": \"<module>\", \"globals\": {\"x\": 355, \"i\": 355}, \"ordered_globals\": [\"x\", \"i\"], \"stack_to_render\": [], \"heap\": {}, \"stdout\": \"\"}, {\"line\": 3, \"event\": \"step_line\", \"func_name\": \"<module>\", \"globals\": {\"x\": 356, \"i\": 355}, \"ordered_globals\": [\"x\", \"i\"], \"stack_to_render\": [], \"heap\": {}, \"stdout\": \"\"}, {\"line\": 4, \"event\": \"step_line\", \"func_name\": \"<module>\", \"globals\": {\"x\": 356, \"i\": 356}, \"ordered_globals\": [\"x\", \"i\"], \"stack_to_render\": [], \"heap\": {}, \"stdout\": \"\"}, {\"line\": 3, \"event\": \"step_line\", \"func_name\": \"<module>\", \"globals\": {\"x\": 357, \"i\": 356}, \"ordered_globals\": [\"x\", \"i\"], \"stack_to_render\": [], \"heap\": {}, \"stdout\": \"\"}, {\"line\": 4, \"event\": \"step_line\", \"func_name\": \"<module>\", \"globals\": {\"x\": 357, \"i\": 357}, \"ordered_globals\": [\"x\", \"i\"], \"stack_to_render\": [], \"heap\": {}, \"stdout\": \"\"}, {\"line\": 3, \"event\": \"step_line\", \"func_name\": \"<module>\", \"globals\": {\"x\": 358, \"i\": 357}, \"ordered_globals\": [\"x\", \"i\"], \"stack_to_render\": [], \"heap\": {}, \"stdout\": \"\"}, {\"line\": 4, \"event\": \"step_line\", \"func_name\": \"<module>\", \"globals\": {\"x\": 358, \"i\": 358}, \"ordered_globals\": [\"x\", \"i\"], \"stack_to_render\": [], \"heap\": {}, \"stdout\": \"\"}, {\"line\": 3, \"event\": \"step_line\", \"func_name\": \"<module>\", \"globals\": {\"x\": 359, \"i\": 358}, \"ordered_globals\": [\"x\", \"i\"], \"stack_to_render\": [], \"heap\": {}, \"stdout\": \"\"}, {\"line\": 4, \"event\": \"step_line\", \"func_name\": \"<module>\", \"globals\": {\"x\": 359, \"i\": 359}, \"ordered_globals\": [\"x\", \"i\"], \"stack_to_render\": [], \"heap\": {}, \"stdout\": \"\"}, {\"line\": 3, \"event\": \"step_line\", \"func_name\": \"<module>\", \"globals\": {\"x\": 360, \"i\": 359}, \"ordered_globals\": [\"x\", \"i\"], \"stack_to_render\": [], \"heap\": {}, \"stdout\": \"\"}, {\"line\": 4, \"event\": \"step_line\", \"func_name\": \"<module>\", \"globals\": {\"x\": 360, \"i\": 360}, \"ordered_globals\": [\"x\", \"i\"], \"stack_to_render\": [], \"heap\": {}, \"stdout\": \"\"}, {\"line\": 3, \"event\": \"step_line\", \"func_name\": \"<module>\", \"globals\": {\"x\": 361, \"i\": 360}, \"ordered_globals\": [\"x\", \"i\"], \"stack_to_render\": [], \"heap\": {}, \"stdout\": \"\"}, {\"line\": 4, \"event\": \"step_line\", \"func_name\": \"<module>\", \"globals\": {\"x\": 361, \"i\": 361}, \"ordered_globals\": [\"x\", \"i\"], \"stack_to_render\": [], \"heap\": {}, \"stdout\": \"\"}, {\"line\": 3, \"event\": \"step_line\", \"func_name\": \"<module>\", \"globals\": {\"x\": 362, \"i\": 361}, \"ordered_globals\": [\"x\", \"i\"], \"stack_to_render\": [], \"heap\": {}, \"stdout\": \"\"}, {\"line\": 4, \"event\": \"step_line\", \"func_name\": \"<module>\", \"globals\": {\"x\": 362, \"i\": 362}, \"ordered_globals\": [\"x\", \"i\"], \"stack_to_render\": [], \"heap\": {}, \"stdout\": \"\"}, {\"line\": 3, \"event\": \"step_line\", \"func_name\": \"<module>\", \"globals\": {\"x\": 363, \"i\": 362}, \"ordered_globals\": [\"x\", \"i\"], \"stack_to_render\": [], \"heap\": {}, \"stdout\": \"\"}, {\"line\": 4, \"event\": \"step_line\", \"func_name\": \"<module>\", \"globals\": {\"x\": 363, \"i\": 363}, \"ordered_globals\": [\"x\", \"i\"], \"stack_to_render\": [], \"heap\": {}, \"stdout\": \"\"}, {\"line\": 3, \"event\": \"step_line\", \"func_name\": \"<module>\", \"globals\": {\"x\": 364, \"i\": 363}, \"ordered_globals\": [\"x\", \"i\"], \"stack_to_render\": [], \"heap\": {}, \"stdout\": \"\"}, {\"line\": 4, \"event\": \"step_line\", \"func_name\": \"<module>\", \"globals\": {\"x\": 364, \"i\": 364}, \"ordered_globals\": [\"x\", \"i\"], \"stack_to_render\": [], \"heap\": {}, \"stdout\": \"\"}, {\"line\": 3, \"event\": \"step_line\", \"func_name\": \"<module>\", \"globals\": {\"x\": 365, \"i\": 364}, \"ordered_globals\": [\"x\", \"i\"], \"stack_to_render\": [], \"heap\": {}, \"stdout\": \"\"}, {\"line\": 4, \"event\": \"step_line\", \"func_name\": \"<module>\", \"globals\": {\"x\": 365, \"i\": 365}, \"ordered_globals\": [\"x\", \"i\"], \"stack_to_render\": [], \"heap\": {}, \"stdout\": \"\"}, {\"line\": 3, \"event\": \"step_line\", \"func_name\": \"<module>\", \"globals\": {\"x\": 366, \"i\": 365}, \"ordered_globals\": [\"x\", \"i\"], \"stack_to_render\": [], \"heap\": {}, \"stdout\": \"\"}, {\"line\": 4, \"event\": \"step_line\", \"func_name\": \"<module>\", \"globals\": {\"x\": 366, \"i\": 366}, \"ordered_globals\": [\"x\", \"i\"], \"stack_to_render\": [], \"heap\": {}, \"stdout\": \"\"}, {\"line\": 3, \"event\": \"step_line\", \"func_name\": \"<module>\", \"globals\": {\"x\": 367, \"i\": 366}, \"ordered_globals\": [\"x\", \"i\"], \"stack_to_render\": [], \"heap\": {}, \"stdout\": \"\"}, {\"line\": 4, \"event\": \"step_line\", \"func_name\": \"<module>\", \"globals\": {\"x\": 367, \"i\": 367}, \"ordered_globals\": [\"x\", \"i\"], \"stack_to_render\": [], \"heap\": {}, \"stdout\": \"\"}, {\"line\": 3, \"event\": \"step_line\", \"func_name\": \"<module>\", \"globals\": {\"x\": 368, \"i\": 367}, \"ordered_globals\": [\"x\", \"i\"], \"stack_to_render\": [], \"heap\": {}, \"stdout\": \"\"}, {\"line\": 4, \"event\": \"step_line\", \"func_name\": \"<module>\", \"globals\": {\"x\": 368, \"i\": 368}, \"ordered_globals\": [\"x\", \"i\"], \"stack_to_render\": [], \"heap\": {}, \"stdout\": \"\"}, {\"line\": 3, \"event\": \"step_line\", \"func_name\": \"<module>\", \"globals\": {\"x\": 369, \"i\": 368}, \"ordered_globals\": [\"x\", \"i\"], \"stack_to_render\": [], \"heap\": {}, \"stdout\": \"\"}, {\"line\": 4, \"event\": \"step_line\", \"func_name\": \"<module>\", \"globals\": {\"x\": 369, \"i\": 369}, \"ordered_globals\": [\"x\", \"i\"], \"stack_to_render\": [], \"heap\": {}, \"stdout\": \"\"}, {\"line\": 3, \"event\": \"step_line\", \"func_name\": \"<module>\", \"globals\": {\"x\": 370, \"i\": 369}, \"ordered_globals\": [\"x\", \"i\"], \"stack_to_render\": [], \"heap\": {}, \"stdout\": \"\"}, {\"line\": 4, \"event\": \"step_line\", \"func_name\": \"<module>\", \"globals\": {\"x\": 370, \"i\": 370}, \"ordered_globals\": [\"x\", \"i\"], \"stack_to_render\": [], \"heap\": {}, \"stdout\": \"\"}, {\"line\": 3, \"event\": \"step_line\", \"func_name\": \"<module>\", \"globals\": {\"x\": 371, \"i\": 370}, \"ordered_globals\": [\"x\", \"i\"], \"stack_to_render\": [], \"heap\": {}, \"stdout\": \"\"}, {\"line\": 4, \"event\": \"step_line\", \"func_name\": \"<module>\", \"globals\": {\"x\": 371, \"i\": 371}, \"ordered_globals\": [\"x\", \"i\"], \"stack_to_render\": [], \"heap\": {}, \"stdout\": \"\"}, {\"line\": 3, \"event\": \"step_line\", \"func_name\": \"<module>\", \"globals\": {\"x\": 372, \"i\": 371}, \"ordered_globals\": [\"x\", \"i\"], \"stack_to_render\": [], \"heap\": {}, \"stdout\": \"\"}, {\"line\": 4, \"event\": \"step_line\", \"func_name\": \"<module>\", \"globals\": {\"x\": 372, \"i\": 372}, \"ordered_globals\": [\"x\", \"i\"], \"stack_to_render\": [], \"heap\": {}, \"stdout\": \"\"}, {\"line\": 3, \"event\": \"step_line\", \"func_name\": \"<module>\", \"globals\": {\"x\": 373, \"i\": 372}, \"ordered_globals\": [\"x\", \"i\"], \"stack_to_render\": [], \"heap\": {}, \"stdout\": \"\"}, {\"line\": 4, \"event\": \"step_line\", \"func_name\": \"<module>\", \"globals\": {\"x\": 373, \"i\": 373}, \"ordered_globals\": [\"x\", \"i\"], \"stack_to_render\": [], \"heap\": {}, \"stdout\": \"\"}, {\"line\": 3, \"event\": \"step_line\", \"func_name\": \"<module>\", \"globals\": {\"x\": 374, \"i\": 373}, \"ordered_globals\": [\"x\", \"i\"], \"stack_to_render\": [], \"heap\": {}, \"stdout\": \"\"}, {\"line\": 4, \"event\": \"step_line\", \"func_name\": \"<module>\", \"globals\": {\"x\": 374, \"i\": 374}, \"ordered_globals\": [\"x\", \"i\"], \"stack_to_render\": [], \"heap\": {}, \"stdout\": \"\"}, {\"line\": 3, \"event\": \"step_line\", \"func_name\": \"<module>\", \"globals\": {\"x\": 375, \"i\": 374}, \"ordered_globals\": [\"x\", \"i\"], \"stack_to_render\": [], \"heap\": {}, \"stdout\": \"\"}, {\"line\": 4, \"event\": \"step_line\", \"func_name\": \"<module>\", \"globals\": {\"x\": 375, \"i\": 375}, \"ordered_globals\": [\"x\", \"i\"], \"stack_to_render\": [], \"heap\": {}, \"stdout\": \"\"}, {\"line\": 3, \"event\": \"step_line\", \"func_name\": \"<module>\", \"globals\": {\"x\": 376, \"i\": 375}, \"ordered_globals\": [\"x\", \"i\"], \"stack_to_render\": [], \"heap\": {}, \"stdout\": \"\"}, {\"line\": 4, \"event\": \"step_line\", \"func_name\": \"<module>\", \"globals\": {\"x\": 376, \"i\": 376}, \"ordered_globals\": [\"x\", \"i\"], \"stack_to_render\": [], \"heap\": {}, \"stdout\": \"\"}, {\"line\": 3, \"event\": \"step_line\", \"func_name\": \"<module>\", \"globals\": {\"x\": 377, \"i\": 376}, \"ordered_globals\": [\"x\", \"i\"], \"stack_to_render\": [], \"heap\": {}, \"stdout\": \"\"}, {\"line\": 4, \"event\": \"step_line\", \"func_name\": \"<module>\", \"globals\": {\"x\": 377, \"i\": 377}, \"ordered_globals\": [\"x\", \"i\"], \"stack_to_render\": [], \"heap\": {}, \"stdout\": \"\"}, {\"line\": 3, \"event\": \"step_line\", \"func_name\": \"<module>\", \"globals\": {\"x\": 378, \"i\": 377}, \"ordered_globals\": [\"x\", \"i\"], \"stack_to_render\": [], \"heap\": {}, \"stdout\": \"\"}, {\"line\": 4, \"event\": \"step_line\", \"func_name\": \"<module>\", \"globals\": {\"x\": 378, \"i\": 378}, \"ordered_globals\": [\"x\", \"i\"], \"stack_to_render\": [], \"heap\": {}, \"stdout\": \"\"}, {\"line\": 3, \"event\": \"step_line\", \"func_name\": \"<module>\", \"globals\": {\"x\": 379, \"i\": 378}, \"ordered_globals\": [\"x\", \"i\"], \"stack_to_render\": [], \"heap\": {}, \"stdout\": \"\"}, {\"line\": 4, \"event\": \"step_line\", \"func_name\": \"<module>\", \"globals\": {\"x\": 379, \"i\": 379}, \"ordered_globals\": [\"x\", \"i\"], \"stack_to_render\": [], \"heap\": {}, \"stdout\": \"\"}, {\"line\": 3, \"event\": \"step_line\", \"func_name\": \"<module>\", \"globals\": {\"x\": 380, \"i\": 379}, \"ordered_globals\": [\"x\", \"i\"], \"stack_to_render\": [], \"heap\": {}, \"stdout\": \"\"}, {\"line\": 4, \"event\": \"step_line\", \"func_name\": \"<module>\", \"globals\": {\"x\": 380, \"i\": 380}, \"ordered_globals\": [\"x\", \"i\"], \"stack_to_render\": [], \"heap\": {}, \"stdout\": \"\"}, {\"line\": 3, \"event\": \"step_line\", \"func_name\": \"<module>\", \"globals\": {\"x\": 381, \"i\": 380}, \"ordered_globals\": [\"x\", \"i\"], \"stack_to_render\": [], \"heap\": {}, \"stdout\": \"\"}, {\"line\": 4, \"event\": \"step_line\", \"func_name\": \"<module>\", \"globals\": {\"x\": 381, \"i\": 381}, \"ordered_globals\": [\"x\", \"i\"], \"stack_to_render\": [], \"heap\": {}, \"stdout\": \"\"}, {\"line\": 3, \"event\": \"step_line\", \"func_name\": \"<module>\", \"globals\": {\"x\": 382, \"i\": 381}, \"ordered_globals\": [\"x\", \"i\"], \"stack_to_render\": [], \"heap\": {}, \"stdout\": \"\"}, {\"line\": 4, \"event\": \"step_line\", \"func_name\": \"<module>\", \"globals\": {\"x\": 382, \"i\": 382}, \"ordered_globals\": [\"x\", \"i\"], \"stack_to_render\": [], \"heap\": {}, \"stdout\": \"\"}, {\"line\": 3, \"event\": \"step_line\", \"func_name\": \"<module>\", \"globals\": {\"x\": 383, \"i\": 382}, \"ordered_globals\": [\"x\", \"i\"], \"stack_to_render\": [], \"heap\": {}, \"stdout\": \"\"}, {\"line\": 4, \"event\": \"step_line\", \"func_name\": \"<module>\", \"globals\": {\"x\": 383, \"i\": 383}, \"ordered_globals\": [\"x\", \"i\"], \"stack_to_render\": [], \"heap\": {}, \"stdout\": \"\"}, {\"line\": 3, \"event\": \"step_line\", \"func_name\": \"<module>\", \"globals\": {\"x\": 384, \"i\": 383}, \"ordered_globals\": [\"x\", \"i\"], \"stack_to_render\": [], \"heap\": {}, \"stdout\": \"\"}, {\"line\": 4, \"event\": \"step_line\", \"func_name\": \"<module>\", \"globals\": {\"x\": 384, \"i\": 384}, \"ordered_globals\": [\"x\", \"i\"], \"stack_to_render\": [], \"heap\": {}, \"stdout\": \"\"}, {\"line\": 3, \"event\": \"step_line\", \"func_name\": \"<module>\", \"globals\": {\"x\": 385, \"i\": 384}, \"ordered_globals\": [\"x\", \"i\"], \"stack_to_render\": [], \"heap\": {}, \"stdout\": \"\"}, {\"line\": 4, \"event\": \"step_line\", \"func_name\": \"<module>\", \"globals\": {\"x\": 385, \"i\": 385}, \"ordered_globals\": [\"x\", \"i\"], \"stack_to_render\": [], \"heap\": {}, \"stdout\": \"\"}, {\"line\": 3, \"event\": \"step_line\", \"func_name\": \"<module>\", \"globals\": {\"x\": 386, \"i\": 385}, \"ordered_globals\": [\"x\", \"i\"], \"stack_to_render\": [], \"heap\": {}, \"stdout\": \"\"}, {\"line\": 4, \"event\": \"step_line\", \"func_name\": \"<module>\", \"globals\": {\"x\": 386, \"i\": 386}, \"ordered_globals\": [\"x\", \"i\"], \"stack_to_render\": [], \"heap\": {}, \"stdout\": \"\"}, {\"line\": 3, \"event\": \"step_line\", \"func_name\": \"<module>\", \"globals\": {\"x\": 387, \"i\": 386}, \"ordered_globals\": [\"x\", \"i\"], \"stack_to_render\": [], \"heap\": {}, \"stdout\": \"\"}, {\"line\": 4, \"event\": \"step_line\", \"func_name\": \"<module>\", \"globals\": {\"x\": 387, \"i\": 387}, \"ordered_globals\": [\"x\", \"i\"], \"stack_to_render\": [], \"heap\": {}, \"stdout\": \"\"}, {\"line\": 3, \"event\": \"step_line\", \"func_name\": \"<module>\", \"globals\": {\"x\": 388, \"i\": 387}, \"ordered_globals\": [\"x\", \"i\"], \"stack_to_render\": [], \"heap\": {}, \"stdout\": \"\"}, {\"line\": 4, \"event\": \"step_line\", \"func_name\": \"<module>\", \"globals\": {\"x\": 388, \"i\": 388}, \"ordered_globals\": [\"x\", \"i\"], \"stack_to_render\": [], \"heap\": {}, \"stdout\": \"\"}, {\"line\": 3, \"event\": \"step_line\", \"func_name\": \"<module>\", \"globals\": {\"x\": 389, \"i\": 388}, \"ordered_globals\": [\"x\", \"i\"], \"stack_to_render\": [], \"heap\": {}, \"stdout\": \"\"}, {\"line\": 4, \"event\": \"step_line\", \"func_name\": \"<module>\", \"globals\": {\"x\": 389, \"i\": 389}, \"ordered_globals\": [\"x\", \"i\"], \"stack_to_render\": [], \"heap\": {}, \"stdout\": \"\"}, {\"line\": 3, \"event\": \"step_line\", \"func_name\": \"<module>\", \"globals\": {\"x\": 390, \"i\": 389}, \"ordered_globals\": [\"x\", \"i\"], \"stack_to_render\": [], \"heap\": {}, \"stdout\": \"\"}, {\"line\": 4, \"event\": \"step_line\", \"func_name\": \"<module>\", \"globals\": {\"x\": 390, \"i\": 390}, \"ordered_globals\": [\"x\", \"i\"], \"stack_to_render\": [], \"heap\": {}, \"stdout\": \"\"}, {\"line\": 3, \"event\": \"step_line\", \"func_name\": \"<module>\", \"globals\": {\"x\": 391, \"i\": 390}, \"ordered_globals\": [\"x\", \"i\"], \"stack_to_render\": [], \"heap\": {}, \"stdout\": \"\"}, {\"line\": 4, \"event\": \"step_line\", \"func_name\": \"<module>\", \"globals\": {\"x\": 391, \"i\": 391}, \"ordered_globals\": [\"x\", \"i\"], \"stack_to_render\": [], \"heap\": {}, \"stdout\": \"\"}, {\"line\": 3, \"event\": \"step_line\", \"func_name\": \"<module>\", \"globals\": {\"x\": 392, \"i\": 391}, \"ordered_globals\": [\"x\", \"i\"], \"stack_to_render\": [], \"heap\": {}, \"stdout\": \"\"}, {\"line\": 4, \"event\": \"step_line\", \"func_name\": \"<module>\", \"globals\": {\"x\": 392, \"i\": 392}, \"ordered_globals\": [\"x\", \"i\"], \"stack_to_render\": [], \"heap\": {}, \"stdout\": \"\"}, {\"line\": 3, \"event\": \"step_line\", \"func_name\": \"<module>\", \"globals\": {\"x\": 393, \"i\": 392}, \"ordered_globals\": [\"x\", \"i\"], \"stack_to_render\": [], \"heap\": {}, \"stdout\": \"\"}, {\"line\": 4, \"event\": \"step_line\", \"func_name\": \"<module>\", \"globals\": {\"x\": 393, \"i\": 393}, \"ordered_globals\": [\"x\", \"i\"], \"stack_to_render\": [], \"heap\": {}, \"stdout\": \"\"}, {\"line\": 3, \"event\": \"step_line\", \"func_name\": \"<module>\", \"globals\": {\"x\": 394, \"i\": 393}, \"ordered_globals\": [\"x\", \"i\"], \"stack_to_render\": [], \"heap\": {}, \"stdout\": \"\"}, {\"line\": 4, \"event\": \"step_line\", \"func_name\": \"<module>\", \"globals\": {\"x\": 394, \"i\": 394}, \"ordered_globals\": [\"x\", \"i\"], \"stack_to_render\": [], \"heap\": {}, \"stdout\": \"\"}, {\"line\": 3, \"event\": \"step_line\", \"func_name\": \"<module>\", \"globals\": {\"x\": 395, \"i\": 394}, \"ordered_globals\": [\"x\", \"i\"], \"stack_to_render\": [], \"heap\": {}, \"stdout\": \"\"}, {\"line\": 4, \"event\": \"step_line\", \"func_name\": \"<module>\", \"globals\": {\"x\": 395, \"i\": 395}, \"ordered_globals\": [\"x\", \"i\"], \"stack_to_render\": [], \"heap\": {}, \"stdout\": \"\"}, {\"line\": 3, \"event\": \"step_line\", \"func_name\": \"<module>\", \"globals\": {\"x\": 396, \"i\": 395}, \"ordered_globals\": [\"x\", \"i\"], \"stack_to_render\": [], \"heap\": {}, \"stdout\": \"\"}, {\"line\": 4, \"event\": \"step_line\", \"func_name\": \"<module>\", \"globals\": {\"x\": 396, \"i\": 396}, \"ordered_globals\": [\"x\", \"i\"], \"stack_to_render\": [], \"heap\": {}, \"stdout\": \"\"}, {\"line\": 3, \"event\": \"step_line\", \"func_name\": \"<module>\", \"globals\": {\"x\": 397, \"i\": 396}, \"ordered_globals\": [\"x\", \"i\"], \"stack_to_render\": [], \"heap\": {}, \"stdout\": \"\"}, {\"line\": 4, \"event\": \"step_line\", \"func_name\": \"<module>\", \"globals\": {\"x\": 397, \"i\": 397}, \"ordered_globals\": [\"x\", \"i\"], \"stack_to_render\": [], \"heap\": {}, \"stdout\": \"\"}, {\"line\": 3, \"event\": \"step_line\", \"func_name\": \"<module>\", \"globals\": {\"x\": 398, \"i\": 397}, \"ordered_globals\": [\"x\", \"i\"], \"stack_to_render\": [], \"heap\": {}, \"stdout\": \"\"}, {\"line\": 4, \"event\": \"step_line\", \"func_name\": \"<module>\", \"globals\": {\"x\": 398, \"i\": 398}, \"ordered_globals\": [\"x\", \"i\"], \"stack_to_render\": [], \"heap\": {}, \"stdout\": \"\"}, {\"line\": 3, \"event\": \"step_line\", \"func_name\": \"<module>\", \"globals\": {\"x\": 399, \"i\": 398}, \"ordered_globals\": [\"x\", \"i\"], \"stack_to_render\": [], \"heap\": {}, \"stdout\": \"\"}, {\"line\": 4, \"event\": \"step_line\", \"func_name\": \"<module>\", \"globals\": {\"x\": 399, \"i\": 399}, \"ordered_globals\": [\"x\", \"i\"], \"stack_to_render\": [], \"heap\": {}, \"stdout\": \"\"}, {\"line\": 3, \"event\": \"step_line\", \"func_name\": \"<module>\", \"globals\": {\"x\": 400, \"i\": 399}, \"ordered_globals\": [\"x\", \"i\"], \"stack_to_render\": [], \"heap\": {}, \"stdout\": \"\"}, {\"line\": 4, \"event\": \"step_line\", \"func_name\": \"<module>\", \"globals\": {\"x\": 400, \"i\": 400}, \"ordered_globals\": [\"x\", \"i\"], \"stack_to_render\": [], \"heap\": {}, \"stdout\": \"\"}, {\"line\": 3, \"event\": \"step_line\", \"func_name\": \"<module>\", \"globals\": {\"x\": 401, \"i\": 400}, \"ordered_globals\": [\"x\", \"i\"], \"stack_to_render\": [], \"heap\": {}, \"stdout\": \"\"}, {\"line\": 4, \"event\": \"step_line\", \"func_name\": \"<module>\", \"globals\": {\"x\": 401, \"i\": 401}, \"ordered_globals\": [\"x\", \"i\"], \"stack_to_render\": [], \"heap\": {}, \"stdout\": \"\"}, {\"line\": 3, \"event\": \"step_line\", \"func_name\": \"<module>\", \"globals\": {\"x\": 402, \"i\": 401}, \"ordered_globals\": [\"x\", \"i\"], \"stack_to_render\": [], \"heap\": {}, \"stdout\": \"\"}, {\"line\": 4, \"event\": \"step_line\", \"func_name\": \"<module>\", \"globals\": {\"x\": 402, \"i\": 402}, \"ordered_globals\": [\"x\", \"i\"], \"stack_to_render\": [], \"heap\": {}, \"stdout\": \"\"}, {\"line\": 3, \"event\": \"step_line\", \"func_name\": \"<module>\", \"globals\": {\"x\": 403, \"i\": 402}, \"ordered_globals\": [\"x\", \"i\"], \"stack_to_render\": [], \"heap\": {}, \"stdout\": \"\"}, {\"line\": 4, \"event\": \"step_line\", \"func_name\": \"<module>\", \"globals\": {\"x\": 403, \"i\": 403}, \"ordered_globals\": [\"x\", \"i\"], \"stack_to_render\": [], \"heap\": {}, \"stdout\": \"\"}, {\"line\": 3, \"event\": \"step_line\", \"func_name\": \"<module>\", \"globals\": {\"x\": 404, \"i\": 403}, \"ordered_globals\": [\"x\", \"i\"], \"stack_to_render\": [], \"heap\": {}, \"stdout\": \"\"}, {\"line\": 4, \"event\": \"step_line\", \"func_name\": \"<module>\", \"globals\": {\"x\": 404, \"i\": 404}, \"ordered_globals\": [\"x\", \"i\"], \"stack_to_render\": [], \"heap\": {}, \"stdout\": \"\"}, {\"line\": 3, \"event\": \"step_line\", \"func_name\": \"<module>\", \"globals\": {\"x\": 405, \"i\": 404}, \"ordered_globals\": [\"x\", \"i\"], \"stack_to_render\": [], \"heap\": {}, \"stdout\": \"\"}, {\"line\": 4, \"event\": \"step_line\", \"func_name\": \"<module>\", \"globals\": {\"x\": 405, \"i\": 405}, \"ordered_globals\": [\"x\", \"i\"], \"stack_to_render\": [], \"heap\": {}, \"stdout\": \"\"}, {\"line\": 3, \"event\": \"step_line\", \"func_name\": \"<module>\", \"globals\": {\"x\": 406, \"i\": 405}, \"ordered_globals\": [\"x\", \"i\"], \"stack_to_render\": [], \"heap\": {}, \"stdout\": \"\"}, {\"line\": 4, \"event\": \"step_line\", \"func_name\": \"<module>\", \"globals\": {\"x\": 406, \"i\": 406}, \"ordered_globals\": [\"x\", \"i\"], \"stack_to_render\": [], \"heap\": {}, \"stdout\": \"\"}, {\"line\": 3, \"event\": \"step_line\", \"func_name\": \"<module>\", \"globals\": {\"x\": 407, \"i\": 406}, \"ordered_globals\": [\"x\", \"i\"], \"stack_to_render\": [], \"heap\": {}, \"stdout\": \"\"}, {\"line\": 4, \"event\": \"step_line\", \"func_name\": \"<module>\", \"globals\": {\"x\": 407, \"i\": 407}, \"ordered_globals\": [\"x\", \"i\"], \"stack_to_render\": [], \"heap\": {}, \"stdout\": \"\"}, {\"line\": 3, \"event\": \"step_line\", \"func_name\": \"<module>\", \"globals\": {\"x\": 408, \"i\": 407}, \"ordered_globals\": [\"x\", \"i\"], \"stack_to_render\": [], \"heap\": {}, \"stdout\": \"\"}, {\"line\": 4, \"event\": \"step_line\", \"func_name\": \"<module>\", \"globals\": {\"x\": 408, \"i\": 408}, \"ordered_globals\": [\"x\", \"i\"], \"stack_to_render\": [], \"heap\": {}, \"stdout\": \"\"}, {\"line\": 3, \"event\": \"step_line\", \"func_name\": \"<module>\", \"globals\": {\"x\": 409, \"i\": 408}, \"ordered_globals\": [\"x\", \"i\"], \"stack_to_render\": [], \"heap\": {}, \"stdout\": \"\"}, {\"line\": 4, \"event\": \"step_line\", \"func_name\": \"<module>\", \"globals\": {\"x\": 409, \"i\": 409}, \"ordered_globals\": [\"x\", \"i\"], \"stack_to_render\": [], \"heap\": {}, \"stdout\": \"\"}, {\"line\": 3, \"event\": \"step_line\", \"func_name\": \"<module>\", \"globals\": {\"x\": 410, \"i\": 409}, \"ordered_globals\": [\"x\", \"i\"], \"stack_to_render\": [], \"heap\": {}, \"stdout\": \"\"}, {\"line\": 4, \"event\": \"step_line\", \"func_name\": \"<module>\", \"globals\": {\"x\": 410, \"i\": 410}, \"ordered_globals\": [\"x\", \"i\"], \"stack_to_render\": [], \"heap\": {}, \"stdout\": \"\"}, {\"line\": 3, \"event\": \"step_line\", \"func_name\": \"<module>\", \"globals\": {\"x\": 411, \"i\": 410}, \"ordered_globals\": [\"x\", \"i\"], \"stack_to_render\": [], \"heap\": {}, \"stdout\": \"\"}, {\"line\": 4, \"event\": \"step_line\", \"func_name\": \"<module>\", \"globals\": {\"x\": 411, \"i\": 411}, \"ordered_globals\": [\"x\", \"i\"], \"stack_to_render\": [], \"heap\": {}, \"stdout\": \"\"}, {\"line\": 3, \"event\": \"step_line\", \"func_name\": \"<module>\", \"globals\": {\"x\": 412, \"i\": 411}, \"ordered_globals\": [\"x\", \"i\"], \"stack_to_render\": [], \"heap\": {}, \"stdout\": \"\"}, {\"line\": 4, \"event\": \"step_line\", \"func_name\": \"<module>\", \"globals\": {\"x\": 412, \"i\": 412}, \"ordered_globals\": [\"x\", \"i\"], \"stack_to_render\": [], \"heap\": {}, \"stdout\": \"\"}, {\"line\": 3, \"event\": \"step_line\", \"func_name\": \"<module>\", \"globals\": {\"x\": 413, \"i\": 412}, \"ordered_globals\": [\"x\", \"i\"], \"stack_to_render\": [], \"heap\": {}, \"stdout\": \"\"}, {\"line\": 4, \"event\": \"step_line\", \"func_name\": \"<module>\", \"globals\": {\"x\": 413, \"i\": 413}, \"ordered_globals\": [\"x\", \"i\"], \"stack_to_render\": [], \"heap\": {}, \"stdout\": \"\"}, {\"line\": 3, \"event\": \"step_line\", \"func_name\": \"<module>\", \"globals\": {\"x\": 414, \"i\": 413}, \"ordered_globals\": [\"x\", \"i\"], \"stack_to_render\": [], \"heap\": {}, \"stdout\": \"\"}, {\"line\": 4, \"event\": \"step_line\", \"func_name\": \"<module>\", \"globals\": {\"x\": 414, \"i\": 414}, \"ordered_globals\": [\"x\", \"i\"], \"stack_to_render\": [], \"heap\": {}, \"stdout\": \"\"}, {\"line\": 3, \"event\": \"step_line\", \"func_name\": \"<module>\", \"globals\": {\"x\": 415, \"i\": 414}, \"ordered_globals\": [\"x\", \"i\"], \"stack_to_render\": [], \"heap\": {}, \"stdout\": \"\"}, {\"line\": 4, \"event\": \"step_line\", \"func_name\": \"<module>\", \"globals\": {\"x\": 415, \"i\": 415}, \"ordered_globals\": [\"x\", \"i\"], \"stack_to_render\": [], \"heap\": {}, \"stdout\": \"\"}, {\"line\": 3, \"event\": \"step_line\", \"func_name\": \"<module>\", \"globals\": {\"x\": 416, \"i\": 415}, \"ordered_globals\": [\"x\", \"i\"], \"stack_to_render\": [], \"heap\": {}, \"stdout\": \"\"}, {\"line\": 4, \"event\": \"step_line\", \"func_name\": \"<module>\", \"globals\": {\"x\": 416, \"i\": 416}, \"ordered_globals\": [\"x\", \"i\"], \"stack_to_render\": [], \"heap\": {}, \"stdout\": \"\"}, {\"line\": 3, \"event\": \"step_line\", \"func_name\": \"<module>\", \"globals\": {\"x\": 417, \"i\": 416}, \"ordered_globals\": [\"x\", \"i\"], \"stack_to_render\": [], \"heap\": {}, \"stdout\": \"\"}, {\"line\": 4, \"event\": \"step_line\", \"func_name\": \"<module>\", \"globals\": {\"x\": 417, \"i\": 417}, \"ordered_globals\": [\"x\", \"i\"], \"stack_to_render\": [], \"heap\": {}, \"stdout\": \"\"}, {\"line\": 3, \"event\": \"step_line\", \"func_name\": \"<module>\", \"globals\": {\"x\": 418, \"i\": 417}, \"ordered_globals\": [\"x\", \"i\"], \"stack_to_render\": [], \"heap\": {}, \"stdout\": \"\"}, {\"line\": 4, \"event\": \"step_line\", \"func_name\": \"<module>\", \"globals\": {\"x\": 418, \"i\": 418}, \"ordered_globals\": [\"x\", \"i\"], \"stack_to_render\": [], \"heap\": {}, \"stdout\": \"\"}, {\"line\": 3, \"event\": \"step_line\", \"func_name\": \"<module>\", \"globals\": {\"x\": 419, \"i\": 418}, \"ordered_globals\": [\"x\", \"i\"], \"stack_to_render\": [], \"heap\": {}, \"stdout\": \"\"}, {\"line\": 4, \"event\": \"step_line\", \"func_name\": \"<module>\", \"globals\": {\"x\": 419, \"i\": 419}, \"ordered_globals\": [\"x\", \"i\"], \"stack_to_render\": [], \"heap\": {}, \"stdout\": \"\"}, {\"line\": 3, \"event\": \"step_line\", \"func_name\": \"<module>\", \"globals\": {\"x\": 420, \"i\": 419}, \"ordered_globals\": [\"x\", \"i\"], \"stack_to_render\": [], \"heap\": {}, \"stdout\": \"\"}, {\"line\": 4, \"event\": \"step_line\", \"func_name\": \"<module>\", \"globals\": {\"x\": 420, \"i\": 420}, \"ordered_globals\": [\"x\", \"i\"], \"stack_to_render\": [], \"heap\": {}, \"stdout\": \"\"}, {\"line\": 3, \"event\": \"step_line\", \"func_name\": \"<module>\", \"globals\": {\"x\": 421, \"i\": 420}, \"ordered_globals\": [\"x\", \"i\"], \"stack_to_render\": [], \"heap\": {}, \"stdout\": \"\"}, {\"line\": 4, \"event\": \"step_line\", \"func_name\": \"<module>\", \"globals\": {\"x\": 421, \"i\": 421}, \"ordered_globals\": [\"x\", \"i\"], \"stack_to_render\": [], \"heap\": {}, \"stdout\": \"\"}, {\"line\": 3, \"event\": \"step_line\", \"func_name\": \"<module>\", \"globals\": {\"x\": 422, \"i\": 421}, \"ordered_globals\": [\"x\", \"i\"], \"stack_to_render\": [], \"heap\": {}, \"stdout\": \"\"}, {\"line\": 4, \"event\": \"step_line\", \"func_name\": \"<module>\", \"globals\": {\"x\": 422, \"i\": 422}, \"ordered_globals\": [\"x\", \"i\"], \"stack_to_render\": [], \"heap\": {}, \"stdout\": \"\"}, {\"line\": 3, \"event\": \"step_line\", \"func_name\": \"<module>\", \"globals\": {\"x\": 423, \"i\": 422}, \"ordered_globals\": [\"x\", \"i\"], \"stack_to_render\": [], \"heap\": {}, \"stdout\": \"\"}, {\"line\": 4, \"event\": \"step_line\", \"func_name\": \"<module>\", \"globals\": {\"x\": 423, \"i\": 423}, \"ordered_globals\": [\"x\", \"i\"], \"stack_to_render\": [], \"heap\": {}, \"stdout\": \"\"}, {\"line\": 3, \"event\": \"step_line\", \"func_name\": \"<module>\", \"globals\": {\"x\": 424, \"i\": 423}, \"ordered_globals\": [\"x\", \"i\"], \"stack_to_render\": [], \"heap\": {}, \"stdout\": \"\"}, {\"line\": 4, \"event\": \"step_line\", \"func_name\": \"<module>\", \"globals\": {\"x\": 424, \"i\": 424}, \"ordered_globals\": [\"x\", \"i\"], \"stack_to_render\": [], \"heap\": {}, \"stdout\": \"\"}, {\"line\": 3, \"event\": \"step_line\", \"func_name\": \"<module>\", \"globals\": {\"x\": 425, \"i\": 424}, \"ordered_globals\": [\"x\", \"i\"], \"stack_to_render\": [], \"heap\": {}, \"stdout\": \"\"}, {\"line\": 4, \"event\": \"step_line\", \"func_name\": \"<module>\", \"globals\": {\"x\": 425, \"i\": 425}, \"ordered_globals\": [\"x\", \"i\"], \"stack_to_render\": [], \"heap\": {}, \"stdout\": \"\"}, {\"line\": 3, \"event\": \"step_line\", \"func_name\": \"<module>\", \"globals\": {\"x\": 426, \"i\": 425}, \"ordered_globals\": [\"x\", \"i\"], \"stack_to_render\": [], \"heap\": {}, \"stdout\": \"\"}, {\"line\": 4, \"event\": \"step_line\", \"func_name\": \"<module>\", \"globals\": {\"x\": 426, \"i\": 426}, \"ordered_globals\": [\"x\", \"i\"], \"stack_to_render\": [], \"heap\": {}, \"stdout\": \"\"}, {\"line\": 3, \"event\": \"step_line\", \"func_name\": \"<module>\", \"globals\": {\"x\": 427, \"i\": 426}, \"ordered_globals\": [\"x\", \"i\"], \"stack_to_render\": [], \"heap\": {}, \"stdout\": \"\"}, {\"line\": 4, \"event\": \"step_line\", \"func_name\": \"<module>\", \"globals\": {\"x\": 427, \"i\": 427}, \"ordered_globals\": [\"x\", \"i\"], \"stack_to_render\": [], \"heap\": {}, \"stdout\": \"\"}, {\"line\": 3, \"event\": \"step_line\", \"func_name\": \"<module>\", \"globals\": {\"x\": 428, \"i\": 427}, \"ordered_globals\": [\"x\", \"i\"], \"stack_to_render\": [], \"heap\": {}, \"stdout\": \"\"}, {\"line\": 4, \"event\": \"step_line\", \"func_name\": \"<module>\", \"globals\": {\"x\": 428, \"i\": 428}, \"ordered_globals\": [\"x\", \"i\"], \"stack_to_render\": [], \"heap\": {}, \"stdout\": \"\"}, {\"line\": 3, \"event\": \"step_line\", \"func_name\": \"<module>\", \"globals\": {\"x\": 429, \"i\": 428}, \"ordered_globals\": [\"x\", \"i\"], \"stack_to_render\": [], \"heap\": {}, \"stdout\": \"\"}, {\"line\": 4, \"event\": \"step_line\", \"func_name\": \"<module>\", \"globals\": {\"x\": 429, \"i\": 429}, \"ordered_globals\": [\"x\", \"i\"], \"stack_to_render\": [], \"heap\": {}, \"stdout\": \"\"}, {\"line\": 3, \"event\": \"step_line\", \"func_name\": \"<module>\", \"globals\": {\"x\": 430, \"i\": 429}, \"ordered_globals\": [\"x\", \"i\"], \"stack_to_render\": [], \"heap\": {}, \"stdout\": \"\"}, {\"line\": 4, \"event\": \"step_line\", \"func_name\": \"<module>\", \"globals\": {\"x\": 430, \"i\": 430}, \"ordered_globals\": [\"x\", \"i\"], \"stack_to_render\": [], \"heap\": {}, \"stdout\": \"\"}, {\"line\": 3, \"event\": \"step_line\", \"func_name\": \"<module>\", \"globals\": {\"x\": 431, \"i\": 430}, \"ordered_globals\": [\"x\", \"i\"], \"stack_to_render\": [], \"heap\": {}, \"stdout\": \"\"}, {\"line\": 4, \"event\": \"step_line\", \"func_name\": \"<module>\", \"globals\": {\"x\": 431, \"i\": 431}, \"ordered_globals\": [\"x\", \"i\"], \"stack_to_render\": [], \"heap\": {}, \"stdout\": \"\"}, {\"line\": 3, \"event\": \"step_line\", \"func_name\": \"<module>\", \"globals\": {\"x\": 432, \"i\": 431}, \"ordered_globals\": [\"x\", \"i\"], \"stack_to_render\": [], \"heap\": {}, \"stdout\": \"\"}, {\"line\": 4, \"event\": \"step_line\", \"func_name\": \"<module>\", \"globals\": {\"x\": 432, \"i\": 432}, \"ordered_globals\": [\"x\", \"i\"], \"stack_to_render\": [], \"heap\": {}, \"stdout\": \"\"}, {\"line\": 3, \"event\": \"step_line\", \"func_name\": \"<module>\", \"globals\": {\"x\": 433, \"i\": 432}, \"ordered_globals\": [\"x\", \"i\"], \"stack_to_render\": [], \"heap\": {}, \"stdout\": \"\"}, {\"line\": 4, \"event\": \"step_line\", \"func_name\": \"<module>\", \"globals\": {\"x\": 433, \"i\": 433}, \"ordered_globals\": [\"x\", \"i\"], \"stack_to_render\": [], \"heap\": {}, \"stdout\": \"\"}, {\"line\": 3, \"event\": \"step_line\", \"func_name\": \"<module>\", \"globals\": {\"x\": 434, \"i\": 433}, \"ordered_globals\": [\"x\", \"i\"], \"stack_to_render\": [], \"heap\": {}, \"stdout\": \"\"}, {\"line\": 4, \"event\": \"step_line\", \"func_name\": \"<module>\", \"globals\": {\"x\": 434, \"i\": 434}, \"ordered_globals\": [\"x\", \"i\"], \"stack_to_render\": [], \"heap\": {}, \"stdout\": \"\"}, {\"line\": 3, \"event\": \"step_line\", \"func_name\": \"<module>\", \"globals\": {\"x\": 435, \"i\": 434}, \"ordered_globals\": [\"x\", \"i\"], \"stack_to_render\": [], \"heap\": {}, \"stdout\": \"\"}, {\"line\": 4, \"event\": \"step_line\", \"func_name\": \"<module>\", \"globals\": {\"x\": 435, \"i\": 435}, \"ordered_globals\": [\"x\", \"i\"], \"stack_to_render\": [], \"heap\": {}, \"stdout\": \"\"}, {\"line\": 3, \"event\": \"step_line\", \"func_name\": \"<module>\", \"globals\": {\"x\": 436, \"i\": 435}, \"ordered_globals\": [\"x\", \"i\"], \"stack_to_render\": [], \"heap\": {}, \"stdout\": \"\"}, {\"line\": 4, \"event\": \"step_line\", \"func_name\": \"<module>\", \"globals\": {\"x\": 436, \"i\": 436}, \"ordered_globals\": [\"x\", \"i\"], \"stack_to_render\": [], \"heap\": {}, \"stdout\": \"\"}, {\"line\": 3, \"event\": \"step_line\", \"func_name\": \"<module>\", \"globals\": {\"x\": 437, \"i\": 436}, \"ordered_globals\": [\"x\", \"i\"], \"stack_to_render\": [], \"heap\": {}, \"stdout\": \"\"}, {\"line\": 4, \"event\": \"step_line\", \"func_name\": \"<module>\", \"globals\": {\"x\": 437, \"i\": 437}, \"ordered_globals\": [\"x\", \"i\"], \"stack_to_render\": [], \"heap\": {}, \"stdout\": \"\"}, {\"line\": 3, \"event\": \"step_line\", \"func_name\": \"<module>\", \"globals\": {\"x\": 438, \"i\": 437}, \"ordered_globals\": [\"x\", \"i\"], \"stack_to_render\": [], \"heap\": {}, \"stdout\": \"\"}, {\"line\": 4, \"event\": \"step_line\", \"func_name\": \"<module>\", \"globals\": {\"x\": 438, \"i\": 438}, \"ordered_globals\": [\"x\", \"i\"], \"stack_to_render\": [], \"heap\": {}, \"stdout\": \"\"}, {\"line\": 3, \"event\": \"step_line\", \"func_name\": \"<module>\", \"globals\": {\"x\": 439, \"i\": 438}, \"ordered_globals\": [\"x\", \"i\"], \"stack_to_render\": [], \"heap\": {}, \"stdout\": \"\"}, {\"line\": 4, \"event\": \"step_line\", \"func_name\": \"<module>\", \"globals\": {\"x\": 439, \"i\": 439}, \"ordered_globals\": [\"x\", \"i\"], \"stack_to_render\": [], \"heap\": {}, \"stdout\": \"\"}, {\"line\": 3, \"event\": \"step_line\", \"func_name\": \"<module>\", \"globals\": {\"x\": 440, \"i\": 439}, \"ordered_globals\": [\"x\", \"i\"], \"stack_to_render\": [], \"heap\": {}, \"stdout\": \"\"}, {\"line\": 4, \"event\": \"step_line\", \"func_name\": \"<module>\", \"globals\": {\"x\": 440, \"i\": 440}, \"ordered_globals\": [\"x\", \"i\"], \"stack_to_render\": [], \"heap\": {}, \"stdout\": \"\"}, {\"line\": 3, \"event\": \"step_line\", \"func_name\": \"<module>\", \"globals\": {\"x\": 441, \"i\": 440}, \"ordered_globals\": [\"x\", \"i\"], \"stack_to_render\": [], \"heap\": {}, \"stdout\": \"\"}, {\"line\": 4, \"event\": \"step_line\", \"func_name\": \"<module>\", \"globals\": {\"x\": 441, \"i\": 441}, \"ordered_globals\": [\"x\", \"i\"], \"stack_to_render\": [], \"heap\": {}, \"stdout\": \"\"}, {\"line\": 3, \"event\": \"step_line\", \"func_name\": \"<module>\", \"globals\": {\"x\": 442, \"i\": 441}, \"ordered_globals\": [\"x\", \"i\"], \"stack_to_render\": [], \"heap\": {}, \"stdout\": \"\"}, {\"line\": 4, \"event\": \"step_line\", \"func_name\": \"<module>\", \"globals\": {\"x\": 442, \"i\": 442}, \"ordered_globals\": [\"x\", \"i\"], \"stack_to_render\": [], \"heap\": {}, \"stdout\": \"\"}, {\"line\": 3, \"event\": \"step_line\", \"func_name\": \"<module>\", \"globals\": {\"x\": 443, \"i\": 442}, \"ordered_globals\": [\"x\", \"i\"], \"stack_to_render\": [], \"heap\": {}, \"stdout\": \"\"}, {\"line\": 4, \"event\": \"step_line\", \"func_name\": \"<module>\", \"globals\": {\"x\": 443, \"i\": 443}, \"ordered_globals\": [\"x\", \"i\"], \"stack_to_render\": [], \"heap\": {}, \"stdout\": \"\"}, {\"line\": 3, \"event\": \"step_line\", \"func_name\": \"<module>\", \"globals\": {\"x\": 444, \"i\": 443}, \"ordered_globals\": [\"x\", \"i\"], \"stack_to_render\": [], \"heap\": {}, \"stdout\": \"\"}, {\"line\": 4, \"event\": \"step_line\", \"func_name\": \"<module>\", \"globals\": {\"x\": 444, \"i\": 444}, \"ordered_globals\": [\"x\", \"i\"], \"stack_to_render\": [], \"heap\": {}, \"stdout\": \"\"}, {\"line\": 3, \"event\": \"step_line\", \"func_name\": \"<module>\", \"globals\": {\"x\": 445, \"i\": 444}, \"ordered_globals\": [\"x\", \"i\"], \"stack_to_render\": [], \"heap\": {}, \"stdout\": \"\"}, {\"line\": 4, \"event\": \"step_line\", \"func_name\": \"<module>\", \"globals\": {\"x\": 445, \"i\": 445}, \"ordered_globals\": [\"x\", \"i\"], \"stack_to_render\": [], \"heap\": {}, \"stdout\": \"\"}, {\"line\": 3, \"event\": \"step_line\", \"func_name\": \"<module>\", \"globals\": {\"x\": 446, \"i\": 445}, \"ordered_globals\": [\"x\", \"i\"], \"stack_to_render\": [], \"heap\": {}, \"stdout\": \"\"}, {\"line\": 4, \"event\": \"step_line\", \"func_name\": \"<module>\", \"globals\": {\"x\": 446, \"i\": 446}, \"ordered_globals\": [\"x\", \"i\"], \"stack_to_render\": [], \"heap\": {}, \"stdout\": \"\"}, {\"line\": 3, \"event\": \"step_line\", \"func_name\": \"<module>\", \"globals\": {\"x\": 447, \"i\": 446}, \"ordered_globals\": [\"x\", \"i\"], \"stack_to_render\": [], \"heap\": {}, \"stdout\": \"\"}, {\"line\": 4, \"event\": \"step_line\", \"func_name\": \"<module>\", \"globals\": {\"x\": 447, \"i\": 447}, \"ordered_globals\": [\"x\", \"i\"], \"stack_to_render\": [], \"heap\": {}, \"stdout\": \"\"}, {\"line\": 3, \"event\": \"step_line\", \"func_name\": \"<module>\", \"globals\": {\"x\": 448, \"i\": 447}, \"ordered_globals\": [\"x\", \"i\"], \"stack_to_render\": [], \"heap\": {}, \"stdout\": \"\"}, {\"line\": 4, \"event\": \"step_line\", \"func_name\": \"<module>\", \"globals\": {\"x\": 448, \"i\": 448}, \"ordered_globals\": [\"x\", \"i\"], \"stack_to_render\": [], \"heap\": {}, \"stdout\": \"\"}, {\"line\": 3, \"event\": \"step_line\", \"func_name\": \"<module>\", \"globals\": {\"x\": 449, \"i\": 448}, \"ordered_globals\": [\"x\", \"i\"], \"stack_to_render\": [], \"heap\": {}, \"stdout\": \"\"}, {\"line\": 4, \"event\": \"step_line\", \"func_name\": \"<module>\", \"globals\": {\"x\": 449, \"i\": 449}, \"ordered_globals\": [\"x\", \"i\"], \"stack_to_render\": [], \"heap\": {}, \"stdout\": \"\"}, {\"line\": 3, \"event\": \"step_line\", \"func_name\": \"<module>\", \"globals\": {\"x\": 450, \"i\": 449}, \"ordered_globals\": [\"x\", \"i\"], \"stack_to_render\": [], \"heap\": {}, \"stdout\": \"\"}, {\"line\": 4, \"event\": \"step_line\", \"func_name\": \"<module>\", \"globals\": {\"x\": 450, \"i\": 450}, \"ordered_globals\": [\"x\", \"i\"], \"stack_to_render\": [], \"heap\": {}, \"stdout\": \"\"}, {\"line\": 3, \"event\": \"step_line\", \"func_name\": \"<module>\", \"globals\": {\"x\": 451, \"i\": 450}, \"ordered_globals\": [\"x\", \"i\"], \"stack_to_render\": [], \"heap\": {}, \"stdout\": \"\"}, {\"line\": 4, \"event\": \"step_line\", \"func_name\": \"<module>\", \"globals\": {\"x\": 451, \"i\": 451}, \"ordered_globals\": [\"x\", \"i\"], \"stack_to_render\": [], \"heap\": {}, \"stdout\": \"\"}, {\"line\": 3, \"event\": \"step_line\", \"func_name\": \"<module>\", \"globals\": {\"x\": 452, \"i\": 451}, \"ordered_globals\": [\"x\", \"i\"], \"stack_to_render\": [], \"heap\": {}, \"stdout\": \"\"}, {\"line\": 4, \"event\": \"step_line\", \"func_name\": \"<module>\", \"globals\": {\"x\": 452, \"i\": 452}, \"ordered_globals\": [\"x\", \"i\"], \"stack_to_render\": [], \"heap\": {}, \"stdout\": \"\"}, {\"line\": 3, \"event\": \"step_line\", \"func_name\": \"<module>\", \"globals\": {\"x\": 453, \"i\": 452}, \"ordered_globals\": [\"x\", \"i\"], \"stack_to_render\": [], \"heap\": {}, \"stdout\": \"\"}, {\"line\": 4, \"event\": \"step_line\", \"func_name\": \"<module>\", \"globals\": {\"x\": 453, \"i\": 453}, \"ordered_globals\": [\"x\", \"i\"], \"stack_to_render\": [], \"heap\": {}, \"stdout\": \"\"}, {\"line\": 3, \"event\": \"step_line\", \"func_name\": \"<module>\", \"globals\": {\"x\": 454, \"i\": 453}, \"ordered_globals\": [\"x\", \"i\"], \"stack_to_render\": [], \"heap\": {}, \"stdout\": \"\"}, {\"line\": 4, \"event\": \"step_line\", \"func_name\": \"<module>\", \"globals\": {\"x\": 454, \"i\": 454}, \"ordered_globals\": [\"x\", \"i\"], \"stack_to_render\": [], \"heap\": {}, \"stdout\": \"\"}, {\"line\": 3, \"event\": \"step_line\", \"func_name\": \"<module>\", \"globals\": {\"x\": 455, \"i\": 454}, \"ordered_globals\": [\"x\", \"i\"], \"stack_to_render\": [], \"heap\": {}, \"stdout\": \"\"}, {\"line\": 4, \"event\": \"step_line\", \"func_name\": \"<module>\", \"globals\": {\"x\": 455, \"i\": 455}, \"ordered_globals\": [\"x\", \"i\"], \"stack_to_render\": [], \"heap\": {}, \"stdout\": \"\"}, {\"line\": 3, \"event\": \"step_line\", \"func_name\": \"<module>\", \"globals\": {\"x\": 456, \"i\": 455}, \"ordered_globals\": [\"x\", \"i\"], \"stack_to_render\": [], \"heap\": {}, \"stdout\": \"\"}, {\"line\": 4, \"event\": \"step_line\", \"func_name\": \"<module>\", \"globals\": {\"x\": 456, \"i\": 456}, \"ordered_globals\": [\"x\", \"i\"], \"stack_to_render\": [], \"heap\": {}, \"stdout\": \"\"}, {\"line\": 3, \"event\": \"step_line\", \"func_name\": \"<module>\", \"globals\": {\"x\": 457, \"i\": 456}, \"ordered_globals\": [\"x\", \"i\"], \"stack_to_render\": [], \"heap\": {}, \"stdout\": \"\"}, {\"line\": 4, \"event\": \"step_line\", \"func_name\": \"<module>\", \"globals\": {\"x\": 457, \"i\": 457}, \"ordered_globals\": [\"x\", \"i\"], \"stack_to_render\": [], \"heap\": {}, \"stdout\": \"\"}, {\"line\": 3, \"event\": \"step_line\", \"func_name\": \"<module>\", \"globals\": {\"x\": 458, \"i\": 457}, \"ordered_globals\": [\"x\", \"i\"], \"stack_to_render\": [], \"heap\": {}, \"stdout\": \"\"}, {\"line\": 4, \"event\": \"step_line\", \"func_name\": \"<module>\", \"globals\": {\"x\": 458, \"i\": 458}, \"ordered_globals\": [\"x\", \"i\"], \"stack_to_render\": [], \"heap\": {}, \"stdout\": \"\"}, {\"line\": 3, \"event\": \"step_line\", \"func_name\": \"<module>\", \"globals\": {\"x\": 459, \"i\": 458}, \"ordered_globals\": [\"x\", \"i\"], \"stack_to_render\": [], \"heap\": {}, \"stdout\": \"\"}, {\"line\": 4, \"event\": \"step_line\", \"func_name\": \"<module>\", \"globals\": {\"x\": 459, \"i\": 459}, \"ordered_globals\": [\"x\", \"i\"], \"stack_to_render\": [], \"heap\": {}, \"stdout\": \"\"}, {\"line\": 3, \"event\": \"step_line\", \"func_name\": \"<module>\", \"globals\": {\"x\": 460, \"i\": 459}, \"ordered_globals\": [\"x\", \"i\"], \"stack_to_render\": [], \"heap\": {}, \"stdout\": \"\"}, {\"line\": 4, \"event\": \"step_line\", \"func_name\": \"<module>\", \"globals\": {\"x\": 460, \"i\": 460}, \"ordered_globals\": [\"x\", \"i\"], \"stack_to_render\": [], \"heap\": {}, \"stdout\": \"\"}, {\"line\": 3, \"event\": \"step_line\", \"func_name\": \"<module>\", \"globals\": {\"x\": 461, \"i\": 460}, \"ordered_globals\": [\"x\", \"i\"], \"stack_to_render\": [], \"heap\": {}, \"stdout\": \"\"}, {\"line\": 4, \"event\": \"step_line\", \"func_name\": \"<module>\", \"globals\": {\"x\": 461, \"i\": 461}, \"ordered_globals\": [\"x\", \"i\"], \"stack_to_render\": [], \"heap\": {}, \"stdout\": \"\"}, {\"line\": 3, \"event\": \"step_line\", \"func_name\": \"<module>\", \"globals\": {\"x\": 462, \"i\": 461}, \"ordered_globals\": [\"x\", \"i\"], \"stack_to_render\": [], \"heap\": {}, \"stdout\": \"\"}, {\"line\": 4, \"event\": \"step_line\", \"func_name\": \"<module>\", \"globals\": {\"x\": 462, \"i\": 462}, \"ordered_globals\": [\"x\", \"i\"], \"stack_to_render\": [], \"heap\": {}, \"stdout\": \"\"}, {\"line\": 3, \"event\": \"step_line\", \"func_name\": \"<module>\", \"globals\": {\"x\": 463, \"i\": 462}, \"ordered_globals\": [\"x\", \"i\"], \"stack_to_render\": [], \"heap\": {}, \"stdout\": \"\"}, {\"line\": 4, \"event\": \"step_line\", \"func_name\": \"<module>\", \"globals\": {\"x\": 463, \"i\": 463}, \"ordered_globals\": [\"x\", \"i\"], \"stack_to_render\": [], \"heap\": {}, \"stdout\": \"\"}, {\"line\": 3, \"event\": \"step_line\", \"func_name\": \"<module>\", \"globals\": {\"x\": 464, \"i\": 463}, \"ordered_globals\": [\"x\", \"i\"], \"stack_to_render\": [], \"heap\": {}, \"stdout\": \"\"}, {\"line\": 4, \"event\": \"step_line\", \"func_name\": \"<module>\", \"globals\": {\"x\": 464, \"i\": 464}, \"ordered_globals\": [\"x\", \"i\"], \"stack_to_render\": [], \"heap\": {}, \"stdout\": \"\"}, {\"line\": 3, \"event\": \"step_line\", \"func_name\": \"<module>\", \"globals\": {\"x\": 465, \"i\": 464}, \"ordered_globals\": [\"x\", \"i\"], \"stack_to_render\": [], \"heap\": {}, \"stdout\": \"\"}, {\"line\": 4, \"event\": \"step_line\", \"func_name\": \"<module>\", \"globals\": {\"x\": 465, \"i\": 465}, \"ordered_globals\": [\"x\", \"i\"], \"stack_to_render\": [], \"heap\": {}, \"stdout\": \"\"}, {\"line\": 3, \"event\": \"step_line\", \"func_name\": \"<module>\", \"globals\": {\"x\": 466, \"i\": 465}, \"ordered_globals\": [\"x\", \"i\"], \"stack_to_render\": [], \"heap\": {}, \"stdout\": \"\"}, {\"line\": 4, \"event\": \"step_line\", \"func_name\": \"<module>\", \"globals\": {\"x\": 466, \"i\": 466}, \"ordered_globals\": [\"x\", \"i\"], \"stack_to_render\": [], \"heap\": {}, \"stdout\": \"\"}, {\"line\": 3, \"event\": \"step_line\", \"func_name\": \"<module>\", \"globals\": {\"x\": 467, \"i\": 466}, \"ordered_globals\": [\"x\", \"i\"], \"stack_to_render\": [], \"heap\": {}, \"stdout\": \"\"}, {\"line\": 4, \"event\": \"step_line\", \"func_name\": \"<module>\", \"globals\": {\"x\": 467, \"i\": 467}, \"ordered_globals\": [\"x\", \"i\"], \"stack_to_render\": [], \"heap\": {}, \"stdout\": \"\"}, {\"line\": 3, \"event\": \"step_line\", \"func_name\": \"<module>\", \"globals\": {\"x\": 468, \"i\": 467}, \"ordered_globals\": [\"x\", \"i\"], \"stack_to_render\": [], \"heap\": {}, \"stdout\": \"\"}, {\"line\": 4, \"event\": \"step_line\", \"func_name\": \"<module>\", \"globals\": {\"x\": 468, \"i\": 468}, \"ordered_globals\": [\"x\", \"i\"], \"stack_to_render\": [], \"heap\": {}, \"stdout\": \"\"}, {\"line\": 3, \"event\": \"step_line\", \"func_name\": \"<module>\", \"globals\": {\"x\": 469, \"i\": 468}, \"ordered_globals\": [\"x\", \"i\"], \"stack_to_render\": [], \"heap\": {}, \"stdout\": \"\"}, {\"line\": 4, \"event\": \"step_line\", \"func_name\": \"<module>\", \"globals\": {\"x\": 469, \"i\": 469}, \"ordered_globals\": [\"x\", \"i\"], \"stack_to_render\": [], \"heap\": {}, \"stdout\": \"\"}, {\"line\": 3, \"event\": \"step_line\", \"func_name\": \"<module>\", \"globals\": {\"x\": 470, \"i\": 469}, \"ordered_globals\": [\"x\", \"i\"], \"stack_to_render\": [], \"heap\": {}, \"stdout\": \"\"}, {\"line\": 4, \"event\": \"step_line\", \"func_name\": \"<module>\", \"globals\": {\"x\": 470, \"i\": 470}, \"ordered_globals\": [\"x\", \"i\"], \"stack_to_render\": [], \"heap\": {}, \"stdout\": \"\"}, {\"line\": 3, \"event\": \"step_line\", \"func_name\": \"<module>\", \"globals\": {\"x\": 471, \"i\": 470}, \"ordered_globals\": [\"x\", \"i\"], \"stack_to_render\": [], \"heap\": {}, \"stdout\": \"\"}, {\"line\": 4, \"event\": \"step_line\", \"func_name\": \"<module>\", \"globals\": {\"x\": 471, \"i\": 471}, \"ordered_globals\": [\"x\", \"i\"], \"stack_to_render\": [], \"heap\": {}, \"stdout\": \"\"}, {\"line\": 3, \"event\": \"step_line\", \"func_name\": \"<module>\", \"globals\": {\"x\": 472, \"i\": 471}, \"ordered_globals\": [\"x\", \"i\"], \"stack_to_render\": [], \"heap\": {}, \"stdout\": \"\"}, {\"line\": 4, \"event\": \"step_line\", \"func_name\": \"<module>\", \"globals\": {\"x\": 472, \"i\": 472}, \"ordered_globals\": [\"x\", \"i\"], \"stack_to_render\": [], \"heap\": {}, \"stdout\": \"\"}, {\"line\": 3, \"event\": \"step_line\", \"func_name\": \"<module>\", \"globals\": {\"x\": 473, \"i\": 472}, \"ordered_globals\": [\"x\", \"i\"], \"stack_to_render\": [], \"heap\": {}, \"stdout\": \"\"}, {\"line\": 4, \"event\": \"step_line\", \"func_name\": \"<module>\", \"globals\": {\"x\": 473, \"i\": 473}, \"ordered_globals\": [\"x\", \"i\"], \"stack_to_render\": [], \"heap\": {}, \"stdout\": \"\"}, {\"line\": 3, \"event\": \"step_line\", \"func_name\": \"<module>\", \"globals\": {\"x\": 474, \"i\": 473}, \"ordered_globals\": [\"x\", \"i\"], \"stack_to_render\": [], \"heap\": {}, \"stdout\": \"\"}, {\"line\": 4, \"event\": \"step_line\", \"func_name\": \"<module>\", \"globals\": {\"x\": 474, \"i\": 474}, \"ordered_globals\": [\"x\", \"i\"], \"stack_to_render\": [], \"heap\": {}, \"stdout\": \"\"}, {\"line\": 3, \"event\": \"step_line\", \"func_name\": \"<module>\", \"globals\": {\"x\": 475, \"i\": 474}, \"ordered_globals\": [\"x\", \"i\"], \"stack_to_render\": [], \"heap\": {}, \"stdout\": \"\"}, {\"line\": 4, \"event\": \"step_line\", \"func_name\": \"<module>\", \"globals\": {\"x\": 475, \"i\": 475}, \"ordered_globals\": [\"x\", \"i\"], \"stack_to_render\": [], \"heap\": {}, \"stdout\": \"\"}, {\"line\": 3, \"event\": \"step_line\", \"func_name\": \"<module>\", \"globals\": {\"x\": 476, \"i\": 475}, \"ordered_globals\": [\"x\", \"i\"], \"stack_to_render\": [], \"heap\": {}, \"stdout\": \"\"}, {\"line\": 4, \"event\": \"step_line\", \"func_name\": \"<module>\", \"globals\": {\"x\": 476, \"i\": 476}, \"ordered_globals\": [\"x\", \"i\"], \"stack_to_render\": [], \"heap\": {}, \"stdout\": \"\"}, {\"line\": 3, \"event\": \"step_line\", \"func_name\": \"<module>\", \"globals\": {\"x\": 477, \"i\": 476}, \"ordered_globals\": [\"x\", \"i\"], \"stack_to_render\": [], \"heap\": {}, \"stdout\": \"\"}, {\"line\": 4, \"event\": \"step_line\", \"func_name\": \"<module>\", \"globals\": {\"x\": 477, \"i\": 477}, \"ordered_globals\": [\"x\", \"i\"], \"stack_to_render\": [], \"heap\": {}, \"stdout\": \"\"}, {\"line\": 3, \"event\": \"step_line\", \"func_name\": \"<module>\", \"globals\": {\"x\": 478, \"i\": 477}, \"ordered_globals\": [\"x\", \"i\"], \"stack_to_render\": [], \"heap\": {}, \"stdout\": \"\"}, {\"line\": 4, \"event\": \"step_line\", \"func_name\": \"<module>\", \"globals\": {\"x\": 478, \"i\": 478}, \"ordered_globals\": [\"x\", \"i\"], \"stack_to_render\": [], \"heap\": {}, \"stdout\": \"\"}, {\"line\": 3, \"event\": \"step_line\", \"func_name\": \"<module>\", \"globals\": {\"x\": 479, \"i\": 478}, \"ordered_globals\": [\"x\", \"i\"], \"stack_to_render\": [], \"heap\": {}, \"stdout\": \"\"}, {\"line\": 4, \"event\": \"step_line\", \"func_name\": \"<module>\", \"globals\": {\"x\": 479, \"i\": 479}, \"ordered_globals\": [\"x\", \"i\"], \"stack_to_render\": [], \"heap\": {}, \"stdout\": \"\"}, {\"line\": 3, \"event\": \"step_line\", \"func_name\": \"<module>\", \"globals\": {\"x\": 480, \"i\": 479}, \"ordered_globals\": [\"x\", \"i\"], \"stack_to_render\": [], \"heap\": {}, \"stdout\": \"\"}, {\"line\": 4, \"event\": \"step_line\", \"func_name\": \"<module>\", \"globals\": {\"x\": 480, \"i\": 480}, \"ordered_globals\": [\"x\", \"i\"], \"stack_to_render\": [], \"heap\": {}, \"stdout\": \"\"}, {\"line\": 3, \"event\": \"step_line\", \"func_name\": \"<module>\", \"globals\": {\"x\": 481, \"i\": 480}, \"ordered_globals\": [\"x\", \"i\"], \"stack_to_render\": [], \"heap\": {}, \"stdout\": \"\"}, {\"line\": 4, \"event\": \"step_line\", \"func_name\": \"<module>\", \"globals\": {\"x\": 481, \"i\": 481}, \"ordered_globals\": [\"x\", \"i\"], \"stack_to_render\": [], \"heap\": {}, \"stdout\": \"\"}, {\"line\": 3, \"event\": \"step_line\", \"func_name\": \"<module>\", \"globals\": {\"x\": 482, \"i\": 481}, \"ordered_globals\": [\"x\", \"i\"], \"stack_to_render\": [], \"heap\": {}, \"stdout\": \"\"}, {\"line\": 4, \"event\": \"step_line\", \"func_name\": \"<module>\", \"globals\": {\"x\": 482, \"i\": 482}, \"ordered_globals\": [\"x\", \"i\"], \"stack_to_render\": [], \"heap\": {}, \"stdout\": \"\"}, {\"line\": 3, \"event\": \"step_line\", \"func_name\": \"<module>\", \"globals\": {\"x\": 483, \"i\": 482}, \"ordered_globals\": [\"x\", \"i\"], \"stack_to_render\": [], \"heap\": {}, \"stdout\": \"\"}, {\"line\": 4, \"event\": \"step_line\", \"func_name\": \"<module>\", \"globals\": {\"x\": 483, \"i\": 483}, \"ordered_globals\": [\"x\", \"i\"], \"stack_to_render\": [], \"heap\": {}, \"stdout\": \"\"}, {\"line\": 3, \"event\": \"step_line\", \"func_name\": \"<module>\", \"globals\": {\"x\": 484, \"i\": 483}, \"ordered_globals\": [\"x\", \"i\"], \"stack_to_render\": [], \"heap\": {}, \"stdout\": \"\"}, {\"line\": 4, \"event\": \"step_line\", \"func_name\": \"<module>\", \"globals\": {\"x\": 484, \"i\": 484}, \"ordered_globals\": [\"x\", \"i\"], \"stack_to_render\": [], \"heap\": {}, \"stdout\": \"\"}, {\"line\": 3, \"event\": \"step_line\", \"func_name\": \"<module>\", \"globals\": {\"x\": 485, \"i\": 484}, \"ordered_globals\": [\"x\", \"i\"], \"stack_to_render\": [], \"heap\": {}, \"stdout\": \"\"}, {\"line\": 4, \"event\": \"step_line\", \"func_name\": \"<module>\", \"globals\": {\"x\": 485, \"i\": 485}, \"ordered_globals\": [\"x\", \"i\"], \"stack_to_render\": [], \"heap\": {}, \"stdout\": \"\"}, {\"line\": 3, \"event\": \"step_line\", \"func_name\": \"<module>\", \"globals\": {\"x\": 486, \"i\": 485}, \"ordered_globals\": [\"x\", \"i\"], \"stack_to_render\": [], \"heap\": {}, \"stdout\": \"\"}, {\"line\": 4, \"event\": \"step_line\", \"func_name\": \"<module>\", \"globals\": {\"x\": 486, \"i\": 486}, \"ordered_globals\": [\"x\", \"i\"], \"stack_to_render\": [], \"heap\": {}, \"stdout\": \"\"}, {\"line\": 3, \"event\": \"step_line\", \"func_name\": \"<module>\", \"globals\": {\"x\": 487, \"i\": 486}, \"ordered_globals\": [\"x\", \"i\"], \"stack_to_render\": [], \"heap\": {}, \"stdout\": \"\"}, {\"line\": 4, \"event\": \"step_line\", \"func_name\": \"<module>\", \"globals\": {\"x\": 487, \"i\": 487}, \"ordered_globals\": [\"x\", \"i\"], \"stack_to_render\": [], \"heap\": {}, \"stdout\": \"\"}, {\"line\": 3, \"event\": \"step_line\", \"func_name\": \"<module>\", \"globals\": {\"x\": 488, \"i\": 487}, \"ordered_globals\": [\"x\", \"i\"], \"stack_to_render\": [], \"heap\": {}, \"stdout\": \"\"}, {\"line\": 4, \"event\": \"step_line\", \"func_name\": \"<module>\", \"globals\": {\"x\": 488, \"i\": 488}, \"ordered_globals\": [\"x\", \"i\"], \"stack_to_render\": [], \"heap\": {}, \"stdout\": \"\"}, {\"line\": 3, \"event\": \"step_line\", \"func_name\": \"<module>\", \"globals\": {\"x\": 489, \"i\": 488}, \"ordered_globals\": [\"x\", \"i\"], \"stack_to_render\": [], \"heap\": {}, \"stdout\": \"\"}, {\"line\": 4, \"event\": \"step_line\", \"func_name\": \"<module>\", \"globals\": {\"x\": 489, \"i\": 489}, \"ordered_globals\": [\"x\", \"i\"], \"stack_to_render\": [], \"heap\": {}, \"stdout\": \"\"}, {\"line\": 3, \"event\": \"step_line\", \"func_name\": \"<module>\", \"globals\": {\"x\": 490, \"i\": 489}, \"ordered_globals\": [\"x\", \"i\"], \"stack_to_render\": [], \"heap\": {}, \"stdout\": \"\"}, {\"line\": 4, \"event\": \"step_line\", \"func_name\": \"<module>\", \"globals\": {\"x\": 490, \"i\": 490}, \"ordered_globals\": [\"x\", \"i\"], \"stack_to_render\": [], \"heap\": {}, \"stdout\": \"\"}, {\"line\": 3, \"event\": \"step_line\", \"func_name\": \"<module>\", \"globals\": {\"x\": 491, \"i\": 490}, \"ordered_globals\": [\"x\", \"i\"], \"stack_to_render\": [], \"heap\": {}, \"stdout\": \"\"}, {\"line\": 4, \"event\": \"step_line\", \"func_name\": \"<module>\", \"globals\": {\"x\": 491, \"i\": 491}, \"ordered_globals\": [\"x\", \"i\"], \"stack_to_render\": [], \"heap\": {}, \"stdout\": \"\"}, {\"line\": 3, \"event\": \"step_line\", \"func_name\": \"<module>\", \"globals\": {\"x\": 492, \"i\": 491}, \"ordered_globals\": [\"x\", \"i\"], \"stack_to_render\": [], \"heap\": {}, \"stdout\": \"\"}, {\"line\": 4, \"event\": \"step_line\", \"func_name\": \"<module>\", \"globals\": {\"x\": 492, \"i\": 492}, \"ordered_globals\": [\"x\", \"i\"], \"stack_to_render\": [], \"heap\": {}, \"stdout\": \"\"}, {\"line\": 3, \"event\": \"step_line\", \"func_name\": \"<module>\", \"globals\": {\"x\": 493, \"i\": 492}, \"ordered_globals\": [\"x\", \"i\"], \"stack_to_render\": [], \"heap\": {}, \"stdout\": \"\"}, {\"line\": 4, \"event\": \"step_line\", \"func_name\": \"<module>\", \"globals\": {\"x\": 493, \"i\": 493}, \"ordered_globals\": [\"x\", \"i\"], \"stack_to_render\": [], \"heap\": {}, \"stdout\": \"\"}, {\"line\": 3, \"event\": \"step_line\", \"func_name\": \"<module>\", \"globals\": {\"x\": 494, \"i\": 493}, \"ordered_globals\": [\"x\", \"i\"], \"stack_to_render\": [], \"heap\": {}, \"stdout\": \"\"}, {\"line\": 4, \"event\": \"step_line\", \"func_name\": \"<module>\", \"globals\": {\"x\": 494, \"i\": 494}, \"ordered_globals\": [\"x\", \"i\"], \"stack_to_render\": [], \"heap\": {}, \"stdout\": \"\"}, {\"line\": 3, \"event\": \"step_line\", \"func_name\": \"<module>\", \"globals\": {\"x\": 495, \"i\": 494}, \"ordered_globals\": [\"x\", \"i\"], \"stack_to_render\": [], \"heap\": {}, \"stdout\": \"\"}, {\"line\": 4, \"event\": \"step_line\", \"func_name\": \"<module>\", \"globals\": {\"x\": 495, \"i\": 495}, \"ordered_globals\": [\"x\", \"i\"], \"stack_to_render\": [], \"heap\": {}, \"stdout\": \"\"}, {\"line\": 3, \"event\": \"step_line\", \"func_name\": \"<module>\", \"globals\": {\"x\": 496, \"i\": 495}, \"ordered_globals\": [\"x\", \"i\"], \"stack_to_render\": [], \"heap\": {}, \"stdout\": \"\"}, {\"line\": 4, \"event\": \"step_line\", \"func_name\": \"<module>\", \"globals\": {\"x\": 496, \"i\": 496}, \"ordered_globals\": [\"x\", \"i\"], \"stack_to_render\": [], \"heap\": {}, \"stdout\": \"\"}, {\"line\": 3, \"event\": \"step_line\", \"func_name\": \"<module>\", \"globals\": {\"x\": 497, \"i\": 496}, \"ordered_globals\": [\"x\", \"i\"], \"stack_to_render\": [], \"heap\": {}, \"stdout\": \"\"}, {\"line\": 4, \"event\": \"step_line\", \"func_name\": \"<module>\", \"globals\": {\"x\": 497, \"i\": 497}, \"ordered_globals\": [\"x\", \"i\"], \"stack_to_render\": [], \"heap\": {}, \"stdout\": \"\"}, {\"line\": 3, \"event\": \"step_line\", \"func_name\": \"<module>\", \"globals\": {\"x\": 498, \"i\": 497}, \"ordered_globals\": [\"x\", \"i\"], \"stack_to_render\": [], \"heap\": {}, \"stdout\": \"\"}, {\"line\": 4, \"event\": \"step_line\", \"func_name\": \"<module>\", \"globals\": {\"x\": 498, \"i\": 498}, \"ordered_globals\": [\"x\", \"i\"], \"stack_to_render\": [], \"heap\": {}, \"stdout\": \"\"}, {\"line\": 3, \"event\": \"step_line\", \"func_name\": \"<module>\", \"globals\": {\"x\": 499, \"i\": 498}, \"ordered_globals\": [\"x\", \"i\"], \"stack_to_render\": [], \"heap\": {}, \"stdout\": \"\"}, {\"event\": \"instruction_limit_reached\", \"exception_msg\": \"Stopped after running 1000 steps. Please shorten your code,\\nsince Python Tutor is not designed to handle long-running code.\"}]}\n",
       "        </script>\n",
       "        <div id=\"jm6522534b-687b-4716-83f8-deb262353ae1\" class=\"pytutorVisualizer\"> </div>\n",
       " \n",
       "        <style>\n",
       "        .vizLayoutTd {\n",
       "            background-color: #fff !important;\n",
       "        }\n",
       "                            \n",
       "        #pyStdout {\n",
       "            min-height:25px;\n",
       "        }\n",
       "\n",
       "        /* 'Edit this code' link, hiding because replaces browser tab !!!*/\n",
       "        #editCodeLinkDiv {\n",
       "            display:none;  \n",
       "        }\n",
       "        </style>   \n",
       "                            \n",
       "        <script>\n",
       "        (function(){\n",
       "\n",
       "            var trace = JSON.parse(document.getElementById('json-jm6522534b-687b-4716-83f8-deb262353ae1').innerHTML);                                        \n",
       "            // NOTE 1: id without #\n",
       "            // NOTE 2 - maybe there are more predictable ways, but this will work anyway\n",
       "            //        - id should be number\n",
       "            visualizerIdOverride = Math.trunc(Math.random() * 100000000000)\n",
       "            addVisualizerToPage(trace, 'jm6522534b-687b-4716-83f8-deb262353ae1',{'embeddedMode' : false,\n",
       "                                             'visualizerIdOverride':visualizerIdOverride})  \n",
       "            \n",
       "            \n",
       "            // set overflow for pytuts - need to do in python as css \n",
       "            // does not allow parent selection\n",
       "            var pytuts = $('.pytutorVisualizer')\n",
       "            pytuts.closest('div.output_html.rendered_html.output_result')\n",
       "                    .css('overflow-x', 'visible')\n",
       "        \n",
       "            //pytuts.closest('div.output_html.rendered_html.output_result')\n",
       "            //      .css('background-color','red')                \n",
       "            \n",
       "        })()\n",
       "        </script>\n",
       "                \n",
       "                "
      ],
      "text/plain": [
       "<IPython.core.display.HTML object>"
      ]
     },
     "execution_count": 7,
     "metadata": {},
     "output_type": "execute_result"
    }
   ],
   "source": [
    "x = 0\n",
    "for i in range(10000):\n",
    "    x += 1\n",
    "print(x)\n",
    "jupman.pytut()"
   ]
  },
  {
   "cell_type": "markdown",
   "metadata": {},
   "source": [
    "**jupman.pytut infinite loops**: Since execution occurs first in Jupyter and then in Python tutor, if you have an infinite loop no Python Tutor instance will be spawned: \n",
    "\n",
    "```python\n",
    "while True:\n",
    "    pass\n",
    "\n",
    "jupman.pytut()\n",
    "```"
   ]
  },
  {
   "cell_type": "markdown",
   "metadata": {},
   "source": [
    "**jupman.pytut() resizability:** long vertical and horizontal expansion should work:"
   ]
  },
  {
   "cell_type": "code",
   "execution_count": 8,
   "metadata": {},
   "outputs": [
    {
     "data": {
      "text/html": [
       "\n",
       "        <script src=\"_static/js/pytutor-embed.bundle.min.js\" type=\"application/javascript\"></script>\n",
       "     \n",
       "        <script id=\"json-jm7112c1a4-01ae-47ad-a6bf-f6c457171289\" type=\"application/json\" >\n",
       "            {\"code\": \" \\nx = {0:'a'}\\nfor i in range(1,30):\\n    x[i] = x[i-1]+str(i*10000)\", \"trace\": [{\"line\": 2, \"event\": \"step_line\", \"func_name\": \"<module>\", \"globals\": {}, \"ordered_globals\": [], \"stack_to_render\": [], \"heap\": {}, \"stdout\": \"\"}, {\"line\": 3, \"event\": \"step_line\", \"func_name\": \"<module>\", \"globals\": {\"x\": [\"REF\", 1]}, \"ordered_globals\": [\"x\"], \"stack_to_render\": [], \"heap\": {\"1\": [\"DICT\", [0, \"a\"]]}, \"stdout\": \"\"}, {\"line\": 4, \"event\": \"step_line\", \"func_name\": \"<module>\", \"globals\": {\"x\": [\"REF\", 1], \"i\": 1}, \"ordered_globals\": [\"x\", \"i\"], \"stack_to_render\": [], \"heap\": {\"1\": [\"DICT\", [0, \"a\"]]}, \"stdout\": \"\"}, {\"line\": 3, \"event\": \"step_line\", \"func_name\": \"<module>\", \"globals\": {\"x\": [\"REF\", 1], \"i\": 1}, \"ordered_globals\": [\"x\", \"i\"], \"stack_to_render\": [], \"heap\": {\"1\": [\"DICT\", [0, \"a\"], [1, \"a10000\"]]}, \"stdout\": \"\"}, {\"line\": 4, \"event\": \"step_line\", \"func_name\": \"<module>\", \"globals\": {\"x\": [\"REF\", 1], \"i\": 2}, \"ordered_globals\": [\"x\", \"i\"], \"stack_to_render\": [], \"heap\": {\"1\": [\"DICT\", [0, \"a\"], [1, \"a10000\"]]}, \"stdout\": \"\"}, {\"line\": 3, \"event\": \"step_line\", \"func_name\": \"<module>\", \"globals\": {\"x\": [\"REF\", 1], \"i\": 2}, \"ordered_globals\": [\"x\", \"i\"], \"stack_to_render\": [], \"heap\": {\"1\": [\"DICT\", [0, \"a\"], [1, \"a10000\"], [2, \"a1000020000\"]]}, \"stdout\": \"\"}, {\"line\": 4, \"event\": \"step_line\", \"func_name\": \"<module>\", \"globals\": {\"x\": [\"REF\", 1], \"i\": 3}, \"ordered_globals\": [\"x\", \"i\"], \"stack_to_render\": [], \"heap\": {\"1\": [\"DICT\", [0, \"a\"], [1, \"a10000\"], [2, \"a1000020000\"]]}, \"stdout\": \"\"}, {\"line\": 3, \"event\": \"step_line\", \"func_name\": \"<module>\", \"globals\": {\"x\": [\"REF\", 1], \"i\": 3}, \"ordered_globals\": [\"x\", \"i\"], \"stack_to_render\": [], \"heap\": {\"1\": [\"DICT\", [0, \"a\"], [1, \"a10000\"], [2, \"a1000020000\"], [3, \"a100002000030000\"]]}, \"stdout\": \"\"}, {\"line\": 4, \"event\": \"step_line\", \"func_name\": \"<module>\", \"globals\": {\"x\": [\"REF\", 1], \"i\": 4}, \"ordered_globals\": [\"x\", \"i\"], \"stack_to_render\": [], \"heap\": {\"1\": [\"DICT\", [0, \"a\"], [1, \"a10000\"], [2, \"a1000020000\"], [3, \"a100002000030000\"]]}, \"stdout\": \"\"}, {\"line\": 3, \"event\": \"step_line\", \"func_name\": \"<module>\", \"globals\": {\"x\": [\"REF\", 1], \"i\": 4}, \"ordered_globals\": [\"x\", \"i\"], \"stack_to_render\": [], \"heap\": {\"1\": [\"DICT\", [0, \"a\"], [1, \"a10000\"], [2, \"a1000020000\"], [3, \"a100002000030000\"], [4, \"a10000200003000040000\"]]}, \"stdout\": \"\"}, {\"line\": 4, \"event\": \"step_line\", \"func_name\": \"<module>\", \"globals\": {\"x\": [\"REF\", 1], \"i\": 5}, \"ordered_globals\": [\"x\", \"i\"], \"stack_to_render\": [], \"heap\": {\"1\": [\"DICT\", [0, \"a\"], [1, \"a10000\"], [2, \"a1000020000\"], [3, \"a100002000030000\"], [4, \"a10000200003000040000\"]]}, \"stdout\": \"\"}, {\"line\": 3, \"event\": \"step_line\", \"func_name\": \"<module>\", \"globals\": {\"x\": [\"REF\", 1], \"i\": 5}, \"ordered_globals\": [\"x\", \"i\"], \"stack_to_render\": [], \"heap\": {\"1\": [\"DICT\", [0, \"a\"], [1, \"a10000\"], [2, \"a1000020000\"], [3, \"a100002000030000\"], [4, \"a10000200003000040000\"], [5, \"a1000020000300004000050000\"]]}, \"stdout\": \"\"}, {\"line\": 4, \"event\": \"step_line\", \"func_name\": \"<module>\", \"globals\": {\"x\": [\"REF\", 1], \"i\": 6}, \"ordered_globals\": [\"x\", \"i\"], \"stack_to_render\": [], \"heap\": {\"1\": [\"DICT\", [0, \"a\"], [1, \"a10000\"], [2, \"a1000020000\"], [3, \"a100002000030000\"], [4, \"a10000200003000040000\"], [5, \"a1000020000300004000050000\"]]}, \"stdout\": \"\"}, {\"line\": 3, \"event\": \"step_line\", \"func_name\": \"<module>\", \"globals\": {\"x\": [\"REF\", 1], \"i\": 6}, \"ordered_globals\": [\"x\", \"i\"], \"stack_to_render\": [], \"heap\": {\"1\": [\"DICT\", [0, \"a\"], [1, \"a10000\"], [2, \"a1000020000\"], [3, \"a100002000030000\"], [4, \"a10000200003000040000\"], [5, \"a1000020000300004000050000\"], [6, \"a100002000030000400005000060000\"]]}, \"stdout\": \"\"}, {\"line\": 4, \"event\": \"step_line\", \"func_name\": \"<module>\", \"globals\": {\"x\": [\"REF\", 1], \"i\": 7}, \"ordered_globals\": [\"x\", \"i\"], \"stack_to_render\": [], \"heap\": {\"1\": [\"DICT\", [0, \"a\"], [1, \"a10000\"], [2, \"a1000020000\"], [3, \"a100002000030000\"], [4, \"a10000200003000040000\"], [5, \"a1000020000300004000050000\"], [6, \"a100002000030000400005000060000\"]]}, \"stdout\": \"\"}, {\"line\": 3, \"event\": \"step_line\", \"func_name\": \"<module>\", \"globals\": {\"x\": [\"REF\", 1], \"i\": 7}, \"ordered_globals\": [\"x\", \"i\"], \"stack_to_render\": [], \"heap\": {\"1\": [\"DICT\", [0, \"a\"], [1, \"a10000\"], [2, \"a1000020000\"], [3, \"a100002000030000\"], [4, \"a10000200003000040000\"], [5, \"a1000020000300004000050000\"], [6, \"a100002000030000400005000060000\"], [7, \"a10000200003000040000500006000070000\"]]}, \"stdout\": \"\"}, {\"line\": 4, \"event\": \"step_line\", \"func_name\": \"<module>\", \"globals\": {\"x\": [\"REF\", 1], \"i\": 8}, \"ordered_globals\": [\"x\", \"i\"], \"stack_to_render\": [], \"heap\": {\"1\": [\"DICT\", [0, \"a\"], [1, \"a10000\"], [2, \"a1000020000\"], [3, \"a100002000030000\"], [4, \"a10000200003000040000\"], [5, \"a1000020000300004000050000\"], [6, \"a100002000030000400005000060000\"], [7, \"a10000200003000040000500006000070000\"]]}, \"stdout\": \"\"}, {\"line\": 3, \"event\": \"step_line\", \"func_name\": \"<module>\", \"globals\": {\"x\": [\"REF\", 1], \"i\": 8}, \"ordered_globals\": [\"x\", \"i\"], \"stack_to_render\": [], \"heap\": {\"1\": [\"DICT\", [0, \"a\"], [1, \"a10000\"], [2, \"a1000020000\"], [3, \"a100002000030000\"], [4, \"a10000200003000040000\"], [5, \"a1000020000300004000050000\"], [6, \"a100002000030000400005000060000\"], [7, \"a10000200003000040000500006000070000\"], [8, \"a1000020000300004000050000600007000080000\"]]}, \"stdout\": \"\"}, {\"line\": 4, \"event\": \"step_line\", \"func_name\": \"<module>\", \"globals\": {\"x\": [\"REF\", 1], \"i\": 9}, \"ordered_globals\": [\"x\", \"i\"], \"stack_to_render\": [], \"heap\": {\"1\": [\"DICT\", [0, \"a\"], [1, \"a10000\"], [2, \"a1000020000\"], [3, \"a100002000030000\"], [4, \"a10000200003000040000\"], [5, \"a1000020000300004000050000\"], [6, \"a100002000030000400005000060000\"], [7, \"a10000200003000040000500006000070000\"], [8, \"a1000020000300004000050000600007000080000\"]]}, \"stdout\": \"\"}, {\"line\": 3, \"event\": \"step_line\", \"func_name\": \"<module>\", \"globals\": {\"x\": [\"REF\", 1], \"i\": 9}, \"ordered_globals\": [\"x\", \"i\"], \"stack_to_render\": [], \"heap\": {\"1\": [\"DICT\", [0, \"a\"], [1, \"a10000\"], [2, \"a1000020000\"], [3, \"a100002000030000\"], [4, \"a10000200003000040000\"], [5, \"a1000020000300004000050000\"], [6, \"a100002000030000400005000060000\"], [7, \"a10000200003000040000500006000070000\"], [8, \"a1000020000300004000050000600007000080000\"], [9, \"a100002000030000400005000060000700008000090000\"]]}, \"stdout\": \"\"}, {\"line\": 4, \"event\": \"step_line\", \"func_name\": \"<module>\", \"globals\": {\"x\": [\"REF\", 1], \"i\": 10}, \"ordered_globals\": [\"x\", \"i\"], \"stack_to_render\": [], \"heap\": {\"1\": [\"DICT\", [0, \"a\"], [1, \"a10000\"], [2, \"a1000020000\"], [3, \"a100002000030000\"], [4, \"a10000200003000040000\"], [5, \"a1000020000300004000050000\"], [6, \"a100002000030000400005000060000\"], [7, \"a10000200003000040000500006000070000\"], [8, \"a1000020000300004000050000600007000080000\"], [9, \"a100002000030000400005000060000700008000090000\"]]}, \"stdout\": \"\"}, {\"line\": 3, \"event\": \"step_line\", \"func_name\": \"<module>\", \"globals\": {\"x\": [\"REF\", 1], \"i\": 10}, \"ordered_globals\": [\"x\", \"i\"], \"stack_to_render\": [], \"heap\": {\"1\": [\"DICT\", [0, \"a\"], [1, \"a10000\"], [2, \"a1000020000\"], [3, \"a100002000030000\"], [4, \"a10000200003000040000\"], [5, \"a1000020000300004000050000\"], [6, \"a100002000030000400005000060000\"], [7, \"a10000200003000040000500006000070000\"], [8, \"a1000020000300004000050000600007000080000\"], [9, \"a100002000030000400005000060000700008000090000\"], [10, \"a100002000030000400005000060000700008000090000100000\"]]}, \"stdout\": \"\"}, {\"line\": 4, \"event\": \"step_line\", \"func_name\": \"<module>\", \"globals\": {\"x\": [\"REF\", 1], \"i\": 11}, \"ordered_globals\": [\"x\", \"i\"], \"stack_to_render\": [], \"heap\": {\"1\": [\"DICT\", [0, \"a\"], [1, \"a10000\"], [2, \"a1000020000\"], [3, \"a100002000030000\"], [4, \"a10000200003000040000\"], [5, \"a1000020000300004000050000\"], [6, \"a100002000030000400005000060000\"], [7, \"a10000200003000040000500006000070000\"], [8, \"a1000020000300004000050000600007000080000\"], [9, \"a100002000030000400005000060000700008000090000\"], [10, \"a100002000030000400005000060000700008000090000100000\"]]}, \"stdout\": \"\"}, {\"line\": 3, \"event\": \"step_line\", \"func_name\": \"<module>\", \"globals\": {\"x\": [\"REF\", 1], \"i\": 11}, \"ordered_globals\": [\"x\", \"i\"], \"stack_to_render\": [], \"heap\": {\"1\": [\"DICT\", [0, \"a\"], [1, \"a10000\"], [2, \"a1000020000\"], [3, \"a100002000030000\"], [4, \"a10000200003000040000\"], [5, \"a1000020000300004000050000\"], [6, \"a100002000030000400005000060000\"], [7, \"a10000200003000040000500006000070000\"], [8, \"a1000020000300004000050000600007000080000\"], [9, \"a100002000030000400005000060000700008000090000\"], [10, \"a100002000030000400005000060000700008000090000100000\"], [11, \"a100002000030000400005000060000700008000090000100000110000\"]]}, \"stdout\": \"\"}, {\"line\": 4, \"event\": \"step_line\", \"func_name\": \"<module>\", \"globals\": {\"x\": [\"REF\", 1], \"i\": 12}, \"ordered_globals\": [\"x\", \"i\"], \"stack_to_render\": [], \"heap\": {\"1\": [\"DICT\", [0, \"a\"], [1, \"a10000\"], [2, \"a1000020000\"], [3, \"a100002000030000\"], [4, \"a10000200003000040000\"], [5, \"a1000020000300004000050000\"], [6, \"a100002000030000400005000060000\"], [7, \"a10000200003000040000500006000070000\"], [8, \"a1000020000300004000050000600007000080000\"], [9, \"a100002000030000400005000060000700008000090000\"], [10, \"a100002000030000400005000060000700008000090000100000\"], [11, \"a100002000030000400005000060000700008000090000100000110000\"]]}, \"stdout\": \"\"}, {\"line\": 3, \"event\": \"step_line\", \"func_name\": \"<module>\", \"globals\": {\"x\": [\"REF\", 1], \"i\": 12}, \"ordered_globals\": [\"x\", \"i\"], \"stack_to_render\": [], \"heap\": {\"1\": [\"DICT\", [0, \"a\"], [1, \"a10000\"], [2, \"a1000020000\"], [3, \"a100002000030000\"], [4, \"a10000200003000040000\"], [5, \"a1000020000300004000050000\"], [6, \"a100002000030000400005000060000\"], [7, \"a10000200003000040000500006000070000\"], [8, \"a1000020000300004000050000600007000080000\"], [9, \"a100002000030000400005000060000700008000090000\"], [10, \"a100002000030000400005000060000700008000090000100000\"], [11, \"a100002000030000400005000060000700008000090000100000110000\"], [12, \"a100002000030000400005000060000700008000090000100000110000120000\"]]}, \"stdout\": \"\"}, {\"line\": 4, \"event\": \"step_line\", \"func_name\": \"<module>\", \"globals\": {\"x\": [\"REF\", 1], \"i\": 13}, \"ordered_globals\": [\"x\", \"i\"], \"stack_to_render\": [], \"heap\": {\"1\": [\"DICT\", [0, \"a\"], [1, \"a10000\"], [2, \"a1000020000\"], [3, \"a100002000030000\"], [4, \"a10000200003000040000\"], [5, \"a1000020000300004000050000\"], [6, \"a100002000030000400005000060000\"], [7, \"a10000200003000040000500006000070000\"], [8, \"a1000020000300004000050000600007000080000\"], [9, \"a100002000030000400005000060000700008000090000\"], [10, \"a100002000030000400005000060000700008000090000100000\"], [11, \"a100002000030000400005000060000700008000090000100000110000\"], [12, \"a100002000030000400005000060000700008000090000100000110000120000\"]]}, \"stdout\": \"\"}, {\"line\": 3, \"event\": \"step_line\", \"func_name\": \"<module>\", \"globals\": {\"x\": [\"REF\", 1], \"i\": 13}, \"ordered_globals\": [\"x\", \"i\"], \"stack_to_render\": [], \"heap\": {\"1\": [\"DICT\", [0, \"a\"], [1, \"a10000\"], [2, \"a1000020000\"], [3, \"a100002000030000\"], [4, \"a10000200003000040000\"], [5, \"a1000020000300004000050000\"], [6, \"a100002000030000400005000060000\"], [7, \"a10000200003000040000500006000070000\"], [8, \"a1000020000300004000050000600007000080000\"], [9, \"a100002000030000400005000060000700008000090000\"], [10, \"a100002000030000400005000060000700008000090000100000\"], [11, \"a100002000030000400005000060000700008000090000100000110000\"], [12, \"a100002000030000400005000060000700008000090000100000110000120000\"], [13, \"a100002000030000400005000060000700008000090000100000110000120000130000\"]]}, \"stdout\": \"\"}, {\"line\": 4, \"event\": \"step_line\", \"func_name\": \"<module>\", \"globals\": {\"x\": [\"REF\", 1], \"i\": 14}, \"ordered_globals\": [\"x\", \"i\"], \"stack_to_render\": [], \"heap\": {\"1\": [\"DICT\", [0, \"a\"], [1, \"a10000\"], [2, \"a1000020000\"], [3, \"a100002000030000\"], [4, \"a10000200003000040000\"], [5, \"a1000020000300004000050000\"], [6, \"a100002000030000400005000060000\"], [7, \"a10000200003000040000500006000070000\"], [8, \"a1000020000300004000050000600007000080000\"], [9, \"a100002000030000400005000060000700008000090000\"], [10, \"a100002000030000400005000060000700008000090000100000\"], [11, \"a100002000030000400005000060000700008000090000100000110000\"], [12, \"a100002000030000400005000060000700008000090000100000110000120000\"], [13, \"a100002000030000400005000060000700008000090000100000110000120000130000\"]]}, \"stdout\": \"\"}, {\"line\": 3, \"event\": \"step_line\", \"func_name\": \"<module>\", \"globals\": {\"x\": [\"REF\", 1], \"i\": 14}, \"ordered_globals\": [\"x\", \"i\"], \"stack_to_render\": [], \"heap\": {\"1\": [\"DICT\", [0, \"a\"], [1, \"a10000\"], [2, \"a1000020000\"], [3, \"a100002000030000\"], [4, \"a10000200003000040000\"], [5, \"a1000020000300004000050000\"], [6, \"a100002000030000400005000060000\"], [7, \"a10000200003000040000500006000070000\"], [8, \"a1000020000300004000050000600007000080000\"], [9, \"a100002000030000400005000060000700008000090000\"], [10, \"a100002000030000400005000060000700008000090000100000\"], [11, \"a100002000030000400005000060000700008000090000100000110000\"], [12, \"a100002000030000400005000060000700008000090000100000110000120000\"], [13, \"a100002000030000400005000060000700008000090000100000110000120000130000\"], [14, \"a100002000030000400005000060000700008000090000100000110000120000130000140000\"]]}, \"stdout\": \"\"}, {\"line\": 4, \"event\": \"step_line\", \"func_name\": \"<module>\", \"globals\": {\"x\": [\"REF\", 1], \"i\": 15}, \"ordered_globals\": [\"x\", \"i\"], \"stack_to_render\": [], \"heap\": {\"1\": [\"DICT\", [0, \"a\"], [1, \"a10000\"], [2, \"a1000020000\"], [3, \"a100002000030000\"], [4, \"a10000200003000040000\"], [5, \"a1000020000300004000050000\"], [6, \"a100002000030000400005000060000\"], [7, \"a10000200003000040000500006000070000\"], [8, \"a1000020000300004000050000600007000080000\"], [9, \"a100002000030000400005000060000700008000090000\"], [10, \"a100002000030000400005000060000700008000090000100000\"], [11, \"a100002000030000400005000060000700008000090000100000110000\"], [12, \"a100002000030000400005000060000700008000090000100000110000120000\"], [13, \"a100002000030000400005000060000700008000090000100000110000120000130000\"], [14, \"a100002000030000400005000060000700008000090000100000110000120000130000140000\"]]}, \"stdout\": \"\"}, {\"line\": 3, \"event\": \"step_line\", \"func_name\": \"<module>\", \"globals\": {\"x\": [\"REF\", 1], \"i\": 15}, \"ordered_globals\": [\"x\", \"i\"], \"stack_to_render\": [], \"heap\": {\"1\": [\"DICT\", [0, \"a\"], [1, \"a10000\"], [2, \"a1000020000\"], [3, \"a100002000030000\"], [4, \"a10000200003000040000\"], [5, \"a1000020000300004000050000\"], [6, \"a100002000030000400005000060000\"], [7, \"a10000200003000040000500006000070000\"], [8, \"a1000020000300004000050000600007000080000\"], [9, \"a100002000030000400005000060000700008000090000\"], [10, \"a100002000030000400005000060000700008000090000100000\"], [11, \"a100002000030000400005000060000700008000090000100000110000\"], [12, \"a100002000030000400005000060000700008000090000100000110000120000\"], [13, \"a100002000030000400005000060000700008000090000100000110000120000130000\"], [14, \"a100002000030000400005000060000700008000090000100000110000120000130000140000\"], [15, \"a100002000030000400005000060000700008000090000100000110000120000130000140000150000\"]]}, \"stdout\": \"\"}, {\"line\": 4, \"event\": \"step_line\", \"func_name\": \"<module>\", \"globals\": {\"x\": [\"REF\", 1], \"i\": 16}, \"ordered_globals\": [\"x\", \"i\"], \"stack_to_render\": [], \"heap\": {\"1\": [\"DICT\", [0, \"a\"], [1, \"a10000\"], [2, \"a1000020000\"], [3, \"a100002000030000\"], [4, \"a10000200003000040000\"], [5, \"a1000020000300004000050000\"], [6, \"a100002000030000400005000060000\"], [7, \"a10000200003000040000500006000070000\"], [8, \"a1000020000300004000050000600007000080000\"], [9, \"a100002000030000400005000060000700008000090000\"], [10, \"a100002000030000400005000060000700008000090000100000\"], [11, \"a100002000030000400005000060000700008000090000100000110000\"], [12, \"a100002000030000400005000060000700008000090000100000110000120000\"], [13, \"a100002000030000400005000060000700008000090000100000110000120000130000\"], [14, \"a100002000030000400005000060000700008000090000100000110000120000130000140000\"], [15, \"a100002000030000400005000060000700008000090000100000110000120000130000140000150000\"]]}, \"stdout\": \"\"}, {\"line\": 3, \"event\": \"step_line\", \"func_name\": \"<module>\", \"globals\": {\"x\": [\"REF\", 1], \"i\": 16}, \"ordered_globals\": [\"x\", \"i\"], \"stack_to_render\": [], \"heap\": {\"1\": [\"DICT\", [0, \"a\"], [1, \"a10000\"], [2, \"a1000020000\"], [3, \"a100002000030000\"], [4, \"a10000200003000040000\"], [5, \"a1000020000300004000050000\"], [6, \"a100002000030000400005000060000\"], [7, \"a10000200003000040000500006000070000\"], [8, \"a1000020000300004000050000600007000080000\"], [9, \"a100002000030000400005000060000700008000090000\"], [10, \"a100002000030000400005000060000700008000090000100000\"], [11, \"a100002000030000400005000060000700008000090000100000110000\"], [12, \"a100002000030000400005000060000700008000090000100000110000120000\"], [13, \"a100002000030000400005000060000700008000090000100000110000120000130000\"], [14, \"a100002000030000400005000060000700008000090000100000110000120000130000140000\"], [15, \"a100002000030000400005000060000700008000090000100000110000120000130000140000150000\"], [16, \"a100002000030000400005000060000700008000090000100000110000120000130000140000150000160000\"]]}, \"stdout\": \"\"}, {\"line\": 4, \"event\": \"step_line\", \"func_name\": \"<module>\", \"globals\": {\"x\": [\"REF\", 1], \"i\": 17}, \"ordered_globals\": [\"x\", \"i\"], \"stack_to_render\": [], \"heap\": {\"1\": [\"DICT\", [0, \"a\"], [1, \"a10000\"], [2, \"a1000020000\"], [3, \"a100002000030000\"], [4, \"a10000200003000040000\"], [5, \"a1000020000300004000050000\"], [6, \"a100002000030000400005000060000\"], [7, \"a10000200003000040000500006000070000\"], [8, \"a1000020000300004000050000600007000080000\"], [9, \"a100002000030000400005000060000700008000090000\"], [10, \"a100002000030000400005000060000700008000090000100000\"], [11, \"a100002000030000400005000060000700008000090000100000110000\"], [12, \"a100002000030000400005000060000700008000090000100000110000120000\"], [13, \"a100002000030000400005000060000700008000090000100000110000120000130000\"], [14, \"a100002000030000400005000060000700008000090000100000110000120000130000140000\"], [15, \"a100002000030000400005000060000700008000090000100000110000120000130000140000150000\"], [16, \"a100002000030000400005000060000700008000090000100000110000120000130000140000150000160000\"]]}, \"stdout\": \"\"}, {\"line\": 3, \"event\": \"step_line\", \"func_name\": \"<module>\", \"globals\": {\"x\": [\"REF\", 1], \"i\": 17}, \"ordered_globals\": [\"x\", \"i\"], \"stack_to_render\": [], \"heap\": {\"1\": [\"DICT\", [0, \"a\"], [1, \"a10000\"], [2, \"a1000020000\"], [3, \"a100002000030000\"], [4, \"a10000200003000040000\"], [5, \"a1000020000300004000050000\"], [6, \"a100002000030000400005000060000\"], [7, \"a10000200003000040000500006000070000\"], [8, \"a1000020000300004000050000600007000080000\"], [9, \"a100002000030000400005000060000700008000090000\"], [10, \"a100002000030000400005000060000700008000090000100000\"], [11, \"a100002000030000400005000060000700008000090000100000110000\"], [12, \"a100002000030000400005000060000700008000090000100000110000120000\"], [13, \"a100002000030000400005000060000700008000090000100000110000120000130000\"], [14, \"a100002000030000400005000060000700008000090000100000110000120000130000140000\"], [15, \"a100002000030000400005000060000700008000090000100000110000120000130000140000150000\"], [16, \"a100002000030000400005000060000700008000090000100000110000120000130000140000150000160000\"], [17, \"a100002000030000400005000060000700008000090000100000110000120000130000140000150000160000170000\"]]}, \"stdout\": \"\"}, {\"line\": 4, \"event\": \"step_line\", \"func_name\": \"<module>\", \"globals\": {\"x\": [\"REF\", 1], \"i\": 18}, \"ordered_globals\": [\"x\", \"i\"], \"stack_to_render\": [], \"heap\": {\"1\": [\"DICT\", [0, \"a\"], [1, \"a10000\"], [2, \"a1000020000\"], [3, \"a100002000030000\"], [4, \"a10000200003000040000\"], [5, \"a1000020000300004000050000\"], [6, \"a100002000030000400005000060000\"], [7, \"a10000200003000040000500006000070000\"], [8, \"a1000020000300004000050000600007000080000\"], [9, \"a100002000030000400005000060000700008000090000\"], [10, \"a100002000030000400005000060000700008000090000100000\"], [11, \"a100002000030000400005000060000700008000090000100000110000\"], [12, \"a100002000030000400005000060000700008000090000100000110000120000\"], [13, \"a100002000030000400005000060000700008000090000100000110000120000130000\"], [14, \"a100002000030000400005000060000700008000090000100000110000120000130000140000\"], [15, \"a100002000030000400005000060000700008000090000100000110000120000130000140000150000\"], [16, \"a100002000030000400005000060000700008000090000100000110000120000130000140000150000160000\"], [17, \"a100002000030000400005000060000700008000090000100000110000120000130000140000150000160000170000\"]]}, \"stdout\": \"\"}, {\"line\": 3, \"event\": \"step_line\", \"func_name\": \"<module>\", \"globals\": {\"x\": [\"REF\", 1], \"i\": 18}, \"ordered_globals\": [\"x\", \"i\"], \"stack_to_render\": [], \"heap\": {\"1\": [\"DICT\", [0, \"a\"], [1, \"a10000\"], [2, \"a1000020000\"], [3, \"a100002000030000\"], [4, \"a10000200003000040000\"], [5, \"a1000020000300004000050000\"], [6, \"a100002000030000400005000060000\"], [7, \"a10000200003000040000500006000070000\"], [8, \"a1000020000300004000050000600007000080000\"], [9, \"a100002000030000400005000060000700008000090000\"], [10, \"a100002000030000400005000060000700008000090000100000\"], [11, \"a100002000030000400005000060000700008000090000100000110000\"], [12, \"a100002000030000400005000060000700008000090000100000110000120000\"], [13, \"a100002000030000400005000060000700008000090000100000110000120000130000\"], [14, \"a100002000030000400005000060000700008000090000100000110000120000130000140000\"], [15, \"a100002000030000400005000060000700008000090000100000110000120000130000140000150000\"], [16, \"a100002000030000400005000060000700008000090000100000110000120000130000140000150000160000\"], [17, \"a100002000030000400005000060000700008000090000100000110000120000130000140000150000160000170000\"], [18, \"a100002000030000400005000060000700008000090000100000110000120000130000140000150000160000170000180000\"]]}, \"stdout\": \"\"}, {\"line\": 4, \"event\": \"step_line\", \"func_name\": \"<module>\", \"globals\": {\"x\": [\"REF\", 1], \"i\": 19}, \"ordered_globals\": [\"x\", \"i\"], \"stack_to_render\": [], \"heap\": {\"1\": [\"DICT\", [0, \"a\"], [1, \"a10000\"], [2, \"a1000020000\"], [3, \"a100002000030000\"], [4, \"a10000200003000040000\"], [5, \"a1000020000300004000050000\"], [6, \"a100002000030000400005000060000\"], [7, \"a10000200003000040000500006000070000\"], [8, \"a1000020000300004000050000600007000080000\"], [9, \"a100002000030000400005000060000700008000090000\"], [10, \"a100002000030000400005000060000700008000090000100000\"], [11, \"a100002000030000400005000060000700008000090000100000110000\"], [12, \"a100002000030000400005000060000700008000090000100000110000120000\"], [13, \"a100002000030000400005000060000700008000090000100000110000120000130000\"], [14, \"a100002000030000400005000060000700008000090000100000110000120000130000140000\"], [15, \"a100002000030000400005000060000700008000090000100000110000120000130000140000150000\"], [16, \"a100002000030000400005000060000700008000090000100000110000120000130000140000150000160000\"], [17, \"a100002000030000400005000060000700008000090000100000110000120000130000140000150000160000170000\"], [18, \"a100002000030000400005000060000700008000090000100000110000120000130000140000150000160000170000180000\"]]}, \"stdout\": \"\"}, {\"line\": 3, \"event\": \"step_line\", \"func_name\": \"<module>\", \"globals\": {\"x\": [\"REF\", 1], \"i\": 19}, \"ordered_globals\": [\"x\", \"i\"], \"stack_to_render\": [], \"heap\": {\"1\": [\"DICT\", [0, \"a\"], [1, \"a10000\"], [2, \"a1000020000\"], [3, \"a100002000030000\"], [4, \"a10000200003000040000\"], [5, \"a1000020000300004000050000\"], [6, \"a100002000030000400005000060000\"], [7, \"a10000200003000040000500006000070000\"], [8, \"a1000020000300004000050000600007000080000\"], [9, \"a100002000030000400005000060000700008000090000\"], [10, \"a100002000030000400005000060000700008000090000100000\"], [11, \"a100002000030000400005000060000700008000090000100000110000\"], [12, \"a100002000030000400005000060000700008000090000100000110000120000\"], [13, \"a100002000030000400005000060000700008000090000100000110000120000130000\"], [14, \"a100002000030000400005000060000700008000090000100000110000120000130000140000\"], [15, \"a100002000030000400005000060000700008000090000100000110000120000130000140000150000\"], [16, \"a100002000030000400005000060000700008000090000100000110000120000130000140000150000160000\"], [17, \"a100002000030000400005000060000700008000090000100000110000120000130000140000150000160000170000\"], [18, \"a100002000030000400005000060000700008000090000100000110000120000130000140000150000160000170000180000\"], [19, \"a100002000030000400005000060000700008000090000100000110000120000130000140000150000160000170000180000190000\"]]}, \"stdout\": \"\"}, {\"line\": 4, \"event\": \"step_line\", \"func_name\": \"<module>\", \"globals\": {\"x\": [\"REF\", 1], \"i\": 20}, \"ordered_globals\": [\"x\", \"i\"], \"stack_to_render\": [], \"heap\": {\"1\": [\"DICT\", [0, \"a\"], [1, \"a10000\"], [2, \"a1000020000\"], [3, \"a100002000030000\"], [4, \"a10000200003000040000\"], [5, \"a1000020000300004000050000\"], [6, \"a100002000030000400005000060000\"], [7, \"a10000200003000040000500006000070000\"], [8, \"a1000020000300004000050000600007000080000\"], [9, \"a100002000030000400005000060000700008000090000\"], [10, \"a100002000030000400005000060000700008000090000100000\"], [11, \"a100002000030000400005000060000700008000090000100000110000\"], [12, \"a100002000030000400005000060000700008000090000100000110000120000\"], [13, \"a100002000030000400005000060000700008000090000100000110000120000130000\"], [14, \"a100002000030000400005000060000700008000090000100000110000120000130000140000\"], [15, \"a100002000030000400005000060000700008000090000100000110000120000130000140000150000\"], [16, \"a100002000030000400005000060000700008000090000100000110000120000130000140000150000160000\"], [17, \"a100002000030000400005000060000700008000090000100000110000120000130000140000150000160000170000\"], [18, \"a100002000030000400005000060000700008000090000100000110000120000130000140000150000160000170000180000\"], [19, \"a100002000030000400005000060000700008000090000100000110000120000130000140000150000160000170000180000190000\"]]}, \"stdout\": \"\"}, {\"line\": 3, \"event\": \"step_line\", \"func_name\": \"<module>\", \"globals\": {\"x\": [\"REF\", 1], \"i\": 20}, \"ordered_globals\": [\"x\", \"i\"], \"stack_to_render\": [], \"heap\": {\"1\": [\"DICT\", [0, \"a\"], [1, \"a10000\"], [2, \"a1000020000\"], [3, \"a100002000030000\"], [4, \"a10000200003000040000\"], [5, \"a1000020000300004000050000\"], [6, \"a100002000030000400005000060000\"], [7, \"a10000200003000040000500006000070000\"], [8, \"a1000020000300004000050000600007000080000\"], [9, \"a100002000030000400005000060000700008000090000\"], [10, \"a100002000030000400005000060000700008000090000100000\"], [11, \"a100002000030000400005000060000700008000090000100000110000\"], [12, \"a100002000030000400005000060000700008000090000100000110000120000\"], [13, \"a100002000030000400005000060000700008000090000100000110000120000130000\"], [14, \"a100002000030000400005000060000700008000090000100000110000120000130000140000\"], [15, \"a100002000030000400005000060000700008000090000100000110000120000130000140000150000\"], [16, \"a100002000030000400005000060000700008000090000100000110000120000130000140000150000160000\"], [17, \"a100002000030000400005000060000700008000090000100000110000120000130000140000150000160000170000\"], [18, \"a100002000030000400005000060000700008000090000100000110000120000130000140000150000160000170000180000\"], [19, \"a100002000030000400005000060000700008000090000100000110000120000130000140000150000160000170000180000190000\"], [20, \"a100002000030000400005000060000700008000090000100000110000120000130000140000150000160000170000180000190000200000\"]]}, \"stdout\": \"\"}, {\"line\": 4, \"event\": \"step_line\", \"func_name\": \"<module>\", \"globals\": {\"x\": [\"REF\", 1], \"i\": 21}, \"ordered_globals\": [\"x\", \"i\"], \"stack_to_render\": [], \"heap\": {\"1\": [\"DICT\", [0, \"a\"], [1, \"a10000\"], [2, \"a1000020000\"], [3, \"a100002000030000\"], [4, \"a10000200003000040000\"], [5, \"a1000020000300004000050000\"], [6, \"a100002000030000400005000060000\"], [7, \"a10000200003000040000500006000070000\"], [8, \"a1000020000300004000050000600007000080000\"], [9, \"a100002000030000400005000060000700008000090000\"], [10, \"a100002000030000400005000060000700008000090000100000\"], [11, \"a100002000030000400005000060000700008000090000100000110000\"], [12, \"a100002000030000400005000060000700008000090000100000110000120000\"], [13, \"a100002000030000400005000060000700008000090000100000110000120000130000\"], [14, \"a100002000030000400005000060000700008000090000100000110000120000130000140000\"], [15, \"a100002000030000400005000060000700008000090000100000110000120000130000140000150000\"], [16, \"a100002000030000400005000060000700008000090000100000110000120000130000140000150000160000\"], [17, \"a100002000030000400005000060000700008000090000100000110000120000130000140000150000160000170000\"], [18, \"a100002000030000400005000060000700008000090000100000110000120000130000140000150000160000170000180000\"], [19, \"a100002000030000400005000060000700008000090000100000110000120000130000140000150000160000170000180000190000\"], [20, \"a100002000030000400005000060000700008000090000100000110000120000130000140000150000160000170000180000190000200000\"]]}, \"stdout\": \"\"}, {\"line\": 3, \"event\": \"step_line\", \"func_name\": \"<module>\", \"globals\": {\"x\": [\"REF\", 1], \"i\": 21}, \"ordered_globals\": [\"x\", \"i\"], \"stack_to_render\": [], \"heap\": {\"1\": [\"DICT\", [0, \"a\"], [1, \"a10000\"], [2, \"a1000020000\"], [3, \"a100002000030000\"], [4, \"a10000200003000040000\"], [5, \"a1000020000300004000050000\"], [6, \"a100002000030000400005000060000\"], [7, \"a10000200003000040000500006000070000\"], [8, \"a1000020000300004000050000600007000080000\"], [9, \"a100002000030000400005000060000700008000090000\"], [10, \"a100002000030000400005000060000700008000090000100000\"], [11, \"a100002000030000400005000060000700008000090000100000110000\"], [12, \"a100002000030000400005000060000700008000090000100000110000120000\"], [13, \"a100002000030000400005000060000700008000090000100000110000120000130000\"], [14, \"a100002000030000400005000060000700008000090000100000110000120000130000140000\"], [15, \"a100002000030000400005000060000700008000090000100000110000120000130000140000150000\"], [16, \"a100002000030000400005000060000700008000090000100000110000120000130000140000150000160000\"], [17, \"a100002000030000400005000060000700008000090000100000110000120000130000140000150000160000170000\"], [18, \"a100002000030000400005000060000700008000090000100000110000120000130000140000150000160000170000180000\"], [19, \"a100002000030000400005000060000700008000090000100000110000120000130000140000150000160000170000180000190000\"], [20, \"a100002000030000400005000060000700008000090000100000110000120000130000140000150000160000170000180000190000200000\"], [21, \"a100002000030000400005000060000700008000090000100000110000120000130000140000150000160000170000180000190000200000210000\"]]}, \"stdout\": \"\"}, {\"line\": 4, \"event\": \"step_line\", \"func_name\": \"<module>\", \"globals\": {\"x\": [\"REF\", 1], \"i\": 22}, \"ordered_globals\": [\"x\", \"i\"], \"stack_to_render\": [], \"heap\": {\"1\": [\"DICT\", [0, \"a\"], [1, \"a10000\"], [2, \"a1000020000\"], [3, \"a100002000030000\"], [4, \"a10000200003000040000\"], [5, \"a1000020000300004000050000\"], [6, \"a100002000030000400005000060000\"], [7, \"a10000200003000040000500006000070000\"], [8, \"a1000020000300004000050000600007000080000\"], [9, \"a100002000030000400005000060000700008000090000\"], [10, \"a100002000030000400005000060000700008000090000100000\"], [11, \"a100002000030000400005000060000700008000090000100000110000\"], [12, \"a100002000030000400005000060000700008000090000100000110000120000\"], [13, \"a100002000030000400005000060000700008000090000100000110000120000130000\"], [14, \"a100002000030000400005000060000700008000090000100000110000120000130000140000\"], [15, \"a100002000030000400005000060000700008000090000100000110000120000130000140000150000\"], [16, \"a100002000030000400005000060000700008000090000100000110000120000130000140000150000160000\"], [17, \"a100002000030000400005000060000700008000090000100000110000120000130000140000150000160000170000\"], [18, \"a100002000030000400005000060000700008000090000100000110000120000130000140000150000160000170000180000\"], [19, \"a100002000030000400005000060000700008000090000100000110000120000130000140000150000160000170000180000190000\"], [20, \"a100002000030000400005000060000700008000090000100000110000120000130000140000150000160000170000180000190000200000\"], [21, \"a100002000030000400005000060000700008000090000100000110000120000130000140000150000160000170000180000190000200000210000\"]]}, \"stdout\": \"\"}, {\"line\": 3, \"event\": \"step_line\", \"func_name\": \"<module>\", \"globals\": {\"x\": [\"REF\", 1], \"i\": 22}, \"ordered_globals\": [\"x\", \"i\"], \"stack_to_render\": [], \"heap\": {\"1\": [\"DICT\", [0, \"a\"], [1, \"a10000\"], [2, \"a1000020000\"], [3, \"a100002000030000\"], [4, \"a10000200003000040000\"], [5, \"a1000020000300004000050000\"], [6, \"a100002000030000400005000060000\"], [7, \"a10000200003000040000500006000070000\"], [8, \"a1000020000300004000050000600007000080000\"], [9, \"a100002000030000400005000060000700008000090000\"], [10, \"a100002000030000400005000060000700008000090000100000\"], [11, \"a100002000030000400005000060000700008000090000100000110000\"], [12, \"a100002000030000400005000060000700008000090000100000110000120000\"], [13, \"a100002000030000400005000060000700008000090000100000110000120000130000\"], [14, \"a100002000030000400005000060000700008000090000100000110000120000130000140000\"], [15, \"a100002000030000400005000060000700008000090000100000110000120000130000140000150000\"], [16, \"a100002000030000400005000060000700008000090000100000110000120000130000140000150000160000\"], [17, \"a100002000030000400005000060000700008000090000100000110000120000130000140000150000160000170000\"], [18, \"a100002000030000400005000060000700008000090000100000110000120000130000140000150000160000170000180000\"], [19, \"a100002000030000400005000060000700008000090000100000110000120000130000140000150000160000170000180000190000\"], [20, \"a100002000030000400005000060000700008000090000100000110000120000130000140000150000160000170000180000190000200000\"], [21, \"a100002000030000400005000060000700008000090000100000110000120000130000140000150000160000170000180000190000200000210000\"], [22, \"a100002000030000400005000060000700008000090000100000110000120000130000140000150000160000170000180000190000200000210000220000\"]]}, \"stdout\": \"\"}, {\"line\": 4, \"event\": \"step_line\", \"func_name\": \"<module>\", \"globals\": {\"x\": [\"REF\", 1], \"i\": 23}, \"ordered_globals\": [\"x\", \"i\"], \"stack_to_render\": [], \"heap\": {\"1\": [\"DICT\", [0, \"a\"], [1, \"a10000\"], [2, \"a1000020000\"], [3, \"a100002000030000\"], [4, \"a10000200003000040000\"], [5, \"a1000020000300004000050000\"], [6, \"a100002000030000400005000060000\"], [7, \"a10000200003000040000500006000070000\"], [8, \"a1000020000300004000050000600007000080000\"], [9, \"a100002000030000400005000060000700008000090000\"], [10, \"a100002000030000400005000060000700008000090000100000\"], [11, \"a100002000030000400005000060000700008000090000100000110000\"], [12, \"a100002000030000400005000060000700008000090000100000110000120000\"], [13, \"a100002000030000400005000060000700008000090000100000110000120000130000\"], [14, \"a100002000030000400005000060000700008000090000100000110000120000130000140000\"], [15, \"a100002000030000400005000060000700008000090000100000110000120000130000140000150000\"], [16, \"a100002000030000400005000060000700008000090000100000110000120000130000140000150000160000\"], [17, \"a100002000030000400005000060000700008000090000100000110000120000130000140000150000160000170000\"], [18, \"a100002000030000400005000060000700008000090000100000110000120000130000140000150000160000170000180000\"], [19, \"a100002000030000400005000060000700008000090000100000110000120000130000140000150000160000170000180000190000\"], [20, \"a100002000030000400005000060000700008000090000100000110000120000130000140000150000160000170000180000190000200000\"], [21, \"a100002000030000400005000060000700008000090000100000110000120000130000140000150000160000170000180000190000200000210000\"], [22, \"a100002000030000400005000060000700008000090000100000110000120000130000140000150000160000170000180000190000200000210000220000\"]]}, \"stdout\": \"\"}, {\"line\": 3, \"event\": \"step_line\", \"func_name\": \"<module>\", \"globals\": {\"x\": [\"REF\", 1], \"i\": 23}, \"ordered_globals\": [\"x\", \"i\"], \"stack_to_render\": [], \"heap\": {\"1\": [\"DICT\", [0, \"a\"], [1, \"a10000\"], [2, \"a1000020000\"], [3, \"a100002000030000\"], [4, \"a10000200003000040000\"], [5, \"a1000020000300004000050000\"], [6, \"a100002000030000400005000060000\"], [7, \"a10000200003000040000500006000070000\"], [8, \"a1000020000300004000050000600007000080000\"], [9, \"a100002000030000400005000060000700008000090000\"], [10, \"a100002000030000400005000060000700008000090000100000\"], [11, \"a100002000030000400005000060000700008000090000100000110000\"], [12, \"a100002000030000400005000060000700008000090000100000110000120000\"], [13, \"a100002000030000400005000060000700008000090000100000110000120000130000\"], [14, \"a100002000030000400005000060000700008000090000100000110000120000130000140000\"], [15, \"a100002000030000400005000060000700008000090000100000110000120000130000140000150000\"], [16, \"a100002000030000400005000060000700008000090000100000110000120000130000140000150000160000\"], [17, \"a100002000030000400005000060000700008000090000100000110000120000130000140000150000160000170000\"], [18, \"a100002000030000400005000060000700008000090000100000110000120000130000140000150000160000170000180000\"], [19, \"a100002000030000400005000060000700008000090000100000110000120000130000140000150000160000170000180000190000\"], [20, \"a100002000030000400005000060000700008000090000100000110000120000130000140000150000160000170000180000190000200000\"], [21, \"a100002000030000400005000060000700008000090000100000110000120000130000140000150000160000170000180000190000200000210000\"], [22, \"a100002000030000400005000060000700008000090000100000110000120000130000140000150000160000170000180000190000200000210000220000\"], [23, \"a100002000030000400005000060000700008000090000100000110000120000130000140000150000160000170000180000190000200000210000220000230000\"]]}, \"stdout\": \"\"}, {\"line\": 4, \"event\": \"step_line\", \"func_name\": \"<module>\", \"globals\": {\"x\": [\"REF\", 1], \"i\": 24}, \"ordered_globals\": [\"x\", \"i\"], \"stack_to_render\": [], \"heap\": {\"1\": [\"DICT\", [0, \"a\"], [1, \"a10000\"], [2, \"a1000020000\"], [3, \"a100002000030000\"], [4, \"a10000200003000040000\"], [5, \"a1000020000300004000050000\"], [6, \"a100002000030000400005000060000\"], [7, \"a10000200003000040000500006000070000\"], [8, \"a1000020000300004000050000600007000080000\"], [9, \"a100002000030000400005000060000700008000090000\"], [10, \"a100002000030000400005000060000700008000090000100000\"], [11, \"a100002000030000400005000060000700008000090000100000110000\"], [12, \"a100002000030000400005000060000700008000090000100000110000120000\"], [13, \"a100002000030000400005000060000700008000090000100000110000120000130000\"], [14, \"a100002000030000400005000060000700008000090000100000110000120000130000140000\"], [15, \"a100002000030000400005000060000700008000090000100000110000120000130000140000150000\"], [16, \"a100002000030000400005000060000700008000090000100000110000120000130000140000150000160000\"], [17, \"a100002000030000400005000060000700008000090000100000110000120000130000140000150000160000170000\"], [18, \"a100002000030000400005000060000700008000090000100000110000120000130000140000150000160000170000180000\"], [19, \"a100002000030000400005000060000700008000090000100000110000120000130000140000150000160000170000180000190000\"], [20, \"a100002000030000400005000060000700008000090000100000110000120000130000140000150000160000170000180000190000200000\"], [21, \"a100002000030000400005000060000700008000090000100000110000120000130000140000150000160000170000180000190000200000210000\"], [22, \"a100002000030000400005000060000700008000090000100000110000120000130000140000150000160000170000180000190000200000210000220000\"], [23, \"a100002000030000400005000060000700008000090000100000110000120000130000140000150000160000170000180000190000200000210000220000230000\"]]}, \"stdout\": \"\"}, {\"line\": 3, \"event\": \"step_line\", \"func_name\": \"<module>\", \"globals\": {\"x\": [\"REF\", 1], \"i\": 24}, \"ordered_globals\": [\"x\", \"i\"], \"stack_to_render\": [], \"heap\": {\"1\": [\"DICT\", [0, \"a\"], [1, \"a10000\"], [2, \"a1000020000\"], [3, \"a100002000030000\"], [4, \"a10000200003000040000\"], [5, \"a1000020000300004000050000\"], [6, \"a100002000030000400005000060000\"], [7, \"a10000200003000040000500006000070000\"], [8, \"a1000020000300004000050000600007000080000\"], [9, \"a100002000030000400005000060000700008000090000\"], [10, \"a100002000030000400005000060000700008000090000100000\"], [11, \"a100002000030000400005000060000700008000090000100000110000\"], [12, \"a100002000030000400005000060000700008000090000100000110000120000\"], [13, \"a100002000030000400005000060000700008000090000100000110000120000130000\"], [14, \"a100002000030000400005000060000700008000090000100000110000120000130000140000\"], [15, \"a100002000030000400005000060000700008000090000100000110000120000130000140000150000\"], [16, \"a100002000030000400005000060000700008000090000100000110000120000130000140000150000160000\"], [17, \"a100002000030000400005000060000700008000090000100000110000120000130000140000150000160000170000\"], [18, \"a100002000030000400005000060000700008000090000100000110000120000130000140000150000160000170000180000\"], [19, \"a100002000030000400005000060000700008000090000100000110000120000130000140000150000160000170000180000190000\"], [20, \"a100002000030000400005000060000700008000090000100000110000120000130000140000150000160000170000180000190000200000\"], [21, \"a100002000030000400005000060000700008000090000100000110000120000130000140000150000160000170000180000190000200000210000\"], [22, \"a100002000030000400005000060000700008000090000100000110000120000130000140000150000160000170000180000190000200000210000220000\"], [23, \"a100002000030000400005000060000700008000090000100000110000120000130000140000150000160000170000180000190000200000210000220000230000\"], [24, \"a100002000030000400005000060000700008000090000100000110000120000130000140000150000160000170000180000190000200000210000220000230000240000\"]]}, \"stdout\": \"\"}, {\"line\": 4, \"event\": \"step_line\", \"func_name\": \"<module>\", \"globals\": {\"x\": [\"REF\", 1], \"i\": 25}, \"ordered_globals\": [\"x\", \"i\"], \"stack_to_render\": [], \"heap\": {\"1\": [\"DICT\", [0, \"a\"], [1, \"a10000\"], [2, \"a1000020000\"], [3, \"a100002000030000\"], [4, \"a10000200003000040000\"], [5, \"a1000020000300004000050000\"], [6, \"a100002000030000400005000060000\"], [7, \"a10000200003000040000500006000070000\"], [8, \"a1000020000300004000050000600007000080000\"], [9, \"a100002000030000400005000060000700008000090000\"], [10, \"a100002000030000400005000060000700008000090000100000\"], [11, \"a100002000030000400005000060000700008000090000100000110000\"], [12, \"a100002000030000400005000060000700008000090000100000110000120000\"], [13, \"a100002000030000400005000060000700008000090000100000110000120000130000\"], [14, \"a100002000030000400005000060000700008000090000100000110000120000130000140000\"], [15, \"a100002000030000400005000060000700008000090000100000110000120000130000140000150000\"], [16, \"a100002000030000400005000060000700008000090000100000110000120000130000140000150000160000\"], [17, \"a100002000030000400005000060000700008000090000100000110000120000130000140000150000160000170000\"], [18, \"a100002000030000400005000060000700008000090000100000110000120000130000140000150000160000170000180000\"], [19, \"a100002000030000400005000060000700008000090000100000110000120000130000140000150000160000170000180000190000\"], [20, \"a100002000030000400005000060000700008000090000100000110000120000130000140000150000160000170000180000190000200000\"], [21, \"a100002000030000400005000060000700008000090000100000110000120000130000140000150000160000170000180000190000200000210000\"], [22, \"a100002000030000400005000060000700008000090000100000110000120000130000140000150000160000170000180000190000200000210000220000\"], [23, \"a100002000030000400005000060000700008000090000100000110000120000130000140000150000160000170000180000190000200000210000220000230000\"], [24, \"a100002000030000400005000060000700008000090000100000110000120000130000140000150000160000170000180000190000200000210000220000230000240000\"]]}, \"stdout\": \"\"}, {\"line\": 3, \"event\": \"step_line\", \"func_name\": \"<module>\", \"globals\": {\"x\": [\"REF\", 1], \"i\": 25}, \"ordered_globals\": [\"x\", \"i\"], \"stack_to_render\": [], \"heap\": {\"1\": [\"DICT\", [0, \"a\"], [1, \"a10000\"], [2, \"a1000020000\"], [3, \"a100002000030000\"], [4, \"a10000200003000040000\"], [5, \"a1000020000300004000050000\"], [6, \"a100002000030000400005000060000\"], [7, \"a10000200003000040000500006000070000\"], [8, \"a1000020000300004000050000600007000080000\"], [9, \"a100002000030000400005000060000700008000090000\"], [10, \"a100002000030000400005000060000700008000090000100000\"], [11, \"a100002000030000400005000060000700008000090000100000110000\"], [12, \"a100002000030000400005000060000700008000090000100000110000120000\"], [13, \"a100002000030000400005000060000700008000090000100000110000120000130000\"], [14, \"a100002000030000400005000060000700008000090000100000110000120000130000140000\"], [15, \"a100002000030000400005000060000700008000090000100000110000120000130000140000150000\"], [16, \"a100002000030000400005000060000700008000090000100000110000120000130000140000150000160000\"], [17, \"a100002000030000400005000060000700008000090000100000110000120000130000140000150000160000170000\"], [18, \"a100002000030000400005000060000700008000090000100000110000120000130000140000150000160000170000180000\"], [19, \"a100002000030000400005000060000700008000090000100000110000120000130000140000150000160000170000180000190000\"], [20, \"a100002000030000400005000060000700008000090000100000110000120000130000140000150000160000170000180000190000200000\"], [21, \"a100002000030000400005000060000700008000090000100000110000120000130000140000150000160000170000180000190000200000210000\"], [22, \"a100002000030000400005000060000700008000090000100000110000120000130000140000150000160000170000180000190000200000210000220000\"], [23, \"a100002000030000400005000060000700008000090000100000110000120000130000140000150000160000170000180000190000200000210000220000230000\"], [24, \"a100002000030000400005000060000700008000090000100000110000120000130000140000150000160000170000180000190000200000210000220000230000240000\"], [25, \"a100002000030000400005000060000700008000090000100000110000120000130000140000150000160000170000180000190000200000210000220000230000240000250000\"]]}, \"stdout\": \"\"}, {\"line\": 4, \"event\": \"step_line\", \"func_name\": \"<module>\", \"globals\": {\"x\": [\"REF\", 1], \"i\": 26}, \"ordered_globals\": [\"x\", \"i\"], \"stack_to_render\": [], \"heap\": {\"1\": [\"DICT\", [0, \"a\"], [1, \"a10000\"], [2, \"a1000020000\"], [3, \"a100002000030000\"], [4, \"a10000200003000040000\"], [5, \"a1000020000300004000050000\"], [6, \"a100002000030000400005000060000\"], [7, \"a10000200003000040000500006000070000\"], [8, \"a1000020000300004000050000600007000080000\"], [9, \"a100002000030000400005000060000700008000090000\"], [10, \"a100002000030000400005000060000700008000090000100000\"], [11, \"a100002000030000400005000060000700008000090000100000110000\"], [12, \"a100002000030000400005000060000700008000090000100000110000120000\"], [13, \"a100002000030000400005000060000700008000090000100000110000120000130000\"], [14, \"a100002000030000400005000060000700008000090000100000110000120000130000140000\"], [15, \"a100002000030000400005000060000700008000090000100000110000120000130000140000150000\"], [16, \"a100002000030000400005000060000700008000090000100000110000120000130000140000150000160000\"], [17, \"a100002000030000400005000060000700008000090000100000110000120000130000140000150000160000170000\"], [18, \"a100002000030000400005000060000700008000090000100000110000120000130000140000150000160000170000180000\"], [19, \"a100002000030000400005000060000700008000090000100000110000120000130000140000150000160000170000180000190000\"], [20, \"a100002000030000400005000060000700008000090000100000110000120000130000140000150000160000170000180000190000200000\"], [21, \"a100002000030000400005000060000700008000090000100000110000120000130000140000150000160000170000180000190000200000210000\"], [22, \"a100002000030000400005000060000700008000090000100000110000120000130000140000150000160000170000180000190000200000210000220000\"], [23, \"a100002000030000400005000060000700008000090000100000110000120000130000140000150000160000170000180000190000200000210000220000230000\"], [24, \"a100002000030000400005000060000700008000090000100000110000120000130000140000150000160000170000180000190000200000210000220000230000240000\"], [25, \"a100002000030000400005000060000700008000090000100000110000120000130000140000150000160000170000180000190000200000210000220000230000240000250000\"]]}, \"stdout\": \"\"}, {\"line\": 3, \"event\": \"step_line\", \"func_name\": \"<module>\", \"globals\": {\"x\": [\"REF\", 1], \"i\": 26}, \"ordered_globals\": [\"x\", \"i\"], \"stack_to_render\": [], \"heap\": {\"1\": [\"DICT\", [0, \"a\"], [1, \"a10000\"], [2, \"a1000020000\"], [3, \"a100002000030000\"], [4, \"a10000200003000040000\"], [5, \"a1000020000300004000050000\"], [6, \"a100002000030000400005000060000\"], [7, \"a10000200003000040000500006000070000\"], [8, \"a1000020000300004000050000600007000080000\"], [9, \"a100002000030000400005000060000700008000090000\"], [10, \"a100002000030000400005000060000700008000090000100000\"], [11, \"a100002000030000400005000060000700008000090000100000110000\"], [12, \"a100002000030000400005000060000700008000090000100000110000120000\"], [13, \"a100002000030000400005000060000700008000090000100000110000120000130000\"], [14, \"a100002000030000400005000060000700008000090000100000110000120000130000140000\"], [15, \"a100002000030000400005000060000700008000090000100000110000120000130000140000150000\"], [16, \"a100002000030000400005000060000700008000090000100000110000120000130000140000150000160000\"], [17, \"a100002000030000400005000060000700008000090000100000110000120000130000140000150000160000170000\"], [18, \"a100002000030000400005000060000700008000090000100000110000120000130000140000150000160000170000180000\"], [19, \"a100002000030000400005000060000700008000090000100000110000120000130000140000150000160000170000180000190000\"], [20, \"a100002000030000400005000060000700008000090000100000110000120000130000140000150000160000170000180000190000200000\"], [21, \"a100002000030000400005000060000700008000090000100000110000120000130000140000150000160000170000180000190000200000210000\"], [22, \"a100002000030000400005000060000700008000090000100000110000120000130000140000150000160000170000180000190000200000210000220000\"], [23, \"a100002000030000400005000060000700008000090000100000110000120000130000140000150000160000170000180000190000200000210000220000230000\"], [24, \"a100002000030000400005000060000700008000090000100000110000120000130000140000150000160000170000180000190000200000210000220000230000240000\"], [25, \"a100002000030000400005000060000700008000090000100000110000120000130000140000150000160000170000180000190000200000210000220000230000240000250000\"], [26, \"a100002000030000400005000060000700008000090000100000110000120000130000140000150000160000170000180000190000200000210000220000230000240000250000260000\"]]}, \"stdout\": \"\"}, {\"line\": 4, \"event\": \"step_line\", \"func_name\": \"<module>\", \"globals\": {\"x\": [\"REF\", 1], \"i\": 27}, \"ordered_globals\": [\"x\", \"i\"], \"stack_to_render\": [], \"heap\": {\"1\": [\"DICT\", [0, \"a\"], [1, \"a10000\"], [2, \"a1000020000\"], [3, \"a100002000030000\"], [4, \"a10000200003000040000\"], [5, \"a1000020000300004000050000\"], [6, \"a100002000030000400005000060000\"], [7, \"a10000200003000040000500006000070000\"], [8, \"a1000020000300004000050000600007000080000\"], [9, \"a100002000030000400005000060000700008000090000\"], [10, \"a100002000030000400005000060000700008000090000100000\"], [11, \"a100002000030000400005000060000700008000090000100000110000\"], [12, \"a100002000030000400005000060000700008000090000100000110000120000\"], [13, \"a100002000030000400005000060000700008000090000100000110000120000130000\"], [14, \"a100002000030000400005000060000700008000090000100000110000120000130000140000\"], [15, \"a100002000030000400005000060000700008000090000100000110000120000130000140000150000\"], [16, \"a100002000030000400005000060000700008000090000100000110000120000130000140000150000160000\"], [17, \"a100002000030000400005000060000700008000090000100000110000120000130000140000150000160000170000\"], [18, \"a100002000030000400005000060000700008000090000100000110000120000130000140000150000160000170000180000\"], [19, \"a100002000030000400005000060000700008000090000100000110000120000130000140000150000160000170000180000190000\"], [20, \"a100002000030000400005000060000700008000090000100000110000120000130000140000150000160000170000180000190000200000\"], [21, \"a100002000030000400005000060000700008000090000100000110000120000130000140000150000160000170000180000190000200000210000\"], [22, \"a100002000030000400005000060000700008000090000100000110000120000130000140000150000160000170000180000190000200000210000220000\"], [23, \"a100002000030000400005000060000700008000090000100000110000120000130000140000150000160000170000180000190000200000210000220000230000\"], [24, \"a100002000030000400005000060000700008000090000100000110000120000130000140000150000160000170000180000190000200000210000220000230000240000\"], [25, \"a100002000030000400005000060000700008000090000100000110000120000130000140000150000160000170000180000190000200000210000220000230000240000250000\"], [26, \"a100002000030000400005000060000700008000090000100000110000120000130000140000150000160000170000180000190000200000210000220000230000240000250000260000\"]]}, \"stdout\": \"\"}, {\"line\": 3, \"event\": \"step_line\", \"func_name\": \"<module>\", \"globals\": {\"x\": [\"REF\", 1], \"i\": 27}, \"ordered_globals\": [\"x\", \"i\"], \"stack_to_render\": [], \"heap\": {\"1\": [\"DICT\", [0, \"a\"], [1, \"a10000\"], [2, \"a1000020000\"], [3, \"a100002000030000\"], [4, \"a10000200003000040000\"], [5, \"a1000020000300004000050000\"], [6, \"a100002000030000400005000060000\"], [7, \"a10000200003000040000500006000070000\"], [8, \"a1000020000300004000050000600007000080000\"], [9, \"a100002000030000400005000060000700008000090000\"], [10, \"a100002000030000400005000060000700008000090000100000\"], [11, \"a100002000030000400005000060000700008000090000100000110000\"], [12, \"a100002000030000400005000060000700008000090000100000110000120000\"], [13, \"a100002000030000400005000060000700008000090000100000110000120000130000\"], [14, \"a100002000030000400005000060000700008000090000100000110000120000130000140000\"], [15, \"a100002000030000400005000060000700008000090000100000110000120000130000140000150000\"], [16, \"a100002000030000400005000060000700008000090000100000110000120000130000140000150000160000\"], [17, \"a100002000030000400005000060000700008000090000100000110000120000130000140000150000160000170000\"], [18, \"a100002000030000400005000060000700008000090000100000110000120000130000140000150000160000170000180000\"], [19, \"a100002000030000400005000060000700008000090000100000110000120000130000140000150000160000170000180000190000\"], [20, \"a100002000030000400005000060000700008000090000100000110000120000130000140000150000160000170000180000190000200000\"], [21, \"a100002000030000400005000060000700008000090000100000110000120000130000140000150000160000170000180000190000200000210000\"], [22, \"a100002000030000400005000060000700008000090000100000110000120000130000140000150000160000170000180000190000200000210000220000\"], [23, \"a100002000030000400005000060000700008000090000100000110000120000130000140000150000160000170000180000190000200000210000220000230000\"], [24, \"a100002000030000400005000060000700008000090000100000110000120000130000140000150000160000170000180000190000200000210000220000230000240000\"], [25, \"a100002000030000400005000060000700008000090000100000110000120000130000140000150000160000170000180000190000200000210000220000230000240000250000\"], [26, \"a100002000030000400005000060000700008000090000100000110000120000130000140000150000160000170000180000190000200000210000220000230000240000250000260000\"], [27, \"a100002000030000400005000060000700008000090000100000110000120000130000140000150000160000170000180000190000200000210000220000230000240000250000260000270000\"]]}, \"stdout\": \"\"}, {\"line\": 4, \"event\": \"step_line\", \"func_name\": \"<module>\", \"globals\": {\"x\": [\"REF\", 1], \"i\": 28}, \"ordered_globals\": [\"x\", \"i\"], \"stack_to_render\": [], \"heap\": {\"1\": [\"DICT\", [0, \"a\"], [1, \"a10000\"], [2, \"a1000020000\"], [3, \"a100002000030000\"], [4, \"a10000200003000040000\"], [5, \"a1000020000300004000050000\"], [6, \"a100002000030000400005000060000\"], [7, \"a10000200003000040000500006000070000\"], [8, \"a1000020000300004000050000600007000080000\"], [9, \"a100002000030000400005000060000700008000090000\"], [10, \"a100002000030000400005000060000700008000090000100000\"], [11, \"a100002000030000400005000060000700008000090000100000110000\"], [12, \"a100002000030000400005000060000700008000090000100000110000120000\"], [13, \"a100002000030000400005000060000700008000090000100000110000120000130000\"], [14, \"a100002000030000400005000060000700008000090000100000110000120000130000140000\"], [15, \"a100002000030000400005000060000700008000090000100000110000120000130000140000150000\"], [16, \"a100002000030000400005000060000700008000090000100000110000120000130000140000150000160000\"], [17, \"a100002000030000400005000060000700008000090000100000110000120000130000140000150000160000170000\"], [18, \"a100002000030000400005000060000700008000090000100000110000120000130000140000150000160000170000180000\"], [19, \"a100002000030000400005000060000700008000090000100000110000120000130000140000150000160000170000180000190000\"], [20, \"a100002000030000400005000060000700008000090000100000110000120000130000140000150000160000170000180000190000200000\"], [21, \"a100002000030000400005000060000700008000090000100000110000120000130000140000150000160000170000180000190000200000210000\"], [22, \"a100002000030000400005000060000700008000090000100000110000120000130000140000150000160000170000180000190000200000210000220000\"], [23, \"a100002000030000400005000060000700008000090000100000110000120000130000140000150000160000170000180000190000200000210000220000230000\"], [24, \"a100002000030000400005000060000700008000090000100000110000120000130000140000150000160000170000180000190000200000210000220000230000240000\"], [25, \"a100002000030000400005000060000700008000090000100000110000120000130000140000150000160000170000180000190000200000210000220000230000240000250000\"], [26, \"a100002000030000400005000060000700008000090000100000110000120000130000140000150000160000170000180000190000200000210000220000230000240000250000260000\"], [27, \"a100002000030000400005000060000700008000090000100000110000120000130000140000150000160000170000180000190000200000210000220000230000240000250000260000270000\"]]}, \"stdout\": \"\"}, {\"line\": 3, \"event\": \"step_line\", \"func_name\": \"<module>\", \"globals\": {\"x\": [\"REF\", 1], \"i\": 28}, \"ordered_globals\": [\"x\", \"i\"], \"stack_to_render\": [], \"heap\": {\"1\": [\"DICT\", [0, \"a\"], [1, \"a10000\"], [2, \"a1000020000\"], [3, \"a100002000030000\"], [4, \"a10000200003000040000\"], [5, \"a1000020000300004000050000\"], [6, \"a100002000030000400005000060000\"], [7, \"a10000200003000040000500006000070000\"], [8, \"a1000020000300004000050000600007000080000\"], [9, \"a100002000030000400005000060000700008000090000\"], [10, \"a100002000030000400005000060000700008000090000100000\"], [11, \"a100002000030000400005000060000700008000090000100000110000\"], [12, \"a100002000030000400005000060000700008000090000100000110000120000\"], [13, \"a100002000030000400005000060000700008000090000100000110000120000130000\"], [14, \"a100002000030000400005000060000700008000090000100000110000120000130000140000\"], [15, \"a100002000030000400005000060000700008000090000100000110000120000130000140000150000\"], [16, \"a100002000030000400005000060000700008000090000100000110000120000130000140000150000160000\"], [17, \"a100002000030000400005000060000700008000090000100000110000120000130000140000150000160000170000\"], [18, \"a100002000030000400005000060000700008000090000100000110000120000130000140000150000160000170000180000\"], [19, \"a100002000030000400005000060000700008000090000100000110000120000130000140000150000160000170000180000190000\"], [20, \"a100002000030000400005000060000700008000090000100000110000120000130000140000150000160000170000180000190000200000\"], [21, \"a100002000030000400005000060000700008000090000100000110000120000130000140000150000160000170000180000190000200000210000\"], [22, \"a100002000030000400005000060000700008000090000100000110000120000130000140000150000160000170000180000190000200000210000220000\"], [23, \"a100002000030000400005000060000700008000090000100000110000120000130000140000150000160000170000180000190000200000210000220000230000\"], [24, \"a100002000030000400005000060000700008000090000100000110000120000130000140000150000160000170000180000190000200000210000220000230000240000\"], [25, \"a100002000030000400005000060000700008000090000100000110000120000130000140000150000160000170000180000190000200000210000220000230000240000250000\"], [26, \"a100002000030000400005000060000700008000090000100000110000120000130000140000150000160000170000180000190000200000210000220000230000240000250000260000\"], [27, \"a100002000030000400005000060000700008000090000100000110000120000130000140000150000160000170000180000190000200000210000220000230000240000250000260000270000\"], [28, \"a100002000030000400005000060000700008000090000100000110000120000130000140000150000160000170000180000190000200000210000220000230000240000250000260000270000280000\"]]}, \"stdout\": \"\"}, {\"line\": 4, \"event\": \"step_line\", \"func_name\": \"<module>\", \"globals\": {\"x\": [\"REF\", 1], \"i\": 29}, \"ordered_globals\": [\"x\", \"i\"], \"stack_to_render\": [], \"heap\": {\"1\": [\"DICT\", [0, \"a\"], [1, \"a10000\"], [2, \"a1000020000\"], [3, \"a100002000030000\"], [4, \"a10000200003000040000\"], [5, \"a1000020000300004000050000\"], [6, \"a100002000030000400005000060000\"], [7, \"a10000200003000040000500006000070000\"], [8, \"a1000020000300004000050000600007000080000\"], [9, \"a100002000030000400005000060000700008000090000\"], [10, \"a100002000030000400005000060000700008000090000100000\"], [11, \"a100002000030000400005000060000700008000090000100000110000\"], [12, \"a100002000030000400005000060000700008000090000100000110000120000\"], [13, \"a100002000030000400005000060000700008000090000100000110000120000130000\"], [14, \"a100002000030000400005000060000700008000090000100000110000120000130000140000\"], [15, \"a100002000030000400005000060000700008000090000100000110000120000130000140000150000\"], [16, \"a100002000030000400005000060000700008000090000100000110000120000130000140000150000160000\"], [17, \"a100002000030000400005000060000700008000090000100000110000120000130000140000150000160000170000\"], [18, \"a100002000030000400005000060000700008000090000100000110000120000130000140000150000160000170000180000\"], [19, \"a100002000030000400005000060000700008000090000100000110000120000130000140000150000160000170000180000190000\"], [20, \"a100002000030000400005000060000700008000090000100000110000120000130000140000150000160000170000180000190000200000\"], [21, \"a100002000030000400005000060000700008000090000100000110000120000130000140000150000160000170000180000190000200000210000\"], [22, \"a100002000030000400005000060000700008000090000100000110000120000130000140000150000160000170000180000190000200000210000220000\"], [23, \"a100002000030000400005000060000700008000090000100000110000120000130000140000150000160000170000180000190000200000210000220000230000\"], [24, \"a100002000030000400005000060000700008000090000100000110000120000130000140000150000160000170000180000190000200000210000220000230000240000\"], [25, \"a100002000030000400005000060000700008000090000100000110000120000130000140000150000160000170000180000190000200000210000220000230000240000250000\"], [26, \"a100002000030000400005000060000700008000090000100000110000120000130000140000150000160000170000180000190000200000210000220000230000240000250000260000\"], [27, \"a100002000030000400005000060000700008000090000100000110000120000130000140000150000160000170000180000190000200000210000220000230000240000250000260000270000\"], [28, \"a100002000030000400005000060000700008000090000100000110000120000130000140000150000160000170000180000190000200000210000220000230000240000250000260000270000280000\"]]}, \"stdout\": \"\"}, {\"line\": 3, \"event\": \"step_line\", \"func_name\": \"<module>\", \"globals\": {\"x\": [\"REF\", 1], \"i\": 29}, \"ordered_globals\": [\"x\", \"i\"], \"stack_to_render\": [], \"heap\": {\"1\": [\"DICT\", [0, \"a\"], [1, \"a10000\"], [2, \"a1000020000\"], [3, \"a100002000030000\"], [4, \"a10000200003000040000\"], [5, \"a1000020000300004000050000\"], [6, \"a100002000030000400005000060000\"], [7, \"a10000200003000040000500006000070000\"], [8, \"a1000020000300004000050000600007000080000\"], [9, \"a100002000030000400005000060000700008000090000\"], [10, \"a100002000030000400005000060000700008000090000100000\"], [11, \"a100002000030000400005000060000700008000090000100000110000\"], [12, \"a100002000030000400005000060000700008000090000100000110000120000\"], [13, \"a100002000030000400005000060000700008000090000100000110000120000130000\"], [14, \"a100002000030000400005000060000700008000090000100000110000120000130000140000\"], [15, \"a100002000030000400005000060000700008000090000100000110000120000130000140000150000\"], [16, \"a100002000030000400005000060000700008000090000100000110000120000130000140000150000160000\"], [17, \"a100002000030000400005000060000700008000090000100000110000120000130000140000150000160000170000\"], [18, \"a100002000030000400005000060000700008000090000100000110000120000130000140000150000160000170000180000\"], [19, \"a100002000030000400005000060000700008000090000100000110000120000130000140000150000160000170000180000190000\"], [20, \"a100002000030000400005000060000700008000090000100000110000120000130000140000150000160000170000180000190000200000\"], [21, \"a100002000030000400005000060000700008000090000100000110000120000130000140000150000160000170000180000190000200000210000\"], [22, \"a100002000030000400005000060000700008000090000100000110000120000130000140000150000160000170000180000190000200000210000220000\"], [23, \"a100002000030000400005000060000700008000090000100000110000120000130000140000150000160000170000180000190000200000210000220000230000\"], [24, \"a100002000030000400005000060000700008000090000100000110000120000130000140000150000160000170000180000190000200000210000220000230000240000\"], [25, \"a100002000030000400005000060000700008000090000100000110000120000130000140000150000160000170000180000190000200000210000220000230000240000250000\"], [26, \"a100002000030000400005000060000700008000090000100000110000120000130000140000150000160000170000180000190000200000210000220000230000240000250000260000\"], [27, \"a100002000030000400005000060000700008000090000100000110000120000130000140000150000160000170000180000190000200000210000220000230000240000250000260000270000\"], [28, \"a100002000030000400005000060000700008000090000100000110000120000130000140000150000160000170000180000190000200000210000220000230000240000250000260000270000280000\"], [29, \"a100002000030000400005000060000700008000090000100000110000120000130000140000150000160000170000180000190000200000210000220000230000240000250000260000270000280000290000\"]]}, \"stdout\": \"\"}, {\"line\": 3, \"event\": \"return\", \"func_name\": \"<module>\", \"globals\": {\"x\": [\"REF\", 1], \"i\": 29}, \"ordered_globals\": [\"x\", \"i\"], \"stack_to_render\": [], \"heap\": {\"1\": [\"DICT\", [0, \"a\"], [1, \"a10000\"], [2, \"a1000020000\"], [3, \"a100002000030000\"], [4, \"a10000200003000040000\"], [5, \"a1000020000300004000050000\"], [6, \"a100002000030000400005000060000\"], [7, \"a10000200003000040000500006000070000\"], [8, \"a1000020000300004000050000600007000080000\"], [9, \"a100002000030000400005000060000700008000090000\"], [10, \"a100002000030000400005000060000700008000090000100000\"], [11, \"a100002000030000400005000060000700008000090000100000110000\"], [12, \"a100002000030000400005000060000700008000090000100000110000120000\"], [13, \"a100002000030000400005000060000700008000090000100000110000120000130000\"], [14, \"a100002000030000400005000060000700008000090000100000110000120000130000140000\"], [15, \"a100002000030000400005000060000700008000090000100000110000120000130000140000150000\"], [16, \"a100002000030000400005000060000700008000090000100000110000120000130000140000150000160000\"], [17, \"a100002000030000400005000060000700008000090000100000110000120000130000140000150000160000170000\"], [18, \"a100002000030000400005000060000700008000090000100000110000120000130000140000150000160000170000180000\"], [19, \"a100002000030000400005000060000700008000090000100000110000120000130000140000150000160000170000180000190000\"], [20, \"a100002000030000400005000060000700008000090000100000110000120000130000140000150000160000170000180000190000200000\"], [21, \"a100002000030000400005000060000700008000090000100000110000120000130000140000150000160000170000180000190000200000210000\"], [22, \"a100002000030000400005000060000700008000090000100000110000120000130000140000150000160000170000180000190000200000210000220000\"], [23, \"a100002000030000400005000060000700008000090000100000110000120000130000140000150000160000170000180000190000200000210000220000230000\"], [24, \"a100002000030000400005000060000700008000090000100000110000120000130000140000150000160000170000180000190000200000210000220000230000240000\"], [25, \"a100002000030000400005000060000700008000090000100000110000120000130000140000150000160000170000180000190000200000210000220000230000240000250000\"], [26, \"a100002000030000400005000060000700008000090000100000110000120000130000140000150000160000170000180000190000200000210000220000230000240000250000260000\"], [27, \"a100002000030000400005000060000700008000090000100000110000120000130000140000150000160000170000180000190000200000210000220000230000240000250000260000270000\"], [28, \"a100002000030000400005000060000700008000090000100000110000120000130000140000150000160000170000180000190000200000210000220000230000240000250000260000270000280000\"], [29, \"a100002000030000400005000060000700008000090000100000110000120000130000140000150000160000170000180000190000200000210000220000230000240000250000260000270000280000290000\"]]}, \"stdout\": \"\"}]}\n",
       "        </script>\n",
       "        <div id=\"jm7112c1a4-01ae-47ad-a6bf-f6c457171289\" class=\"pytutorVisualizer\"> </div>\n",
       " \n",
       "        <style>\n",
       "        .vizLayoutTd {\n",
       "            background-color: #fff !important;\n",
       "        }\n",
       "                            \n",
       "        #pyStdout {\n",
       "            min-height:25px;\n",
       "        }\n",
       "\n",
       "        /* 'Edit this code' link, hiding because replaces browser tab !!!*/\n",
       "        #editCodeLinkDiv {\n",
       "            display:none;  \n",
       "        }\n",
       "        </style>   \n",
       "                            \n",
       "        <script>\n",
       "        (function(){\n",
       "\n",
       "            var trace = JSON.parse(document.getElementById('json-jm7112c1a4-01ae-47ad-a6bf-f6c457171289').innerHTML);                                        \n",
       "            // NOTE 1: id without #\n",
       "            // NOTE 2 - maybe there are more predictable ways, but this will work anyway\n",
       "            //        - id should be number\n",
       "            visualizerIdOverride = Math.trunc(Math.random() * 100000000000)\n",
       "            addVisualizerToPage(trace, 'jm7112c1a4-01ae-47ad-a6bf-f6c457171289',{'embeddedMode' : false,\n",
       "                                             'visualizerIdOverride':visualizerIdOverride})  \n",
       "            \n",
       "            \n",
       "            // set overflow for pytuts - need to do in python as css \n",
       "            // does not allow parent selection\n",
       "            var pytuts = $('.pytutorVisualizer')\n",
       "            pytuts.closest('div.output_html.rendered_html.output_result')\n",
       "                    .css('overflow-x', 'visible')\n",
       "        \n",
       "            //pytuts.closest('div.output_html.rendered_html.output_result')\n",
       "            //      .css('background-color','red')                \n",
       "            \n",
       "        })()\n",
       "        </script>\n",
       "                \n",
       "                "
      ],
      "text/plain": [
       "<IPython.core.display.HTML object>"
      ]
     },
     "execution_count": 8,
     "metadata": {},
     "output_type": "execute_result"
    }
   ],
   "source": [
    "x = {0:'a'}\n",
    "for i in range(1,30):\n",
    "    x[i] = x[i-1]+str(i*10000)\n",
    "jupman.pytut()"
   ]
  },
  {
   "cell_type": "markdown",
   "metadata": {},
   "source": [
    "**jupman.pytut cross arrows**: With multiple visualizations, arrows shouldn't cross from one to the other even if underlying script is loaded multiple times (relates to visualizerIdOverride)"
   ]
  },
  {
   "cell_type": "code",
   "execution_count": 9,
   "metadata": {},
   "outputs": [
    {
     "data": {
      "text/html": [
       "\n",
       "        <script src=\"_static/js/pytutor-embed.bundle.min.js\" type=\"application/javascript\"></script>\n",
       "     \n",
       "        <script id=\"json-jm2931c3c3-b097-4e31-a8dd-41131a6c8b95\" type=\"application/json\" >\n",
       "            {\"code\": \" \\nx = [1,2,3]\", \"trace\": [{\"line\": 2, \"event\": \"step_line\", \"func_name\": \"<module>\", \"globals\": {}, \"ordered_globals\": [], \"stack_to_render\": [], \"heap\": {}, \"stdout\": \"\"}, {\"line\": 2, \"event\": \"return\", \"func_name\": \"<module>\", \"globals\": {\"x\": [\"REF\", 1]}, \"ordered_globals\": [\"x\"], \"stack_to_render\": [], \"heap\": {\"1\": [\"LIST\", 1, 2, 3]}, \"stdout\": \"\"}]}\n",
       "        </script>\n",
       "        <div id=\"jm2931c3c3-b097-4e31-a8dd-41131a6c8b95\" class=\"pytutorVisualizer\"> </div>\n",
       " \n",
       "        <style>\n",
       "        .vizLayoutTd {\n",
       "            background-color: #fff !important;\n",
       "        }\n",
       "                            \n",
       "        #pyStdout {\n",
       "            min-height:25px;\n",
       "        }\n",
       "\n",
       "        /* 'Edit this code' link, hiding because replaces browser tab !!!*/\n",
       "        #editCodeLinkDiv {\n",
       "            display:none;  \n",
       "        }\n",
       "        </style>   \n",
       "                            \n",
       "        <script>\n",
       "        (function(){\n",
       "\n",
       "            var trace = JSON.parse(document.getElementById('json-jm2931c3c3-b097-4e31-a8dd-41131a6c8b95').innerHTML);                                        \n",
       "            // NOTE 1: id without #\n",
       "            // NOTE 2 - maybe there are more predictable ways, but this will work anyway\n",
       "            //        - id should be number\n",
       "            visualizerIdOverride = Math.trunc(Math.random() * 100000000000)\n",
       "            addVisualizerToPage(trace, 'jm2931c3c3-b097-4e31-a8dd-41131a6c8b95',{'embeddedMode' : false,\n",
       "                                             'visualizerIdOverride':visualizerIdOverride})  \n",
       "            \n",
       "            \n",
       "            // set overflow for pytuts - need to do in python as css \n",
       "            // does not allow parent selection\n",
       "            var pytuts = $('.pytutorVisualizer')\n",
       "            pytuts.closest('div.output_html.rendered_html.output_result')\n",
       "                    .css('overflow-x', 'visible')\n",
       "        \n",
       "            //pytuts.closest('div.output_html.rendered_html.output_result')\n",
       "            //      .css('background-color','red')                \n",
       "            \n",
       "        })()\n",
       "        </script>\n",
       "                \n",
       "                "
      ],
      "text/plain": [
       "<IPython.core.display.HTML object>"
      ]
     },
     "execution_count": 9,
     "metadata": {},
     "output_type": "execute_result"
    }
   ],
   "source": [
    "x = [1,2,3]\n",
    "\n",
    "\n",
    "jupman.pytut()"
   ]
  },
  {
   "cell_type": "markdown",
   "metadata": {},
   "source": [
    "**jupman.pytut print output**: With only one line of print, Print output panel shouldn't be too short:"
   ]
  },
  {
   "cell_type": "code",
   "execution_count": 10,
   "metadata": {
    "scrolled": true
   },
   "outputs": [
    {
     "name": "stdout",
     "output_type": "stream",
     "text": [
      "hello\n"
     ]
    },
    {
     "data": {
      "text/html": [
       "\n",
       "        <script src=\"_static/js/pytutor-embed.bundle.min.js\" type=\"application/javascript\"></script>\n",
       "     \n",
       "        <script id=\"json-jm8dde812f-1c2e-49f2-a2fc-8c1649a75d87\" type=\"application/json\" >\n",
       "            {\"code\": \" \\nprint(\\\"hello\\\")\", \"trace\": [{\"line\": 2, \"event\": \"step_line\", \"func_name\": \"<module>\", \"globals\": {}, \"ordered_globals\": [], \"stack_to_render\": [], \"heap\": {}, \"stdout\": \"\"}, {\"line\": 2, \"event\": \"return\", \"func_name\": \"<module>\", \"globals\": {}, \"ordered_globals\": [], \"stack_to_render\": [], \"heap\": {}, \"stdout\": \"hello\\n\"}]}\n",
       "        </script>\n",
       "        <div id=\"jm8dde812f-1c2e-49f2-a2fc-8c1649a75d87\" class=\"pytutorVisualizer\"> </div>\n",
       " \n",
       "        <style>\n",
       "        .vizLayoutTd {\n",
       "            background-color: #fff !important;\n",
       "        }\n",
       "                            \n",
       "        #pyStdout {\n",
       "            min-height:25px;\n",
       "        }\n",
       "\n",
       "        /* 'Edit this code' link, hiding because replaces browser tab !!!*/\n",
       "        #editCodeLinkDiv {\n",
       "            display:none;  \n",
       "        }\n",
       "        </style>   \n",
       "                            \n",
       "        <script>\n",
       "        (function(){\n",
       "\n",
       "            var trace = JSON.parse(document.getElementById('json-jm8dde812f-1c2e-49f2-a2fc-8c1649a75d87').innerHTML);                                        \n",
       "            // NOTE 1: id without #\n",
       "            // NOTE 2 - maybe there are more predictable ways, but this will work anyway\n",
       "            //        - id should be number\n",
       "            visualizerIdOverride = Math.trunc(Math.random() * 100000000000)\n",
       "            addVisualizerToPage(trace, 'jm8dde812f-1c2e-49f2-a2fc-8c1649a75d87',{'embeddedMode' : false,\n",
       "                                             'visualizerIdOverride':visualizerIdOverride})  \n",
       "            \n",
       "            \n",
       "            // set overflow for pytuts - need to do in python as css \n",
       "            // does not allow parent selection\n",
       "            var pytuts = $('.pytutorVisualizer')\n",
       "            pytuts.closest('div.output_html.rendered_html.output_result')\n",
       "                    .css('overflow-x', 'visible')\n",
       "        \n",
       "            //pytuts.closest('div.output_html.rendered_html.output_result')\n",
       "            //      .css('background-color','red')                \n",
       "            \n",
       "        })()\n",
       "        </script>\n",
       "                \n",
       "                "
      ],
      "text/plain": [
       "<IPython.core.display.HTML object>"
      ]
     },
     "execution_count": 10,
     "metadata": {},
     "output_type": "execute_result"
    }
   ],
   "source": [
    "print(\"hello\")\n",
    "\n",
    "jupman.pytut()"
   ]
  },
  {
   "cell_type": "code",
   "execution_count": 11,
   "metadata": {},
   "outputs": [
    {
     "data": {
      "text/html": [
       "\n",
       "        <script src=\"_static/js/pytutor-embed.bundle.min.js\" type=\"application/javascript\"></script>\n",
       "     \n",
       "        <script id=\"json-jm2fffb38f-fd7d-4b3e-9b3f-57c13cff7b24\" type=\"application/json\" >\n",
       "            {\"code\": \" \\ny = [1,2,3,4]\", \"trace\": [{\"line\": 2, \"event\": \"step_line\", \"func_name\": \"<module>\", \"globals\": {}, \"ordered_globals\": [], \"stack_to_render\": [], \"heap\": {}, \"stdout\": \"\"}, {\"line\": 2, \"event\": \"return\", \"func_name\": \"<module>\", \"globals\": {\"y\": [\"REF\", 1]}, \"ordered_globals\": [\"y\"], \"stack_to_render\": [], \"heap\": {\"1\": [\"LIST\", 1, 2, 3, 4]}, \"stdout\": \"\"}]}\n",
       "        </script>\n",
       "        <div id=\"jm2fffb38f-fd7d-4b3e-9b3f-57c13cff7b24\" class=\"pytutorVisualizer\"> </div>\n",
       " \n",
       "        <style>\n",
       "        .vizLayoutTd {\n",
       "            background-color: #fff !important;\n",
       "        }\n",
       "                            \n",
       "        #pyStdout {\n",
       "            min-height:25px;\n",
       "        }\n",
       "\n",
       "        /* 'Edit this code' link, hiding because replaces browser tab !!!*/\n",
       "        #editCodeLinkDiv {\n",
       "            display:none;  \n",
       "        }\n",
       "        </style>   \n",
       "                            \n",
       "        <script>\n",
       "        (function(){\n",
       "\n",
       "            var trace = JSON.parse(document.getElementById('json-jm2fffb38f-fd7d-4b3e-9b3f-57c13cff7b24').innerHTML);                                        \n",
       "            // NOTE 1: id without #\n",
       "            // NOTE 2 - maybe there are more predictable ways, but this will work anyway\n",
       "            //        - id should be number\n",
       "            visualizerIdOverride = Math.trunc(Math.random() * 100000000000)\n",
       "            addVisualizerToPage(trace, 'jm2fffb38f-fd7d-4b3e-9b3f-57c13cff7b24',{'embeddedMode' : false,\n",
       "                                             'visualizerIdOverride':visualizerIdOverride})  \n",
       "            \n",
       "            \n",
       "            // set overflow for pytuts - need to do in python as css \n",
       "            // does not allow parent selection\n",
       "            var pytuts = $('.pytutorVisualizer')\n",
       "            pytuts.closest('div.output_html.rendered_html.output_result')\n",
       "                    .css('overflow-x', 'visible')\n",
       "        \n",
       "            //pytuts.closest('div.output_html.rendered_html.output_result')\n",
       "            //      .css('background-color','red')                \n",
       "            \n",
       "        })()\n",
       "        </script>\n",
       "                \n",
       "                "
      ],
      "text/plain": [
       "<IPython.core.display.HTML object>"
      ]
     },
     "execution_count": 11,
     "metadata": {},
     "output_type": "execute_result"
    }
   ],
   "source": [
    "y = [1,2,3,4]\n",
    "\n",
    "\n",
    "jupman.pytut()"
   ]
  },
  {
   "cell_type": "markdown",
   "metadata": {},
   "source": [
    "### HTML magics\n",
    "\n",
    "Another option is to directly paste Python Tutor iframe in the cells, and use Jupyter `%%HTML` magics command. \n",
    "\n",
    "HTML should be available both in notebook and website - of course, requires an internet connection.\n",
    "\n",
    "Beware: you need the HTTP**S** !"
   ]
  },
  {
   "cell_type": "code",
   "execution_count": 12,
   "metadata": {
    "raw_mimetype": "text/html"
   },
   "outputs": [
    {
     "data": {
      "text/html": [
       "\n",
       "<iframe width=\"800\" height=\"300\" frameborder=\"0\"\n",
       "        src=\"https://pythontutor.com/iframe-embed.html#code=x+%3D+5%0Ay+%3D+10%0Az+%3D+x+%2B+y&cumulative=false&py=2&curInstr=3\">\n",
       "</iframe>\n"
      ],
      "text/plain": [
       "<IPython.core.display.HTML object>"
      ]
     },
     "metadata": {},
     "output_type": "display_data"
    }
   ],
   "source": [
    "%%HTML\n",
    "\n",
    "<iframe width=\"800\" height=\"300\" frameborder=\"0\"\n",
    "        src=\"https://pythontutor.com/iframe-embed.html#code=x+%3D+5%0Ay+%3D+10%0Az+%3D+x+%2B+y&cumulative=false&py=2&curInstr=3\">\n",
    "</iframe>"
   ]
  },
  {
   "cell_type": "markdown",
   "metadata": {},
   "source": [
    "### NBTutor"
   ]
  },
  {
   "cell_type": "markdown",
   "metadata": {},
   "source": [
    "To show Python Tutor in notebooks, there is already a jupyter extension called [NBTutor](https://github.com/lgpage/nbtutor) , afterwards you can use magic `%%nbtutor` to show the interpreter.\n",
    "\n",
    "Unfortunately, it doesn't show in the generated HTML :-/\n"
   ]
  },
  {
   "cell_type": "code",
   "execution_count": 13,
   "metadata": {},
   "outputs": [
    {
     "ename": "ModuleNotFoundError",
     "evalue": "No module named 'nbtutor'",
     "output_type": "error",
     "traceback": [
      "\u001b[0;31m---------------------------------------------------------------------------\u001b[0m",
      "\u001b[0;31mModuleNotFoundError\u001b[0m                       Traceback (most recent call last)",
      "\u001b[0;32m/tmp/ipykernel_24017/62484288.py\u001b[0m in \u001b[0;36m<module>\u001b[0;34m\u001b[0m\n\u001b[0;32m----> 1\u001b[0;31m \u001b[0mget_ipython\u001b[0m\u001b[0;34m(\u001b[0m\u001b[0;34m)\u001b[0m\u001b[0;34m.\u001b[0m\u001b[0mrun_line_magic\u001b[0m\u001b[0;34m(\u001b[0m\u001b[0;34m'reload_ext'\u001b[0m\u001b[0;34m,\u001b[0m \u001b[0;34m'nbtutor'\u001b[0m\u001b[0;34m)\u001b[0m\u001b[0;34m\u001b[0m\u001b[0;34m\u001b[0m\u001b[0m\n\u001b[0m",
      "\u001b[0;32m~/.local/lib/python3.7/site-packages/IPython/core/interactiveshell.py\u001b[0m in \u001b[0;36mrun_line_magic\u001b[0;34m(self, magic_name, line, _stack_depth)\u001b[0m\n\u001b[1;32m   2346\u001b[0m                 \u001b[0mkwargs\u001b[0m\u001b[0;34m[\u001b[0m\u001b[0;34m'local_ns'\u001b[0m\u001b[0;34m]\u001b[0m \u001b[0;34m=\u001b[0m \u001b[0mself\u001b[0m\u001b[0;34m.\u001b[0m\u001b[0mget_local_scope\u001b[0m\u001b[0;34m(\u001b[0m\u001b[0mstack_depth\u001b[0m\u001b[0;34m)\u001b[0m\u001b[0;34m\u001b[0m\u001b[0;34m\u001b[0m\u001b[0m\n\u001b[1;32m   2347\u001b[0m             \u001b[0;32mwith\u001b[0m \u001b[0mself\u001b[0m\u001b[0;34m.\u001b[0m\u001b[0mbuiltin_trap\u001b[0m\u001b[0;34m:\u001b[0m\u001b[0;34m\u001b[0m\u001b[0;34m\u001b[0m\u001b[0m\n\u001b[0;32m-> 2348\u001b[0;31m                 \u001b[0mresult\u001b[0m \u001b[0;34m=\u001b[0m \u001b[0mfn\u001b[0m\u001b[0;34m(\u001b[0m\u001b[0;34m*\u001b[0m\u001b[0margs\u001b[0m\u001b[0;34m,\u001b[0m \u001b[0;34m**\u001b[0m\u001b[0mkwargs\u001b[0m\u001b[0;34m)\u001b[0m\u001b[0;34m\u001b[0m\u001b[0;34m\u001b[0m\u001b[0m\n\u001b[0m\u001b[1;32m   2349\u001b[0m             \u001b[0;32mreturn\u001b[0m \u001b[0mresult\u001b[0m\u001b[0;34m\u001b[0m\u001b[0;34m\u001b[0m\u001b[0m\n\u001b[1;32m   2350\u001b[0m \u001b[0;34m\u001b[0m\u001b[0m\n",
      "\u001b[0;32m~/.local/lib/python3.7/site-packages/decorator.py\u001b[0m in \u001b[0;36mfun\u001b[0;34m(*args, **kw)\u001b[0m\n\u001b[1;32m    230\u001b[0m             \u001b[0;32mif\u001b[0m \u001b[0;32mnot\u001b[0m \u001b[0mkwsyntax\u001b[0m\u001b[0;34m:\u001b[0m\u001b[0;34m\u001b[0m\u001b[0;34m\u001b[0m\u001b[0m\n\u001b[1;32m    231\u001b[0m                 \u001b[0margs\u001b[0m\u001b[0;34m,\u001b[0m \u001b[0mkw\u001b[0m \u001b[0;34m=\u001b[0m \u001b[0mfix\u001b[0m\u001b[0;34m(\u001b[0m\u001b[0margs\u001b[0m\u001b[0;34m,\u001b[0m \u001b[0mkw\u001b[0m\u001b[0;34m,\u001b[0m \u001b[0msig\u001b[0m\u001b[0;34m)\u001b[0m\u001b[0;34m\u001b[0m\u001b[0;34m\u001b[0m\u001b[0m\n\u001b[0;32m--> 232\u001b[0;31m             \u001b[0;32mreturn\u001b[0m \u001b[0mcaller\u001b[0m\u001b[0;34m(\u001b[0m\u001b[0mfunc\u001b[0m\u001b[0;34m,\u001b[0m \u001b[0;34m*\u001b[0m\u001b[0;34m(\u001b[0m\u001b[0mextras\u001b[0m \u001b[0;34m+\u001b[0m \u001b[0margs\u001b[0m\u001b[0;34m)\u001b[0m\u001b[0;34m,\u001b[0m \u001b[0;34m**\u001b[0m\u001b[0mkw\u001b[0m\u001b[0;34m)\u001b[0m\u001b[0;34m\u001b[0m\u001b[0;34m\u001b[0m\u001b[0m\n\u001b[0m\u001b[1;32m    233\u001b[0m     \u001b[0mfun\u001b[0m\u001b[0;34m.\u001b[0m\u001b[0m__name__\u001b[0m \u001b[0;34m=\u001b[0m \u001b[0mfunc\u001b[0m\u001b[0;34m.\u001b[0m\u001b[0m__name__\u001b[0m\u001b[0;34m\u001b[0m\u001b[0;34m\u001b[0m\u001b[0m\n\u001b[1;32m    234\u001b[0m     \u001b[0mfun\u001b[0m\u001b[0;34m.\u001b[0m\u001b[0m__doc__\u001b[0m \u001b[0;34m=\u001b[0m \u001b[0mfunc\u001b[0m\u001b[0;34m.\u001b[0m\u001b[0m__doc__\u001b[0m\u001b[0;34m\u001b[0m\u001b[0;34m\u001b[0m\u001b[0m\n",
      "\u001b[0;32m~/.local/lib/python3.7/site-packages/IPython/core/magic.py\u001b[0m in \u001b[0;36m<lambda>\u001b[0;34m(f, *a, **k)\u001b[0m\n\u001b[1;32m    185\u001b[0m     \u001b[0;31m# but it's overkill for just that one bit of state.\u001b[0m\u001b[0;34m\u001b[0m\u001b[0;34m\u001b[0m\u001b[0;34m\u001b[0m\u001b[0m\n\u001b[1;32m    186\u001b[0m     \u001b[0;32mdef\u001b[0m \u001b[0mmagic_deco\u001b[0m\u001b[0;34m(\u001b[0m\u001b[0marg\u001b[0m\u001b[0;34m)\u001b[0m\u001b[0;34m:\u001b[0m\u001b[0;34m\u001b[0m\u001b[0;34m\u001b[0m\u001b[0m\n\u001b[0;32m--> 187\u001b[0;31m         \u001b[0mcall\u001b[0m \u001b[0;34m=\u001b[0m \u001b[0;32mlambda\u001b[0m \u001b[0mf\u001b[0m\u001b[0;34m,\u001b[0m \u001b[0;34m*\u001b[0m\u001b[0ma\u001b[0m\u001b[0;34m,\u001b[0m \u001b[0;34m**\u001b[0m\u001b[0mk\u001b[0m\u001b[0;34m:\u001b[0m \u001b[0mf\u001b[0m\u001b[0;34m(\u001b[0m\u001b[0;34m*\u001b[0m\u001b[0ma\u001b[0m\u001b[0;34m,\u001b[0m \u001b[0;34m**\u001b[0m\u001b[0mk\u001b[0m\u001b[0;34m)\u001b[0m\u001b[0;34m\u001b[0m\u001b[0;34m\u001b[0m\u001b[0m\n\u001b[0m\u001b[1;32m    188\u001b[0m \u001b[0;34m\u001b[0m\u001b[0m\n\u001b[1;32m    189\u001b[0m         \u001b[0;32mif\u001b[0m \u001b[0mcallable\u001b[0m\u001b[0;34m(\u001b[0m\u001b[0marg\u001b[0m\u001b[0;34m)\u001b[0m\u001b[0;34m:\u001b[0m\u001b[0;34m\u001b[0m\u001b[0;34m\u001b[0m\u001b[0m\n",
      "\u001b[0;32m~/.local/lib/python3.7/site-packages/IPython/core/magics/extension.py\u001b[0m in \u001b[0;36mreload_ext\u001b[0;34m(self, module_str)\u001b[0m\n\u001b[1;32m     61\u001b[0m         \u001b[0;32mif\u001b[0m \u001b[0;32mnot\u001b[0m \u001b[0mmodule_str\u001b[0m\u001b[0;34m:\u001b[0m\u001b[0;34m\u001b[0m\u001b[0;34m\u001b[0m\u001b[0m\n\u001b[1;32m     62\u001b[0m             \u001b[0;32mraise\u001b[0m \u001b[0mUsageError\u001b[0m\u001b[0;34m(\u001b[0m\u001b[0;34m'Missing module name.'\u001b[0m\u001b[0;34m)\u001b[0m\u001b[0;34m\u001b[0m\u001b[0;34m\u001b[0m\u001b[0m\n\u001b[0;32m---> 63\u001b[0;31m         \u001b[0mself\u001b[0m\u001b[0;34m.\u001b[0m\u001b[0mshell\u001b[0m\u001b[0;34m.\u001b[0m\u001b[0mextension_manager\u001b[0m\u001b[0;34m.\u001b[0m\u001b[0mreload_extension\u001b[0m\u001b[0;34m(\u001b[0m\u001b[0mmodule_str\u001b[0m\u001b[0;34m)\u001b[0m\u001b[0;34m\u001b[0m\u001b[0;34m\u001b[0m\u001b[0m\n\u001b[0m",
      "\u001b[0;32m~/.local/lib/python3.7/site-packages/IPython/core/extensions.py\u001b[0m in \u001b[0;36mreload_extension\u001b[0;34m(self, module_str)\u001b[0m\n\u001b[1;32m    128\u001b[0m                 \u001b[0mself\u001b[0m\u001b[0;34m.\u001b[0m\u001b[0mloaded\u001b[0m\u001b[0;34m.\u001b[0m\u001b[0madd\u001b[0m\u001b[0;34m(\u001b[0m\u001b[0mmodule_str\u001b[0m\u001b[0;34m)\u001b[0m\u001b[0;34m\u001b[0m\u001b[0;34m\u001b[0m\u001b[0m\n\u001b[1;32m    129\u001b[0m         \u001b[0;32melse\u001b[0m\u001b[0;34m:\u001b[0m\u001b[0;34m\u001b[0m\u001b[0;34m\u001b[0m\u001b[0m\n\u001b[0;32m--> 130\u001b[0;31m             \u001b[0mself\u001b[0m\u001b[0;34m.\u001b[0m\u001b[0mload_extension\u001b[0m\u001b[0;34m(\u001b[0m\u001b[0mmodule_str\u001b[0m\u001b[0;34m)\u001b[0m\u001b[0;34m\u001b[0m\u001b[0;34m\u001b[0m\u001b[0m\n\u001b[0m\u001b[1;32m    131\u001b[0m \u001b[0;34m\u001b[0m\u001b[0m\n\u001b[1;32m    132\u001b[0m     \u001b[0;32mdef\u001b[0m \u001b[0m_call_load_ipython_extension\u001b[0m\u001b[0;34m(\u001b[0m\u001b[0mself\u001b[0m\u001b[0;34m,\u001b[0m \u001b[0mmod\u001b[0m\u001b[0;34m)\u001b[0m\u001b[0;34m:\u001b[0m\u001b[0;34m\u001b[0m\u001b[0;34m\u001b[0m\u001b[0m\n",
      "\u001b[0;32m~/.local/lib/python3.7/site-packages/IPython/core/extensions.py\u001b[0m in \u001b[0;36mload_extension\u001b[0;34m(self, module_str)\u001b[0m\n\u001b[1;32m     78\u001b[0m             \u001b[0;32mif\u001b[0m \u001b[0mmodule_str\u001b[0m \u001b[0;32mnot\u001b[0m \u001b[0;32min\u001b[0m \u001b[0msys\u001b[0m\u001b[0;34m.\u001b[0m\u001b[0mmodules\u001b[0m\u001b[0;34m:\u001b[0m\u001b[0;34m\u001b[0m\u001b[0;34m\u001b[0m\u001b[0m\n\u001b[1;32m     79\u001b[0m                 \u001b[0;32mwith\u001b[0m \u001b[0mprepended_to_syspath\u001b[0m\u001b[0;34m(\u001b[0m\u001b[0mself\u001b[0m\u001b[0;34m.\u001b[0m\u001b[0mipython_extension_dir\u001b[0m\u001b[0;34m)\u001b[0m\u001b[0;34m:\u001b[0m\u001b[0;34m\u001b[0m\u001b[0;34m\u001b[0m\u001b[0m\n\u001b[0;32m---> 80\u001b[0;31m                     \u001b[0mmod\u001b[0m \u001b[0;34m=\u001b[0m \u001b[0mimport_module\u001b[0m\u001b[0;34m(\u001b[0m\u001b[0mmodule_str\u001b[0m\u001b[0;34m)\u001b[0m\u001b[0;34m\u001b[0m\u001b[0;34m\u001b[0m\u001b[0m\n\u001b[0m\u001b[1;32m     81\u001b[0m                     \u001b[0;32mif\u001b[0m \u001b[0mmod\u001b[0m\u001b[0;34m.\u001b[0m\u001b[0m__file__\u001b[0m\u001b[0;34m.\u001b[0m\u001b[0mstartswith\u001b[0m\u001b[0;34m(\u001b[0m\u001b[0mself\u001b[0m\u001b[0;34m.\u001b[0m\u001b[0mipython_extension_dir\u001b[0m\u001b[0;34m)\u001b[0m\u001b[0;34m:\u001b[0m\u001b[0;34m\u001b[0m\u001b[0;34m\u001b[0m\u001b[0m\n\u001b[1;32m     82\u001b[0m                         print((\"Loading extensions from {dir} is deprecated. \"\n",
      "\u001b[0;32m/usr/lib/python3.7/importlib/__init__.py\u001b[0m in \u001b[0;36mimport_module\u001b[0;34m(name, package)\u001b[0m\n\u001b[1;32m    125\u001b[0m                 \u001b[0;32mbreak\u001b[0m\u001b[0;34m\u001b[0m\u001b[0;34m\u001b[0m\u001b[0m\n\u001b[1;32m    126\u001b[0m             \u001b[0mlevel\u001b[0m \u001b[0;34m+=\u001b[0m \u001b[0;36m1\u001b[0m\u001b[0;34m\u001b[0m\u001b[0;34m\u001b[0m\u001b[0m\n\u001b[0;32m--> 127\u001b[0;31m     \u001b[0;32mreturn\u001b[0m \u001b[0m_bootstrap\u001b[0m\u001b[0;34m.\u001b[0m\u001b[0m_gcd_import\u001b[0m\u001b[0;34m(\u001b[0m\u001b[0mname\u001b[0m\u001b[0;34m[\u001b[0m\u001b[0mlevel\u001b[0m\u001b[0;34m:\u001b[0m\u001b[0;34m]\u001b[0m\u001b[0;34m,\u001b[0m \u001b[0mpackage\u001b[0m\u001b[0;34m,\u001b[0m \u001b[0mlevel\u001b[0m\u001b[0;34m)\u001b[0m\u001b[0;34m\u001b[0m\u001b[0;34m\u001b[0m\u001b[0m\n\u001b[0m\u001b[1;32m    128\u001b[0m \u001b[0;34m\u001b[0m\u001b[0m\n\u001b[1;32m    129\u001b[0m \u001b[0;34m\u001b[0m\u001b[0m\n",
      "\u001b[0;32m/usr/lib/python3.7/importlib/_bootstrap.py\u001b[0m in \u001b[0;36m_gcd_import\u001b[0;34m(name, package, level)\u001b[0m\n",
      "\u001b[0;32m/usr/lib/python3.7/importlib/_bootstrap.py\u001b[0m in \u001b[0;36m_find_and_load\u001b[0;34m(name, import_)\u001b[0m\n",
      "\u001b[0;32m/usr/lib/python3.7/importlib/_bootstrap.py\u001b[0m in \u001b[0;36m_find_and_load_unlocked\u001b[0;34m(name, import_)\u001b[0m\n",
      "\u001b[0;31mModuleNotFoundError\u001b[0m: No module named 'nbtutor'"
     ]
    }
   ],
   "source": [
    "%reload_ext nbtutor"
   ]
  },
  {
   "cell_type": "code",
   "execution_count": null,
   "metadata": {},
   "outputs": [],
   "source": [
    "%%nbtutor\n",
    "\n",
    "for x in range(1,4):\n",
    "    print(\"ciao\")\n",
    "x=5\n",
    "y=7\n",
    "x +y\n"
   ]
  },
  {
   "cell_type": "markdown",
   "metadata": {},
   "source": [
    "## Stripping answers\n",
    "\n",
    "For stripping answers examples, see [jupyter-example/jupyter-example-sol](jupyter-example/jupyter-example-sol.ipynb). For explanation, see [usage](usage.ipynb#Tags-to-strip)"
   ]
  },
  {
   "cell_type": "markdown",
   "metadata": {
    "dav-prop": "bla"
   },
   "source": [
    "## Metadata to HTML classes\n"
   ]
  },
  {
   "cell_type": "markdown",
   "metadata": {},
   "source": [
    "## Formatting problems"
   ]
  },
  {
   "cell_type": "markdown",
   "metadata": {},
   "source": [
    "### Characters per line\n",
    "\n",
    "\n",
    "Python standard for code has limit to 79, many styles have 80 (see [Wikipedia](https://en.wikipedia.org/wiki/Characters_per_line))\n",
    "\n",
    "We can keep 80:"
   ]
  },
  {
   "cell_type": "markdown",
   "metadata": {},
   "source": [
    "Plain:\n",
    "\n",
    "```\n",
    "--------------------------------------------------------------------------------\n",
    "```"
   ]
  },
  {
   "cell_type": "markdown",
   "metadata": {},
   "source": [
    "As `python` markup:\n",
    "\n",
    "```python\n",
    "--------------------------------------------------------------------------------\n",
    "```"
   ]
  },
  {
   "cell_type": "markdown",
   "metadata": {},
   "source": [
    "Errors hold 75 dashes:"
   ]
  },
  {
   "cell_type": "markdown",
   "metadata": {},
   "source": [
    "Plain:\n",
    "\n",
    "```\n",
    "---------------------------------------------------------------------------\n",
    "ZeroDivisionError                         Traceback (most recent call last)\n",
    "<ipython-input-15-9e1622b385b6> in <module>()\n",
    "----> 1 1/0\n",
    "\n",
    "ZeroDivisionError: division by zero\n",
    "\n",
    "```"
   ]
  },
  {
   "cell_type": "markdown",
   "metadata": {},
   "source": [
    "As `python` markup:\n",
    "\n",
    "```python\n",
    "---------------------------------------------------------------------------\n",
    "ZeroDivisionError                         Traceback (most recent call last)\n",
    "<ipython-input-15-9e1622b385b6> in <module>()\n",
    "----> 1 1/0\n",
    "\n",
    "ZeroDivisionError: division by zero\n",
    "```"
   ]
  },
  {
   "cell_type": "code",
   "execution_count": null,
   "metadata": {},
   "outputs": [],
   "source": [
    "len('---------------------------------------------------------------------------')"
   ]
  },
  {
   "cell_type": "markdown",
   "metadata": {},
   "source": [
    "On website this **may** display a scroll bar, because it will actually print `'` apexes plus the dashes"
   ]
  },
  {
   "cell_type": "code",
   "execution_count": null,
   "metadata": {},
   "outputs": [],
   "source": [
    "'-'*80"
   ]
  },
  {
   "cell_type": "markdown",
   "metadata": {},
   "source": [
    "This should **not** display a scrollbar:"
   ]
  },
  {
   "cell_type": "code",
   "execution_count": null,
   "metadata": {},
   "outputs": [],
   "source": [
    "'-'*78"
   ]
  },
  {
   "cell_type": "markdown",
   "metadata": {},
   "source": [
    "This should **not** display a scrollbar:"
   ]
  },
  {
   "cell_type": "code",
   "execution_count": null,
   "metadata": {
    "scrolled": true
   },
   "outputs": [],
   "source": [
    "print('-'*80)"
   ]
  },
  {
   "cell_type": "markdown",
   "metadata": {},
   "source": [
    "### Very large input\n",
    "\n",
    "In Jupyter: default behaviour, show scrollbar\n",
    "\n",
    "On the website: should expand in horizontal as much as it wants, the rationale is that for input code since it may be printed to PDF you should always manually put line breaks."
   ]
  },
  {
   "cell_type": "code",
   "execution_count": null,
   "metadata": {},
   "outputs": [],
   "source": [
    "# line with an exceedingly long comment line with an exceedingly long comment line with an exceedingly long comment line with an exceedingly long comment line with an exceedingly long comment line with an exceedingly long comment\n",
    "\n",
    "# line with an an out-of-this-world long comment line with an an out-of-this-world long comment line with an an out-of-this-world long comment line with an an out-of-this-world long comment line with an an out-of-this-world long comment line with an an out-of-this-world long comment line with an an out-of-this-world long comment line with an an out-of-this-world long comment line with an an out-of-this-world long comment line with an an out-of-this-world long comment line with an an out-of-this-world long comment line with an an out-of-this-world long comment line with an an out-of-this-world long comment line with an an out-of-this-world long comment line with an an out-of-this-world long comment line with an an out-of-this-world long comment line with an an out-of-this-world long comment line with an an out-of-this-world long comment line with an an out-of-this-world long comment line with an an out-of-this-world long comment line with an an out-of-this-world long comment line with an an out-of-this-world long comment line with an an out-of-this-world long comment line with an an out-of-this-world long comment line with an an out-of-this-world long comment line with an an out-of-this-world long comment line with an an out-of-this-world long comment line with an an out-of-this-world long comment line with an an out-of-this-world long comment line with an an out-of-this-world long comment line with an an out-of-this-world long comment line with an an out-of-this-world long comment line with an an out-of-this-world long comment line with an an out-of-this-world long comment line with an an out-of-this-world long comment line with an an out-of-this-world long comment line with an an out-of-this-world long comment line with an an out-of-this-world long comment line with an an out-of-this-world long comment line with an an out-of-this-world long comment line with an an out-of-this-world long comment line with an an out-of-this-world long comment line with an an out-of-this-world long comment line with an an out-of-this-world long comment line with an an out-of-this-world long comment line with an an out-of-this-world long comment line with an an out-of-this-world long comment line with an an out-of-this-world long comment line with an an out-of-this-world long comment line with an an out-of-this-world long comment line with an an out-of-this-world long comment line with an an out-of-this-world long comment line with an an out-of-this-world long comment line with an an out-of-this-world long comment line with an an out-of-this-world long comment line with an an out-of-this-world long comment line with an an out-of-this-world long comment line with an an out-of-this-world long comment line with an an out-of-this-world long comment line with an an out-of-this-world long comment line with an an out-of-this-world long comment line with an an out-of-this-world long comment line with an an out-of-this-world long comment line with an an out-of-this-world long comment line with an an out-of-this-world long comment line with an an out-of-this-world long comment line with an an out-of-this-world long comment line with an an out-of-this-world long comment line with an an out-of-this-world long comment line with an an out-of-this-world long comment line with an an out-of-this-world long comment line with an an out-of-this-world long comment line with an an out-of-this-world long comment line with an an out-of-this-world long comment line with an an out-of-this-world long comment line with an an out-of-this-world long comment line with an an out-of-this-world long comment line with an an out-of-this-world long comment line with an an out-of-this-world long comment line with an an out-of-this-world long comment line with an an out-of-this-world long comment line with an an out-of-this-world long comment line with an an out-of-this-world long comment line with an an out-of-this-world long comment line with an an out-of-this-world long comment line with an an out-of-this-world long comment line with an an out-of-this-world long comment line with an an out-of-this-world long comment line with an an out-of-this-world long comment line with an an out-of-this-world long comment line with an an out-of-this-world long comment line with an an out-of-this-world long comment line with an an out-of-this-world long comment line with an an out-of-this-world long comment line with an an out-of-this-world long comment line with an an out-of-this-world long comment line with an an out-of-this-world long comment line with an an out-of-this-world long comment line with an an out-of-this-world long comment line with an an out-of-this-world long comment line with an an out-of-this-world long comment line with an an out-of-this-world long comment line with an an out-of-this-world long comment line with an an out-of-this-world long comment line with an an out-of-this-world long comment line with an an out-of-this-world long comment line with an an out-of-this-world long comment line with an an out-of-this-world long comment\n",
    "\n"
   ]
  },
  {
   "cell_type": "markdown",
   "metadata": {},
   "source": [
    "**Very long HTML** (and long code line)\n",
    "\n",
    "Should expand in vertical as much as it wants."
   ]
  },
  {
   "cell_type": "code",
   "execution_count": null,
   "metadata": {},
   "outputs": [],
   "source": [
    "%%HTML\n",
    "\n",
    "<iframe width=\"100%\" height=\"1300px\" frameBorder=\"0\" src=\"https://umap.openstreetmap.fr/en/map/mia-mappa-agritur_182055?scaleControl=false&miniMap=false&scrollWheelZoom=false&zoomControl=true&allowEdit=false&moreControl=true&searchControl=null&tilelayersControl=null&embedControl=null&datalayersControl=true&onLoadPanel=undefined&captionBar=false#11/46.0966/11.4024\"></iframe><p><a href=\"http://umap.openstreetmap.fr/en/map/mia-mappa-agritur_182055\">See full screen</a></p>\n",
    "\n"
   ]
  },
  {
   "cell_type": "markdown",
   "metadata": {},
   "source": [
    "### Very long output\n",
    "\n",
    "In Jupyter: by clicking, you can collapse\n",
    "\n",
    "On the website: a scrollbar should appear"
   ]
  },
  {
   "cell_type": "code",
   "execution_count": null,
   "metadata": {
    "scrolled": false
   },
   "outputs": [],
   "source": [
    "for x in range(150):\n",
    "    print('long output ...', x)"
   ]
  },
  {
   "cell_type": "code",
   "execution_count": null,
   "metadata": {},
   "outputs": [],
   "source": []
  }
 ],
 "metadata": {
  "celltoolbar": "Visualize",
  "kernelspec": {
   "display_name": "Python 3 (ipykernel)",
   "language": "python",
   "name": "python3"
  },
  "language_info": {
   "codemirror_mode": {
    "name": "ipython",
    "version": 3
   },
   "file_extension": ".py",
   "mimetype": "text/x-python",
   "name": "python",
   "nbconvert_exporter": "python",
   "pygments_lexer": "ipython3",
   "version": "3.7.10"
  },
  "toc": {
   "base_numbering": 1,
   "nav_menu": {},
   "number_sections": false,
   "sideBar": true,
   "skip_h1_title": false,
   "title_cell": "Table of Contents",
   "title_sidebar": "Contents",
   "toc_cell": false,
   "toc_position": {
    "height": "calc(100% - 180px)",
    "left": "10px",
    "top": "150px",
    "width": "311px"
   },
   "toc_section_display": true,
   "toc_window_display": true
  }
 },
 "nbformat": 4,
 "nbformat_minor": 2
}
