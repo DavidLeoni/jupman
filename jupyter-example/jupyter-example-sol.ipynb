{
 "cells": [
  {
   "cell_type": "code",
   "execution_count": 1,
   "metadata": {
    "nbsphinx": "hidden"
   },
   "outputs": [],
   "source": [
    "#Please execute this cell\n",
    "import sys;\n",
    "sys.path.append('../'); \n",
    "import jupman;"
   ]
  },
  {
   "cell_type": "markdown",
   "metadata": {},
   "source": [
    "#  Jupyter example\n",
    "\n",
    "[Download exercises zip](../_static/generated/jupyter-example.zip)\n",
    "\n",
    "Example of notebook for exercises in Jupyter files. \n",
    "\n",
    "**For python files based example and more, see** [Python example](../python-example/python-example.ipynb)"
   ]
  },
  {
   "cell_type": "markdown",
   "metadata": {},
   "source": [
    "_JUPMAN_.jm.tutorial_preamble()"
   ]
  },
  {
   "cell_type": "code",
   "execution_count": 2,
   "metadata": {},
   "outputs": [],
   "source": [
    "# REMEMBER TO  IMPORT jupman !\n",
    "# This cell needs to be executed only once, you can usually find it at the beginning of the worksheets\n",
    "\n",
    "import sys\n",
    "sys.path.append('../')\n",
    "import jupman"
   ]
  },
  {
   "cell_type": "code",
   "execution_count": 3,
   "metadata": {},
   "outputs": [
    {
     "data": {
      "text/html": [
       "        \n",
       "        <script src=\"../_static/js/pytutor-embed.bundle.min.js\" type=\"application/javascript\"></script>\n",
       "    \n",
       "        <style>\n",
       "        @import \"../_static/css/jupman.css\";\n",
       "        </style>\n",
       "     \n",
       "        <script id=\"json-jm-dde7e6fa128d45cb08b061187ffa60fd-5\" type=\"application/json\" >\n",
       "            {\"code\": \" \\nx = [1,2,3]\\ny = x\", \"trace\": [{\"line\": 2, \"event\": \"step_line\", \"func_name\": \"<module>\", \"globals\": {}, \"ordered_globals\": [], \"stack_to_render\": [], \"heap\": {}, \"stdout\": \"\"}, {\"line\": 3, \"event\": \"step_line\", \"func_name\": \"<module>\", \"globals\": {\"x\": [\"REF\", 1]}, \"ordered_globals\": [\"x\"], \"stack_to_render\": [], \"heap\": {\"1\": [\"LIST\", 1, 2, 3]}, \"stdout\": \"\"}, {\"line\": 3, \"event\": \"return\", \"func_name\": \"<module>\", \"globals\": {\"x\": [\"REF\", 1], \"y\": [\"REF\", 1]}, \"ordered_globals\": [\"x\", \"y\"], \"stack_to_render\": [], \"heap\": {\"1\": [\"LIST\", 1, 2, 3]}, \"stdout\": \"\"}]}\n",
       "        </script>\n",
       "        <div id=\"jm-dde7e6fa128d45cb08b061187ffa60fd-5\" class=\"pytutorVisualizer\"> </div>\n",
       "                        \n",
       "        <script>\n",
       "        \n",
       "        (function(){\n",
       "            console.log(\"jupman.py embedded javascript: adding Python tutor visualizer...\")\n",
       "            \n",
       "            var trace = JSON.parse(document.getElementById('json-jm-dde7e6fa128d45cb08b061187ffa60fd-5').innerHTML);                                        \n",
       "            // NOTE: id without #\n",
       "                    \n",
       "            addVisualizerToPage(trace, 'jm-dde7e6fa128d45cb08b061187ffa60fd-5',{'embeddedMode' : false,                       \n",
       "                                             'visualizerIdOverride':'viz-jm-dde7e6fa128d45cb08b061187ffa60fd-5'})  \n",
       "            \n",
       "            \n",
       "            // set overflow for pytuts - need to do in python as css \n",
       "            // does not allow parent selection\n",
       "            var pytuts = $('.pytutorVisualizer')\n",
       "            pytuts.closest('div.output_html.rendered_html.output_result')\n",
       "                    .css('overflow-x', 'visible')\n",
       "        \n",
       "            //pytuts.closest('div.output_html.rendered_html.output_result')\n",
       "            //      .css('background-color','red')                \n",
       "            \n",
       "        })()\n",
       "        </script>\n",
       "                \n",
       "    \n",
       "    <div style=\"text-align:center; font-size:0.9em\"> <a href=\"https://pythontutor.com/visualize.html#mode=edit\" target=\"_blank\">Python Tutor</a> visualization</div> \n",
       "    "
      ],
      "text/plain": [
       "<IPython.core.display.HTML object>"
      ]
     },
     "execution_count": 3,
     "metadata": {},
     "output_type": "execute_result"
    }
   ],
   "source": [
    "x = [1,2,3]\n",
    "y = x\n",
    "jupman.pytut()"
   ]
  },
  {
   "cell_type": "code",
   "execution_count": 4,
   "metadata": {},
   "outputs": [
    {
     "data": {
      "text/html": [
       "        \n",
       "        <script src=\"../_static/js/pytutor-embed.bundle.min.js\" type=\"application/javascript\"></script>\n",
       "    \n",
       "        <style>\n",
       "        @import \"../_static/css/jupman.css\";\n",
       "        </style>\n",
       "     \n",
       "        <script id=\"json-jm-ab5ed56f3b57e0cfd7474ee34e8a9a36-6\" type=\"application/json\" >\n",
       "            {\"code\": \" \\ny = [1,2,3]\\nw  = y[0]\", \"trace\": [{\"line\": 2, \"event\": \"step_line\", \"func_name\": \"<module>\", \"globals\": {}, \"ordered_globals\": [], \"stack_to_render\": [], \"heap\": {}, \"stdout\": \"\"}, {\"line\": 3, \"event\": \"step_line\", \"func_name\": \"<module>\", \"globals\": {\"y\": [\"REF\", 1]}, \"ordered_globals\": [\"y\"], \"stack_to_render\": [], \"heap\": {\"1\": [\"LIST\", 1, 2, 3]}, \"stdout\": \"\"}, {\"line\": 3, \"event\": \"return\", \"func_name\": \"<module>\", \"globals\": {\"y\": [\"REF\", 1], \"w\": 1}, \"ordered_globals\": [\"y\", \"w\"], \"stack_to_render\": [], \"heap\": {\"1\": [\"LIST\", 1, 2, 3]}, \"stdout\": \"\"}]}\n",
       "        </script>\n",
       "        <div id=\"jm-ab5ed56f3b57e0cfd7474ee34e8a9a36-6\" class=\"pytutorVisualizer\"> </div>\n",
       "                        \n",
       "        <script>\n",
       "        \n",
       "        (function(){\n",
       "            console.log(\"jupman.py embedded javascript: adding Python tutor visualizer...\")\n",
       "            \n",
       "            var trace = JSON.parse(document.getElementById('json-jm-ab5ed56f3b57e0cfd7474ee34e8a9a36-6').innerHTML);                                        \n",
       "            // NOTE: id without #\n",
       "                    \n",
       "            addVisualizerToPage(trace, 'jm-ab5ed56f3b57e0cfd7474ee34e8a9a36-6',{'embeddedMode' : false,                       \n",
       "                                             'visualizerIdOverride':'viz-jm-ab5ed56f3b57e0cfd7474ee34e8a9a36-6'})  \n",
       "            \n",
       "            \n",
       "            // set overflow for pytuts - need to do in python as css \n",
       "            // does not allow parent selection\n",
       "            var pytuts = $('.pytutorVisualizer')\n",
       "            pytuts.closest('div.output_html.rendered_html.output_result')\n",
       "                    .css('overflow-x', 'visible')\n",
       "        \n",
       "            //pytuts.closest('div.output_html.rendered_html.output_result')\n",
       "            //      .css('background-color','red')                \n",
       "            \n",
       "        })()\n",
       "        </script>\n",
       "                \n",
       "    \n",
       "    <div style=\"text-align:center; font-size:0.9em\"> <a href=\"https://pythontutor.com/visualize.html#mode=edit\" target=\"_blank\">Python Tutor</a> visualization</div> \n",
       "    "
      ],
      "text/plain": [
       "<IPython.core.display.HTML object>"
      ]
     },
     "execution_count": 4,
     "metadata": {},
     "output_type": "execute_result"
    }
   ],
   "source": [
    "y = [1,2,3]\n",
    "w  = y[0]\n",
    "jupman.pytut()"
   ]
  },
  {
   "cell_type": "markdown",
   "metadata": {},
   "source": [
    "## Exercise 1\n",
    "\n",
    "Implement `inc` function: "
   ]
  },
  {
   "cell_type": "code",
   "execution_count": 5,
   "metadata": {},
   "outputs": [],
   "source": [
    "\n",
    "#jupman-strip\n",
    "def helper(x):\n",
    "    return x + 1\n",
    "#/jupman-strip    \n",
    "\n",
    "def inc(x):\n",
    "    #jupman-raise\n",
    "    return helper(x)\n",
    "    #/jupman-raise\n",
    "    "
   ]
  },
  {
   "cell_type": "markdown",
   "metadata": {},
   "source": [
    "## Exercise 2\n",
    "\n",
    "Implement `upper` function"
   ]
  },
  {
   "cell_type": "code",
   "execution_count": 6,
   "metadata": {},
   "outputs": [],
   "source": [
    "#jupman-strip\n",
    "def helper2(x):\n",
    "    return x.upper()\n",
    "#/jupman-strip    \n",
    "\n",
    "def upper(x):\n",
    "    #jupman-raise\n",
    "    return helper2(x)\n",
    "    #/jupman-raise\n",
    "    \n"
   ]
  },
  {
   "cell_type": "markdown",
   "metadata": {},
   "source": [
    "### Exercise 3\n",
    "\n",
    "Note everything *after* the 'write here' comment will be discarded. Note you can put how many spaces you want in the comment\n"
   ]
  },
  {
   "cell_type": "code",
   "execution_count": 7,
   "metadata": {},
   "outputs": [],
   "source": [
    "\n",
    "\n",
    "w = 5\n",
    "\n",
    "#  write here\n",
    "\n",
    "x = 5 + 6\n",
    "y = 6.4\n",
    "z = x / y"
   ]
  },
  {
   "cell_type": "markdown",
   "metadata": {},
   "source": [
    "### Exercise 4\n",
    "\n",
    "Shows how to completely remove the content of a solution cell (including the solution comment)"
   ]
  },
  {
   "cell_type": "markdown",
   "metadata": {},
   "source": [
    "**EXERCISE**: write a function that prints 'hello'"
   ]
  },
  {
   "cell_type": "code",
   "execution_count": 8,
   "metadata": {},
   "outputs": [],
   "source": [
    "# SOLUTION\n",
    "\n",
    "def f():\n",
    "    print('hello')"
   ]
  },
  {
   "cell_type": "markdown",
   "metadata": {},
   "source": [
    "### Exercise 5\n",
    "\n",
    "Shows the QUESTION / ANSWER feature. All content in '**ANSWER**:' cell will be stripped"
   ]
  },
  {
   "cell_type": "markdown",
   "metadata": {},
   "source": [
    "**QUESTION**: Describe why iPhone n + 1 is better than iPhone n"
   ]
  },
  {
   "cell_type": "markdown",
   "metadata": {},
   "source": [
    "**ANSWER**: it costs more"
   ]
  },
  {
   "cell_type": "markdown",
   "metadata": {},
   "source": [
    "## Conclusion\n",
    "\n",
    "bla bla"
   ]
  },
  {
   "cell_type": "markdown",
   "metadata": {},
   "source": [
    "Relative image test, Markdown format: \n",
    "    \n",
    "![cc-by-78342](../_static/img/cc-by.png)"
   ]
  },
  {
   "cell_type": "markdown",
   "metadata": {},
   "source": [
    "Relative image test, HTML `img` tag: \n",
    "    \n",
    "<img alt=\"cc-by-1243\" src=\"../_static/img/cc-by.png\">"
   ]
  },
  {
   "cell_type": "markdown",
   "metadata": {},
   "source": [
    "Relative link test, Markdown format: \n",
    "  \n",
    "[Back to index](../index.ipynb)"
   ]
  },
  {
   "cell_type": "markdown",
   "metadata": {},
   "source": [
    "Relative link test, HTML `a` tag: \n",
    "    \n",
    "<a href=\"../index.ipynb\">Back to index</a>"
   ]
  }
 ],
 "metadata": {
  "celltoolbar": "Raw Cell Format",
  "kernelspec": {
   "display_name": "Python 3 (ipykernel)",
   "language": "python",
   "name": "python3"
  },
  "language_info": {
   "codemirror_mode": {
    "name": "ipython",
    "version": 3
   },
   "file_extension": ".py",
   "mimetype": "text/x-python",
   "name": "python",
   "nbconvert_exporter": "python",
   "pygments_lexer": "ipython3",
   "version": "3.7.14"
  },
  "toc": {
   "base_numbering": 1,
   "nav_menu": {},
   "number_sections": false,
   "sideBar": true,
   "skip_h1_title": false,
   "title_cell": "Table of Contents",
   "title_sidebar": "Contents",
   "toc_cell": false,
   "toc_position": {},
   "toc_section_display": true,
   "toc_window_display": false
  }
 },
 "nbformat": 4,
 "nbformat_minor": 2
}
