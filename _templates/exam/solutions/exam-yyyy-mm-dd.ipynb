{
 "cells": [
  {
   "cell_type": "code",
   "execution_count": 1,
   "metadata": {
    "nbsphinx": "hidden"
   },
   "outputs": [],
   "source": [
    "#Please execute this cell\n",
    "import sys;\n",
    "sys.path.append('../../../'); \n",
    "import jupman;"
   ]
  },
  {
   "cell_type": "markdown",
   "metadata": {},
   "source": [
    "# Exam _JUPMAN_.jpre_exam.date_human\n",
    "\n",
    "**_JUPMAN_.jm.course - _JUPMAN_.jm.degree**\n",
    "\n",
    "\n",
    "## [Download exercises and solutions](../../../_static/generated/_JUPMAN_.jm.filename-_JUPMAN_.jpre_exam.date_ytd-exam.zip) \n",
    "\n",
    "(This obviously should only be shown when after the exam is published)"
   ]
  },
  {
   "cell_type": "markdown",
   "metadata": {
    "collapsed": true
   },
   "source": [
    "## Introduction\n",
    "\n",
    "* **Taking part to this exam erases any vote you had before**\n",
    "\n",
    "![](img/mountains.jpg)"
   ]
  },
  {
   "cell_type": "markdown",
   "metadata": {},
   "source": [
    "### What to do\n",
    "\n",
    "1) Download  `_JUPMAN_.jm.filename-_JUPMAN_.jpre_exam.date_ymd-exam.zip` and extract it <b>on your desktop</b>. Folder content should be like this:\n",
    "\n",
    "```\n",
    "_JUPMAN_.jm.filename-_JUPMAN_.jpre_exam.date_ymd-FIRSTNAME-LASTNAME-ID\n",
    "   exam-_JUPMAN_.jpre_exam.date_ymd._END_.ipynb   \n",
    "   lists.py\n",
    "   lists_test.py\n",
    "   trees.py\n",
    "   trees_test.py\n",
    "   jupman.py\n",
    "            \n",
    "```\n",
    "\n",
    "2) Rename `_JUPMAN_.jm.filename-_JUPMAN_.jpre_exam.date_ymd-FIRSTNAME-LASTNAME-ID` folder: put your name, lastname an id number, like `_JUPMAN_.jm.filename-_JUPMAN_.jpre_exam.date_ymd-john-doe-432432`\n",
    "\n",
    "From now on, you will be editing the files in that folder. At the end of the exam, that is what will be evaluated.\n",
    "\n",
    "3) Edit the files following the instructions in this worksheet for each exercise. Every exercise should take max 25 mins. If it takes longer, leave it and try another exercise."
   ]
  },
  {
   "cell_type": "markdown",
   "metadata": {},
   "source": [
    "## Part A\n",
    "\n",
    "Open Jupyter and start editing this notebook `exam-_JUPMAN_.jpre_exam.date_ymd-exercise.ipynb`"
   ]
  },
  {
   "cell_type": "markdown",
   "metadata": {},
   "source": [
    "## A.1 rev\n",
    "\n",
    "Implement rev, which takes a list and RETURN the reverse"
   ]
  },
  {
   "cell_type": "code",
   "execution_count": 2,
   "metadata": {},
   "outputs": [],
   "source": [
    "def rev(lst):\n",
    "    #jupman-raise\n",
    "    return list(reversed(lst))\n",
    "    #/jupman-raise\n",
    "    \n",
    "assert rev(['a','c','b']) == ['b','c','a']"
   ]
  },
  {
   "cell_type": "markdown",
   "metadata": {},
   "source": [
    "## A.2 bla\n",
    "\n",
    "Implement function `bla`, which prints 'bla'"
   ]
  },
  {
   "cell_type": "code",
   "execution_count": 3,
   "metadata": {},
   "outputs": [],
   "source": [
    "def bla():\n",
    "    #jupman-raise\n",
    "    print('bla')\n",
    "    #/jupman-raise"
   ]
  },
  {
   "cell_type": "markdown",
   "metadata": {},
   "source": [
    "## Part B \n",
    "\n",
    "To edit the files for this part, you can use any editor of your choice,  you can find them under _Applications->Programming_:\n",
    "\n",
    "* **Visual Studio Code**\n",
    "* Editra is easy to use, you can find it under _Applications->Programming->Editra_.\n",
    "* Others could be _GEdit_ (simpler), or _PyCharm_ (more complex).\n",
    "\n",
    "To run the tests, use **the Terminal** which can be found in _Accessories -> Terminal_ "
   ]
  },
  {
   "cell_type": "markdown",
   "metadata": {},
   "source": [
    "## B.1 `do_something`\n",
    "\n",
    "Open the file `lists.py` and implement the method `do_something`:\n",
    "\n",
    "```python\n",
    "\n",
    "    def do_something(self):\n",
    "        \"\"\" Does something \"\"\"\n",
    "        \n",
    "     \n",
    "```\n",
    "\n",
    "**Testing** `python3 -m unittest lists_test.DoSomething`\n",
    "\n",
    "**Example**: "
   ]
  },
  {
   "cell_type": "code",
   "execution_count": 4,
   "metadata": {},
   "outputs": [
    {
     "name": "stdout",
     "output_type": "stream",
     "text": [
      "Written by _JUPMAN_.author\n",
      "Intendend for _JUPMAN_.jm.manual\n"
     ]
    }
   ],
   "source": [
    "from lists_sol import *\n",
    "\n",
    "mc = MyClass()\n"
   ]
  },
  {
   "cell_type": "markdown",
   "metadata": {},
   "source": [
    "## B.2 `draw`\n",
    "\n",
    "Open the file trees and implement the method `draw`:\n",
    "\n",
    "```python\n",
    "\n",
    "    def draw(self):\n",
    "        \"\"\" Does something \"\"\"     \n",
    "     \n",
    "```\n",
    "\n",
    "**Testing** `python3 -m unittest trees_test.DoSomething`\n",
    "\n",
    "**Example**:"
   ]
  },
  {
   "cell_type": "code",
   "execution_count": 5,
   "metadata": {},
   "outputs": [
    {
     "name": "stdout",
     "output_type": "stream",
     "text": [
      "Written by _JUPMAN_.author\n",
      "Intendend for _JUPMAN_.jm.manual\n",
      "I'm drawing an amazing tree\n"
     ]
    }
   ],
   "source": [
    "from trees_sol import draw\n",
    "\n",
    "draw()"
   ]
  },
  {
   "cell_type": "code",
   "execution_count": 6,
   "metadata": {
    "nbsphinx": "hidden"
   },
   "outputs": [
    {
     "name": "stderr",
     "output_type": "stream",
     "text": [
      "..\n",
      "----------------------------------------------------------------------\n",
      "Ran 2 tests in 0.002s\n",
      "\n",
      "OK\n",
      "."
     ]
    },
    {
     "name": "stdout",
     "output_type": "stream",
     "text": [
      "Written by _JUPMAN_.author\n",
      "Intendend for _JUPMAN_.jm.manual\n",
      "Doing something else\n",
      "Doing something\n",
      "I'm drawing an amazing tree\n"
     ]
    },
    {
     "name": "stderr",
     "output_type": "stream",
     "text": [
      "\n",
      "----------------------------------------------------------------------\n",
      "Ran 1 test in 0.001s\n",
      "\n",
      "OK\n"
     ]
    }
   ],
   "source": [
    "import lists_test\n",
    "import trees_test\n",
    "jupman.run(lists_test)\n",
    "jupman.run(trees_test)"
   ]
  },
  {
   "cell_type": "code",
   "execution_count": null,
   "metadata": {},
   "outputs": [],
   "source": []
  }
 ],
 "metadata": {
  "celltoolbar": "Edit Metadata",
  "kernelspec": {
   "display_name": "Python 3 (ipykernel)",
   "language": "python",
   "name": "python3"
  },
  "language_info": {
   "codemirror_mode": {
    "name": "ipython",
    "version": 3
   },
   "file_extension": ".py",
   "mimetype": "text/x-python",
   "name": "python",
   "nbconvert_exporter": "python",
   "pygments_lexer": "ipython3",
   "version": "3.7.13"
  },
  "toc": {
   "base_numbering": 1,
   "nav_menu": {},
   "number_sections": false,
   "sideBar": true,
   "skip_h1_title": false,
   "title_cell": "Table of Contents",
   "title_sidebar": "Contents",
   "toc_cell": false,
   "toc_position": {},
   "toc_section_display": true,
   "toc_window_display": true
  }
 },
 "nbformat": 4,
 "nbformat_minor": 1
}
