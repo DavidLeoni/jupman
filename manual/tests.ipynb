{
 "cells": [
  {
   "cell_type": "code",
   "execution_count": 1,
   "metadata": {
    "nbsphinx": "hidden"
   },
   "outputs": [
    {
     "data": {
      "text/html": [
       "<style>\n",
       "\n",
       "/** AVAILABLE BOTH IN JUPYTER AND WEBSITE**/\n",
       "\n",
       "\n",
       "/* ************  PYTHON TUTOR START  *************/\n",
       "\n",
       "\n",
       ".vizLayoutTd {\n",
       "    background-color: #fff !important;\n",
       "}\n",
       "                    \n",
       "#pyStdout {\n",
       "    min-height:25px;\n",
       "}\n",
       "\n",
       "\n",
       "/* Remove 'Customize visualization'  https://github.com/DavidLeoni/jupman/issues/108 */\n",
       "#uiControlsPane {\n",
       "    display: none;\n",
       "}\n",
       "\n",
       "/* Show middle bar https://github.com/DavidLeoni/jupman/issues/110 */\n",
       "div.ui-resizable-handle.ui-resizable-e {\n",
       "    border-color: #dddddd !important;\n",
       "    border-width:2px !important; \n",
       "}\n",
       "\n",
       "/* Hides 'Edit this code' link because replaces browser tab when clicked*/\n",
       "#editCodeLinkDiv {\n",
       "    display:none;  \n",
       "}\n",
       "\n",
       "/* misaligned arrow bug  https://github.com/DavidLeoni/jupman/issues/105 */\n",
       "#pyCodeOutputDiv td {\n",
       "    padding: 0.5em 0.5em !important;\n",
       "}\n",
       "\n",
       "\n",
       "/* ************ PYTHON TUTOR END ***************   */\n",
       "\n",
       "\n",
       "/* ********** CUSTOM TOC IN JUPYTER  START ************* */\n",
       "\n",
       "#jupman-nav {\n",
       "    position: fixed;\n",
       "    top: 10px; \n",
       "    left: 5px; \n",
       "    background: white;\n",
       "    width: 200px; \n",
       "    padding: 10px; \n",
       "    z-index: 10;\n",
       "}\n",
       "\n",
       "/* style=\"background: rgba(255, 255, 255, 0);\" class=\"unstyled\" */\n",
       "\n",
       "#jupman-toc {\n",
       "    position: fixed;\n",
       "    top: 100px; \n",
       "    left: -55px; \n",
       "    background: rgba(255, 255, 255, 0);\n",
       "    \n",
       "    height: 80%;\n",
       "    width: 200px; \n",
       "    padding: 20px; \n",
       "    z-index: 10;\n",
       "    overflow-y: scroll;        \n",
       "        /* font-size: 50%; */\n",
       "}\n",
       "\n",
       "\n",
       ".jupman-nav-item {\n",
       "    font-weight:bold;\n",
       "    font-size:120%  \n",
       "}\n",
       "\n",
       ".jupman-chapter-link {\n",
       "    font-size:150%;\n",
       "    margin-right:15px;        \n",
       "}\n",
       "\n",
       ".jupman-chapter-link a {\n",
       "    text-decoration: none;\n",
       "}    \n",
       "\n",
       ".jupman-title {\n",
       "    font-size:250%; \n",
       "    font-weight:bold        \n",
       "}    \n",
       "    \n",
       ".jupman-warn {    \n",
       "    background-color: #fcf2f2;        \n",
       "    border-left: 5px solid #dfb5b4;\n",
       "    padding: 1.5em;\n",
       "    font-weight:bold;\n",
       "    margin-bottom:10px;\n",
       "}\n",
       "\n",
       ".jupman-question {    \n",
       "    background-color: rgb(251, 231, 250);\n",
       "    border-left: 5px solid rgb(189, 151, 184);\n",
       "    padding: 1.5em;\n",
       "    font-weight:bold;\n",
       "    margin-bottom:10px;\n",
       "}\n",
       "    \n",
       "\n",
       ".jupman-important {\n",
       "    background-color: rgba(255, 238, 0, 0.31);\n",
       "    border-left: 5px solid rgba(205, 208, 0, 1.0);\n",
       "    color: #000;        \n",
       "    padding: 1.5em;\n",
       "    font-weight:bold;\n",
       "    margin-bottom:10px;\n",
       "}\n",
       "\n",
       "\n",
       "#jupman-toc ul {                                                                                                                                                                           \n",
       "    list-style-type: none;                                                                                                                                                                 \n",
       "    margin-left: 5px;\n",
       "}\n",
       "\n",
       "#jupman-toc li {        \n",
       "        padding-left: 3px;\n",
       "}    \n",
       "\n",
       "#jupman-toc .h1 {\n",
       "    font-size:110%; \n",
       "    \n",
       "}\n",
       "\n",
       "#jupman-toc .h2 {\n",
       "    font-size:100%; \n",
       "    padding-left:15px;\n",
       "}\n",
       "\n",
       "#jupman-toc .h3 {\n",
       "    font-size:100%; \n",
       "    padding-left:25px;\n",
       "}\n",
       "\n",
       "\n",
       "\n",
       "#notebook-container {\n",
       "    box-shadow : none;\n",
       "-web-kit-box-shadow: none;\n",
       "}\n",
       "\n",
       "\n",
       "#jupman-toc .toc-active {\n",
       "    background: rgba(168, 254, 255, 0.32);\n",
       "}\n",
       "\n",
       "/* ********** CUSTOM TOC IN JUPYTER END ************* */\n",
       "\n",
       "\n",
       ".jupman-toggler {\n",
       "    text-decoration: none; \n",
       "    display:block;\n",
       "}\n",
       "\n",
       " </style>\n",
       "\n",
       "<script>\n",
       "var JUPMAN_IN_JUPYTER = true;\n",
       "\n",
       "/**\n",
       " * JUPYTER MANAGER JavaScript https://github.com/DavidLeoni/jupman \n",
       " * \n",
       " */\n",
       "\n",
       "\n",
       "/**\n",
       " * @deprecated use jupman.toggleVisibility instead\n",
       " * @param {string} what \n",
       " */\n",
       "function toggleVisibility(what){\n",
       "    console.warn(\"global toggleVisibility is deprecated, use jupman.toggleVisibility instead\");\n",
       "    jupman.toggleVisibility(what);            \n",
       "};\n",
       "\n",
       "function showthis(url) {\n",
       "    window.open(url, \"pres\", \"toolbar=yes,scrollbars=yes,resizable=yes,top=10,left=400,width=500,height=500\");\n",
       "    return(false);\n",
       "}\n",
       "\n",
       "var jupman = {\n",
       "    \n",
       "    /** \n",
       "        Checks if toc was injected in the script. \n",
       "    */\n",
       "    hasToc : function(){\n",
       "        return $('#jupman-toc').toc;\n",
       "    },\n",
       "    \n",
       "    isReduced : function(){\n",
       "        return $(window).width() < 924;\n",
       "    },\n",
       "    hoverToc : function(){\n",
       "        return $('#jupman-toc:hover').length != 0;\n",
       "    },\n",
       "    resize : function(){\n",
       "        if (jupman.isReduced()){\n",
       "            $(\"#jupman-toc\").hide();\n",
       "                \n",
       "        } else {\n",
       "            $(\"#jupman-toc\").show();\n",
       "            $(\"#jupman-toc\").css(\"background\",\"rgba(255, 255, 255, 0)\");\n",
       "            \n",
       "            tocParams = {\n",
       "                \n",
       "                'selectors': 'h1,h2,h3', //elements to use as headings\n",
       "                'container': 'body', //element to find all selectors in\n",
       "                'smoothScrolling': true, //enable or disable smooth scrolling on click\n",
       "                 //doesn't work  'prefix': 'jupman-toc', //prefix for anchor tags and class names\n",
       "                //'onHighlight': function(el) {}, //called when a new section is highlighted \n",
       "                'highlightOnScroll': true, //add class to heading that is currently in focus\n",
       "                'highlightOffset': 100, //offset to trigger the next headline\n",
       "                'anchorName': function(i, heading, prefix) { //custom function for anchor name\n",
       "                    return prefix+i;\n",
       "                },\n",
       "                'headerText': function(i, heading, $heading) { //custom function building the header-item text                  \n",
       "                    return $heading.text().replace(\"¶\",\"\");\n",
       "                },\n",
       "                'itemClass': function(i, heading, $heading, prefix) { // custom function for item class\n",
       "                    return $heading[0].tagName.toLowerCase();\n",
       "                }                \n",
       "            }\n",
       "            \n",
       "            if (jupman.hasToc()){\n",
       "                $('#jupman-toc').toc(tocParams);\n",
       "            }\n",
       "        }\n",
       "    },\n",
       "    /**\n",
       "        Hides cell input\n",
       "        \n",
       "        Renamed in 0.19\n",
       "    */    \n",
       "    hideCell : function(prefixOrRegex){\n",
       "        \n",
       "        $('.border-box-sizing .code_cell pre').filter(function() { \n",
       "                var t = $(this).text();\n",
       "                if (typeof prefixOrRegex == \"string\"){\n",
       "                    return t.indexOf(prefixOrRegex) === 0;\n",
       "                } else if ( prefixOrRegex instanceof RegExp){\n",
       "                    return t.match(prefixOrRegex);\n",
       "                } else {\n",
       "                    console.error(\"Invalid argument:\", prefixOrRegex);\n",
       "                    throw new Error(\"Invalid argument!\");\n",
       "                }\n",
       "            }).parents('div .cell .input').hide();        \n",
       "    },\n",
       "    /**\n",
       "        Hides the cell input AND output.\n",
       "        \n",
       "        @since 0.19\n",
       "    */\n",
       "    hideCellAll : function(prefixOrRegex){        \n",
       "        $('.border-box-sizing .code_cell pre').filter(function() { \n",
       "                var t = $(this).text();\n",
       "                if (typeof prefixOrRegex == \"string\"){\n",
       "                    return t.indexOf(prefixOrRegex) === 0;\n",
       "                } else if ( prefixOrRegex instanceof RegExp){\n",
       "                    return t.match(prefixOrRegex);\n",
       "                } else {\n",
       "                    console.error(\"Invalid argument:\", prefixOrRegex);\n",
       "                    throw new Error(\"Invalid argument!\");\n",
       "                }\n",
       "            }).parents('div .cell ').hide();        \n",
       "    },\n",
       "   \n",
       "    /**\n",
       "     * NOTE: ONLY WORKS ON THE WEBSITE\n",
       "     *      \n",
       "     * @param {@string} caller a this from html tag onclick\n",
       "     * @since 3.2 \n",
       "     */\n",
       "    toggleSolution : function(caller){\n",
       "        \n",
       "        let toggler = $(caller);\n",
       "        let content = toggler.next();\n",
       "        \n",
       "        content.addClass('jupman-sol jupman-sol-content');        \n",
       "\n",
       "        if (content.css('display') === 'none'){            \n",
       "            toggler.text(toggler.data('jupman-hide'));\n",
       "        } else {                                    \n",
       "            toggler.text(toggler.data('jupman-show'));            \n",
       "        }\n",
       "        content.slideToggle();                                \n",
       "    },\n",
       "    \n",
       "    /**\n",
       "     * Simple vanilla way to toggle an element\n",
       "     * @param {string} what i.e. someid (no # prefix)\n",
       "     */\n",
       "    toggleVisibility : function (what){\n",
       "\n",
       "        var e = document.getElementById(what);\n",
       "        if(e.style.display == 'block') {\n",
       "            e.style.display = 'none';\n",
       "        } else {\n",
       "            e.style.display = 'block';        \n",
       "        }\n",
       "    },\n",
       "\n",
       "    /**\n",
       "     *  Code common to both jupman in jupyter and Website\n",
       "    */\n",
       "    initCommon : function(){\n",
       "        \n",
       "        console.log('jupman.js initCommon start')\n",
       "        \n",
       "        console.log(\"jupman.js Initializing togglable stuff\");\n",
       "        if (typeof $ == \"undefined\"){\n",
       "            console.error(\"   No jquery found! Skipping ... \");\n",
       "        } else {\n",
       "                        \n",
       "            console.log(\"Initializing generic jupman-togglable stuff\");\n",
       "\n",
       "            let defaultShowMsg = 'Show';\n",
       "            let defaultHideMsg = 'Hide';            \n",
       "\n",
       "            $(\".jupman-toggler\").remove();\n",
       "            \n",
       "            $(\".jupman-togglable\").each(function(index, value) {\n",
       "                let toggler = $('<a href=\"#\"></a>');\n",
       "                toggler.addClass('jupman-toggler');\n",
       "                let showMsg = defaultShowMsg;            \n",
       "                if ($(this).data('jupman-show')){\n",
       "                    showMsg = $(this).data('jupman-show');\n",
       "                }\n",
       "                \n",
       "                toggler.text(showMsg);\n",
       "                toggler.insertBefore(value);\n",
       "            });            \n",
       "            \n",
       "            $(\".jupman-togglable\").hide();\n",
       "            $(\".jupman-toggler\").show();\n",
       "\n",
       "            $('.jupman-toggler')\n",
       "                .off('click')\n",
       "                .click(function(ev){                                \n",
       "                    let toggler = $(this);\n",
       "                    \n",
       "                    let uls = toggler.nextAll(\".jupman-togglable\");\n",
       "                    let sibling = uls.eq(0);\n",
       "                    \n",
       "                    let showMsg = defaultShowMsg;\n",
       "                    let hideMsg = defaultHideMsg;\n",
       "                    if (sibling.data('jupman-show')){\n",
       "                        showMsg = sibling.data('jupman-show');\n",
       "                    }\n",
       "                    if (sibling.data('jupman-hide')){\n",
       "                        hideMsg = sibling.data('jupman-hide');\n",
       "                    }\n",
       "                    if (sibling.css('display') === 'none'){            \n",
       "                        toggler.text(hideMsg);\n",
       "                    } else {                                    \n",
       "                        toggler.text(showMsg);\n",
       "                    }\n",
       "                    sibling.slideToggle();        \n",
       "                    ev.preventDefault();\n",
       "                    ev.stopPropagation();\n",
       "                    return false;\n",
       "            });\n",
       "        } \n",
       "        console.log('jupman.js initCommon end')\n",
       "\n",
       "    },\n",
       "\n",
       "    /**\n",
       "     *   Jupyter only instructions - doesn't run on website\n",
       "     */\n",
       "    initJupyter : function(){\n",
       "       console.log('jupman.js initJupyter start') \n",
       "\n",
       "       var toc = $(\"<div>\").attr(\"id\", \"jupman-toc\");              \n",
       "                                                             \n",
       "       var nav = $(\"<div>\")\n",
       "                     .attr(\"id\", \"jupman-nav\")\n",
       "                    \n",
       "        \n",
       "        \n",
       "       // ****************************     WARNING      ********************************\n",
       "       //         THIS HIDE STUFF DOES NOT WORK IN SPHINX, ONLY WORKS WHEN YOU MANUALLY EXPORT TO HTML \n",
       "       // ******************************************************************************\n",
       "       \n",
       "       \n",
       "       if (jupman.hasToc()){\n",
       "           if ($(\"#jupman-toc\").length === 0){\n",
       "               $(\"body\").append(toc);       \n",
       "           } else {\n",
       "               $(\"#jupman-toc\").replaceWith(toc);\n",
       "           }\n",
       "       } else {\n",
       "           $(\"#jupman-toc\").hide();\n",
       "       }\n",
       "       \n",
       "       if ($(\"#jupman-nav\").length === 0){\n",
       "           $(\"body\").append(nav);       \n",
       "       } else {\n",
       "           $(\"#jupman-nav\").replaceWith(nav);\n",
       "       }              \n",
       "\n",
       "       \n",
       "        $( window ).resize(function() {\n",
       "            jupman.resize();\n",
       "        });\n",
       "\n",
       "\n",
       "        $(\"body\").on(\"mousemove\",function(event) {\n",
       "            if (jupman.isReduced()){\n",
       "                if (event.pageX < 50) {            \n",
       "                     $(\"#jupman-toc\").show(); \n",
       "                     $(\"#jupman-toc\").css(\"background\",\"rgba(255, 255, 255, 1.0)\");\n",
       "                } else {\n",
       "                    if (jupman.hoverToc()) {                    \n",
       "                    } else {\n",
       "                        $(\"#jupman-toc\").hide();                        \n",
       "                    }\n",
       "$\n",
       "        /*            if ($(\"#jupman-toc\").is(\":visible\")){\n",
       "                        if (jupman.hoverToc()) {                    \n",
       "                        } else {\n",
       "                            $(\"#jupman-toc\").hide();                        \n",
       "                        }\n",
       "                    } else {\n",
       "                        if (jupman.hoverToc())\n",
       "                          show\n",
       "                      } else {\n",
       "                        $(\"#jupman-toc\").hide();                        \n",
       "                       }                 \n",
       "                    }\n",
       "          */     \n",
       "                }\n",
       "            }\n",
       "        });\n",
       " \n",
       "        \n",
       "       jupman.resize();\n",
       "       console.log('jupman.js initJupyter end')\n",
       "    },\n",
       "    \n",
       "    /**\n",
       "    * Website only instructions\n",
       "    */\n",
       "    initWebsite : function(){  \n",
       "        \n",
       "        console.log(\"jupman.js initWebsite start\")\n",
       "        \n",
       "        console.log(\"Fixing menu clicks for https://github.com/DavidLeoni/jupman/issues/38\")\n",
       "\n",
       "        // function copied as is from\n",
       "        // https://github.com/readthedocs/sphinx_rtd_theme/blob/master/src/theme.js#L190\n",
       "        var toggleCurrent = function (elem) {\n",
       "            var parent_li = elem.closest('li');\n",
       "            parent_li.siblings('li.current').removeClass('current');\n",
       "            parent_li.siblings().find('li.current').removeClass('current');\n",
       "            parent_li.find('> ul li.current').removeClass('current');\n",
       "            parent_li.toggleClass('current');\n",
       "        }        \n",
       "\n",
       "        \n",
       "        var fix = function(prefix){\n",
       "\n",
       "            var s = 'nav a.reference.internal[href^=\"' + prefix + 'toc\"]';            \n",
       "            \n",
       "            var span = $(s + ' > span.toctree-expand');\n",
       "            span.off('click')\n",
       "\n",
       "            var link = $(s); \n",
       "            \n",
       "            link.on('click', function (ev) {\n",
       "                ev.preventDefault();\n",
       "                toggleCurrent($(this));\n",
       "                ev.stopPropagation();\n",
       "                return false;\n",
       "            });\n",
       "        }\n",
       "\n",
       "        // fix for https://github.com/DavidLeoni/jupman/issues/71\n",
       "        // should better do it serverside, but at least it works!\n",
       "        console.log(\"Fixing home link ...\");\n",
       "        var home = $('a.icon-home');\n",
       "        \n",
       "        if (home.length > 0){\n",
       "            \n",
       "            home.attr('href', home.attr('href').replace('toc-page.html', 'index.html'))\n",
       "        \n",
       "            console.log(\"Fixing Index link ...\");\n",
       "            var home_root = home.attr('href').replace('toc-page.html','').replace('index.html','');            \n",
       "            //DIRTY, if you wonder why see  https://github.com/DavidLeoni/jupman/issues/11\n",
       "            //                         and  https://stackoverflow.com/a/31820846     \n",
       "            var tocRef = \"toc.html#http://\";\n",
       "            $('a.reference.external[href$=\"'+ tocRef + '\"]').attr('href', home_root + tocRef);\n",
       "        }                        \n",
       "        \n",
       "        fix('')\n",
       "        fix('../')\n",
       "        fix('../../')    // probably useless but just in case ...\n",
       "        fix('../../../') // probably useless but just in case ... \n",
       "\n",
       "        console.log(\"Fixing Python Tutor overflow ...\");\n",
       "        \n",
       "        // need it in js as there are no css parent selectors.\n",
       "        // NOTE: these selectors are different from Jupyter ones !!!\n",
       "        var pytuts = $('.pytutorVisualizer')        \n",
       "        pytuts.closest('div.output_area.rendered_html.docutils.container')\n",
       "              .css('overflow', 'visible')\n",
       "\n",
       "        console.log(\"jupman.js initWebsite end\")\n",
       "    },\n",
       "    \n",
       "    /**\n",
       "     * Initializes jupman.js\n",
       "     */\n",
       "    init : function(){\n",
       "\n",
       "       jupman.initCommon();\n",
       "        \n",
       "       if (typeof JUPMAN_IN_JUPYTER === \"undefined\" || !JUPMAN_IN_JUPYTER ){\n",
       "           jupman.initWebsite();\n",
       "       } else {\n",
       "           jupman.initJupyter();\n",
       "       }\n",
       "        \n",
       "    }\n",
       "}\n",
       "\n",
       "$(document).ready(jupman.init);\n",
       "\n",
       "</script>\n"
      ],
      "text/plain": [
       "<IPython.core.display.HTML object>"
      ]
     },
     "execution_count": 1,
     "metadata": {},
     "output_type": "execute_result"
    }
   ],
   "source": [
    "import sys\n",
    "sys.path.append('../')\n",
    "import jupman;\n",
    "jupman.init()"
   ]
  },
  {
   "cell_type": "markdown",
   "metadata": {},
   "source": [
    "# Tests\n",
    "\n",
    "Tests and cornercases.\n",
    "\n",
    "The page Title has one sharp\n",
    "\n",
    "## Section 1\n",
    "\n",
    "the Sections always have two sharps.\n",
    "\n",
    "## Section 2\n",
    "\n",
    "Do you believe me?\n",
    "\n",
    "### Subsection 1\n",
    "\n",
    "Subsections always have three sharps\n",
    "\n",
    "### Subsection 2\n",
    "\n",
    "You'd better believe me."
   ]
  },
  {
   "cell_type": "markdown",
   "metadata": {},
   "source": [
    "## Python code"
   ]
  },
  {
   "cell_type": "code",
   "execution_count": 2,
   "metadata": {},
   "outputs": [],
   "source": [
    "x = 4\n",
    "lst = [1,2,4]"
   ]
  },
  {
   "cell_type": "markdown",
   "metadata": {},
   "source": [
    "## Python in Markdown\n",
    "\n",
    "```python\n",
    "x = 4\n",
    "lst = [1,2,4]\n",
    "```"
   ]
  },
  {
   "cell_type": "markdown",
   "metadata": {},
   "source": [
    "## Other quotes"
   ]
  },
  {
   "cell_type": "markdown",
   "metadata": {},
   "source": [
    "> I'm quoted with > symbol\n",
    "> on multiple lines. Am I readable **with asterisks?**  What about <strong>strong tag?</strong>\n",
    ">\n",
    "> Somebody asked"
   ]
  },
  {
   "cell_type": "markdown",
   "metadata": {},
   "source": [
    "    I'm quoted with spaces\n",
    "    on multiple lines\n",
    "\n",
    "    Do I look bold **with asterisks?** What about <strong>strong tag?</strong>"
   ]
  },
  {
   "cell_type": "markdown",
   "metadata": {},
   "source": [
    "```\n",
    "Generic quote with backticks\n",
    "Can you read it?\n",
    "\n",
    "Do I look bold **with asterisks?** What about <strong>strong tag?</strong>\n",
    "```"
   ]
  },
  {
   "cell_type": "markdown",
   "metadata": {},
   "source": [
    "<pre>\n",
    "\n",
    "pre tag inside Markdown\n",
    "\n",
    "Do I look bold **with asterisks?** What about <strong>strong tag?</strong>\n",
    "</pre>"
   ]
  },
  {
   "cell_type": "markdown",
   "metadata": {},
   "source": [
    "\n",
    "```bash\n",
    "# bash quote with backticks\n",
    "cd foo\n",
    "ls\n",
    "cat wiz.txt\n",
    "```"
   ]
  },
  {
   "cell_type": "markdown",
   "metadata": {},
   "source": [
    "## Download links\n",
    "\n",
    "Files manually put in `_static` : \n",
    "\n",
    "* Download [trial.odt](../_static/trial.odt)\n",
    "* Download [trial.pdf](../_static/trial.pdf)\n",
    " \n",
    "Files in arbitrary folder position : \n",
    "\n",
    "* Download [requirements.txt](../requirements.txt)\n",
    "\n",
    "NOTE: download links are messy, [see issue 8](https://github.com/DavidLeoni/jupman/issues/8)"
   ]
  },
  {
   "cell_type": "markdown",
   "metadata": {},
   "source": [
    "## Links to HTML\n",
    "\n",
    "* Link to [trial.html](../_static/trial.html)"
   ]
  },
  {
   "cell_type": "markdown",
   "metadata": {
    "collapsed": true
   },
   "source": [
    "## Info/Warning Boxes\n",
    "\n",
    "Until there is an info/warning extension for Markdown/CommonMark, such boxes can be created by using HTML <div> elements like this:"
   ]
  },
  {
   "cell_type": "markdown",
   "metadata": {},
   "source": [
    "<div class=\"alert alert-info\">\n",
    "\n",
    "**Note:** This is an info, mixed bold!\n",
    "\n",
    "</div>"
   ]
  },
  {
   "cell_type": "markdown",
   "metadata": {},
   "source": [
    "<div class=\"alert alert-warning\">\n",
    "\n",
    "**Note:** This is a warn, mixed bold!\n",
    "\n",
    "</div>"
   ]
  },
  {
   "cell_type": "markdown",
   "metadata": {},
   "source": [
    "<div class=\"alert alert-info\">\n",
    "      \n",
    "Note: This is a long info, plain title, single paragraph\n",
    "    \n",
    "Lorem ipsum dolor sit amet, consectetur adipisci elit, sed eiusmod tempor incidunt ut labore et dolore magna aliqua. Ut enim ad minim veniam, quis nostrum exercitationem ullam corporis suscipit laboriosam, nisi ut aliquid ex ea commodi consequatur. \n",
    "</div>"
   ]
  },
  {
   "cell_type": "markdown",
   "metadata": {},
   "source": [
    "<div class=\"alert alert-warning\">\n",
    "\n",
    "This is a long warn, plain title, single paragraph\n",
    "    \n",
    "Lorem ipsum dolor sit amet, consectetur adipisci elit, sed eiusmod tempor incidunt ut labore et dolore magna aliqua. Ut enim ad minim veniam, quis nostrum exercitationem ullam corporis suscipit laboriosam, nisi ut aliquid ex ea commodi consequatur. \n",
    "    </div>"
   ]
  },
  {
   "cell_type": "markdown",
   "metadata": {},
   "source": [
    "<div class=\"alert alert-info\">\n",
    "      \n",
    "Note: This is a long info, plain title, multiple paragraph\n",
    "    \n",
    "Lorem ipsum dolor sit amet, consectetur adipisci elit, sed eiusmod tempor incidunt ut labore et dolore magna aliqua. Ut enim ad minim veniam, quis nostrum exercitationem ullam corporis suscipit laboriosam, nisi ut aliquid ex ea commodi consequatur. \n",
    "    \n",
    "Sed ut perspiciatis unde omnis iste natus error sit voluptatem accusantium doloremque laudantium, totam rem aperiam, eaque ipsa quae ab illo inventore veritatis et quasi architecto beatae vitae dicta sunt explicabo. \n",
    "</div>"
   ]
  },
  {
   "cell_type": "markdown",
   "metadata": {},
   "source": [
    "<div class=\"alert alert-warning\">\n",
    "\n",
    "This is a long warn, plain title, multiple paragraph\n",
    "    \n",
    "Lorem ipsum dolor sit amet, consectetur adipisci elit, sed eiusmod tempor incidunt ut labore et dolore magna aliqua. Ut enim ad minim veniam, quis nostrum exercitationem ullam corporis suscipit laboriosam, nisi ut aliquid ex ea commodi consequatur. \n",
    "    \n",
    "Sed ut perspiciatis unde omnis iste natus error sit voluptatem accusantium doloremque laudantium, totam rem aperiam, eaque ipsa quae ab illo inventore veritatis et quasi architecto beatae vitae dicta sunt explicabo. \n",
    "</div>"
   ]
  },
  {
   "cell_type": "markdown",
   "metadata": {},
   "source": [
    "<div class=\"alert alert-info\">\n",
    "      \n",
    "**Note: This is a long info, bold title**\n",
    "    \n",
    "Lorem ipsum dolor sit amet, consectetur adipisci elit, sed eiusmod tempor incidunt ut labore et dolore magna aliqua. Ut enim ad minim veniam, quis nostrum exercitationem ullam corporis suscipit laboriosam, nisi ut aliquid ex ea commodi consequatur. \n",
    "</div>"
   ]
  },
  {
   "cell_type": "markdown",
   "metadata": {},
   "source": [
    "<div class=\"alert alert-warning\">\n",
    "\n",
    "**This is a long warn, plain title!**\n",
    "    \n",
    "Lorem ipsum dolor sit amet, consectetur adipisci elit, sed eiusmod tempor incidunt ut labore et dolore magna aliqua. Ut enim ad minim veniam, quis nostrum exercitationem ullam corporis suscipit laboriosam, nisi ut aliquid ex ea commodi consequatur. \n",
    "</div>"
   ]
  },
  {
   "cell_type": "markdown",
   "metadata": {},
   "source": [
    "For this to work reliably, you should obey the following guidelines:\n",
    "\n",
    "* The class attribute has to be either `\"alert alert-info\"` or `\"alert alert-warning\"`, other values will not be converted correctly.\n",
    "* No further attributes are allowed.\n",
    "* For compatibility with CommonMark, you should add an empty line between the `<div>` start tag and the beginning of the content."
   ]
  },
  {
   "cell_type": "markdown",
   "metadata": {},
   "source": [
    "\n",
    "## Math\n",
    "\n",
    "For math stuff, [see npshpinx docs](https://nbsphinx.readthedocs.io/en/0.2.14/markdown-cells.html#Equations)\n",
    "\n",
    "Here we put just some equation to show it behaves fine in Jupman\n",
    "\n",
    "This is infinity: $\\infty$ "
   ]
  },
  {
   "cell_type": "markdown",
   "metadata": {},
   "source": [
    "### Matrix dimensions\n",
    "\n",
    "We often need to show matrix dimensions, here are some approaches\n",
    "\n",
    "\n",
    "\n",
    "\n",
    "|typesetting|Render| Notes| \n",
    "|---|----|---|\n",
    "|`$n \\times m$`|$n \\times m$||\n",
    "|`n x m`|n x m|\n",
    "|`nxm`|nxm|\n",
    "|`$n$ x $m$`|$n$ x $m$|\n",
    "|`$n$ $x$ $m$`|$n$ $x$ $m$|\n",
    "|`$n x m$`|$n x m$|\n",
    "|with backticks:|`n` x `m`|"
   ]
  },
  {
   "cell_type": "markdown",
   "metadata": {},
   "source": [
    "Math typesetting is nice, currently copy/pasting simple rendered output produces different behaviours, [see issue](https://github.com/DavidLeoni/jupman/issues/103):\n",
    "\n",
    "\n",
    "- in Jupyter: produces unicode characters (as expected)\n",
    "- in browser: you can't even select, but by right-clicking there are a range of MathJax options to copy in various formats"
   ]
  },
  {
   "cell_type": "code",
   "execution_count": 3,
   "metadata": {},
   "outputs": [
    {
     "name": "stdout",
     "output_type": "stream",
     "text": [
      "\n",
      "This text was copy-pasted in Jupyter:   𝑛×𝑚    It should work fine.\n",
      "\n"
     ]
    }
   ],
   "source": [
    "print(\"\"\"\n",
    "This text was copy-pasted in Jupyter:   𝑛×𝑚    It should work fine.\n",
    "\"\"\")"
   ]
  },
  {
   "cell_type": "markdown",
   "metadata": {},
   "source": [
    "## Unicode \n",
    "\n",
    "Unicode characters should display an HTML, but with latex you might have problems, and need to manually map characters in conf.py\n",
    "\n",
    "\n",
    "You should see a star in a black circle: ✪ \n",
    "\n",
    "You should see a check: ✓\n",
    "\n",
    "table characters: │ ├ └ ─"
   ]
  },
  {
   "cell_type": "markdown",
   "metadata": {},
   "source": [
    "## Image\n",
    "\n",
    "### SVG Images\n",
    "\n",
    "SVG images work in notebook, but here it is commented since it breaks Latex, [see issue](https://github.com/DavidLeoni/jupman/issues/1)\n",
    "\n",
    "```\n",
    "![An image](../img/cc-by.svg)\n",
    "```\n",
    "\n",
    "This one also doesn't work (and shows ugly code in the notebook anyway)\n",
    "\n",
    "```\n",
    "from IPython.display import SVG\n",
    "SVG(filename='../img/cc-by.svg')\n",
    "```\n"
   ]
  },
  {
   "cell_type": "markdown",
   "metadata": {},
   "source": [
    "### PNG Images\n",
    "\n",
    "![A PNG image alone](../_static/img/notebook_icon.png)"
   ]
  },
  {
   "cell_type": "markdown",
   "metadata": {},
   "source": [
    "### Inline images - pure markdown"
   ]
  },
  {
   "cell_type": "markdown",
   "metadata": {},
   "source": [
    "    Bla ![A PNG image md](../_static/img/notebook_icon.png)  bli blo"
   ]
  },
  {
   "cell_type": "markdown",
   "metadata": {},
   "source": [
    "Bla ![A PNG image  md](../_static/img/notebook_icon.png)  bli blo"
   ]
  },
  {
   "cell_type": "markdown",
   "metadata": {},
   "source": [
    "### Inline images - markdown and img"
   ]
  },
  {
   "cell_type": "markdown",
   "metadata": {},
   "source": [
    "    bla <img alt=\"markimg84545\" style=\"display:inline\" src=\"../_static/img/notebook_icon.png\"> bli blo"
   ]
  },
  {
   "cell_type": "markdown",
   "metadata": {},
   "source": [
    "\n",
    "bla <img alt=\"markimg84545\" style=\"display:inline !important\" src=\"../_static/img/notebook_icon.png\"> bli blo"
   ]
  },
  {
   "cell_type": "markdown",
   "metadata": {},
   "source": [
    "### Img class\n",
    "\n",
    "If we pass a class, it will to be present in the website:\n",
    "\n",
    "    <img alt=\"markimg7325\" class=\"jupman-inline-img\" src=\"../_static/img/notebook_icon.png\">\n",
    "    \n",
    "This  <img alt=\"markimg7325\" class=\"jupman-inline-img\" src=\"../_static/img/notebook_icon.png\"> should be inline"
   ]
  },
  {
   "cell_type": "markdown",
   "metadata": {},
   "source": [
    "## Expressions list\n",
    "\n",
    "Highlighting **does** work both in Jupyter and Sphinx\n",
    "\n",
    "Three quotes, multiple lines - Careful: put **exactly 4 spaces** indentation\n",
    "\n",
    "1.  ```python \n",
    "    [2,3,1] != \"[2,3,1]\"\n",
    "    ```\n",
    "1.  ```python \n",
    "    [4,8,12] == [2*2,\"4*2\",6*2]\n",
    "    ```\n",
    "1.  ```python \n",
    "    [][:] == []\n",
    "    ```"
   ]
  },
  {
   "cell_type": "markdown",
   "metadata": {},
   "source": [
    "Three quotes, multiple lines, more compact - works in Jupyter,  **doesn't** in Sphinx\n",
    "\n",
    "1.  ```python \n",
    "    [2,3,1] != \"[2,3,1]\"```\n",
    "1.  ```python \n",
    "    [4,8,12] == [2*2,\"4*2\",6*2]```\n",
    "1.  ```python \n",
    "    [][:] == []```"
   ]
  },
  {
   "cell_type": "markdown",
   "metadata": {},
   "source": [
    "Highlighting **doesn't** work in Jupyter neither in Sphinx:\n",
    "\n",
    "Three quotes, single line\n",
    "\n",
    "1. ```python [2,3,1] != [\"2\",3,1]```\n",
    "1. ```python [4,8,12] == [2*2,\"4*2\",6*2]```\n",
    "1. ```python [][:] == \"[]\"```\n",
    "\n",
    "Single quote, single line\n",
    "\n",
    "1. `python [2,3,1] != [\"2\",3,1]`\n",
    "1. `python [4,8,12] == [2*2,\"4*2\",6*2]`\n",
    "1. `python [][:] == \"[]\"`\n"
   ]
  },
  {
   "cell_type": "markdown",
   "metadata": {},
   "source": [
    "## Togglable cells\n",
    "\n",
    "There are various ways to have togglable cells.\n",
    "\n",
    "### Show/hide exercises (PREFERRED)\n",
    "\n",
    "If you need clickable show/hide buttons for exercise solutions , see here: [Editing - Exercise types](https://jupman.softpython.org/en/latest/manual/editing.html#Exercise-types). It manages comprehensively use cases for display in website, student zips, exams, etc\n",
    "\n",
    "If you have other needs, we report here some test we made, but keep in mind this sort of hacks tend to change behaviour with different versions of jupyter.\n",
    "\n",
    "### Toggling with Javascript\n",
    "\n",
    "* Works in MarkDown\n",
    "* Works while in Jupyter\n",
    "* Works in HTML\n",
    "* Does not show in Latex (which might be a good point, if you intend to put somehow solutions at the end of the document)\n",
    "* NOTE: after creating the text to see the results you have to run the initial cell with jupman.init (as for the toc) \n",
    "* NOTE: you can't use Markdown block code since of Sept 2017 doesn't show well in HTML output \n",
    "\n",
    "<div class=\"jupman-togglable\">\n",
    "\n",
    "<code>\n",
    "<pre>\n",
    "    # SOME CODE\n",
    "    color = raw_input(\"What's your eyes' color?\")\n",
    "    if color == \"\":\n",
    "        sys.exit()\n",
    "</pre>\n",
    "</code>\n",
    "</div>\n",
    "\n",
    "<div class=\"jupman-togglable\" \n",
    "     data-jupman-show=\"Customized show msg\" \n",
    "     data-jupman-hide=\"Customized hide msg\">\n",
    "\n",
    "<code>\n",
    "<pre>\n",
    "    # SOME OTHER CODE\n",
    "    how_old = raw_input(\"How old are you?\")\n",
    "    x = random.randint(1,8)\n",
    "    if question == \"\":\n",
    "        sys.exit()\n",
    "        \n",
    "</pre>\n",
    "</code>\n",
    "</div>"
   ]
  },
  {
   "cell_type": "markdown",
   "metadata": {},
   "source": [
    "### HTML details in Markdown, code tag \n",
    "\n",
    "* Works while in Jupyter\n",
    "* Doesn't work in HTML output\n",
    "* as of Sept Oct 2017, not yet supported in Microsoft browsers\n",
    "\n",
    "<details>\n",
    "\n",
    "<summary>Click here to see the code</summary>\n",
    "\n",
    "<code>\n",
    "\n",
    "    question = raw_input(\"What?\")\n",
    "    answers = random.randint(1,8)\n",
    "    if question == \"\":\n",
    "        sys.exit()\n",
    "</code>\n",
    "\n",
    "</details>\n"
   ]
  },
  {
   "cell_type": "markdown",
   "metadata": {},
   "source": [
    "### HTML details in Markdown, Markdown mixed code\n",
    "\n",
    "* Works while in Jupyter \n",
    "* Doesn't work in HTML output\n",
    "* as of Sept Oct 2017, not yet supported in Microsoft browsers\n",
    "\n",
    "\n",
    "<details>\n",
    "\n",
    "<summary>Click here to see the code</summary>\n",
    "\n",
    "```python\n",
    "    question = raw_input(\"What?\")\n",
    "    answers = random.randint(1,8)\n",
    "    if question == \"\":\n",
    "        sys.exit()\n",
    "```\n",
    "\n",
    "</details>\n"
   ]
  },
  {
   "cell_type": "markdown",
   "metadata": {},
   "source": [
    "### HTML details in HTML, raw NBConvert Format \n",
    "\n",
    "* Doesn't work in Jupyter\n",
    "* Works in HTML output\n",
    "    * NOTE: as of Sept Oct 2017, not yet supported in Microsoft browsers\n",
    "* Doesn't show at all in PDF output\n"
   ]
  },
  {
   "cell_type": "raw",
   "metadata": {
    "raw_mimetype": "text/html"
   },
   "source": [
    "<details>\n",
    "<summary>Click here to see the code</summary>\n",
    "<code>\n",
    "<pre>\n",
    "    question = raw_input(\"What?\")\n",
    "    answers = random.randint(1,8)\n",
    "    if question == \"\":\n",
    "        sys.exit()\n",
    "</pre>\n",
    "</code>\n",
    "</details>"
   ]
  },
  {
   "cell_type": "markdown",
   "metadata": {},
   "source": [
    "Some other Markdown cell afterwards ...."
   ]
  },
  {
   "cell_type": "markdown",
   "metadata": {},
   "source": [
    "## Files in templates\n",
    "\n",
    "Since Dec 2019 they are not accessible [see issue 10](https://github.com/DavidLeoni/jupman/issues/10), but it is not a great problem, you can always put a link to Github, see for example [exam-yyyy-mm-dd.ipynb](https://github.com/DavidLeoni/jupman/tree/master/_templates/exam/exam-yyyy-mm-dd.ipynb)"
   ]
  },
  {
   "cell_type": "markdown",
   "metadata": {},
   "source": [
    "## Stripping answers\n",
    "\n",
    "For stripping answers examples, see [jupyter-example/jupyter-example-sol](../jupyter-example/jupyter-example-sol.ipynb). For explanation, see [editing](editing.ipynb#Solution-tags)"
   ]
  },
  {
   "cell_type": "markdown",
   "metadata": {},
   "source": [
    "## Formatting problems"
   ]
  },
  {
   "cell_type": "markdown",
   "metadata": {},
   "source": [
    "### Characters per line\n",
    "\n",
    "\n",
    "Python standard for code has limit to 79, many styles have 80 (see [Wikipedia](https://en.wikipedia.org/wiki/Characters_per_line)). We can keep 80 like this, which should **not** display a scrollbar:"
   ]
  },
  {
   "cell_type": "markdown",
   "metadata": {},
   "source": [
    "Plain:\n",
    "\n",
    "```\n",
    "--------------------------------------------------------------------------------\n",
    "```"
   ]
  },
  {
   "cell_type": "markdown",
   "metadata": {},
   "source": [
    "As `python` markup:\n",
    "\n",
    "```python\n",
    "--------------------------------------------------------------------------------\n",
    "```"
   ]
  },
  {
   "cell_type": "markdown",
   "metadata": {},
   "source": [
    "This should **not** display a scrollbar:"
   ]
  },
  {
   "cell_type": "code",
   "execution_count": 4,
   "metadata": {},
   "outputs": [
    {
     "data": {
      "text/plain": [
       "'------------------------------------------------------------------------------'"
      ]
     },
     "execution_count": 4,
     "metadata": {},
     "output_type": "execute_result"
    }
   ],
   "source": [
    "'-'*78"
   ]
  },
  {
   "cell_type": "markdown",
   "metadata": {},
   "source": [
    "This should **not** display a scrollbar:"
   ]
  },
  {
   "cell_type": "code",
   "execution_count": 5,
   "metadata": {
    "scrolled": true
   },
   "outputs": [
    {
     "name": "stdout",
     "output_type": "stream",
     "text": [
      "--------------------------------------------------------------------------------\n"
     ]
    }
   ],
   "source": [
    "print('-'*80)"
   ]
  },
  {
   "cell_type": "markdown",
   "metadata": {},
   "source": [
    "On website this **may** display a scroll bar, because it will actually print `'` apexes plus the dashes"
   ]
  },
  {
   "cell_type": "code",
   "execution_count": 6,
   "metadata": {},
   "outputs": [
    {
     "data": {
      "text/plain": [
       "'--------------------------------------------------------------------------------'"
      ]
     },
     "execution_count": 6,
     "metadata": {},
     "output_type": "execute_result"
    }
   ],
   "source": [
    "'-'*80"
   ]
  },
  {
   "cell_type": "markdown",
   "metadata": {},
   "source": [
    "Note errors hold 75 dashes:"
   ]
  },
  {
   "cell_type": "markdown",
   "metadata": {},
   "source": [
    "Plain:\n",
    "\n",
    "```\n",
    "---------------------------------------------------------------------------\n",
    "ZeroDivisionError                         Traceback (most recent call last)\n",
    "<ipython-input-15-9e1622b385b6> in <module>()\n",
    "----> 1 1/0\n",
    "\n",
    "ZeroDivisionError: division by zero\n",
    "\n",
    "```"
   ]
  },
  {
   "cell_type": "markdown",
   "metadata": {},
   "source": [
    "As `python` markup:\n",
    "\n",
    "```python\n",
    "---------------------------------------------------------------------------\n",
    "ZeroDivisionError                         Traceback (most recent call last)\n",
    "<ipython-input-15-9e1622b385b6> in <module>()\n",
    "----> 1 1/0\n",
    "\n",
    "ZeroDivisionError: division by zero\n",
    "```"
   ]
  },
  {
   "cell_type": "code",
   "execution_count": 7,
   "metadata": {},
   "outputs": [
    {
     "data": {
      "text/plain": [
       "75"
      ]
     },
     "execution_count": 7,
     "metadata": {},
     "output_type": "execute_result"
    }
   ],
   "source": [
    "len('---------------------------------------------------------------------------')"
   ]
  },
  {
   "cell_type": "markdown",
   "metadata": {},
   "source": [
    "### Very large input\n",
    "\n",
    "In Jupyter: default behaviour, show scrollbar\n",
    "\n",
    "On the website: default behaviour, show scrollbar"
   ]
  },
  {
   "cell_type": "code",
   "execution_count": 8,
   "metadata": {},
   "outputs": [],
   "source": [
    "# line with an exceedingly long comment line with an exceedingly long comment line with an exceedingly long comment line with an exceedingly long comment line with an exceedingly long comment line with an exceedingly long comment\n",
    "\n",
    "# line with an an out-of-this-world long comment line with an an out-of-this-world long comment line with an an out-of-this-world long comment line with an an out-of-this-world long comment line with an an out-of-this-world long comment line with an an out-of-this-world long comment line with an an out-of-this-world long comment line with an an out-of-this-world long comment line with an an out-of-this-world long comment line with an an out-of-this-world long comment line with an an out-of-this-world long comment line with an an out-of-this-world long comment line with an an out-of-this-world long comment line with an an out-of-this-world long comment line with an an out-of-this-world long comment line with an an out-of-this-world long comment line with an an out-of-this-world long comment line with an an out-of-this-world long comment line with an an out-of-this-world long comment line with an an out-of-this-world long comment line with an an out-of-this-world long comment line with an an out-of-this-world long comment line with an an out-of-this-world long comment line with an an out-of-this-world long comment line with an an out-of-this-world long comment line with an an out-of-this-world long comment line with an an out-of-this-world long comment line with an an out-of-this-world long comment line with an an out-of-this-world long comment line with an an out-of-this-world long comment line with an an out-of-this-world long comment line with an an out-of-this-world long comment line with an an out-of-this-world long comment line with an an out-of-this-world long comment line with an an out-of-this-world long comment line with an an out-of-this-world long comment line with an an out-of-this-world long comment line with an an out-of-this-world long comment line with an an out-of-this-world long comment line with an an out-of-this-world long comment line with an an out-of-this-world long comment line with an an out-of-this-world long comment line with an an out-of-this-world long comment line with an an out-of-this-world long comment line with an an out-of-this-world long comment line with an an out-of-this-world long comment line with an an out-of-this-world long comment line with an an out-of-this-world long comment line with an an out-of-this-world long comment line with an an out-of-this-world long comment line with an an out-of-this-world long comment line with an an out-of-this-world long comment line with an an out-of-this-world long comment line with an an out-of-this-world long comment line with an an out-of-this-world long comment line with an an out-of-this-world long comment line with an an out-of-this-world long comment line with an an out-of-this-world long comment line with an an out-of-this-world long comment line with an an out-of-this-world long comment line with an an out-of-this-world long comment line with an an out-of-this-world long comment line with an an out-of-this-world long comment line with an an out-of-this-world long comment line with an an out-of-this-world long comment line with an an out-of-this-world long comment line with an an out-of-this-world long comment line with an an out-of-this-world long comment line with an an out-of-this-world long comment line with an an out-of-this-world long comment line with an an out-of-this-world long comment line with an an out-of-this-world long comment line with an an out-of-this-world long comment line with an an out-of-this-world long comment line with an an out-of-this-world long comment line with an an out-of-this-world long comment line with an an out-of-this-world long comment line with an an out-of-this-world long comment line with an an out-of-this-world long comment line with an an out-of-this-world long comment line with an an out-of-this-world long comment line with an an out-of-this-world long comment line with an an out-of-this-world long comment line with an an out-of-this-world long comment line with an an out-of-this-world long comment line with an an out-of-this-world long comment line with an an out-of-this-world long comment line with an an out-of-this-world long comment line with an an out-of-this-world long comment line with an an out-of-this-world long comment line with an an out-of-this-world long comment line with an an out-of-this-world long comment line with an an out-of-this-world long comment line with an an out-of-this-world long comment line with an an out-of-this-world long comment line with an an out-of-this-world long comment line with an an out-of-this-world long comment line with an an out-of-this-world long comment line with an an out-of-this-world long comment line with an an out-of-this-world long comment line with an an out-of-this-world long comment line with an an out-of-this-world long comment line with an an out-of-this-world long comment line with an an out-of-this-world long comment line with an an out-of-this-world long comment line with an an out-of-this-world long comment line with an an out-of-this-world long comment line with an an out-of-this-world long comment\n",
    "\n"
   ]
  },
  {
   "cell_type": "markdown",
   "metadata": {},
   "source": [
    "**Very long HTML** (and long code line)\n",
    "\n",
    "Should expand in vertical as much as it wants."
   ]
  },
  {
   "cell_type": "code",
   "execution_count": 9,
   "metadata": {},
   "outputs": [
    {
     "data": {
      "text/html": [
       "\n",
       "<iframe width=\"100%\" height=\"1300px\" frameBorder=\"0\" src=\"https://umap.openstreetmap.fr/en/map/mia-mappa-agritur_182055?scaleControl=false&miniMap=false&scrollWheelZoom=false&zoomControl=true&allowEdit=false&moreControl=true&searchControl=null&tilelayersControl=null&embedControl=null&datalayersControl=true&onLoadPanel=undefined&captionBar=false#11/46.0966/11.4024\"></iframe><p><a href=\"http://umap.openstreetmap.fr/en/map/mia-mappa-agritur_182055\">See full screen</a></p>\n",
       "\n"
      ],
      "text/plain": [
       "<IPython.core.display.HTML object>"
      ]
     },
     "metadata": {},
     "output_type": "display_data"
    }
   ],
   "source": [
    "%%HTML\n",
    "\n",
    "<iframe width=\"100%\" height=\"1300px\" frameBorder=\"0\" src=\"https://umap.openstreetmap.fr/en/map/mia-mappa-agritur_182055?scaleControl=false&miniMap=false&scrollWheelZoom=false&zoomControl=true&allowEdit=false&moreControl=true&searchControl=null&tilelayersControl=null&embedControl=null&datalayersControl=true&onLoadPanel=undefined&captionBar=false#11/46.0966/11.4024\"></iframe><p><a href=\"http://umap.openstreetmap.fr/en/map/mia-mappa-agritur_182055\">See full screen</a></p>\n",
    "\n"
   ]
  },
  {
   "cell_type": "markdown",
   "metadata": {},
   "source": [
    "### Very long output\n",
    "\n",
    "In Jupyter: by clicking, you can collapse\n",
    "\n",
    "On the website: a scrollbar should appear"
   ]
  },
  {
   "cell_type": "code",
   "execution_count": 10,
   "metadata": {
    "scrolled": false
   },
   "outputs": [
    {
     "name": "stdout",
     "output_type": "stream",
     "text": [
      "long output ... 0\n",
      "long output ... 1\n",
      "long output ... 2\n",
      "long output ... 3\n",
      "long output ... 4\n",
      "long output ... 5\n",
      "long output ... 6\n",
      "long output ... 7\n",
      "long output ... 8\n",
      "long output ... 9\n",
      "long output ... 10\n",
      "long output ... 11\n",
      "long output ... 12\n",
      "long output ... 13\n",
      "long output ... 14\n",
      "long output ... 15\n",
      "long output ... 16\n",
      "long output ... 17\n",
      "long output ... 18\n",
      "long output ... 19\n",
      "long output ... 20\n",
      "long output ... 21\n",
      "long output ... 22\n",
      "long output ... 23\n",
      "long output ... 24\n",
      "long output ... 25\n",
      "long output ... 26\n",
      "long output ... 27\n",
      "long output ... 28\n",
      "long output ... 29\n",
      "long output ... 30\n",
      "long output ... 31\n",
      "long output ... 32\n",
      "long output ... 33\n",
      "long output ... 34\n",
      "long output ... 35\n",
      "long output ... 36\n",
      "long output ... 37\n",
      "long output ... 38\n",
      "long output ... 39\n",
      "long output ... 40\n",
      "long output ... 41\n",
      "long output ... 42\n",
      "long output ... 43\n",
      "long output ... 44\n",
      "long output ... 45\n",
      "long output ... 46\n",
      "long output ... 47\n",
      "long output ... 48\n",
      "long output ... 49\n",
      "long output ... 50\n",
      "long output ... 51\n",
      "long output ... 52\n",
      "long output ... 53\n",
      "long output ... 54\n",
      "long output ... 55\n",
      "long output ... 56\n",
      "long output ... 57\n",
      "long output ... 58\n",
      "long output ... 59\n",
      "long output ... 60\n",
      "long output ... 61\n",
      "long output ... 62\n",
      "long output ... 63\n",
      "long output ... 64\n",
      "long output ... 65\n",
      "long output ... 66\n",
      "long output ... 67\n",
      "long output ... 68\n",
      "long output ... 69\n",
      "long output ... 70\n",
      "long output ... 71\n",
      "long output ... 72\n",
      "long output ... 73\n",
      "long output ... 74\n",
      "long output ... 75\n",
      "long output ... 76\n",
      "long output ... 77\n",
      "long output ... 78\n",
      "long output ... 79\n",
      "long output ... 80\n",
      "long output ... 81\n",
      "long output ... 82\n",
      "long output ... 83\n",
      "long output ... 84\n",
      "long output ... 85\n",
      "long output ... 86\n",
      "long output ... 87\n",
      "long output ... 88\n",
      "long output ... 89\n",
      "long output ... 90\n",
      "long output ... 91\n",
      "long output ... 92\n",
      "long output ... 93\n",
      "long output ... 94\n",
      "long output ... 95\n",
      "long output ... 96\n",
      "long output ... 97\n",
      "long output ... 98\n",
      "long output ... 99\n",
      "long output ... 100\n",
      "long output ... 101\n",
      "long output ... 102\n",
      "long output ... 103\n",
      "long output ... 104\n",
      "long output ... 105\n",
      "long output ... 106\n",
      "long output ... 107\n",
      "long output ... 108\n",
      "long output ... 109\n",
      "long output ... 110\n",
      "long output ... 111\n",
      "long output ... 112\n",
      "long output ... 113\n",
      "long output ... 114\n",
      "long output ... 115\n",
      "long output ... 116\n",
      "long output ... 117\n",
      "long output ... 118\n",
      "long output ... 119\n",
      "long output ... 120\n",
      "long output ... 121\n",
      "long output ... 122\n",
      "long output ... 123\n",
      "long output ... 124\n",
      "long output ... 125\n",
      "long output ... 126\n",
      "long output ... 127\n",
      "long output ... 128\n",
      "long output ... 129\n",
      "long output ... 130\n",
      "long output ... 131\n",
      "long output ... 132\n",
      "long output ... 133\n",
      "long output ... 134\n",
      "long output ... 135\n",
      "long output ... 136\n",
      "long output ... 137\n",
      "long output ... 138\n",
      "long output ... 139\n",
      "long output ... 140\n",
      "long output ... 141\n",
      "long output ... 142\n",
      "long output ... 143\n",
      "long output ... 144\n",
      "long output ... 145\n",
      "long output ... 146\n",
      "long output ... 147\n",
      "long output ... 148\n",
      "long output ... 149\n"
     ]
    }
   ],
   "source": [
    "for x in range(150):\n",
    "    print('long output ...', x)"
   ]
  },
  {
   "cell_type": "markdown",
   "metadata": {},
   "source": [
    "## Python tutor tests\n",
    "\n",
    "See [Pytutor page](tests-pytutor.ipynb)"
   ]
  }
 ],
 "metadata": {
  "celltoolbar": "Visualize",
  "kernelspec": {
   "display_name": "Python 3 (ipykernel)",
   "language": "python",
   "name": "python3"
  },
  "language_info": {
   "codemirror_mode": {
    "name": "ipython",
    "version": 3
   },
   "file_extension": ".py",
   "mimetype": "text/x-python",
   "name": "python",
   "nbconvert_exporter": "python",
   "pygments_lexer": "ipython3",
   "version": "3.7.13"
  },
  "toc": {
   "base_numbering": 1,
   "nav_menu": {},
   "number_sections": false,
   "sideBar": true,
   "skip_h1_title": false,
   "title_cell": "Table of Contents",
   "title_sidebar": "Contents",
   "toc_cell": false,
   "toc_position": {
    "height": "calc(100% - 180px)",
    "left": "10px",
    "top": "150px",
    "width": "311px"
   },
   "toc_section_display": true,
   "toc_window_display": true
  }
 },
 "nbformat": 4,
 "nbformat_minor": 2
}
