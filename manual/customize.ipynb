{
 "cells": [
  {
   "cell_type": "markdown",
   "id": "1e8fb1b9",
   "metadata": {},
   "source": [
    "# Customize"
   ]
  },
  {
   "cell_type": "markdown",
   "id": "2c83a395",
   "metadata": {},
   "source": [
    "## Change website theme\n",
    "\n",
    "If you want to change site colors and other changes, copy/edit [_static/css/jupman-web.css](https://github.com/DavidLeoni/jupman/blob/master/_static/css/jupman-web.css)  and set it in conf `html_css_files`:\n",
    "\n",
    "```python\n",
    "html_css_files = [\n",
    "    'css/jupman.css',      # shared among jupyter and website\n",
    "    'css/jupman-web.css',  # only on website\n",
    "    #'css/softpython-theme.css',  # uncomment to activate\n",
    "    #'css/scifi-theme.css',\n",
    "]\n",
    "\n",
    "```"
   ]
  },
  {
   "cell_type": "markdown",
   "id": "8a4f9fd1",
   "metadata": {},
   "source": [
    "## Fonts\n",
    "\n",
    "Fonts are a bit of a complex topic\n",
    "\n",
    "TODO this part is just a collection of personal notes\n",
    "\n",
    "\n",
    "* [The missing guide to font formats](https://creativemarket.com/blog/the-missing-guide-to-font-formats)\n",
    "\n",
    "* https://docs.readthedocs.io/en/latest/guides/adding-custom-css.html\n",
    "\n",
    "* [RTD Code font issue on github](https://github.com/readthedocs/sphinx_rtd_theme/issues/524)\n",
    "\n",
    "\n",
    "Tools: \n",
    "\n",
    "Comprehensive article: https://www.useragentman.com/blog/2011/02/20/converting-font-face-fonts-quickly-in-any-os/\n",
    "and https://www.useragentman.com/blog/the-css3-font-converter/\n",
    "\n",
    "\n",
    "https://github.com/zoltan-dulac/css3FontConverter\n",
    "\n",
    "woff2\n",
    "\n",
    "https://github.com/google/woff2\n",
    "\n",
    "sfnt2woff\n",
    "\n",
    "```bash\n",
    "sudo apt-get install  libbrotli-dev\n",
    "sfnt2woff  SomeFont.otf\n",
    "```\n",
    "\n",
    "mkeot\n",
    "\n",
    "```bash\n",
    "sudo apt-get install eot-utils\n",
    "mkeot SomeFont.otf > SomeFont.eot\n",
    "```\n",
    "\n",
    "or https://github.com/wget/ttf2eot\n",
    "\n",
    "FontForge (GUI and scriptable)\n",
    "\n",
    "`sudo apt-get install fontforge`\n"
   ]
  },
  {
   "cell_type": "markdown",
   "id": "538e1cc7",
   "metadata": {},
   "source": [
    "## font sizes\n",
    "\n",
    "https://www.24a11y.com/2019/pixels-vs-relative-units-in-css-why-its-still-a-big-deal/\n",
    "\n",
    "https://chiamakaikeanyi.dev/sizing-in-css-px-vs-em-vs-rem/\n"
   ]
  },
  {
   "cell_type": "markdown",
   "id": "4db7897c",
   "metadata": {},
   "source": [
    "## Warning about old versions\n",
    "\n",
    "[ReadTheDocs has a mechanism](https://docs.readthedocs.io/en/latest/versions.html) to warn the user if he's looking at an old version of the site, but we found it doesn't work much for course-based documentation. So for versioning we think it's better to adopt a mixed git branch / tags devlopment model, and we added a template warning to show in old branches. To enable it in an old branch, just rename [_templates/breadcrumbs.html.bak](../_templates/breadcrumbs.html.bak) into `_templates/breadcrumbs.html` and edit as needed."
   ]
  },
  {
   "cell_type": "markdown",
   "id": "7997c964",
   "metadata": {},
   "source": [
    "\n",
    "## Fix nbsphinx to create rst files \n",
    "\n",
    "Sometimes nbsphinx does not report properly RST conversion errors ([see bug](https://github.com/DavidLeoni/jupman/issues/9)). As a hacky workaround, you might take the `nbsphinx.py` from `~/.local/lib/python3.5/site-packages/` , make a copy of it in your project home and patch it  [like this](https://github.com/DavidLeoni/jupman/commit/0f332629ce4e2b0186c954c55aea7fa67992ace9#diff-bd3d9c4d2e80ed83fd2443d1301aa65bR649) \n",
    "When you call sphinx, it will generate RST files in `_build/jupman-rst/`.\n",
    "\n",
    "Of course, things can be cleaner using a virtual env [with venv](https://docs.python.org/3/library/venv.html)"
   ]
  },
  {
   "cell_type": "markdown",
   "id": "4696aaf4",
   "metadata": {},
   "source": [
    "## Git performance notes\n",
    "\n",
    "Current suggested setup for hosting on Github is creating branch gh-pages and using Github Actions to populate it with html, zips, pdf and epub files. While keeping all that stuff versioned may seem pretty inefficient, apparently git is [pretty good](https://stackoverflow.com/a/48305739) at compressing binary files \n",
    "\n",
    "The size of `.git` repo for a 1000 pdf page project SoftPython with 300 commits and 100 MB of code is:\n",
    "\n",
    "```\n",
    ".git: 183 MB\n",
    "```\n",
    "\n",
    "By truncating gh-pages to last commit and garbage collecting, we get:\n",
    "\n",
    "```\n",
    ".git: 139 MB\n",
    "```\n",
    "\n",
    "If we completely remove gh-pages branch, we get:\n",
    "\n",
    "```\n",
    ".git: 68.7 MB\n",
    "```\n",
    "\n",
    "So gh-pages size is:\n",
    "\n",
    "- one commit: 70.3 MB\n",
    "- 300 commits: 114.3 MB\n",
    "\n",
    "which is not even double than source code git size. \n",
    "\n",
    "If the repo gets really huge, in order to to shrink it some git knowledge is required.\n",
    "\n",
    "**If the repo is served from another server** and you want to truncate that server git repo:\n",
    "\n",
    "On that server console:\n",
    "\n",
    "1. first make sure you are on `gh-pages` branch:\n",
    "\n",
    "```bash\n",
    "git checkout gh-pages\n",
    "```\n",
    "\n",
    "2. truncates previous commits:\n",
    "```bash\n",
    "git fetch --depth=1 origin gh-pages\n",
    "```\n",
    "\n",
    "3. removes various links around which may still point to old commits:\n",
    "\n",
    "```bash\n",
    "git reflog expire --expire-unreachable=now --all\n",
    "```\n",
    "\n",
    "4. actually deletes from disk old commits:\n",
    "\n",
    "```bash\n",
    "git gc --aggressive --prune=all \n",
    "```\n",
    "\n",
    "Note the result of truncation cannot be pushed back to origin as git would complain it is a _shallow_ branch."
   ]
  },
  {
   "cell_type": "code",
   "execution_count": null,
   "id": "d0c01f2e",
   "metadata": {},
   "outputs": [],
   "source": []
  }
 ],
 "metadata": {
  "kernelspec": {
   "display_name": "Python 3 (ipykernel)",
   "language": "python",
   "name": "python3"
  },
  "language_info": {
   "codemirror_mode": {
    "name": "ipython",
    "version": 3
   },
   "file_extension": ".py",
   "mimetype": "text/x-python",
   "name": "python",
   "nbconvert_exporter": "python",
   "pygments_lexer": "ipython3",
   "version": "3.7.10"
  },
  "toc": {
   "base_numbering": 1,
   "nav_menu": {},
   "number_sections": false,
   "sideBar": true,
   "skip_h1_title": false,
   "title_cell": "Table of Contents",
   "title_sidebar": "Contents",
   "toc_cell": false,
   "toc_position": {},
   "toc_section_display": true,
   "toc_window_display": true
  }
 },
 "nbformat": 4,
 "nbformat_minor": 5
}
