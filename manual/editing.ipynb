{
 "cells": [
  {
   "cell_type": "markdown",
   "id": "3bc5c3e8",
   "metadata": {},
   "source": [
    "# Editing worksheets\n",
    "\n",
    "Here we give an overview of how to edit worksheets. More info can be found in [Tests notebook](tests.ipynb)\n",
    "\n"
   ]
  },
  {
   "cell_type": "markdown",
   "id": "99242a7f",
   "metadata": {},
   "source": [
    "## Common files\n",
    "\n",
    "There are a bunch of files common to all worksheets and possibly website \n",
    "\n",
    "_You do not need to change them (except maybe_ `my_lib.py`_)_\n",
    "\n",
    "|File|Description|Jupyter|Website|Student zips|\n",
    "|----|-----------|-------|-------|------------|\n",
    "|[jupman_tools.py](https://github.com/DavidLeoni/jupman/blob/master/jupman_tools.py)|back end stuff   |X|-| |\n",
    "|[jupman.py](https://github.com/DavidLeoni/jupman/blob/master/jupman.py)|utilities for worksheets     |X|-|X|\n",
    "|[my_lib.py](https://github.com/DavidLeoni/jupman/blob/master/jupman.py)|custom utilities example     |X|-|X|\n",
    "|[_static/js/jupman.js](https://github.com/DavidLeoni/jupman/blob/master/_static/js/jupman.js)|Javascript code                                                                                                             |X|X|X|\n",
    "|[_static/css/jupman.css](https://github.com/DavidLeoni/jupman/blob/master/_static/css/jupman.css)|CSS|X|X|X|\n",
    "|[_static/css/jupman-web.css](https://github.com/DavidLeoni/jupman/blob/master/_static/css/jupman-web.css)|CSS||X| |\n"
   ]
  },
  {
   "cell_type": "markdown",
   "id": "0eb2bb90",
   "metadata": {},
   "source": [
    "## Running Jupyter\n",
    "\n",
    "First of all, run Jupyter from the root directory:\n",
    "\n",
    "\n",
    "```bash\n",
    "    jupyter notebook\n",
    "```\n"
   ]
  },
  {
   "cell_type": "markdown",
   "id": "b63deb95",
   "metadata": {},
   "source": [
    "## Source code for chapters\n",
    "\n",
    "Put chapters one per folder, in the root. Any folder which doesn't start with underscore `_`  or `exam/` will be considered a chapter.\n",
    "\n",
    "During build, each chapter gets automatically zipped and zip goes to `_static/generated`. So for example, `python-example/` produces a zip called `_static/generated/python-example.zip`, which will have these contents:\n",
    "\n",
    "```\n",
    "\n",
    "\n",
    "python-example\n",
    "    _static\n",
    "       js\n",
    "          jupman.js\n",
    "          toc.js\n",
    "       css\n",
    "          jupman.css\n",
    "       img\n",
    "          cc-by.png\n",
    "    python-example.ipynb         \n",
    "    lab.py      \n",
    "    lab_test.py\n",
    "    lab_sol.py\n",
    "    jupman.py\n",
    "    my_lib.py\n",
    "```\n",
    "\n",
    "\n",
    "The zip folder structure will be a merge of chapter files and files shared by all chapters which are specified in  `exercises_common_files` variable in [conf.py](../conf.py). Since the root in the zip becomes the chapter itself, jupman will process `.py` and `.ipynb` files for fixing eventual relative imports. Markdown, HTML and CSS links in ipynb will also be adjusted.\n",
    "\n",
    "Exercise files can be automatically generated from solutions, as we will see next."
   ]
  },
  {
   "cell_type": "markdown",
   "id": "f101bec6",
   "metadata": {},
   "source": [
    "\n",
    "## Exercise types\n",
    "\n",
    "There are four types of exercises: \n",
    "\n",
    "1. Python files\n",
    "2. Jupyter files\n",
    "3. mixed Jupyter and Python exercises\n",
    "\n",
    "You can automatically generate an exercise from a solution file by stripping text marked with special tags. You can inspect generated files in `_build/jupman/` directory\n",
    "\n",
    "On the website, students will be able to see solutions by clicking on appropriate buttons.\n",
    "\n",
    "In the zips to download, two versions of files will provided, one without solution and one with solutions (in exam modality of course no solution will be shipped)"
   ]
  },
  {
   "cell_type": "markdown",
   "id": "a2def6b3",
   "metadata": {},
   "source": [
    "### Exercises in Python files\n",
    "\n",
    "See [python-example/python-example.ipynb](../python-example/python-example.ipynb)\n",
    "\n",
    "\n",
    "In this type of exercises, you typically have a Jupyter file (like `python-example.ipynb`) that describes the exercise and then the actual exercises are in Python files. \n",
    "\n",
    "\n",
    "If there is a solution file `FILE_sol.py` ending in `_sol.py` but no corresponding exercise file `FILE.py` without the `_sol`: \n",
    "\n",
    "then Jupman will try to generate `FILE.py` one from `FILE_sol.py`. To do so, it will look for tags to strip inside the solution file.\n",
    "\n",
    "If there is already an exercise file like this: \n",
    "\n",
    "* `python_intro.py`\n",
    "* `python_intro_sol.py`\n",
    "\n",
    "Jupman will just copy the existing file."
   ]
  },
  {
   "cell_type": "markdown",
   "id": "f891c63d",
   "metadata": {},
   "source": [
    "### Exercises in Jupyter files\n",
    "\n",
    "See example: [jupyter-example/jupyter-example-sol.ipynb](../jupyter-example/jupyter-example-sol.ipynb)\n",
    "\n",
    "This type of exercises stay in a Jupyter notebook itself.\n",
    "\n",
    "If there is a notebook ending in `-sol.ipynb`, the following applies (**WARNING**: for `ipynb` files we use dash `-`, _not_ the underscore `_`):\n",
    "\n",
    "- the notebook must contain tags to strip\n",
    "- exercises derived will have 'EXERCISES' appended to the title (the word can be customized in `conf.py` - you might need to translate it)"
   ]
  },
  {
   "cell_type": "markdown",
   "id": "e3a1b727",
   "metadata": {},
   "source": [
    "### Exercises both in Jupyter and Python files\n",
    "\n",
    "See [jup-and-py-example/jup-and-py-example-sol.ipynb](../jup-and-py-example/jup-and-py-example-sol.ipynb)"
   ]
  },
  {
   "cell_type": "markdown",
   "id": "6132a788",
   "metadata": {},
   "source": [
    "### Challenges\n",
    "\n",
    "<div class=\"alert alert-warning\">\n",
    "    \n",
    "This is an experimental feature, current implementation is subject to change.\n",
    "   \n",
    "</div>\n",
    "\n",
    "Challenges are solutions which remain unpublished and from which exercises are generated **in the same original older** where the solution resides (not only in the zip!). Challenge files  can be both Jupyter notebooks or Python files, ending in `-chal-sol.ipynb` or `_chal_sol.py`.  \n",
    "\n",
    "The idea is that challenges solutions are gitignored, and exercises are manually generated by  calling `jupman.generate_exercise()` inside a Jupyter notebook like this:\n",
    "\n",
    "```python\n",
    "#jupman-purge\n",
    "import sys; sys.path.append('../'); from conf import jm;\n",
    "jm.generate_exercise('great_chal_sol.py')\n",
    "#/jupman-purge\n",
    "```\n",
    "\n",
    "It is a bit laborious but the idea is that typically you will also want to  run and see tests results in Jupyter notebook so you can do it in the same final cell, which you will also probably want to set in cell metadata `\"nbsphinx\":\"hidden\"`\n",
    "\n",
    "* the solution notebook must contain tags to strip and have SOLUTIONS at the end of the title  (the word can be customized in `conf.py` - you might need to translate it)"
   ]
  },
  {
   "cell_type": "markdown",
   "id": "a399802f",
   "metadata": {},
   "source": [
    "## File filtering\n",
    "\n",
    "You would think setting which files to ignore is an easy topic: alas, it is not. \n",
    "\n",
    "There are multiple ways to filter files:\n",
    "\n",
    "1. `.gitignore`\n",
    "2. Sphinx  [exclude_patterns](https://www.sphinx-doc.org/en/master/usage/configuration.html#confval-exclude_patterns) / [include_patterns](https://www.sphinx-doc.org/en/master/usage/configuration.html#confval-include_patterns) (excludes take priority over includes)\n",
    "3. jupman `zip_ignore` property\n",
    "\n",
    "Since Sphinx doesn't recognize `.gitignore` files (as of December 2023) which leads to configuration duplication, to streamline handling by calling `jupman_tools.init_exclude_patterns` in `conf.py` you can load `.gitignore` content into Sphinx param `exclude_patterns`. \n",
    "\n",
    "![File filtering](img/file-filtering.svg)\n",
    "\n",
    "NOTE: this is not an actual Venn diagram, it only tries to give the idea."
   ]
  },
  {
   "cell_type": "markdown",
   "id": "40ccd81b",
   "metadata": {},
   "source": [
    "\n",
    "**A typical example**\n",
    "\n",
    "|local source        | published source     | published html     | published zip       | notes       |\n",
    "|--------------------|----------------------|--------------------|---------------------|-------------|\n",
    "|tutorial.ipynb      | tutorial.ipynb       | tutorial.html      | tutorial.ipynb      |             |             \n",
    "|tutorial-sol.ipynb  | tutorial-sol.ipynb   | tutorial-sol.html  | tutorial-sol.ipynb  |             |\n",
    "|tutorial-chal-sol.ipynb|tutorial-chal.ipynb| tutorial-chal.html | tutorial-chal.ipynb |             |\n",
    "|prep/raw_data.csv   |                      |                    | | |\n",
    "|prep/raw_script.csv |                      |                    | | |\n",
    "|img/pic.jpg         | _moved by sphinx_    | img/pic.jpg        | img/pic.jpg         |             |\n",
    "|vid/big-video.mpg   | _moved by sphinx_    | vid/big-video.mpg  |                     |             |\n",
    "|small-dataset.csv   | small-dataset.csv    | small-dataset.csv  | small-dataset.csv   |             |   \n",
    "|big-dataset.csv     | big-dataset.csv      | big-dataset.csv    |                     |             |\n",
    "|small-output.json   | small-output.json    | small-output.json  |                     |             |\n",
    "|big-output.json     | big-output.json      | big-output.json    |                     |             |\n",
    "|small-expected-output.json| small-expected-output.json    | small-expected-output.json  | small-expected-output.json   |           |\n",
    "|big-expected-output.json  | big-expected-output.json    | big-expected-output.json  | |             |"
   ]
  },
  {
   "cell_type": "markdown",
   "id": "c8ec457e",
   "metadata": {},
   "source": [
    "**Output handling**\n",
    "\n",
    "When a solution creates some output file, to prevent confusion it's best to _show_ in the tutorial the creation of a file like `output.json` and in the solution actually create a file `expected_output.json` with  code marked with `jupman-purge`. This way the student will hopefully write code which creates `output.json` without overwriting the existing `expected-output.json` which can he can then use for testing and comparison. \n",
    "\n",
    "**Caveats**\n",
    "\n",
    "- as of Jupman 3.6, negative patterns in `.gitignore` are not currently longer supported (a limitation due to [igittigitt](https://github.com/bitranox/igittigitt) lib we use to load .gitignore file)\n",
    "- notice `.gitignore` allows patterns beginning with `/` but sphinx doesn't - the loader takes care of eliminating the initial slash\n"
   ]
  },
  {
   "cell_type": "markdown",
   "id": "d01aaf40",
   "metadata": {},
   "source": [
    "## Solution tags\n",
    "\n",
    "Presence of these tags marks a cell as a solution.\n",
    "\n",
    "Start tags begin with a `#` while end tags begin with a `#\\`"
   ]
  },
  {
   "cell_type": "markdown",
   "id": "ad454074",
   "metadata": {},
   "source": [
    "### jupman-raise\n",
    "\n",
    "Replaces code inside with an Exception (text is customizable in `conf.py`). Be careful to position the comment exactly with the indentation yuoi want the raise to appear. For example:\n",
    "\n",
    "```python\n",
    "\n",
    "def add(x,y):   \n",
    "    #jupman-raise\n",
    "    return x + y\n",
    "    #/jupman-raise\n",
    "\n",
    "```\n",
    "\n",
    "becomes\n",
    "\n",
    "```python\n",
    "\n",
    "def add(x,y):   \n",
    "    raise Exception('TODO IMPLEMENT ME !')\n",
    "\n",
    "```\n",
    "\n"
   ]
  },
  {
   "cell_type": "markdown",
   "id": "bf04e0b7",
   "metadata": {},
   "source": [
    "### jupman-strip\n",
    "\n",
    "Just strips code inside exercises\n",
    "\n",
    "```python\n",
    "def f(x):\n",
    "    print(x)\n",
    "    \n",
    "#jupman-strip\n",
    "def help_func(x,y):\n",
    "    return x - y\n",
    "#/jupman-strip\n",
    "\n",
    "def g(y):\n",
    "    return y\n",
    "```\n",
    "\n",
    "becomes\n",
    "\n",
    "```python\n",
    "def f(x):\n",
    "    print(x)\n",
    "\n",
    "def g(y):\n",
    "    return y\n",
    "    \n",
    "```\n",
    "\n"
   ]
  },
  {
   "cell_type": "markdown",
   "id": "a41d8558",
   "metadata": {},
   "source": [
    "### write here\n",
    "\n",
    "This special tag for python code erases whatever is found afterwards the `# write here` **line**\n",
    "\n",
    "* you can put how many spaces you want in the comment\n",
    "* phrase can be customized in `conf.py`\n",
    "\n",
    "```python\n",
    "\n",
    "w = 5\n",
    "\n",
    "#  write  here  fast please\n",
    "\n",
    "x = 5 + w\n",
    "y = 2 + x\n",
    "```\n",
    "\n",
    "becomes\n",
    "\n",
    "```python\n",
    "\n",
    "w = 5\n",
    "\n",
    "#  write  here  fast please\n",
    "\n",
    "\n",
    "```\n"
   ]
  },
  {
   "cell_type": "markdown",
   "id": "0c742784",
   "metadata": {},
   "source": [
    "### SOLUTION\n",
    "\n",
    "In a code cell, if you put `# SOLUTION` at the beginning the whole cell cell content gets deleted (`# SOLUTION` string included).\n",
    "\n",
    "* Word can be customized in `conf.py`\n",
    "\n",
    "\n",
    "```\n",
    "# SOLUTION\n",
    "\n",
    "def f():\n",
    "    print('hello')\n",
    "```\n",
    "\n",
    "becomes nothing:\n"
   ]
  },
  {
   "cell_type": "code",
   "execution_count": null,
   "id": "1fcc9a3c",
   "metadata": {},
   "outputs": [],
   "source": []
  },
  {
   "cell_type": "markdown",
   "id": "6a9157b6",
   "metadata": {},
   "source": [
    "### QUESTION - ANSWER\n",
    "\n",
    "In a markdown cell, everything in a cell with `**ANSWER**:` inside will be stripped. \n",
    "\n",
    "* Markdown can be customized in `conf.py`"
   ]
  },
  {
   "cell_type": "markdown",
   "id": "6511f63c",
   "metadata": {},
   "source": [
    "**QUESTION**: Describe why iPhone n+1 is better than iPhone n"
   ]
  },
  {
   "cell_type": "markdown",
   "id": "3fe8f2d3",
   "metadata": {},
   "source": [
    "<b>ANSWER</b>: it costs more"
   ]
  },
  {
   "cell_type": "markdown",
   "id": "ac3fe719",
   "metadata": {},
   "source": [
    "Becomes:"
   ]
  },
  {
   "cell_type": "markdown",
   "id": "93dcae49",
   "metadata": {},
   "source": [
    "**QUESTION**: Describe why iPhone n+1 is better than iPhone n"
   ]
  },
  {
   "cell_type": "code",
   "execution_count": null,
   "id": "2e2c9e0a",
   "metadata": {},
   "outputs": [],
   "source": []
  },
  {
   "cell_type": "markdown",
   "id": "a4784d03",
   "metadata": {},
   "source": [
    "## Directive tags\n",
    "\n",
    "Some tags change the preprocessor behaviour. They are applied before solution tags."
   ]
  },
  {
   "cell_type": "markdown",
   "id": "3042741f",
   "metadata": {},
   "source": [
    "### jupman-purge\n",
    "\n",
    "Eliminate content both from exercises AND solutions. Can be helpful when you have code which creates expected output, like images or python data - the idea is to completely remove code so so students don't accidentally copy-paste it or uncomment it.\n",
    "\n",
    "* `jupman-purge-input`: purges only cell source\n",
    "* `jupman-purge-output`: purges only cell output\n",
    "* `jupman-purge-io` : purges both input and output\n",
    "\n",
    "`jupman-purge` purges only a span:\n",
    "\n",
    "```python\n",
    "x=5\n",
    "#jupman-purge\n",
    "plt.savefig('expected_image.png')\n",
    "jupman.save_py('expected_output_db.py', ['big', 'data', 'structure']*1000)    \n",
    "#/jupman-purge\n",
    "x=6\n",
    "```\n",
    "becomes\n",
    "\n",
    "```python\n",
    "x=5\n",
    "x=6\n",
    "```"
   ]
  },
  {
   "cell_type": "markdown",
   "id": "f6397597",
   "metadata": {},
   "source": [
    "### jupman-preprocess\n",
    "\n",
    "By default  only notebooks solutions (ending in `-sol.ipynb`) are preprocessed before  html conversion begins.  If you want to force preprocessing on a particular non-solution notebook, add this in the first cell:\n",
    "\n",
    "```python\n",
    "#jupman-preprocess\n",
    "```"
   ]
  },
  {
   "cell_type": "markdown",
   "id": "4341fb36",
   "metadata": {},
   "source": [
    "## Hiding cells\n",
    "\n",
    "A way to hide cells (like for example the `import jupman` code) is by clicking `View->Cell toolbar -> Edit metadata` and adding `\"nbsphinx\": \"hidden\"` to the JSON (see also original [NBSphinx docs](\n",
    "https://nbsphinx.readthedocs.io/en/0.2.14/hidden-cells.html#Hidden-Cells\n",
    ") and [Togglable cells in Jupman tests](tests.ipynb#Togglable-cells) ).\n",
    "\n",
    "**NOTE 1**: As of NBSphinx 2.17, it is not possible to hide only cell text but not the output."
   ]
  },
  {
   "cell_type": "markdown",
   "id": "80c991e4",
   "metadata": {},
   "source": [
    "## Info boxes\n",
    "\n",
    "\n",
    "Supported boxes are inherited from NBSphinx with `div` classes `\"alert alert-info\"`,  `\"alert alert-warning\"`\n",
    "\n",
    "See [Rendering tests](http://127.0.0.1:8888/notebooks/jupman/jupman-3.5.1/manual/tests.ipynb#Info/Warning-Boxes) for examples.\n",
    "\n",
    "Plus we add `jupman-alert-principle`: some alerts to be often reminded can be preceded with an empty `div` having class `jupman-alert-principle` followed by a regular alert box, so they will display as you want on the website and as fallback boxes in the pdf (did this way as we can't add classes nor other attributes, tried also `data-jupman` html attributes with no success)\n",
    "\n",
    "**NOTE**: default colors are indicative and minimal on purpose, for a better view see [softpython themed version](https://jupman.softpython.org/themed/manual/tests.html#jupman-alert-principle)\n",
    "\n",
    "**Recommended approach**: The typical principle alert should be brief and may have a link to more substantial text, with a short line under it.  If you need more explicative text, put it outside:"
   ]
  },
  {
   "cell_type": "markdown",
   "id": "4d21d6cb",
   "metadata": {},
   "source": [
    "```html\n",
    "<div class=\"jupman-alert-principle\"></div>\n",
    "<div class=\"alert alert-info\">\n",
    "\n",
    "[IV PRINCIPLE](https://jupman.softpython.org/principles.html#V-PRINCIPLE): **You shall write tests!**\n",
    "    \n",
    "Who does **not** writes tests, falls into _Debugging Hell_!\n",
    "</div>                 \n",
    "```"
   ]
  },
  {
   "cell_type": "markdown",
   "id": "1c5f6e4c",
   "metadata": {},
   "source": [
    "<div class=\"jupman-alert-principle\"></div>\n",
    "<div class=\"alert alert-info\">\n",
    "\n",
    "[IV PRINCIPLE](https://jupman.softpython.org/principles.html#IV-PRINCIPLE): **You shall write tests!**\n",
    "\n",
    "Who does **not** writes tests, falls into _Debugging Hell_! \n",
    "</div>"
   ]
  },
  {
   "cell_type": "markdown",
   "id": "bae7131f",
   "metadata": {},
   "source": [
    "## Utilities  \n",
    "\n",
    "\n",
    "**NOTE**: not mandatory, it's mostly intended to tweak notebooks downloaded locally. Should be avoided in notebooks meant for students, as it's more likely it will mess their configurations - also, they might copy the notebooks without knowing they contain the custom js and use weird extensions which could generate conflicts (such as double toc)\n",
    "\n",
    "For notebooks in the root folder:\n",
    "\n",
    "```python\n",
    "import jupman\n",
    "```\n",
    "Worksheets in in subfolders can use `sys.path` to locate the module\n",
    "\n",
    "```python\n",
    "import sys\n",
    "sys.path.append('../')\n",
    "import jupman\n",
    "```\n",
    "Some reason for this ugliness is reported in [this issue](https://github.com/DavidLeoni/jupman/issues/12)."
   ]
  },
  {
   "cell_type": "markdown",
   "id": "eff2573a",
   "metadata": {},
   "source": [
    "## Launch unit tests\n",
    "\n",
    "Inside worksheets you can run `unittest` tests. \n",
    "\n",
    "To run all the tests of a test class, write like this\n",
    "\n",
    "```python\n",
    "jupman.run(NameOfTheTestClass)\n",
    "```\n",
    "\n",
    "To run a single method, write like this:\n",
    "\n",
    "```python\n",
    "jupman.run(NameOfTheTestClass.nameOfTheMethod)\n",
    "```\n"
   ]
  },
  {
   "cell_type": "markdown",
   "id": "8b562ed3",
   "metadata": {},
   "source": [
    "## Python Tutor\n",
    "\n",
    "Among the various ways to embed Python Tutor, we decided to implement a special `jupman.pytut()` method. First you need to import the jupman module:"
   ]
  },
  {
   "cell_type": "code",
   "execution_count": 1,
   "id": "c594c6f9",
   "metadata": {},
   "outputs": [],
   "source": [
    "import sys\n",
    "sys.path.append('../')\n",
    "import jupman"
   ]
  },
  {
   "cell_type": "markdown",
   "id": "54dcc344",
   "metadata": {},
   "source": [
    "Then you can put a call to `jupman.pytut()` at the end of a cell, and the cell code will magically appear in python tutor in the output (except the call to `pytut()` of course). To see Python Tutor you don't need to be online"
   ]
  },
  {
   "cell_type": "code",
   "execution_count": 2,
   "id": "4287ea38",
   "metadata": {},
   "outputs": [
    {
     "data": {
      "text/html": [
       "        \n",
       "        <script src=\"../_static/js/pytutor-embed.bundle.min.js\" type=\"application/javascript\"></script>\n",
       "    \n",
       "        <style>\n",
       "        @import \"../_static/css/jupman.css\";\n",
       "        </style>\n",
       "     \n",
       "        <script id=\"json-jm-bd043a0e3fa82bc4882c4f23fa7f36ad-4\" type=\"application/json\" >\n",
       "            {\"code\": \" \\nx = [5,8,4]\\ny= {3:9}\\nz = [x]\", \"trace\": [{\"line\": 2, \"event\": \"step_line\", \"func_name\": \"<module>\", \"globals\": {}, \"ordered_globals\": [], \"stack_to_render\": [], \"heap\": {}, \"stdout\": \"\"}, {\"line\": 3, \"event\": \"step_line\", \"func_name\": \"<module>\", \"globals\": {\"x\": [\"REF\", 1]}, \"ordered_globals\": [\"x\"], \"stack_to_render\": [], \"heap\": {\"1\": [\"LIST\", 5, 8, 4]}, \"stdout\": \"\"}, {\"line\": 4, \"event\": \"step_line\", \"func_name\": \"<module>\", \"globals\": {\"x\": [\"REF\", 1], \"y\": [\"REF\", 2]}, \"ordered_globals\": [\"x\", \"y\"], \"stack_to_render\": [], \"heap\": {\"1\": [\"LIST\", 5, 8, 4], \"2\": [\"DICT\", [3, 9]]}, \"stdout\": \"\"}, {\"line\": 4, \"event\": \"return\", \"func_name\": \"<module>\", \"globals\": {\"x\": [\"REF\", 1], \"y\": [\"REF\", 2], \"z\": [\"REF\", 3]}, \"ordered_globals\": [\"x\", \"y\", \"z\"], \"stack_to_render\": [], \"heap\": {\"1\": [\"LIST\", 5, 8, 4], \"2\": [\"DICT\", [3, 9]], \"3\": [\"LIST\", [\"REF\", 1]]}, \"stdout\": \"\"}]}\n",
       "        </script>\n",
       "        <div id=\"jm-bd043a0e3fa82bc4882c4f23fa7f36ad-4\" class=\"pytutorVisualizer\"> </div>\n",
       "                        \n",
       "        <script>\n",
       "        \n",
       "        (function(){\n",
       "            console.log(\"jupman.py embedded javascript: adding Python tutor visualizer...\")\n",
       "            \n",
       "            var trace = JSON.parse(document.getElementById('json-jm-bd043a0e3fa82bc4882c4f23fa7f36ad-4').innerHTML);                                        \n",
       "            // NOTE: id without #\n",
       "                    \n",
       "            addVisualizerToPage(trace, 'jm-bd043a0e3fa82bc4882c4f23fa7f36ad-4',{'embeddedMode' : false,\n",
       "                                             'disableHeapNesting': true,\n",
       "                                             'visualizerIdOverride':'viz-jm-bd043a0e3fa82bc4882c4f23fa7f36ad-4'})  \n",
       "            \n",
       "            \n",
       "            // set overflow for pytuts - need to do in python as css \n",
       "            // does not allow parent selection\n",
       "            var pytuts = $('.pytutorVisualizer')\n",
       "            pytuts.closest('div.output_html.rendered_html.output_result')\n",
       "                    .css('overflow-x', 'visible')\n",
       "        \n",
       "            //pytuts.closest('div.output_html.rendered_html.output_result')\n",
       "            //      .css('background-color','red')                \n",
       "            \n",
       "        })()\n",
       "        </script>\n",
       "                \n",
       "    \n",
       "    <div style=\"text-align:center; font-size:0.9em\"> <a href=\"https://pythontutor.com/visualize.html#mode=edit\" target=\"_blank\">Python Tutor</a> visualization</div> \n",
       "    "
      ],
      "text/plain": [
       "<IPython.core.display.HTML object>"
      ]
     },
     "execution_count": 2,
     "metadata": {},
     "output_type": "execute_result"
    }
   ],
   "source": [
    "x = [5,8,4]\n",
    "y= {3:9}\n",
    "z = [x]\n",
    "\n",
    "jupman.pytut()\n"
   ]
  },
  {
   "cell_type": "markdown",
   "id": "bc6227f9",
   "metadata": {},
   "source": [
    "Beware of variables which were initialized in previous cells, they won't be available in Python Tutor and you will get an error:"
   ]
  },
  {
   "cell_type": "code",
   "execution_count": 3,
   "id": "cc37c8a1",
   "metadata": {},
   "outputs": [],
   "source": [
    "w = 8\n"
   ]
  },
  {
   "cell_type": "code",
   "execution_count": 4,
   "id": "ec2fae0b",
   "metadata": {
    "scrolled": false
   },
   "outputs": [
    {
     "name": "stderr",
     "output_type": "stream",
     "text": [
      "Traceback (most recent call last):\n",
      "  File \"../jupman.py\", line 2453, in _runscript\n",
      "    self.run(script_str, user_globals, user_globals)\n",
      "  File \"/usr/lib/python3.7/bdb.py\", line 578, in run\n",
      "    exec(cmd, globals, locals)\n",
      "  File \"<string>\", line 2, in <module>\n",
      "NameError: name 'w' is not defined\n"
     ]
    },
    {
     "data": {
      "text/html": [
       "        \n",
       "        <script src=\"../_static/js/pytutor-embed.bundle.min.js\" type=\"application/javascript\"></script>\n",
       "    \n",
       "        <style>\n",
       "        @import \"../_static/css/jupman.css\";\n",
       "        </style>\n",
       "     \n",
       "        <script id=\"json-jm-9e3b324a5fd4bb62d93772404e88cfbc-6\" type=\"application/json\" >\n",
       "            {\"code\": \" \\nx =  w + 5\", \"trace\": [{\"line\": 2, \"event\": \"step_line\", \"func_name\": \"<module>\", \"globals\": {}, \"ordered_globals\": [], \"stack_to_render\": [], \"heap\": {}, \"stdout\": \"\"}, {\"line\": 2, \"event\": \"exception\", \"func_name\": \"<module>\", \"globals\": {}, \"ordered_globals\": [], \"stack_to_render\": [], \"heap\": {}, \"stdout\": \"\", \"exception_msg\": \"NameError: name 'w' is not defined\"}]}\n",
       "        </script>\n",
       "        <div id=\"jm-9e3b324a5fd4bb62d93772404e88cfbc-6\" class=\"pytutorVisualizer\"> </div>\n",
       "                        \n",
       "        <script>\n",
       "        \n",
       "        (function(){\n",
       "            console.log(\"jupman.py embedded javascript: adding Python tutor visualizer...\")\n",
       "            \n",
       "            var trace = JSON.parse(document.getElementById('json-jm-9e3b324a5fd4bb62d93772404e88cfbc-6').innerHTML);                                        \n",
       "            // NOTE: id without #\n",
       "                    \n",
       "            addVisualizerToPage(trace, 'jm-9e3b324a5fd4bb62d93772404e88cfbc-6',{'embeddedMode' : false,\n",
       "                                             'disableHeapNesting': true,\n",
       "                                             'visualizerIdOverride':'viz-jm-9e3b324a5fd4bb62d93772404e88cfbc-6'})  \n",
       "            \n",
       "            \n",
       "            // set overflow for pytuts - need to do in python as css \n",
       "            // does not allow parent selection\n",
       "            var pytuts = $('.pytutorVisualizer')\n",
       "            pytuts.closest('div.output_html.rendered_html.output_result')\n",
       "                    .css('overflow-x', 'visible')\n",
       "        \n",
       "            //pytuts.closest('div.output_html.rendered_html.output_result')\n",
       "            //      .css('background-color','red')                \n",
       "            \n",
       "        })()\n",
       "        </script>\n",
       "                \n",
       "    \n",
       "    <div style=\"text-align:center; font-size:0.9em\"> <a href=\"https://pythontutor.com/visualize.html#mode=edit\" target=\"_blank\">Python Tutor</a> visualization</div> \n",
       "    "
      ],
      "text/plain": [
       "<IPython.core.display.HTML object>"
      ]
     },
     "execution_count": 4,
     "metadata": {},
     "output_type": "execute_result"
    }
   ],
   "source": [
    "x =  w + 5\n",
    "jupman.pytut()"
   ]
  },
  {
   "cell_type": "markdown",
   "id": "d62b2d44",
   "metadata": {},
   "source": [
    "## Pandas\n",
    "\n",
    "Correctly rendering pandas in PDFs is not so easy ([see issue](https://github.com/DavidLeoni/jupman/issues/69)), so far we created this little function which sometimes is handy:"
   ]
  },
  {
   "cell_type": "code",
   "execution_count": 5,
   "id": "112ccacd",
   "metadata": {
    "scrolled": true
   },
   "outputs": [
    {
     "data": {
      "text/html": [
       "<div>\n",
       "<style scoped>\n",
       "    .dataframe tbody tr th:only-of-type {\n",
       "        vertical-align: middle;\n",
       "    }\n",
       "\n",
       "    .dataframe tbody tr th {\n",
       "        vertical-align: top;\n",
       "    }\n",
       "\n",
       "    .dataframe thead th {\n",
       "        text-align: right;\n",
       "    }\n",
       "</style>\n",
       "<table border=\"1\" class=\"dataframe\">\n",
       "  <thead>\n",
       "    <tr style=\"text-align: right;\">\n",
       "      <th></th>\n",
       "      <th>Name</th>\n",
       "      <th>Surname</th>\n",
       "      <th>Age</th>\n",
       "      <th>Par1</th>\n",
       "      <th>Par2</th>\n",
       "      <th>Par3</th>\n",
       "      <th>Par4</th>\n",
       "      <th>Par5</th>\n",
       "      <th>Par6</th>\n",
       "      <th>Par7</th>\n",
       "      <th>Par8</th>\n",
       "      <th>Par9</th>\n",
       "      <th>Par10</th>\n",
       "      <th>Par11</th>\n",
       "      <th>Par12</th>\n",
       "      <th>Par13</th>\n",
       "      <th>Par14</th>\n",
       "      <th>Par15</th>\n",
       "    </tr>\n",
       "  </thead>\n",
       "  <tbody>\n",
       "    <tr>\n",
       "      <th>0</th>\n",
       "      <td>Rosanna</td>\n",
       "      <td>Gippalanda</td>\n",
       "      <td>26</td>\n",
       "      <td>100</td>\n",
       "      <td>500</td>\n",
       "      <td>300</td>\n",
       "      <td>600</td>\n",
       "      <td>600</td>\n",
       "      <td>100</td>\n",
       "      <td>300</td>\n",
       "      <td>600</td>\n",
       "      <td>300</td>\n",
       "      <td>200</td>\n",
       "      <td>400</td>\n",
       "      <td>200</td>\n",
       "      <td>300</td>\n",
       "      <td>400</td>\n",
       "      <td>500</td>\n",
       "    </tr>\n",
       "    <tr>\n",
       "      <th>1</th>\n",
       "      <td>Matilda</td>\n",
       "      <td>Zampola</td>\n",
       "      <td>10</td>\n",
       "      <td>500</td>\n",
       "      <td>200</td>\n",
       "      <td>300</td>\n",
       "      <td>500</td>\n",
       "      <td>400</td>\n",
       "      <td>300</td>\n",
       "      <td>200</td>\n",
       "      <td>500</td>\n",
       "      <td>300</td>\n",
       "      <td>200</td>\n",
       "      <td>400</td>\n",
       "      <td>200</td>\n",
       "      <td>300</td>\n",
       "      <td>400</td>\n",
       "      <td>500</td>\n",
       "    </tr>\n",
       "    <tr>\n",
       "      <th>2</th>\n",
       "      <td>Mario</td>\n",
       "      <td>Cipolli</td>\n",
       "      <td>25</td>\n",
       "      <td>300</td>\n",
       "      <td>500</td>\n",
       "      <td>100</td>\n",
       "      <td>500</td>\n",
       "      <td>300</td>\n",
       "      <td>500</td>\n",
       "      <td>100</td>\n",
       "      <td>500</td>\n",
       "      <td>300</td>\n",
       "      <td>200</td>\n",
       "      <td>400</td>\n",
       "      <td>200</td>\n",
       "      <td>300</td>\n",
       "      <td>400</td>\n",
       "      <td>500</td>\n",
       "    </tr>\n",
       "    <tr>\n",
       "      <th>3</th>\n",
       "      <td>Ugo</td>\n",
       "      <td>Sgarapirri</td>\n",
       "      <td>30</td>\n",
       "      <td>100</td>\n",
       "      <td>400</td>\n",
       "      <td>200</td>\n",
       "      <td>500</td>\n",
       "      <td>300</td>\n",
       "      <td>200</td>\n",
       "      <td>600</td>\n",
       "      <td>300</td>\n",
       "      <td>300</td>\n",
       "      <td>200</td>\n",
       "      <td>400</td>\n",
       "      <td>200</td>\n",
       "      <td>300</td>\n",
       "      <td>400</td>\n",
       "      <td>500</td>\n",
       "    </tr>\n",
       "  </tbody>\n",
       "</table>\n",
       "</div>"
      ],
      "text/plain": [
       "      Name     Surname  Age  Par1  Par2  Par3  Par4  Par5  Par6  Par7  Par8  \\\n",
       "0  Rosanna  Gippalanda   26   100   500   300   600   600   100   300   600   \n",
       "1  Matilda     Zampola   10   500   200   300   500   400   300   200   500   \n",
       "2    Mario     Cipolli   25   300   500   100   500   300   500   100   500   \n",
       "3      Ugo  Sgarapirri   30   100   400   200   500   300   200   600   300   \n",
       "\n",
       "   Par9  Par10  Par11  Par12  Par13  Par14  Par15  \n",
       "0   300    200    400    200    300    400    500  \n",
       "1   300    200    400    200    300    400    500  \n",
       "2   300    200    400    200    300    400    500  \n",
       "3   300    200    400    200    300    400    500  "
      ]
     },
     "execution_count": 5,
     "metadata": {},
     "output_type": "execute_result"
    }
   ],
   "source": [
    "import pandas as pd \n",
    "    \n",
    "\n",
    "lista = [['Rosanna', 'Gippalanda', 26, 100, 500, 300, 600, 600, 100, 300, 600, 300, 200, 400, 200, 300, 400, 500],\n",
    "         ['Matilda', 'Zampola',    10, 500, 200, 300, 500, 400, 300, 200, 500, 300, 200, 400, 200, 300, 400, 500],\n",
    "         ['Mario', 'Cipolli',      25, 300, 500, 100, 500, 300, 500, 100, 500, 300, 200, 400, 200, 300, 400, 500], \n",
    "         ['Ugo', 'Sgarapirri',     30, 100, 400, 200, 500, 300, 200, 600, 300, 300, 200, 400, 200, 300, 400, 500]\n",
    "        ]\n",
    "                  \n",
    "df = pd.DataFrame(lista, columns =['Name', 'Surname', 'Age', *['Par'+str(i) for i in range(1,16)]])\n",
    "df # web"
   ]
  },
  {
   "cell_type": "code",
   "execution_count": 6,
   "id": "5ca1cf1e",
   "metadata": {
    "scrolled": true
   },
   "outputs": [
    {
     "data": {
      "image/png": "[encoded data removed]",
      "text/plain": [
       "<Figure size 1200x200 with 1 Axes>"
      ]
     },
     "metadata": {},
     "output_type": "display_data"
    }
   ],
   "source": [
    "import jupman\n",
    "jupman.draw_df(df)  # image for pdf"
   ]
  },
  {
   "cell_type": "markdown",
   "id": "1ed0b2ac",
   "metadata": {},
   "source": [
    "## Showing function help\n",
    "\n",
    "Python help is already quite good, but adds two useless extra lines and only works as a print, so we defined `jupman.get_doc`:"
   ]
  },
  {
   "cell_type": "code",
   "execution_count": 7,
   "id": "8f72e500",
   "metadata": {},
   "outputs": [
    {
     "name": "stdout",
     "output_type": "stream",
     "text": [
      "def get_doc(fun):\n",
      "    \"\"\" Returns the help of a function formatted in a faithful manner\n",
      "        \n",
      "        @since 3.3\n",
      "    \"\"\"\n"
     ]
    }
   ],
   "source": [
    "print(jupman.get_doc(jupman.get_doc))"
   ]
  },
  {
   "cell_type": "markdown",
   "id": "93bfec7f",
   "metadata": {},
   "source": [
    "## Custom js and css\n",
    "\n",
    "\n",
    "If you need custom js and/or css in a notebook, you can inject it by running\n",
    "\n",
    "```python\n",
    "jupman.init()\n",
    "```\n",
    "\n",
    "in the first cell, it will inject `jupman.js` and `jupman.css`"
   ]
  },
  {
   "cell_type": "markdown",
   "id": "8f41405c",
   "metadata": {},
   "source": [
    "## Show table of contents\n",
    "\n",
    "Since 0.8, custom toc is disabled, try instead [installing toc2 extension](quickstart.ipynb#Optional---Install-Jupyter-contrib-extensions). If you still want the jupman toc (not recommended), execute \n",
    "\n",
    "```python\n",
    "jupman.init(toc=True)\n",
    "```\n",
    "\n",
    "it will create the sidebar even when editing in Jupyter. To refresh the sidebar, just rerun  the cell.\n",
    "\n",
    "Note: hiding the `jupman.init` code cell will prevent the build system to embed the Javascript file `jupman.js` inside the page in the HTML website: this is still fine as it is fetched separately by settings in `conf.py`."
   ]
  }
 ],
 "metadata": {
  "kernelspec": {
   "display_name": "Python 3 (ipykernel)",
   "language": "python",
   "name": "python3"
  },
  "language_info": {
   "codemirror_mode": {
    "name": "ipython",
    "version": 3
   },
   "file_extension": ".py",
   "mimetype": "text/x-python",
   "name": "python",
   "nbconvert_exporter": "python",
   "pygments_lexer": "ipython3",
   "version": "3.7.17"
  },
  "toc": {
   "base_numbering": 1,
   "nav_menu": {},
   "number_sections": false,
   "sideBar": true,
   "skip_h1_title": false,
   "title_cell": "Table of Contents",
   "title_sidebar": "Contents",
   "toc_cell": false,
   "toc_position": {},
   "toc_section_display": true,
   "toc_window_display": true
  }
 },
 "nbformat": 4,
 "nbformat_minor": 5
}
