{
 "cells": [
  {
   "cell_type": "code",
   "execution_count": 1,
   "metadata": {
    "nbsphinx": "hidden"
   },
   "outputs": [
    {
     "ename": "ModuleNotFoundError",
     "evalue": "No module named 'jupman'",
     "output_type": "error",
     "traceback": [
      "\u001b[0;31m---------------------------------------------------------------------------\u001b[0m",
      "\u001b[0;31mModuleNotFoundError\u001b[0m                       Traceback (most recent call last)",
      "\u001b[0;32m/tmp/ipykernel_17029/1048070375.py\u001b[0m in \u001b[0;36m<module>\u001b[0;34m\u001b[0m\n\u001b[0;32m----> 1\u001b[0;31m \u001b[0;32mimport\u001b[0m \u001b[0mjupman\u001b[0m\u001b[0;34m\u001b[0m\u001b[0;34m\u001b[0m\u001b[0m\n\u001b[0m",
      "\u001b[0;31mModuleNotFoundError\u001b[0m: No module named 'jupman'"
     ]
    }
   ],
   "source": [
    "import jupman"
   ]
  },
  {
   "cell_type": "markdown",
   "metadata": {},
   "source": [
    "\n",
    "# Quickstart\n",
    "\n",
    "Jupman uses [NbSphinx](http://nbsphinx.readthedocs.io/) and either [ReadTheDocs](https://readthedocs.org) or [Github Actions](https://github.com/features/actions)"
   ]
  },
  {
   "cell_type": "markdown",
   "metadata": {},
   "source": [
    "## Installation\n",
    "\n",
    "(Instructions are for Ubuntu, on Windows may differ)\n",
    "\n",
    "First, on Github, fork as a template [jupman project](https://github.com/DavidLeoni/jupman) to create yours, for example `my-project`.\n",
    "\n",
    "Then, on your computer, clone the `my-project` from Github \n",
    "\n",
    "You can choose to build either on:\n",
    "\n",
    "- ReadTheDocs\n",
    "- Github Actions\n",
    "- locally with plain Sphinx\n",
    "- locally with [RTD Docker](https://github.com/DavidLeoni/readthedocs-to-actions)\n",
    "\n",
    "(Note Jupman itself is building on both ReadTheDocs and Github Actions only for testing purposes, one is enough)"
   ]
  },
  {
   "cell_type": "markdown",
   "metadata": {},
   "source": [
    "### Building with ReadTheDocs:\n",
    "\n",
    "**IMPORTANT: choose a name which is NOT already on** [ReadTheDocs](http://readthedocs.org)\n",
    "\n",
    "Create a [ReadTheDocs account](http://readthedocs.org) **using the same name as in Github**\n",
    "so the address in readthedocs will be something like _my-project.readthedocs.org_.\n",
    "\n",
    "* Use ReadTheDocs panels to link the project to your Github repository.\n",
    "* In _Admin-> Advanced settings panel_, set:\n",
    "    * _Python interpreter_ to _CPython 3.x_ \n",
    "    * _Requirements_ to `requirements-build.txt`  \n",
    "        "
   ]
  },
  {
   "cell_type": "markdown",
   "metadata": {},
   "source": [
    "### Building with Github Actions:\n",
    "\n",
    "Configure [.github/workflows/main.yml](https://github.com/DavidLeoni/jupman/blob/master/.github/workflows/main.yml) on your computer to your needs - you will need to:\n",
    "\n",
    "1. at the beginning there is an `if` which makes the workflow only work in `DavidLeoni/jupman` repository, change it with your names\n",
    "2. set RTD_PRJ_NAME \n",
    "3. If you want to publish to [Github Pages](https://pages.github.com/): everything is set, just create an empty branch `gh-pages` in an new HTML_FOLDER **before** committing - from some other folder in your file system:\n",
    "\n",
    "```bash\n",
    "git clone  YOUR_REPO_ADDRESS  HTML_FOLDER\n",
    "cd HTML_FOLDER\n",
    "git checkout --orphan gh-pages\n",
    "git rm -rf .\n",
    "touch bla\n",
    "git add .\n",
    "git commit -m \"init\"\n",
    "git push origin gh-pages\n",
    "```"
   ]
  },
  {
   "cell_type": "markdown",
   "metadata": {},
   "source": [
    "### Local build with Sphinx\n",
    "\n",
    "Assuming you are on Linux/Mac:\n",
    "\n",
    "1) Install Python 3.7+\n",
    "\n",
    "2) [Install Jupyter](http://jupyter.org/install.html)\n",
    "\n",
    "3) Install required modules:"
   ]
  },
  {
   "cell_type": "markdown",
   "metadata": {},
   "source": [
    "3.a) In a virtual environment (**recommended**) - from the root of the project, run:\n",
    "    \n",
    "```bash\n",
    "./create-env.sh\n",
    "```\n",
    "\n",
    "This will automatically install required modules in `_private/jupman_env`\n",
    "\n",
    "NOTE:  the script only works with python3.7, in case you have another version just edit the script.\n",
    "\n",
    "Afterwards, to activate the environment run:\n",
    "\n",
    "```bash\n",
    "source _private/jupman_env/bin/activate\n",
    "```\n",
    "\n",
    "to deactivate (from anywhere):   \n",
    "\n",
    "```bash   \n",
    "deactivate\n",
    "```"
   ]
  },
  {
   "cell_type": "markdown",
   "metadata": {},
   "source": [
    "3.b) without a virtual environment (**not recommended**):  From the root of the project, run:\n",
    "\n",
    "```bash\n",
    "python3 -m pip install --user -r requirements-build.txt\n",
    "```    \n",
    "\n",
    "Warning: to have reproducible builds  `requirements-build.txt` pinpoints a lot of dependencies , installing without virtual environment may mess up other python programs!"
   ]
  },
  {
   "cell_type": "markdown",
   "metadata": {},
   "source": [
    "### Optional - Running tests\n",
    "\n",
    "To check everything is working, you may want to run the tests.\n",
    "\n",
    "1. Install test dependencies: \n",
    "\n",
    "```bash\n",
    "python3 -m pip install --user -r _test/requirements-test.txt\n",
    "```\n",
    "\n",
    "2. Run the tests:\n",
    "\n",
    "```bash\n",
    "python3 -m pytest _test/*_test.py\n",
    "```\n"
   ]
  },
  {
   "cell_type": "markdown",
   "metadata": {},
   "source": [
    "### Optional - Install Jupyter contrib extensions\n",
    "\n",
    "For a better editing experience like having Table of contents and other things, do the following:\n",
    "\n",
    "\n",
    "1. install the [Jupyter contrib extensions](https://github.com/ipython-contrib/jupyter_contrib_nbextensions) package:\n",
    "\n",
    "\n",
    "If you have Anaconda:\n",
    "\n",
    "```bash\n",
    "conda install -c conda-forge jupyter_contrib_nbextensions \n",
    "```\n",
    "\n",
    "If you don't have Anaconda:\n",
    "```bash\n",
    "python3 -m pip install --user jupyter_contrib_nbextensions\n",
    "```\n",
    "\n",
    "2. Install in Jupyter:\n",
    "\n",
    "```bash\n",
    "jupyter contrib nbextension install --user\n",
    "```\n",
    "\n",
    "3. Enable extension:\n",
    "\n",
    "For being able to view table of contents while editing notebooks, install `toc2` extension:\n",
    "\n",
    "```bash\n",
    "jupyter nbextension enable toc2/main\n",
    "```\n",
    "For tocs to appear when in a document you will need to press a list button at the right-end of the toolbar.\n",
    "\n",
    "(since Jupman 0.8 custom injected tocs are disabled by default)\n",
    "\n",
    "4. For a nice GUI to install extensions, install the [Jupyter Nbextensions configurator](https://github.com/Jupyter-contrib/jupyter_nbextensions_configurator): \n",
    "\n",
    "If you have Anaconda:\n",
    "\n",
    "From Anaconda Prompt:\n",
    "```\n",
    "conda install -c conda-forge jupyter_nbextensions_configurator \n",
    "```\n",
    "\n",
    "If you don't have Anaconda:\n",
    "\n",
    "```bash\n",
    "python3 -m pip install --user jupyter_nbextensions_configurator\n",
    "```\n",
    "\n",
    "After installing, enable it: \n",
    "\n",
    "```bash\n",
    "jupyter nbextensions_configurator enable --user\n",
    "```\n",
    "and then start Jupyter, in file browser look for a `Nbextensions` tab \n",
    "   \n"
   ]
  },
  {
   "cell_type": "markdown",
   "metadata": {},
   "source": [
    "    \n",
    "## Configure\n",
    "\n",
    "1. Edit [conf.py](https://github.com/DavidLeoni/jupman/blob/master/conf.py) as needed, which is the configuration file for Sphinx. In particular, you **MUST** edit the sections marked with **TODO**\n",
    "2. Try launching build:\n",
    "\n",
    "    ```bash\n",
    "    python3 build.py\n",
    "    ```\n",
    "    For more info, see [related section](#Building-the-manual)\n",
    "3. If everything works fine on your computer, push changes back to Github\n",
    "4. Go back to ReadTheDocs and try to run a build. Hopefully your project will become available on something like _my-project.readthedocs.org_\n",
    "5. If you want to grade exams, see [Exams management](exams-management.ipynb) page.\n",
    "\n",
    "You should now be ready to create your notebooks by launching from the project root:\n",
    "\n",
    "```bash\n",
    " jupyter notebook\n",
    "```\n",
    "\n",
    "6. If you wish your notebooks to appear in the generated manual, you have to add them in the `toc.rst` file.\n",
    "\n",
    "    **NOTE**: the page [toc-page.rst](https://github.com/DavidLeoni/jupman/blob/master/toc-page.rst), which is set to be the `master_doc` of Sphinx, will just load the actual Table of Contents which is in [toc.rst](https://github.com/DavidLeoni/jupman/blob/master/toc.rst). It looks a bit convoluted because when it comes to indexes Sphinx is not much reliable,  [see this issue](https://github.com/DavidLeoni/jupman/issues/11) . We strongly advise *not* to change these settings !\n",
    "7. edit the home, which is in  the [index.ipynb](https://github.com/DavidLeoni/jupman/blob/master/index.ipynb) file\n",
    "\n"
   ]
  },
  {
   "cell_type": "markdown",
   "metadata": {},
   "source": [
    "## Build the manual\n",
    "\n",
    "\n",
    "**For a quick build** that only produces html:\n",
    "\n",
    "```bash\n",
    "python3 build.py -q\n",
    "```\n",
    "\n",
    "Site will be created in `_build/` folder.\n",
    "\n",
    "\n",
    "For help: \n",
    "\n",
    "```bash\n",
    "python3 build.py -h\n",
    "```\n",
    "\n",
    "\n",
    "**To build everything** (html + pdf + epub), go to the console and from the root directory run:\n",
    "\n",
    "```bash\n",
    "python3 build.py\n",
    "```\n",
    "\n",
    "\n",
    "**NOTE: to generate PDFs you will need to install Latex environment**"
   ]
  },
  {
   "cell_type": "markdown",
   "metadata": {},
   "source": [
    "## Publish\n",
    "\n",
    "Just push to master and Github Actions / ReadTheDocs will do the rest, for example, for jupman is available at addresses:\n",
    "\n",
    "* https://jupman.readthedocs.io/en/latest/\n",
    "* https://davidleoni.github.io/jupman/en/latest/\n",
    "\n",
    "**IMPORTANT: ReadTheDocs WILL _NOT_ execute Jupyter notebooks because of** [this bug](https://github.com/DavidLeoni/softpython/issues/2)"
   ]
  },
  {
   "cell_type": "markdown",
   "metadata": {},
   "source": [
    "## Further steps\n",
    "\n",
    "See [Editing worksheets](editing.ipynb), [Customize](customize.ipynb) and if needed [Exams management](exams-management.ipynb) pages"
   ]
  }
 ],
 "metadata": {
  "celltoolbar": "Edit Metadata",
  "kernelspec": {
   "display_name": "Python 3 (ipykernel)",
   "language": "python",
   "name": "python3"
  },
  "language_info": {
   "codemirror_mode": {
    "name": "ipython",
    "version": 3
   },
   "file_extension": ".py",
   "mimetype": "text/x-python",
   "name": "python",
   "nbconvert_exporter": "python",
   "pygments_lexer": "ipython3",
   "version": "3.7.10"
  },
  "toc": {
   "base_numbering": 1,
   "nav_menu": {},
   "number_sections": false,
   "sideBar": true,
   "skip_h1_title": false,
   "title_cell": "Table of Contents",
   "title_sidebar": "Contents",
   "toc_cell": false,
   "toc_position": {
    "height": "calc(100% - 180px)",
    "left": "10px",
    "top": "150px",
    "width": "320px"
   },
   "toc_section_display": true,
   "toc_window_display": true
  }
 },
 "nbformat": 4,
 "nbformat_minor": 2
}
