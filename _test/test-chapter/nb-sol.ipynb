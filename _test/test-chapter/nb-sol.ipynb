{
 "cells": [
  {
   "cell_type": "markdown",
   "metadata": {
    "tags": [
     "prova"
    ]
   },
   "source": [
    "# Notebook\n",
    "\n",
    "<div class=\"alert alert-warning\">\n",
    "\n",
    "**WARNING: Careful when editing this notebook as there are automated tests that use it!**\n",
    "\n",
    "</div>"
   ]
  },
  {
   "cell_type": "code",
   "execution_count": 1,
   "metadata": {},
   "outputs": [
    {
     "name": "stdout",
     "output_type": "stream",
     "text": [
      "hello\n"
     ]
    }
   ],
   "source": [
    "# 1. jupman tags should get processed:\n",
    "\n",
    "#before\n",
    "#jupman-raise\n",
    "print('hello')\n",
    "#/jupman-raise\n",
    "#after"
   ]
  },
  {
   "cell_type": "code",
   "execution_count": 2,
   "metadata": {},
   "outputs": [],
   "source": [
    "# SOLUTION\n",
    "\n",
    "# 2. should strip everything"
   ]
  },
  {
   "cell_type": "code",
   "execution_count": 3,
   "metadata": {},
   "outputs": [
    {
     "name": "stdout",
     "output_type": "stream",
     "text": [
      "hi\n"
     ]
    }
   ],
   "source": [
    "# 3\n",
    "# write here\n",
    "\n",
    "print('hi')"
   ]
  },
  {
   "cell_type": "markdown",
   "metadata": {},
   "source": [
    "**QUESTION**: 4. Do you need to learn coding?"
   ]
  },
  {
   "cell_type": "markdown",
   "metadata": {},
   "source": [
    "**ANSWER**: 5. Until AI outsmarts me"
   ]
  },
  {
   "cell_type": "code",
   "execution_count": 4,
   "metadata": {},
   "outputs": [],
   "source": [
    "x = 6\n",
    "# write here fast please\n",
    "\n",
    "# lines until 'write here' included should be preserved entirely\n",
    "# whatever is afterwards should per stripped"
   ]
  },
  {
   "cell_type": "code",
   "execution_count": 5,
   "metadata": {},
   "outputs": [],
   "source": [
    "# SOLUTION don't read!\n",
    "\n",
    "#everything should be stripped \n",
    "\n",
    "x = 7"
   ]
  },
  {
   "cell_type": "code",
   "execution_count": 6,
   "metadata": {},
   "outputs": [],
   "source": [
    "x = 8\n",
    "#jupman-strip\n",
    "# Present in solution but not in exercises\n",
    "y = 'stripped!8'\n",
    "#/jupman-strip\n",
    "# after"
   ]
  },
  {
   "cell_type": "code",
   "execution_count": 7,
   "metadata": {},
   "outputs": [],
   "source": [
    "x = 9\n",
    "#jupman-purge\n",
    "# present neither in solution nor in exercises\n",
    "# NOTE: this is NOT considered a solution\n",
    "y = 'purged!9'\n",
    "#/jupman-purge\n",
    "# after"
   ]
  },
  {
   "cell_type": "code",
   "execution_count": 8,
   "metadata": {},
   "outputs": [],
   "source": [
    "x = 10\n",
    "#jupman-strip\n",
    "# NOTE: this part is considered a solution\n",
    "y = 'stripped!10'\n",
    "#/jupman-strip\n",
    "\n",
    "#jupman-purge\n",
    "# present neither in solution nor in exercises\n",
    "# NOTE: this part is not considered a solution\n",
    "y = 'purged!10'\n",
    "#/jupman-purge\n",
    "# after"
   ]
  },
  {
   "cell_type": "code",
   "execution_count": 9,
   "metadata": {},
   "outputs": [
    {
     "name": "stdout",
     "output_type": "stream",
     "text": [
      "purged!11\n"
     ]
    }
   ],
   "source": [
    "x = 11\n",
    "#jupman-purge-input\n",
    "print('purged!11')"
   ]
  },
  {
   "cell_type": "code",
   "execution_count": 10,
   "metadata": {},
   "outputs": [
    {
     "name": "stdout",
     "output_type": "stream",
     "text": [
      "purged!12\n"
     ]
    }
   ],
   "source": [
    "x = 12\n",
    "#jupman-purge-output\n",
    "print('purged!12')"
   ]
  },
  {
   "cell_type": "code",
   "execution_count": 11,
   "metadata": {},
   "outputs": [
    {
     "name": "stdout",
     "output_type": "stream",
     "text": [
      "purged!13\n"
     ]
    }
   ],
   "source": [
    "x = 13\n",
    "#jupman-purge-io\n",
    "print('purged!13')"
   ]
  },
  {
   "cell_type": "markdown",
   "metadata": {},
   "source": [
    "## 14 - templating in markdown\n",
    "\n",
    "* parsed _JUPMAN_.jpre_source_filepath word \n",
    "* parsed _JUPMAN_.jpre_dest_filepath word \n",
    "* parsed `_JUPMAN_.jm.manual` word\n",
    "* parsed **_JUPMAN_.author** word"
   ]
  },
  {
   "cell_type": "code",
   "execution_count": 12,
   "metadata": {},
   "outputs": [
    {
     "name": "stdout",
     "output_type": "stream",
     "text": [
      "Written by _JUPMAN_.author\n",
      "Intendend for_JUPMAN_.jm.manual\n",
      "Let's say it again:\n"
     ]
    },
    {
     "data": {
      "text/plain": [
       "_JUPMAN_.author"
      ]
     },
     "execution_count": 12,
     "metadata": {},
     "output_type": "execute_result"
    }
   ],
   "source": [
    "# 15 - templating in code\n",
    "\n",
    "import sys; sys.path.append('../../'); from jupman_tools import _JUPMAN_ \n",
    "\n",
    "# source file: _JUPMAN_.jpre_source_filepath\n",
    "# dest file: _JUPMAN_.jpre_dest_filepath\n",
    "\n",
    "print(\"Written by _JUPMAN_.author\")\n",
    "print(\"Intendend for_JUPMAN_.jm.manual\")\n",
    "print(\"Let's say it again:\")\n",
    "_JUPMAN_.author"
   ]
  },
  {
   "cell_type": "raw",
   "metadata": {
    "raw_mimetype": "text/html"
   },
   "source": [
    "<h2> 16 - templating in HTML </h2>\n",
    "\n",
    "<p> Source file <pre>_JUPMAN_.jpre_source_filepath</pre></p>\n",
    "<p> Dest file <pre>_JUPMAN_.jpre_dest_filepath</pre></p>\n",
    "<p> Written by _JUPMAN_.author  </p>\n",
    "<p> Intended for _JUPMAN_.jm.manual </p>"
   ]
  },
  {
   "cell_type": "raw",
   "metadata": {
    "raw_mimetype": "text/latex"
   },
   "source": [
    "\\section{17 - Templating in Latex}\n",
    "\n",
    "_JUPMAN_.jpre_source_filepath\n",
    "_JUPMAN_.jpre_dest_filepath\n",
    "_JUPMAN_.author\n",
    "_JUPMAN_.jm.manual"
   ]
  },
  {
   "cell_type": "markdown",
   "metadata": {},
   "source": [
    "## 18 - tutorial preamble\n",
    "\n",
    "_JUPMAN_.jm.tutorial_preamble()"
   ]
  },
  {
   "cell_type": "code",
   "execution_count": null,
   "metadata": {},
   "outputs": [],
   "source": []
  }
 ],
 "metadata": {
  "celltoolbar": "Raw Cell Format",
  "kernelspec": {
   "display_name": "Python 3 (ipykernel)",
   "language": "python",
   "name": "python3"
  },
  "language_info": {
   "codemirror_mode": {
    "name": "ipython",
    "version": 3
   },
   "file_extension": ".py",
   "mimetype": "text/x-python",
   "name": "python",
   "nbconvert_exporter": "python",
   "pygments_lexer": "ipython3",
   "version": "3.7.13"
  },
  "toc": {
   "base_numbering": 1,
   "nav_menu": {},
   "number_sections": false,
   "sideBar": true,
   "skip_h1_title": false,
   "title_cell": "Table of Contents",
   "title_sidebar": "Contents",
   "toc_cell": false,
   "toc_position": {},
   "toc_section_display": true,
   "toc_window_display": false
  }
 },
 "nbformat": 4,
 "nbformat_minor": 2
}
