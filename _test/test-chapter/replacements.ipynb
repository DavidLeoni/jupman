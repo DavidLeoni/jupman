{
 "cells": [
  {
   "cell_type": "markdown",
   "metadata": {},
   "source": [
    "# Replacements test\n",
    "\n",
    "<div class=\"alert alert-warning\">\n",
    "\n",
    "**WARNING: Careful when editing this notebook as there are automated tests that use it!**\n",
    "\n",
    "</div>\n",
    "\n",
    "Since this is not a solution worksheet, only templates and relative links will be processed, but not jupman tags"
   ]
  },
  {
   "cell_type": "markdown",
   "metadata": {},
   "source": [
    "## Markdown\n",
    "\n",
    "### 1. A markdown relative ipynb link\n",
    "\n",
    "[some link](../../index.ipynb)"
   ]
  },
  {
   "cell_type": "markdown",
   "metadata": {},
   "source": [
    "### 2. Another markdown png link\n",
    "\n",
    "![some link](../../_static/img/cc-by.png)"
   ]
  },
  {
   "cell_type": "markdown",
   "metadata": {},
   "source": [
    "\n",
    "### 3. A local markdown csv link\n",
    "\n",
    "[some link](data/pop.csv)"
   ]
  },
  {
   "cell_type": "markdown",
   "metadata": {},
   "source": [
    "### 4. Relative html in markdown \n",
    "\n",
    "For some reason, this is not shown on the website.\n",
    "\n",
    "<a href=\"../../index.ipynb\" target=\"_blank\">a link</a>"
   ]
  },
  {
   "cell_type": "markdown",
   "metadata": {},
   "source": [
    "<h3> 5. a relative png html link </h3>\n",
    "\n",
    "<img src=\"../../_static/img/cc-by.png\">"
   ]
  },
  {
   "cell_type": "markdown",
   "metadata": {},
   "source": [
    "### 6. a html in markdown local csv link\n",
    "\n",
    "<a href=\"data/pop.csv\">a link</a>\n"
   ]
  },
  {
   "cell_type": "raw",
   "metadata": {
    "raw_mimetype": "text/html"
   },
   "source": [
    "<h2> 7. HTML <h2/>\n",
    "<h3> An html relative link </h3>\n",
    "\n",
    "<a href=\"../../index.ipynb\">a link</a>"
   ]
  },
  {
   "cell_type": "raw",
   "metadata": {
    "raw_mimetype": "text/html"
   },
   "source": [
    "8. <h3> An html relative png link </h3>\n",
    "\n",
    "<img src=\"../../_static/img/cc-by.png\">"
   ]
  },
  {
   "cell_type": "raw",
   "metadata": {
    "raw_mimetype": "text/html"
   },
   "source": [
    "9. an html local csv link\n",
    "\n",
    "<a href=\"data/pop.csv\">a link</a>"
   ]
  },
  {
   "cell_type": "code",
   "execution_count": 1,
   "metadata": {},
   "outputs": [],
   "source": [
    "# 10\n",
    "# Python\n",
    "import sys\n",
    "sys.path.append('../../')\n",
    "import jupman\n",
    "\n",
    "# this is not a solution, jupman tags shouln't get processed:\n",
    "#jupman-raise\n",
    "x = 'stay!'\n",
    "#/jupman-raise"
   ]
  },
  {
   "cell_type": "markdown",
   "metadata": {},
   "source": [
    "## 11 - relative HTML .html in markdown\n",
    "\n",
    "<a href=\"../../index.html\">a link</a>"
   ]
  },
  {
   "cell_type": "markdown",
   "metadata": {},
   "source": [
    "## 12 - HTML absolute url in markdown\n",
    "\n",
    "<a href=\"https://jupman.softpython.org\">a link</a>"
   ]
  },
  {
   "cell_type": "markdown",
   "metadata": {},
   "source": [
    "## 13 - templating in markdown\n",
    "\n",
    "* parsed _JUPMAN_.jpre_filepath word \n",
    "* parsed `_JUPMAN_.jm.manual` word\n",
    "* parsed **_JUPMAN_.author** word"
   ]
  },
  {
   "cell_type": "code",
   "execution_count": 2,
   "metadata": {},
   "outputs": [
    {
     "name": "stdout",
     "output_type": "stream",
     "text": [
      "Written by _JUPMAN_.author\n",
      "Intendend for_JUPMAN_.jm.manual\n",
      "Let's say it again:\n"
     ]
    },
    {
     "data": {
      "text/plain": [
       "_JUPMAN_.author"
      ]
     },
     "execution_count": 2,
     "metadata": {},
     "output_type": "execute_result"
    }
   ],
   "source": [
    "# 14 - templating in code\n",
    "\n",
    "import sys; sys.path.append('../../'); from jupman_tools import _JUPMAN_ \n",
    "\n",
    "# Reading file: _JUPMAN_.jpre_filepath\n",
    "\n",
    "print(\"Written by _JUPMAN_.author\")\n",
    "print(\"Intendend for_JUPMAN_.jm.manual\")\n",
    "print(\"Let's say it again:\")\n",
    "_JUPMAN_.author"
   ]
  },
  {
   "cell_type": "raw",
   "metadata": {
    "raw_mimetype": "text/html"
   },
   "source": [
    "<h2> 15 - templating in HTML </h2>\n",
    "\n",
    "<p> Reading file <pre>_JUPMAN_.jpre_filepath</pre></p>\n",
    "<p> Written by _JUPMAN_.author  </p>\n",
    "<p> Intended for _JUPMAN_.jm.manual </p>"
   ]
  },
  {
   "cell_type": "raw",
   "metadata": {
    "raw_mimetype": "text/latex"
   },
   "source": [
    "\\section{16 - Templating in Latex}\n",
    "\n",
    "_JUPMAN_.jpre_filepath\n",
    "_JUPMAN_.author\n",
    "_JUPMAN_.jm.manual"
   ]
  },
  {
   "cell_type": "code",
   "execution_count": null,
   "metadata": {},
   "outputs": [],
   "source": []
  }
 ],
 "metadata": {
  "celltoolbar": "Raw Cell Format",
  "kernelspec": {
   "display_name": "Python 3 (ipykernel)",
   "language": "python",
   "name": "python3"
  },
  "language_info": {
   "codemirror_mode": {
    "name": "ipython",
    "version": 3
   },
   "file_extension": ".py",
   "mimetype": "text/x-python",
   "name": "python",
   "nbconvert_exporter": "python",
   "pygments_lexer": "ipython3",
   "version": "3.7.13"
  },
  "toc": {
   "base_numbering": 1,
   "nav_menu": {},
   "number_sections": false,
   "sideBar": true,
   "skip_h1_title": false,
   "title_cell": "Table of Contents",
   "title_sidebar": "Contents",
   "toc_cell": false,
   "toc_position": {},
   "toc_section_display": true,
   "toc_window_display": false
  }
 },
 "nbformat": 4,
 "nbformat_minor": 2
}
