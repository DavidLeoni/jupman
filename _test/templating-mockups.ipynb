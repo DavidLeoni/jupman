{
 "cells": [
  {
   "cell_type": "code",
   "execution_count": 29,
   "id": "48285b5f",
   "metadata": {},
   "outputs": [
    {
     "data": {
      "text/plain": [
       "5"
      ]
     },
     "execution_count": 29,
     "metadata": {},
     "output_type": "execute_result"
    }
   ],
   "source": [
    "# this is a code cell\n",
    "\n",
    "class C:\n",
    "    pass\n",
    "\n",
    "_JUPMAN_ = C() \n",
    "\n",
    "#mmm there are already jupyter's own %macro statements\n",
    "\n",
    "_JUPMAN_.author = \"David\"\n",
    "_JUPMAN_.jm = C()\n",
    "_JUPMAN_.jm.course = \"Jupmania\"\n",
    "_JUPMAN_.exam = C()\n",
    "_JUPMAN_.exam.date = \"2020-03-27\"\n",
    "_SOFTPYTHON_ = C()\n",
    "_SOFTPYTHON_.some_other_field = 5\n",
    "\n",
    "# setting vars?\n",
    "\n",
    "JUPMAN\n",
    "\n",
    "# using template\n",
    "\n",
    "#as in conf.py  ...\n",
    "\n",
    "JUPMAN.author\n",
    "\n",
    "JUPMAN.jm.course\n",
    "\n",
    "JUPMAN.exam.date\n",
    "\n",
    "# extensions should define their own marker??\n",
    "SOFTPYTHON.some_other_field"
   ]
  },
  {
   "cell_type": "markdown",
   "id": "420d2ebd",
   "metadata": {},
   "source": [
    "## Markdown cell\n",
    "\n",
    "_JUPMAN_.instructions(page=\"\")  # page automatically deduced"
   ]
  },
  {
   "cell_type": "code",
   "execution_count": 30,
   "id": "1f127bf3",
   "metadata": {},
   "outputs": [
    {
     "ename": "SyntaxError",
     "evalue": "invalid syntax (4125513202.py, line 3)",
     "output_type": "error",
     "traceback": [
      "\u001b[0;36m  File \u001b[0;32m\"/tmp/ipykernel_2736/4125513202.py\"\u001b[0;36m, line \u001b[0;32m3\u001b[0m\n\u001b[0;31m    // comment made by _JUPMAN_.author\u001b[0m\n\u001b[0m     ^\u001b[0m\n\u001b[0;31mSyntaxError\u001b[0m\u001b[0;31m:\u001b[0m invalid syntax\n"
     ]
    }
   ],
   "source": [
    "# other language cell, i.e. C++\n",
    "\n",
    "// comment made by _JUPMAN_.author\n"
   ]
  },
  {
   "cell_type": "code",
   "execution_count": 40,
   "id": "2e5fd92b",
   "metadata": {},
   "outputs": [
    {
     "ename": "AttributeError",
     "evalue": "Attribute s was not found in C",
     "output_type": "error",
     "traceback": [
      "\u001b[0;31m---------------------------------------------------------------------------\u001b[0m",
      "\u001b[0;31mAttributeError\u001b[0m                            Traceback (most recent call last)",
      "\u001b[0;32m/tmp/ipykernel_2736/143895388.py\u001b[0m in \u001b[0;36m<module>\u001b[0;34m\u001b[0m\n\u001b[1;32m     11\u001b[0m \u001b[0mc\u001b[0m \u001b[0;34m=\u001b[0m \u001b[0mC\u001b[0m\u001b[0;34m(\u001b[0m\u001b[0;34m)\u001b[0m\u001b[0;34m\u001b[0m\u001b[0;34m\u001b[0m\u001b[0m\n\u001b[1;32m     12\u001b[0m \u001b[0;34m\u001b[0m\u001b[0m\n\u001b[0;32m---> 13\u001b[0;31m \u001b[0mc\u001b[0m\u001b[0;34m.\u001b[0m\u001b[0ms\u001b[0m\u001b[0;34m\u001b[0m\u001b[0;34m\u001b[0m\u001b[0m\n\u001b[0m",
      "\u001b[0;32m/tmp/ipykernel_2736/143895388.py\u001b[0m in \u001b[0;36m__getattr__\u001b[0;34m(self, name)\u001b[0m\n\u001b[1;32m      7\u001b[0m             \u001b[0;32mreturn\u001b[0m \u001b[0;34m'happy'\u001b[0m\u001b[0;34m\u001b[0m\u001b[0;34m\u001b[0m\u001b[0m\n\u001b[1;32m      8\u001b[0m         \u001b[0;32melse\u001b[0m\u001b[0;34m:\u001b[0m\u001b[0;34m\u001b[0m\u001b[0;34m\u001b[0m\u001b[0m\n\u001b[0;32m----> 9\u001b[0;31m             \u001b[0;32mraise\u001b[0m \u001b[0mAttributeError\u001b[0m\u001b[0;34m(\u001b[0m\u001b[0;34mf\"Attribute {name} was not found in {C.__name__}\"\u001b[0m\u001b[0;34m)\u001b[0m\u001b[0;34m\u001b[0m\u001b[0;34m\u001b[0m\u001b[0m\n\u001b[0m\u001b[1;32m     10\u001b[0m \u001b[0;34m\u001b[0m\u001b[0m\n\u001b[1;32m     11\u001b[0m \u001b[0mc\u001b[0m \u001b[0;34m=\u001b[0m \u001b[0mC\u001b[0m\u001b[0;34m(\u001b[0m\u001b[0;34m)\u001b[0m\u001b[0;34m\u001b[0m\u001b[0;34m\u001b[0m\u001b[0m\n",
      "\u001b[0;31mAttributeError\u001b[0m: Attribute s was not found in C"
     ]
    }
   ],
   "source": [
    "class C:\n",
    "    def __init__(self):\n",
    "        self.z = 4\n",
    "    \n",
    "    def __getattr__(self, name):\n",
    "        if name == 'ciuc':\n",
    "            return 'happy'\n",
    "        else:\n",
    "            raise AttributeError(f\"Attribute {name} was not found in {C.__name__}\")\n",
    "\n",
    "c = C()        \n",
    "\n",
    "c.s"
   ]
  },
  {
   "cell_type": "code",
   "execution_count": null,
   "id": "5c3d6dca",
   "metadata": {},
   "outputs": [],
   "source": [
    "_copy_sols  generate_exercise  _copy_test  _copy_other"
   ]
  }
 ],
 "metadata": {
  "kernelspec": {
   "display_name": "Python 3",
   "language": "python",
   "name": "python3"
  },
  "language_info": {
   "codemirror_mode": {
    "name": "ipython",
    "version": 3
   },
   "file_extension": ".py",
   "mimetype": "text/x-python",
   "name": "python",
   "nbconvert_exporter": "python",
   "pygments_lexer": "ipython3",
   "version": "3.6.13"
  },
  "toc": {
   "base_numbering": 1,
   "nav_menu": {},
   "number_sections": false,
   "sideBar": true,
   "skip_h1_title": false,
   "title_cell": "Table of Contents",
   "title_sidebar": "Contents",
   "toc_cell": false,
   "toc_position": {},
   "toc_section_display": true,
   "toc_window_display": false
  }
 },
 "nbformat": 4,
 "nbformat_minor": 5
}
